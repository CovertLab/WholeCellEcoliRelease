{
 "metadata": {
  "name": ""
 },
 "nbformat": 3,
 "nbformat_minor": 0,
 "worksheets": [
  {
   "cells": [
    {
     "cell_type": "heading",
     "level": 2,
     "metadata": {},
     "source": [
      "Initalize everything"
     ]
    },
    {
     "cell_type": "code",
     "collapsed": false,
     "input": [
      "import wholecell.sim.state.uniques\n",
      "\n",
      "kb = type(\"\", (), {})()\n",
      "kb.molecules = [{\"id\": \"enz1\", \"mass\": 1.0, \"uniqueAttrs\": None}, {\"id\": \"enz2\", \"mass\": 2.0, \"uniqueAttrs\": None}, {\"id\": \"enz3\", \"mass\": 3.0, \"uniqueAttrs\": [\"attr1\", \"attr2\", \"attr3\"]}, {\"id\": \"enz4\", \"mass\": 4.0, \"uniqueAttrs\": [\"attr4_1\", \"attr4_2\"]}, {\"id\": \"enz5\", \"mass\": 5.0, \"uniqueAttrs\": None}]\n",
      "kb.compartments = [{\"id\": \"c\"}, {\"id\": \"e\"}, {\"id\": \"m\"}]\n",
      "mc = wholecell.sim.state.uniques.MoleculesContainer()\n",
      "mc.initialize(kb)"
     ],
     "language": "python",
     "metadata": {},
     "outputs": [],
     "prompt_number": 1
    },
    {
     "cell_type": "code",
     "collapsed": false,
     "input": [
      "mol = mc.molecule(\"enz3\", \"c\")\n",
      "uniqueMol = mol.uniqueNew({\"attr1\" : \"A\", \"attr2\" : \"B\"})"
     ],
     "language": "python",
     "metadata": {},
     "outputs": [],
     "prompt_number": 2
    },
    {
     "cell_type": "code",
     "collapsed": false,
     "input": [
      "mc._uniqueDict"
     ],
     "language": "python",
     "metadata": {},
     "outputs": [
      {
       "metadata": {},
       "output_type": "pyout",
       "prompt_number": 3,
       "text": [
        "[[{}, {}, {}],\n",
        " [{}, {}, {}],\n",
        " [{'attr1': ['A'],\n",
        "   'attr2': ['B'],\n",
        "   'attr3': [None],\n",
        "   'objects': [<wholecell.sim.state.uniques.MoleculeUnique at 0x221fd10>]},\n",
        "  {'attr1': [], 'attr2': [], 'attr3': [], 'objects': []},\n",
        "  {'attr1': [], 'attr2': [], 'attr3': [], 'objects': []}],\n",
        " [{'attr4_1': [], 'attr4_2': [], 'objects': []},\n",
        "  {'attr4_1': [], 'attr4_2': [], 'objects': []},\n",
        "  {'attr4_1': [], 'attr4_2': [], 'objects': []}],\n",
        " [{}, {}, {}]]"
       ]
      }
     ],
     "prompt_number": 3
    },
    {
     "cell_type": "code",
     "collapsed": false,
     "input": [
      "mc._countsBulk"
     ],
     "language": "python",
     "metadata": {},
     "outputs": [
      {
       "metadata": {},
       "output_type": "pyout",
       "prompt_number": 4,
       "text": [
        "array([[ 0.,  0.,  0.],\n",
        "       [ 0.,  0.,  0.],\n",
        "       [ 0.,  0.,  0.],\n",
        "       [ 0.,  0.,  0.],\n",
        "       [ 0.,  0.,  0.]])"
       ]
      }
     ],
     "prompt_number": 4
    },
    {
     "cell_type": "code",
     "collapsed": false,
     "input": [
      "mol.dMassIs(2)"
     ],
     "language": "python",
     "metadata": {},
     "outputs": [],
     "prompt_number": 8
    },
    {
     "cell_type": "code",
     "collapsed": false,
     "input": [
      "mc._dmass"
     ],
     "language": "python",
     "metadata": {},
     "outputs": [
      {
       "metadata": {},
       "output_type": "pyout",
       "prompt_number": 9,
       "text": [
        "array([[ 0.,  0.,  0.],\n",
        "       [ 0.,  0.,  0.],\n",
        "       [ 2.,  0.,  0.],\n",
        "       [ 0.,  0.,  0.],\n",
        "       [ 0.,  0.,  0.]])"
       ]
      }
     ],
     "prompt_number": 9
    },
    {
     "cell_type": "code",
     "collapsed": false,
     "input": [
      "mol.massAll()"
     ],
     "language": "python",
     "metadata": {},
     "outputs": [
      {
       "metadata": {},
       "output_type": "pyout",
       "prompt_number": 10,
       "text": [
        "5.0"
       ]
      }
     ],
     "prompt_number": 10
    },
    {
     "cell_type": "code",
     "collapsed": false,
     "input": [
      "mol.countsBulkInc(1)"
     ],
     "language": "python",
     "metadata": {},
     "outputs": [],
     "prompt_number": 11
    },
    {
     "cell_type": "code",
     "collapsed": false,
     "input": [],
     "language": "python",
     "metadata": {},
     "outputs": []
    }
   ],
   "metadata": {}
  }
 ]
}