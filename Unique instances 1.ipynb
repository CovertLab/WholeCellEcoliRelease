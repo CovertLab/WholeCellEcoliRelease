{
 "metadata": {
  "name": ""
 },
 "nbformat": 3,
 "nbformat_minor": 0,
 "worksheets": [
  {
   "cells": [
    {
     "cell_type": "heading",
     "level": 2,
     "metadata": {},
     "source": [
      "Initalize everything"
     ]
    },
    {
     "cell_type": "code",
     "collapsed": false,
     "input": [
      "import wholecell.sim.state.uniques\n",
      "\n",
      "kb = type(\"\", (), {})()\n",
      "kb.molecules = [{\"id\": \"enz1\", \"mass\": 1.0, \"uniqueAttrs\": None}, {\"id\": \"enz2\", \"mass\": 2.0, \"uniqueAttrs\": None}, {\"id\": \"enz3\", \"mass\": 3.0, \"uniqueAttrs\": [\"attr1\", \"attr2\", \"attr3\"]}, {\"id\": \"enz4\", \"mass\": 4.0, \"uniqueAttrs\": [\"attr4_1\", \"attr4_2\"]}, {\"id\": \"enz5\", \"mass\": 5.0, \"uniqueAttrs\": None}]\n",
      "kb.compartments = [{\"id\": \"c\"}, {\"id\": \"e\"}, {\"id\": \"m\"}]\n",
      "mc = wholecell.sim.state.uniques.MoleculesContainer()\n",
      "mc.initialize(kb)"
     ],
     "language": "python",
     "metadata": {},
     "outputs": [],
     "prompt_number": 1
    },
    {
     "cell_type": "code",
     "collapsed": false,
     "input": [
      "mol = mc.molecule(\"enz3\", \"c\")\n",
      "uniqueMol = mol.uniqueNew({\"attr1\" : \"A\", \"attr2\" : \"B\"})"
     ],
     "language": "python",
     "metadata": {},
     "outputs": [],
     "prompt_number": 4
    },
    {
     "cell_type": "code",
     "collapsed": false,
     "input": [
      "mc._uniqueDict"
     ],
     "language": "python",
     "metadata": {},
     "outputs": [
      {
       "metadata": {},
       "output_type": "pyout",
       "prompt_number": 5,
       "text": [
        "[[{}, {}, {}],\n",
        " [{}, {}, {}],\n",
        " [{'attr1': ['A', 'A'],\n",
        "   'attr2': ['B', 'B'],\n",
        "   'attr3': [None, None],\n",
        "   'objects': [<wholecell.sim.state.uniques.MoleculeUnique at 0x272dcd0>,\n",
        "    <wholecell.sim.state.uniques.MoleculeUnique at 0x273f550>]},\n",
        "  {'attr1': [], 'attr2': [], 'attr3': [], 'objects': []},\n",
        "  {'attr1': [], 'attr2': [], 'attr3': [], 'objects': []}],\n",
        " [{'attr4_1': [], 'attr4_2': [], 'objects': []},\n",
        "  {'attr4_1': [], 'attr4_2': [], 'objects': []},\n",
        "  {'attr4_1': [], 'attr4_2': [], 'objects': []}],\n",
        " [{}, {}, {}]]"
       ]
      }
     ],
     "prompt_number": 5
    },
    {
     "cell_type": "code",
     "collapsed": false,
     "input": [
      "uniqueMol.attr1()"
     ],
     "language": "python",
     "metadata": {},
     "outputs": [
      {
       "metadata": {},
       "output_type": "pyout",
       "prompt_number": 6,
       "text": [
        "'A'"
       ]
      }
     ],
     "prompt_number": 6
    }
   ],
   "metadata": {}
  }
 ]
}