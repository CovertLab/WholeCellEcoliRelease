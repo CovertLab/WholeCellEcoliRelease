{
 "metadata": {
  "name": ""
 },
 "nbformat": 3,
 "nbformat_minor": 0,
 "worksheets": [
  {
   "cells": [
    {
     "cell_type": "heading",
     "level": 2,
     "metadata": {},
     "source": [
      "Initalize knowledge base"
     ]
    },
    {
     "cell_type": "code",
     "collapsed": false,
     "input": [
      "import wholecell.sim.state.uniques\n",
      "\n",
      "kb = type(\"\", (), {})()\n",
      "kb.molecules = [{\"id\": \"enz1\", \"mass\": 1.0, \"uniqueAttrs\": None}, {\"id\": \"enz2\", \"mass\": 2.0, \"uniqueAttrs\": None}, {\"id\": \"enz3\", \"mass\": 3.0, \"uniqueAttrs\": [\"attr1\", \"attr2\", \"attr3\"]}, {\"id\": \"enz4\", \"mass\": 4.0, \"uniqueAttrs\": [\"attr4_1\", \"attr4_2\"]}, {\"id\": \"enz5\", \"mass\": 5.0, \"uniqueAttrs\": None}]\n",
      "kb.compartments = [{\"id\": \"c\"}, {\"id\": \"e\"}, {\"id\": \"m\"}]"
     ],
     "language": "python",
     "metadata": {},
     "outputs": [],
     "prompt_number": 8
    },
    {
     "cell_type": "heading",
     "level": 2,
     "metadata": {},
     "source": [
      "Create molcule counts"
     ]
    },
    {
     "cell_type": "code",
     "collapsed": false,
     "input": [
      "mc = wholecell.sim.state.uniques.MoleculesContainer()\n",
      "mc.initialize(kb)\n",
      "mol = mc.molecule(\"enz1\", \"c\")"
     ],
     "language": "python",
     "metadata": {},
     "outputs": [],
     "prompt_number": 9
    },
    {
     "cell_type": "code",
     "collapsed": false,
     "input": [
      "mol = mc.molecule(\"enz2\", \"c\")\n",
      "mol.countsBulkIs(5)\n",
      "mol.massAll()\n",
      "mol.countsUnique()\n",
      "mc._uniqueDict"
     ],
     "language": "python",
     "metadata": {},
     "outputs": [
      {
       "metadata": {},
       "output_type": "pyout",
       "prompt_number": 17,
       "text": [
        "[[{}, {}, {}],\n",
        " [{}, {}, {}],\n",
        " [{'attr1': ['A'],\n",
        "   'attr2': ['B'],\n",
        "   'attr3': ['C'],\n",
        "   'objects': [<wholecell.sim.state.uniques.MoleculeUnique at 0x2991750>]},\n",
        "  {'attr1': [], 'attr2': [], 'attr3': [], 'objects': []},\n",
        "  {'attr1': [], 'attr2': [], 'attr3': [], 'objects': []}],\n",
        " [{'attr4_1': [], 'attr4_2': [], 'objects': []},\n",
        "  {'attr4_1': [], 'attr4_2': [], 'objects': []},\n",
        "  {'attr4_1': [], 'attr4_2': [], 'objects': []}],\n",
        " [{}, {}, {}]]"
       ]
      }
     ],
     "prompt_number": 17
    },
    {
     "cell_type": "code",
     "collapsed": false,
     "input": [
      "mol = mc.molecule(\"enz3\", \"c\")\n",
      "mol.uniqueNew({\"attr1\" : \"A\", \"attr2\" : \"B\", \"attr3\" : \"C\"})"
     ],
     "language": "python",
     "metadata": {},
     "outputs": [
      {
       "metadata": {},
       "output_type": "pyout",
       "prompt_number": 13,
       "text": [
        "<wholecell.sim.state.uniques.MoleculeUnique at 0x2991750>"
       ]
      }
     ],
     "prompt_number": 13
    },
    {
     "cell_type": "code",
     "collapsed": false,
     "input": [
      "mol.massAll()"
     ],
     "language": "python",
     "metadata": {},
     "outputs": [
      {
       "metadata": {},
       "output_type": "pyout",
       "prompt_number": 16,
       "text": [
        "-3.0"
       ]
      }
     ],
     "prompt_number": 16
    },
    {
     "cell_type": "code",
     "collapsed": false,
     "input": [],
     "language": "python",
     "metadata": {},
     "outputs": []
    }
   ],
   "metadata": {}
  }
 ]
}