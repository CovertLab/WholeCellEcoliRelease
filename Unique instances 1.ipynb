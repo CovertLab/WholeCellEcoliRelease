{
 "metadata": {
  "name": ""
 },
 "nbformat": 3,
 "nbformat_minor": 0,
 "worksheets": [
  {
   "cells": [
    {
     "cell_type": "heading",
     "level": 2,
     "metadata": {},
     "source": [
      "Initalize knowledge base"
     ]
    },
    {
     "cell_type": "code",
     "collapsed": false,
     "input": [
      "import wholecell.sim.state.uniques\n",
      "\n",
      "kb = type(\"\", (), {})()\n",
      "kb.molecules = [{\"id\": \"enz1\", \"mass\": 1.0, \"uniqueAttrs\": None}, {\"id\": \"enz2\", \"mass\": 2.0, \"uniqueAttrs\": None}, {\"id\": \"enz3\", \"mass\": 3.0, \"uniqueAttrs\": [\"attr1\", \"attr2\", \"attr3\"]}, {\"id\": \"enz4\", \"mass\": 4.0, \"uniqueAttrs\": [\"attr4_1\", \"attr4_2\"]}, {\"id\": \"enz5\", \"mass\": 5.0, \"uniqueAttrs\": None}]\n",
      "kb.compartments = [{\"id\": \"c\"}, {\"id\": \"e\"}, {\"id\": \"m\"}]"
     ],
     "language": "python",
     "metadata": {},
     "outputs": [],
     "prompt_number": 1
    },
    {
     "cell_type": "heading",
     "level": 2,
     "metadata": {},
     "source": [
      "Create molcule counts"
     ]
    },
    {
     "cell_type": "code",
     "collapsed": false,
     "input": [
      "mc = wholecell.sim.state.uniques.MoleculesContainer()\n",
      "mc.initialize(kb)\n",
      "mol = mc.molecule(\"enz3\", \"c\")"
     ],
     "language": "python",
     "metadata": {},
     "outputs": [
      {
       "output_type": "stream",
       "stream": "stdout",
       "text": [
        "wid: enz3\n",
        "{}\n"
       ]
      }
     ],
     "prompt_number": 2
    },
    {
     "cell_type": "code",
     "collapsed": false,
     "input": [
      "nick = mol.uniqueNew({\"attr1\": \"nick\", \"attr2\": \"markus\", \"attr3\": \"jake\"})"
     ],
     "language": "python",
     "metadata": {},
     "outputs": [],
     "prompt_number": 3
    },
    {
     "cell_type": "code",
     "collapsed": false,
     "input": [
      "mc._uniqueDict"
     ],
     "language": "python",
     "metadata": {},
     "outputs": [
      {
       "metadata": {},
       "output_type": "pyout",
       "prompt_number": 4,
       "text": [
        "[[{}, {}, {}],\n",
        " [{}, {}, {}],\n",
        " [{'attr1': ['nick'],\n",
        "   'attr2': ['markus'],\n",
        "   'attr3': ['jake'],\n",
        "   'objects': [<wholecell.sim.state.uniques.MoleculeUnique at 0x2dc6e50>]},\n",
        "  {'attr1': [], 'attr2': [], 'attr3': [], 'objects': []},\n",
        "  {'attr1': [], 'attr2': [], 'attr3': [], 'objects': []}],\n",
        " [{'attr4_1': [], 'attr4_2': [], 'objects': []},\n",
        "  {'attr4_1': [], 'attr4_2': [], 'objects': []},\n",
        "  {'attr4_1': [], 'attr4_2': [], 'objects': []}],\n",
        " [{}, {}, {}]]"
       ]
      }
     ],
     "prompt_number": 4
    },
    {
     "cell_type": "code",
     "collapsed": false,
     "input": [
      "nick.attr2()"
     ],
     "language": "python",
     "metadata": {},
     "outputs": [
      {
       "metadata": {},
       "output_type": "pyout",
       "prompt_number": 11,
       "text": [
        "'winn'"
       ]
      }
     ],
     "prompt_number": 11
    },
    {
     "cell_type": "code",
     "collapsed": false,
     "input": [
      "mc._uniqueDict[nick._molRowIdx][nick._molColIdx][\"attr3\"][nick._uniqueIdx]"
     ],
     "language": "python",
     "metadata": {},
     "outputs": [
      {
       "metadata": {},
       "output_type": "pyout",
       "prompt_number": 12,
       "text": [
        "'jake'"
       ]
      }
     ],
     "prompt_number": 12
    }
   ],
   "metadata": {}
  }
 ]
}