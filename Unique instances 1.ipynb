{
 "metadata": {
  "name": "Unique instances 1"
 },
 "nbformat": 3,
 "nbformat_minor": 0,
 "worksheets": [
  {
   "cells": [
    {
     "cell_type": "heading",
     "level": 2,
     "metadata": {},
     "source": [
      "Initalize knowledge base"
     ]
    },
    {
     "cell_type": "code",
     "collapsed": false,
     "input": [
      "import wholecell.sim.state.uniques\n",
      "\n",
      "kb = type(\"\", (), {})()\n",
      "kb.molecules = [{\"id\": \"enz1\", \"mass\": 1.0, \"uniqueAttrs\": None}, {\"id\": \"enz2\", \"mass\": 2.0, \"uniqueAttrs\": None}, {\"id\": \"enz3\", \"mass\": 3.0, \"uniqueAttrs\": [\"attr1\", \"attr2\", \"attr3\"]}, {\"id\": \"enz4\", \"mass\": 4.0, \"uniqueAttrs\": [\"attr4_1\", \"attr4_2\"]}, {\"id\": \"enz5\", \"mass\": 5.0, \"uniqueAttrs\": None}]\n",
      "kb.compartments = [{\"id\": \"c\"}, {\"id\": \"e\"}, {\"id\": \"m\"}]"
     ],
     "language": "python",
     "metadata": {},
     "outputs": [],
     "prompt_number": 1
    },
    {
     "cell_type": "heading",
     "level": 2,
     "metadata": {},
     "source": [
      "Create molcule counts"
     ]
    },
    {
     "cell_type": "code",
     "collapsed": false,
     "input": [
      "mc = wholecell.sim.state.uniques.MoleculesContainer()\n",
      "mc.initialize(kb)\n",
      "mol = mc.molecule(\"enz1\", \"c\")\n",
      "mol.countsUnique()"
     ],
     "language": "python",
     "metadata": {},
     "outputs": [
      {
       "output_type": "pyout",
       "prompt_number": 4,
       "text": [
        "-1.0"
       ]
      }
     ],
     "prompt_number": 4
    },
    {
     "cell_type": "code",
     "collapsed": false,
     "input": [
      "nick = mol.uniqueNew({\"attr1\": \"nick\", \"attr2\": \"markus\", \"attr3\": \"jake\"})\n",
      "mol.countsUnique()"
     ],
     "language": "python",
     "metadata": {},
     "outputs": [
      {
       "output_type": "pyout",
       "prompt_number": 5,
       "text": [
        "0.0"
       ]
      }
     ],
     "prompt_number": 5
    }
   ],
   "metadata": {}
  }
 ]
}