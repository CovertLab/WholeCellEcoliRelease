{
 "metadata": {
  "name": ""
 },
 "nbformat": 3,
 "nbformat_minor": 0,
 "worksheets": [
  {
   "cells": [
    {
     "cell_type": "code",
     "collapsed": false,
     "input": [
      "tRNA_frameIds = ['tRNA-Ile2','alaT-tRNA','alaU-tRNA','alaV-tRNA','alaW-tRNA','alaX-tRNA','argQ-tRNA','argU-tRNA','argV-tRNA','argW-tRNA','argX-tRNA','argY-tRNA','argZ-tRNA','asnT-tRNA','asnU-tRNA','asnV-tRNA','RNA0-304','aspT-tRNA','aspU-tRNA','aspV-tRNA','cysT-tRNA','glnU-tRNA','glnV-tRNA','glnW-tRNA','glnX-tRNA','gltT-tRNA','gltU-tRNA','gltV-tRNA','gltW-tRNA','glyT-tRNA','glyU-tRNA','glyV-tRNA','glyW-tRNA','glyX-tRNA','glyY-tRNA','hisR-tRNA','ileT-tRNA','ileU-tRNA','ileV-tRNA','ileX-tRNA','RNA0-305','leuP-tRNA','leuQ-tRNA','leuT-tRNA','leuU-tRNA','leuV-tRNA','leuW-tRNA','leuX-tRNA','leuZ-tRNA','RNA0-303','lysT-tRNA','lysV-tRNA','lysW-tRNA','RNA0-301','RNA0-302','metT-tRNA','metU-tRNA','RNA0-306','metW-tRNA','metY-tRNA','metZ-tRNA','pheU-tRNA','pheV-tRNA','proK-tRNA','proL-tRNA','proM-tRNA','selC-tRNA','serT-tRNA','serU-tRNA','serV-tRNA','serW-tRNA','serX-tRNA','thrT-tRNA','thrU-tRNA','thrV-tRNA','thrW-tRNA','trpT-tRNA','tyrT-tRNA','tyrU-tRNA','tyrV-tRNA','valT-tRNA','valU-tRNA','valV-tRNA','valW-tRNA','valX-tRNA','valY-tRNA','RNA0-300']\n",
      "tRNA_names = ['tRNAalaT','tRNAalaU','tRNAalaV','tRNAalaW','tRNAalaX','tRNAargQ','tRNAargU','tRNAargV','tRNAargW','tRNAargX','tRNAargY','tRNAargZ','tRNAasnT','tRNAasnU','tRNAasnV','tRNAasnW','tRNAaspT','tRNAaspU','tRNAaspV','tRNAcysT','tRNAglnU','tRNAglnV','tRNAglnW','tRNAglnX','tRNAgltT','tRNAgltU','tRNAgltV','tRNAgltW','tRNAglyT','tRNAglyU','tRNAglyV','tRNAglyW','tRNAglyX','tRNAglyY','tRNAhisR','tRNAileT','tRNAileU','tRNAileV','tRNAileX','tRNAileY','tRNAleuP','tRNAleuQ','tRNAleuT','tRNAleuU','tRNAleuV','tRNAleuW','tRNAleuX','tRNAleuZ','tRNAlysQ','tRNAlysT','tRNAlysV','tRNAlysW','tRNAlysY','tRNAlysZ','tRNAmetT','tRNAmetU','tRNAmetV','tRNAmetW','tRNAmetY','tRNAmetZ','tRNApheU','tRNApheV','tRNAproK','tRNAproL','tRNAproM','tRNAsec','tRNAserT','tRNAserU','tRNAserV','tRNAserW','tRNAserX','tRNAthrT','tRNAthrU','tRNAthrV','tRNAthrW','tRNAtrpT','tRNAtyrT','tRNAtyrU','tRNAtyrV','tRNAvalT','tRNAvalU','tRNAvalV','tRNAvalW','tRNAvalX','tRNAvalY','tRNAvalZ']"
     ],
     "language": "python",
     "metadata": {},
     "outputs": [],
     "prompt_number": 2
    },
    {
     "cell_type": "code",
     "collapsed": false,
     "input": [
      "import collections\n",
      "amino_acid_3_to_1 = collections.OrderedDict([\n",
      "\t(\"ala\", \"A\"), (\"arg\", \"R\"), (\"asn\", \"N\"), (\"asp\", \"D\"),\n",
      "\t(\"cys\", \"C\"), (\"glt\", \"E\"), (\"gln\", \"Q\"), (\"gly\", \"G\"),\n",
      "\t(\"his\", \"H\"), (\"ile\", \"I\"), (\"leu\", \"L\"), (\"lys\", \"K\"),\n",
      "\t(\"met\", \"M\"), (\"phe\", \"F\"), (\"pro\", \"P\"), (\"ser\", \"S\"),\n",
      "\t(\"thr\", \"T\"), (\"trp\", \"W\"), (\"tyr\", \"Y\"), (\"sec\", \"U\"),\n",
      "\t(\"val\", \"V\")\n",
      "\t])\n",
      "\n",
      "amino_acid_trna_groups = collections.OrderedDict([(x,[]) for x in amino_acid_3_to_1.itervalues()])"
     ],
     "language": "python",
     "metadata": {},
     "outputs": [],
     "prompt_number": 6
    },
    {
     "cell_type": "code",
     "collapsed": false,
     "input": [
      "for amino_acid_name in amino_acid_3_to_1.iterkeys():\n",
      "    for trna_name in tRNA_names:\n",
      "        if amino_acid_name in trna_name:\n",
      "            one_letter_abbrv = amino_acid_3_to_1[amino_acid_name]\n",
      "            trna_frameid = tRNA_frameIds[tRNA_names.index(trna_name)]\n",
      "            amino_acid_trna_groups[one_letter_abbrv].append(trna_frameid)"
     ],
     "language": "python",
     "metadata": {},
     "outputs": [],
     "prompt_number": 7
    },
    {
     "cell_type": "code",
     "collapsed": false,
     "input": [
      "print amino_acid_trna_groups"
     ],
     "language": "python",
     "metadata": {},
     "outputs": [
      {
       "output_type": "stream",
       "stream": "stdout",
       "text": [
        "OrderedDict([('A', ['tRNA-Ile2', 'alaT-tRNA', 'alaU-tRNA', 'alaV-tRNA', 'alaW-tRNA']), ('R', ['alaX-tRNA', 'argQ-tRNA', 'argU-tRNA', 'argV-tRNA', 'argW-tRNA', 'argX-tRNA', 'argY-tRNA']), ('N', ['argZ-tRNA', 'asnT-tRNA', 'asnU-tRNA', 'asnV-tRNA']), ('D', ['RNA0-304', 'aspT-tRNA', 'aspU-tRNA']), ('C', ['aspV-tRNA']), ('E', ['glnX-tRNA', 'gltT-tRNA', 'gltU-tRNA', 'gltV-tRNA']), ('Q', ['cysT-tRNA', 'glnU-tRNA', 'glnV-tRNA', 'glnW-tRNA']), ('G', ['gltW-tRNA', 'glyT-tRNA', 'glyU-tRNA', 'glyV-tRNA', 'glyW-tRNA', 'glyX-tRNA']), ('H', ['glyY-tRNA']), ('I', ['hisR-tRNA', 'ileT-tRNA', 'ileU-tRNA', 'ileV-tRNA', 'ileX-tRNA']), ('L', ['RNA0-305', 'leuP-tRNA', 'leuQ-tRNA', 'leuT-tRNA', 'leuU-tRNA', 'leuV-tRNA', 'leuW-tRNA', 'leuX-tRNA']), ('K', ['leuZ-tRNA', 'RNA0-303', 'lysT-tRNA', 'lysV-tRNA', 'lysW-tRNA', 'RNA0-301']), ('M', ['RNA0-302', 'metT-tRNA', 'metU-tRNA', 'RNA0-306', 'metW-tRNA', 'metY-tRNA']), ('F', ['metZ-tRNA', 'pheU-tRNA']), ('P', ['pheV-tRNA', 'proK-tRNA', 'proL-tRNA']), ('S', ['selC-tRNA', 'serT-tRNA', 'serU-tRNA', 'serV-tRNA', 'serW-tRNA']), ('T', ['serX-tRNA', 'thrT-tRNA', 'thrU-tRNA', 'thrV-tRNA']), ('W', ['thrW-tRNA']), ('Y', ['trpT-tRNA', 'tyrT-tRNA', 'tyrU-tRNA']), ('U', ['proM-tRNA']), ('V', ['tyrV-tRNA', 'valT-tRNA', 'valU-tRNA', 'valV-tRNA', 'valW-tRNA', 'valX-tRNA', 'valY-tRNA'])])\n"
       ]
      }
     ],
     "prompt_number": 12
    },
    {
     "cell_type": "code",
     "collapsed": false,
     "input": [
      "values = []\n",
      "for x in amino_acid_trna_groups.itervalues():\n",
      "    for y in x:\n",
      "        values.append(y)"
     ],
     "language": "python",
     "metadata": {},
     "outputs": [],
     "prompt_number": 9
    },
    {
     "cell_type": "code",
     "collapsed": false,
     "input": [
      "print len(set(values))\n",
      "print len(tRNA_names)"
     ],
     "language": "python",
     "metadata": {},
     "outputs": [
      {
       "output_type": "stream",
       "stream": "stdout",
       "text": [
        "86\n",
        "86\n"
       ]
      }
     ],
     "prompt_number": 11
    },
    {
     "cell_type": "code",
     "collapsed": false,
     "input": [],
     "language": "python",
     "metadata": {},
     "outputs": []
    }
   ],
   "metadata": {}
  }
 ]
}