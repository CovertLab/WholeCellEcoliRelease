{
 "metadata": {
  "name": ""
 },
 "nbformat": 3,
 "nbformat_minor": 0,
 "worksheets": [
  {
   "cells": [
    {
     "cell_type": "code",
     "collapsed": false,
     "input": [
      "import os\n",
      "import os.path\n",
      "import cPickle\n",
      "import wholecell.kb.KnowledgeBase\n",
      "\n",
      "# Create output directory\n",
      "outDir = \"data/fixtures\"\n",
      "if not os.path.exists(outDir):\n",
      "    os.makedirs(outDir)\n",
      "\n",
      "# Construct KB fixture\n",
      "kb = wholecell.kb.KnowledgeBase.KnowledgeBase(dataFileDir = \"data/parsed\", seqFileName = \"data/raw/sequence.txt\")\n",
      "cPickle.dump(kb, open(os.path.join(outDir, \"KnowledgeBase.cPickle\"), \"w\"), protocol = cPickle.HIGHEST_PROTOCOL)\n",
      "\n",
      "import cPickle\n",
      "import os\n",
      "import os.path\n",
      "import wholecell.kb.KnowledgeBase\n",
      "import wholecell.sim.Simulation\n",
      "import wholecell.sim.logger.Shell\n",
      "import wholecell.sim.logger.DiskPyTables\n",
      "\n",
      "import numpy\n",
      "\n",
      "# Load KB fixture\n",
      "kbDir = \"data/fixtures\"\n",
      "kb = cPickle.load(open(os.path.join(kbDir, \"KnowledgeBase.cPickle\"), \"r\"))\n",
      "\n",
      "# Initialize simulation\n",
      "sim = wholecell.sim.Simulation.Simulation(kb)\n",
      "sim.setOptions({\"seed\": 10, \"lengthSec\": 100})\n",
      "\n",
      "# Fit simulation\n",
      "import wholecell.util.Fitter\n",
      "wholecell.util.Fitter.Fitter.FitSimulation(sim, kb)\n",
      "sim.calcInitialConditions()\n",
      "\n",
      "# Construct saving variables\n",
      "massState = sim.getState(\"Mass\")\n",
      "massSave = {'cell' : [], 'cellDry' : [], 'metabolite' : [], 'protein' : [], 'rna' : [], 'total' : []}"
     ],
     "language": "python",
     "metadata": {},
     "outputs": [
      {
       "output_type": "stream",
       "stream": "stdout",
       "text": [
        "initialDryMass: 2.051623e-13\n"
       ]
      }
     ],
     "prompt_number": 1
    },
    {
     "cell_type": "code",
     "collapsed": false,
     "input": [
      "# Calculate temporal evolution\n",
      "for iSec in numpy.arange(sim.timeStepSec, sim.lengthSec + sim.timeStepSec, sim.timeStepSec):\n",
      "    sim.time.value = iSec\n",
      "    sim.evolveState()\n",
      "    currMass = massState.getDynamics()\n",
      "    for mass in currMass.iterkeys():\n",
      "        massSave[mass].append(currMass[mass].sum())"
     ],
     "language": "python",
     "metadata": {},
     "outputs": [],
     "prompt_number": 2
    },
    {
     "cell_type": "heading",
     "level": 2,
     "metadata": {},
     "source": [
      "Run 2"
     ]
    },
    {
     "cell_type": "code",
     "collapsed": false,
     "input": [
      "# Initialize simulation\n",
      "sim = wholecell.sim.Simulation.Simulation(kb)\n",
      "sim.setOptions({\"seed\": 20, \"lengthSec\": 100})\n",
      "\n",
      "# Fit simulation\n",
      "import wholecell.util.Fitter\n",
      "wholecell.util.Fitter.Fitter.FitSimulation(sim, kb)\n",
      "sim.calcInitialConditions()\n",
      "\n",
      "massState1 = sim.getState(\"Mass\")\n",
      "massSave1 = {'cell' : [], 'cellDry' : [], 'metabolite' : [], 'protein' : [], 'rna' : [], 'total' : []}\n",
      "\n",
      "# Calculate temporal evolution\n",
      "for iSec in numpy.arange(sim.timeStepSec, sim.lengthSec + sim.timeStepSec, sim.timeStepSec):\n",
      "    sim.time.value = iSec\n",
      "    sim.evolveState()\n",
      "    currMass = massState1.getDynamics()\n",
      "    for mass in currMass.iterkeys():\n",
      "        massSave1[mass].append(currMass[mass].sum())"
     ],
     "language": "python",
     "metadata": {},
     "outputs": [
      {
       "output_type": "stream",
       "stream": "stdout",
       "text": [
        "initialDryMass: 2.064420e-13\n"
       ]
      }
     ],
     "prompt_number": 4
    },
    {
     "cell_type": "heading",
     "level": 2,
     "metadata": {},
     "source": [
      "Plot"
     ]
    },
    {
     "cell_type": "code",
     "collapsed": false,
     "input": [
      "## Plotting 1\n",
      "%matplotlib inline\n",
      "import matplotlib.pyplot\n",
      "\n",
      "# Expected doubling time is an hour\n",
      "x = numpy.linspace(0, sim.lengthSec, sim.lengthSec)\n",
      "doubling_time = 60*60 # sec\n",
      "growth_rate = numpy.log(2)/doubling_time\n",
      "exp_x_1 = massSave['total'][0]*numpy.exp(growth_rate*x)\n",
      "exp_x_2 = massSave1['total'][0]*numpy.exp(growth_rate*x)\n",
      "\n",
      "x = numpy.linspace(0, sim.lengthSec, sim.lengthSec)\n",
      "p1 = matplotlib.pyplot.plot(x, massSave['total'], label=\"Computed1\")\n",
      "p3 = matplotlib.pyplot.plot(x, massSave1['total'], label=\"Computed2\")\n",
      "p2 = matplotlib.pyplot.plot(x, exp_x_1, label=\"Exponential\")\n",
      "p4 = matplotlib.pyplot.plot(x, exp_x_2, label=\"Exponential\")\n",
      "matplotlib.pylab.legend()"
     ],
     "language": "python",
     "metadata": {},
     "outputs": [
      {
       "metadata": {},
       "output_type": "pyout",
       "prompt_number": 10,
       "text": [
        "<matplotlib.legend.Legend at 0xab6928c>"
       ]
      },
      {
       "metadata": {},
       "output_type": "display_data",
       "png": "[encoded data removed]",
       "text": [
        "<matplotlib.figure.Figure at 0xb371bec>"
       ]
      }
     ],
     "prompt_number": 10
    },
    {
     "cell_type": "code",
     "collapsed": false,
     "input": [],
     "language": "python",
     "metadata": {},
     "outputs": []
    }
   ],
   "metadata": {}
  }
 ]
}