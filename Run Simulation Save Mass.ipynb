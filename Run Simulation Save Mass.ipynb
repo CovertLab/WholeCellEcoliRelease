{
 "metadata": {
  "name": ""
 },
 "nbformat": 3,
 "nbformat_minor": 0,
 "worksheets": [
  {
   "cells": [
    {
     "cell_type": "code",
     "collapsed": false,
     "input": [
      "import os\n",
      "import os.path\n",
      "import cPickle\n",
      "import wholecell.kb.KnowledgeBase\n",
      "\n",
      "# Create output directory\n",
      "outDir = \"data/fixtures\"\n",
      "if not os.path.exists(outDir):\n",
      "    os.makedirs(outDir)\n",
      "\n",
      "# Construct KB fixture\n",
      "kb = wholecell.kb.KnowledgeBase.KnowledgeBase(dataFileDir = \"data/parsed\", seqFileName = \"data/raw/sequence.txt\")\n",
      "cPickle.dump(kb, open(os.path.join(outDir, \"KnowledgeBase.cPickle\"), \"w\"), protocol = cPickle.HIGHEST_PROTOCOL)\n",
      "\n",
      "import cPickle\n",
      "import os\n",
      "import os.path\n",
      "import wholecell.kb.KnowledgeBase\n",
      "import wholecell.sim.Simulation\n",
      "import wholecell.sim.logger.Shell\n",
      "import wholecell.sim.logger.DiskPyTables\n",
      "\n",
      "import numpy\n",
      "\n",
      "# Load KB fixture\n",
      "kbDir = \"data/fixtures\"\n",
      "kb = cPickle.load(open(os.path.join(kbDir, \"KnowledgeBase.cPickle\"), \"r\"))\n",
      "\n",
      "# Initialize simulation\n",
      "sim = wholecell.sim.Simulation.Simulation(kb)\n",
      "sim.setOptions({\"seed\": 10, \"lengthSec\": 100})\n",
      "\n",
      "# Fit simulation\n",
      "import wholecell.util.Fitter\n",
      "wholecell.util.Fitter.Fitter.FitSimulation(sim, kb)\n",
      "sim.calcInitialConditions()"
     ],
     "language": "python",
     "metadata": {},
     "outputs": [],
     "prompt_number": "*"
    },
    {
     "cell_type": "code",
     "collapsed": false,
     "input": [
      "# Construct saving variables\n",
      "massState = sim.getState(\"Mass\")\n",
      "total_mass = numpy.array([],dtype=float)\n",
      "\n",
      "# Calculate temporal evolution\n",
      "for iSec in numpy.arange(sim.timeStepSec, sim.lengthSec + sim.timeStepSec, sim.timeStepSec):\n",
      "    sim.time.value = iSec\n",
      "    sim.evolveState()\n",
      "    total_mass = numpy.hstack((total_mass, massState.getDynamics()['total'].sum()))"
     ],
     "language": "python",
     "metadata": {},
     "outputs": [
      {
       "output_type": "stream",
       "stream": "stdout",
       "text": [
        "726.710726456\n",
        "726.759814768"
       ]
      },
      {
       "output_type": "stream",
       "stream": "stdout",
       "text": [
        "\n",
        "726.809823529"
       ]
      },
      {
       "output_type": "stream",
       "stream": "stdout",
       "text": [
        "\n",
        "726.859178748"
       ]
      },
      {
       "output_type": "stream",
       "stream": "stdout",
       "text": [
        "\n",
        "726.909630065"
       ]
      },
      {
       "output_type": "stream",
       "stream": "stdout",
       "text": [
        "\n",
        "726.959064972"
       ]
      },
      {
       "output_type": "stream",
       "stream": "stdout",
       "text": [
        "\n",
        "727.010038506"
       ]
      },
      {
       "output_type": "stream",
       "stream": "stdout",
       "text": [
        "\n",
        "727.060511658"
       ]
      },
      {
       "output_type": "stream",
       "stream": "stdout",
       "text": [
        "\n",
        "727.110603756"
       ]
      },
      {
       "output_type": "stream",
       "stream": "stdout",
       "text": [
        "\n",
        "727.160741201"
       ]
      },
      {
       "output_type": "stream",
       "stream": "stdout",
       "text": [
        "\n",
        "727.211224328"
       ]
      },
      {
       "output_type": "stream",
       "stream": "stdout",
       "text": [
        "\n",
        "727.259724069"
       ]
      },
      {
       "output_type": "stream",
       "stream": "stdout",
       "text": [
        "\n",
        "727.308645535"
       ]
      },
      {
       "output_type": "stream",
       "stream": "stdout",
       "text": [
        "\n",
        "727.355748019"
       ]
      },
      {
       "output_type": "stream",
       "stream": "stdout",
       "text": [
        "\n",
        "727.405465999"
       ]
      },
      {
       "output_type": "stream",
       "stream": "stdout",
       "text": [
        "\n",
        "727.455072142"
       ]
      },
      {
       "output_type": "stream",
       "stream": "stdout",
       "text": [
        "\n",
        "727.504850467"
       ]
      },
      {
       "output_type": "stream",
       "stream": "stdout",
       "text": [
        "\n",
        "727.551533052"
       ]
      },
      {
       "output_type": "stream",
       "stream": "stdout",
       "text": [
        "\n",
        "727.60085723"
       ]
      },
      {
       "output_type": "stream",
       "stream": "stdout",
       "text": [
        "\n",
        "727.650793802"
       ]
      }
     ],
     "prompt_number": "*"
    },
    {
     "cell_type": "code",
     "collapsed": false,
     "input": [
      "total_mass"
     ],
     "language": "python",
     "metadata": {},
     "outputs": [
      {
       "metadata": {},
       "output_type": "pyout",
       "prompt_number": 30,
       "text": [
        "array([ 222.56594468,  541.76927059,   44.97382549,  715.47839198,\n",
        "        130.03120637,  716.77430245,  222.61603036,  541.79961894,\n",
        "         44.98108436,  715.52847698,  130.04384069,  716.82454398,\n",
        "        222.66775846,  541.83306443,   44.98553296,  715.58020341,\n",
        "        130.0578074 ,  716.87640478,  222.71646351,  541.85876709,\n",
        "         44.99496134,  715.62890749,  130.07160116,  716.92532958,\n",
        "        222.76636392,  541.88985025,   45.00264959,  715.67880689,\n",
        "        130.08291775,  716.97541758,  222.81649183,  541.91750808,\n",
        "         45.01100675,  715.7289333 ,  130.09705923,  717.02557406,\n",
        "        222.86561487,  541.94304378,   45.01991937,  715.7780547 ,\n",
        "        130.11191335,  717.0748765 ,  222.9147539 ,  541.9735613 ,\n",
        "         45.02489148,  715.82719238,  130.12562539,  717.12407816,\n",
        "        222.96277543,  541.99800126,   45.03541605,  715.87521245,\n",
        "        130.13882536,  717.17224268,  223.01133635,  542.0277018 ,\n",
        "         45.04128316,  715.92377274,  130.15196766,  717.22095262,\n",
        "        223.05825501,  542.05010155,   45.05318909,  715.97069032,\n",
        "        130.1649039 ,  717.26819454,  223.10725485,  542.0783469 ,\n",
        "         45.06142356,  716.01968911,  130.17745678,  717.31722724,\n",
        "        223.15800715,  542.11405111,   45.06380593,  716.07044085,\n",
        "        130.19021589,  717.36807292,  223.2067635 ,  542.14101247,\n",
        "         45.07348426,  716.11919561,  130.20252828,  717.417025  ,\n",
        "        223.25508256,  542.16616059,   45.0834436 ,  716.16751365,\n",
        "        130.21580551,  717.46540971,  223.3029861 ,  542.19202932,\n",
        "         45.09183301,  716.2154163 ,  130.22977597,  717.51363829,\n",
        "        223.35161797,  542.22015004,   45.09799377,  716.26404766,\n",
        "        130.2441897 ,  717.56233352,  223.40204531,  542.2511209 ,\n",
        "         45.10294554,  716.31447386,  130.25895075,  717.61301719,\n",
        "        223.45129122,  542.27873501,   45.11290797,  716.36371893,\n",
        "        130.2707298 ,  717.66237279,  223.50118094,  542.31006658,\n",
        "         45.11892555,  716.41360764,  130.28339687,  717.712389  ,\n",
        "        223.54972123,  542.33637418,   45.12783679,  716.46214664,\n",
        "        130.29698813,  717.7611991 ,  223.60083843,  542.36996755,\n",
        "         45.13285404,  716.51326204,  130.30958965,  717.81241124,\n",
        "        223.64837127,  542.39231249,   45.14475141,  716.56079312,\n",
        "        130.32308942,  717.86015332,  223.69825176,  542.42258701,\n",
        "         45.14996228,  716.6106729 ,  130.33766485,  717.91021414,\n",
        "        223.74965539,  542.45486535,   45.15706069,  716.66207479,\n",
        "        130.34972007,  717.9616461 ,  223.79827878,  542.48092822,\n",
        "         45.16453466,  716.71069743,  130.36490876,  718.01037165,\n",
        "        223.85034685,  542.51574226,   45.16927494,  716.76276464,\n",
        "        130.37765178,  718.06266898,  223.89795582,  542.54315849,\n",
        "         45.17739514,  716.81037255,  130.39007239,  718.11062602,\n",
        "        223.94610505,  542.56849606,   45.18743396,  716.8585208 ,\n",
        "        130.40291091,  718.15884093,  223.99710272,  542.60025719,\n",
        "         45.19549673,  716.90951671,  130.41417314,  718.20992706,\n",
        "        224.04650996,  542.62948188,   45.20416024,  716.95892274,\n",
        "        130.42578865,  718.25943077,  224.09659319,  542.65865144,\n",
        "         45.2114981 ,  717.00900421,  130.43943553,  718.30958507,\n",
        "        224.1437687 ,  542.68038579,   45.22302629,  717.05617811,\n",
        "        130.45344082,  718.35685291,  224.1930826 ,  542.7083763 ,\n",
        "         45.23083258,  717.10549108,  130.46701716,  718.40622603,\n",
        "        224.24271622,  542.73746808,   45.23864753,  717.15512383,\n",
        "        130.47994357,  718.45605918,  224.29152981,  542.76293488,\n",
        "         45.24869362,  717.20393617,  130.49340642,  718.50503493,\n",
        "        224.33738717,  542.78857797,   45.25431694,  717.24979293,\n",
        "        130.50805657,  718.55095148,  224.38579316,  542.81818586,\n",
        "         45.26107279,  717.29819796,  130.52045171,  718.59971036,\n",
        "        224.432803  ,  542.84122293,   45.27150184,  717.34520672,\n",
        "        130.53418749,  718.64691225,  224.48268076,  542.86988924,\n",
        "         45.27949933,  717.39508356,  130.54760047,  718.69698904,\n",
        "        224.53310018,  542.90330499,   45.2845889 ,  717.44550253,\n",
        "        130.55970725,  718.74760114,  224.58039416,  542.92674365,\n",
        "         45.29386025,  717.49279537,  130.57442457,  718.79502847,\n",
        "        224.63017643,  542.95837271,   45.29815916,  717.54257686,\n",
        "        130.58841142,  718.84494329,  224.68085564,  542.9879662 ,\n",
        "         45.30525951,  717.59325494,  130.60248588,  718.89571159,\n",
        "        224.73147863,  543.01697238,   45.31306837,  717.64387712,\n",
        "        130.61640356,  718.94644431,  224.78254449,  543.04660866,\n",
        "         45.32129069,  717.69494196,  130.62980711,  718.99770647,\n",
        "        224.83297746,  543.07544854,   45.32899455,  717.74537365,\n",
        "        130.64396981,  719.04841289,  224.88055227,  543.09801299,\n",
        "         45.34083618,  717.79294699,  130.65729743,  719.09614661,\n",
        "        224.92856071,  543.12334628,   45.35121844,  717.84095399,\n",
        "        130.66987787,  719.14444259,  224.97777162,  543.15329612,\n",
        "         45.35602751,  717.89016424,  130.68459309,  719.19391671,\n",
        "        225.02870466,  543.1834061 ,   45.36337653,  717.94109641,\n",
        "        130.69841499,  719.24519762,  225.07846477,  543.21304233,\n",
        "         45.37223144,  717.99085506,  130.70981304,  719.2950868 ,\n",
        "        225.12643621,  543.23782725,   45.381168  ,  718.03882576,\n",
        "        130.72425   ,  719.34324526,  225.17689392,  543.26897117,\n",
        "         45.38827897,  718.08928197,  130.73667892,  719.39392906,\n",
        "        225.22501421,  543.29371919,   45.39848711,  718.13740109,\n",
        "        130.74987195,  719.44207825,  225.27616148,  543.32789477,\n",
        "         45.40284769,  718.18854747,  130.76260899,  719.49335145,\n",
        "        225.3252328 ,  543.35628319,   45.40915115,  718.23761767,\n",
        "        130.7773672 ,  719.54280154,  225.3729481 ,  543.37950204,\n",
        "         45.41983291,  718.28533145,  130.79145565,  719.59079061,\n",
        "        225.42071121,  543.40258675,   45.43149622,  718.33309348,\n",
        "        130.8046604 ,  719.63874337,  225.46981017,  543.43194527,\n",
        "         45.43963684,  718.38219095,  130.81661393,  719.68819604,\n",
        "        225.52023402,  543.46008165,   45.44805027,  718.4326139 ,\n",
        "        130.83080119,  719.73893312,  225.56900187,  543.48690747,\n",
        "         45.45649118,  718.48138094,  130.84433542,  719.78773407,\n",
        "        225.61710268,  543.51559745,   45.46372916,  718.52948056,\n",
        "        130.85693914,  719.83626576,  225.66652803,  543.54559921,\n",
        "         45.47026049,  718.57890492,  130.86989953,  719.88575922,\n",
        "        225.71504388,  543.57365417,   45.47711741,  718.62741921,\n",
        "        130.88356173,  719.93433331,  225.76445445,  543.60019257,\n",
        "         45.48535343,  718.67682873,  130.89829357,  719.98383957,\n",
        "        225.81606752,  543.63286192,   45.49078538,  718.7284413 ,\n",
        "        130.91191537,  720.03556268,  225.86527802,  543.65598652,\n",
        "         45.50252324,  718.77765009,  130.92640883,  720.0849186 ,\n",
        "        225.91604863,  543.68988259,   45.50642978,  718.82841948,\n",
        "        130.93947235,  720.13578472,  225.96550034,  543.71749256,\n",
        "         45.51506894,  718.87786972,  130.95286763,  720.18542913,\n",
        "        226.0146649 ,  543.74584768,   45.52310374,  718.9270333 ,\n",
        "        130.96567137,  720.23462278,  226.06582641,  543.77679556,\n",
        "         45.53057279,  718.97819355,  130.97856181,  720.28593016,\n",
        "        226.11444958,  543.80286343,   45.5418876 ,  719.02681564,\n",
        "        130.98997734,  720.33472837,  226.16425681,  543.83191379,\n",
        "         45.54939468,  719.07662135,  131.00333774,  720.38464621,\n",
        "        226.21333596,  543.86400066,   45.55387347,  719.12569987,\n",
        "        131.01608759,  720.43396173,  226.2639778 ,  543.89433696,\n",
        "         45.5617174 ,  719.17634051,  131.02881469,  720.48486904,\n",
        "        226.31240674,  543.91759504,   45.57238896,  719.22476816,\n",
        "        131.04341059,  720.53339459,  226.36227324,  543.94769463,\n",
        "         45.57852135,  719.27463383,  131.0575069 ,  720.58372289,\n",
        "        226.4113108 ,  543.97587238,   45.58770344,  719.32367054,\n",
        "        131.06926425,  720.63284006,  226.45931926,  544.00134789,\n",
        "         45.5968909 ,  719.37167802,  131.08282529,  720.68106408,\n",
        "        226.51082381,  544.03507756,   45.60039344,  719.42318242,\n",
        "        131.09730441,  720.73277541,  226.56105623,  544.06437391,\n",
        "         45.60879658,  719.47341355,  131.10992626,  720.78309675,\n",
        "        226.60901795,  544.09052457,   45.61701015,  719.52137414,\n",
        "        131.12376649,  720.83130121,  226.65908804,  544.12081311,\n",
        "         45.62582956,  719.57144306,  131.13480553,  720.8814482 ,\n",
        "        226.70897721,  544.14831541,   45.63397174,  719.62133167,\n",
        "        131.14904965,  720.9313368 ,  226.75710898,  544.17102011,\n",
        "         45.64446716,  719.66946209,  131.16404011,  720.97952738,\n",
        "        226.80621685,  544.20011472,   45.65164414,  719.7185687 ,\n",
        "        131.17716007,  721.02891893,  226.85834527,  544.23229626,\n",
        "         45.65646756,  719.77069664,  131.192403  ,  721.08116681,\n",
        "        226.90905035,  544.26597719,   45.66126692,  719.82140082,\n",
        "        131.20482036,  721.13206447,  226.95839382,  544.29193448,\n",
        "         45.6723358 ,  719.87074265,  131.21720269,  721.18147297,\n",
        "        227.0085046 ,  544.31815398,   45.68185719,  719.92085256,\n",
        "        131.23174623,  721.2317574 ,  227.05870485,  544.34772145,\n",
        "         45.68844927,  719.97105195,  131.24596571,  721.28213642,\n",
        "        227.10778512,  544.37465923,   45.69710721,  720.02013105,\n",
        "        131.25953895,  721.33130539,  227.15678308,  544.40155799,\n",
        "         45.70604434,  720.06912802,  131.27299678,  721.3805991 ,\n",
        "        227.20723369,  544.43190323,   45.711825  ,  720.11957797,\n",
        "        131.2876002 ,  721.43132843,  227.25724799,  544.46253901,\n",
        "         45.71878218,  720.16959108,  131.30021767,  721.48153886,\n",
        "        227.30602258,  544.48790559,   45.72762899,  720.21836435,\n",
        "        131.3150515 ,  721.53058607,  227.35721756,  544.51912711,\n",
        "         45.73540072,  720.26955822,  131.32746592,  721.58199375,\n",
        "        227.40851719,  544.54961195,   45.74301834,  720.32085732,\n",
        "        131.34085355,  721.63348384,  227.45859565,  544.57759162,\n",
        "         45.75275407,  720.37093455,  131.35335598,  721.68370168,\n",
        "        721.73194065,  721.7790929 ,  721.8300843 ,  721.88132943,\n",
        "        721.93037873,  721.97705064,  722.02658047,  722.07652131,\n",
        "        722.12352049,  722.17291149,  722.22244675,  722.27550959,\n",
        "        722.32660513,  722.37624331,  722.42622171,  722.47439499,\n",
        "        722.52582001,  722.57483225,  722.62496026,  722.67524409,\n",
        "        722.7267019 ,  722.77709738,  722.82725175,  722.878184  ,\n",
        "        722.92691626,  722.97554519,  723.02506076,  723.07460672,\n",
        "        723.12458506,  723.1750751 ,  723.2249476 ,  723.27437734,\n",
        "        723.32487911,  723.37435933,  723.42329323,  723.47206639,\n",
        "        723.52322206,  723.57155935,  723.61849543,  723.66833517,\n",
        "        723.72127321,  723.76822354,  723.81880443,  723.86691562,\n",
        "        723.91698646,  723.96846069,  724.01690858,  724.06445889,\n",
        "        724.11326913,  724.16391578,  724.2125363 ,  724.26266522,\n",
        "        724.31328909,  724.3617681 ,  724.41253203,  724.46121965,\n",
        "        724.51072697,  724.56080128,  724.60960107,  724.65940654,\n",
        "        724.70519807,  724.75398546,  724.80488621,  724.8564092 ,\n",
        "        724.90604738,  724.95821379,  725.00924679,  725.05913583,\n",
        "        725.11124329,  725.16157439,  725.21044544,  725.2612894 ,\n",
        "        725.31133758,  725.36296574,  725.41175969,  725.46242071,\n",
        "        725.51100133,  725.56015752,  725.60757708,  725.65649785,\n",
        "        725.70808336,  725.75842632,  725.80840203,  725.86042418,\n",
        "        725.91184511,  725.96275686,  726.0143518 ,  726.0629512 ,\n",
        "        726.11257655,  726.16160379,  726.21315675,  726.26569754,\n",
        "        726.31440666,  726.36364674,  726.41270444,  726.46195701,\n",
        "        726.5133285 ,  726.56256672,  726.61087769,  726.66188477])"
       ]
      }
     ],
     "prompt_number": 30
    },
    {
     "cell_type": "heading",
     "level": 2,
     "metadata": {},
     "source": [
      "Run 2"
     ]
    },
    {
     "cell_type": "code",
     "collapsed": false,
     "input": [
      "# Initialize simulation\n",
      "sim = wholecell.sim.Simulation.Simulation(kb)\n",
      "sim.setOptions({\"seed\": 20, \"lengthSec\": 100})\n",
      "\n",
      "# Fit simulation\n",
      "import wholecell.util.Fitter\n",
      "wholecell.util.Fitter.Fitter.FitSimulation(sim, kb)\n",
      "sim.calcInitialConditions()\n",
      "\n",
      "massState1 = sim.getState(\"Mass\")\n",
      "massSave1 = {'cell' : [], 'cellDry' : [], 'metabolite' : [], 'protein' : [], 'rna' : [], 'total' : []}\n",
      "\n",
      "# Calculate temporal evolution\n",
      "for iSec in numpy.arange(sim.timeStepSec, sim.lengthSec + sim.timeStepSec, sim.timeStepSec):\n",
      "    sim.time.value = iSec\n",
      "    sim.evolveState()\n",
      "    currMass = massState1.getDynamics()\n",
      "    for mass in currMass.iterkeys():\n",
      "        massSave1[mass].append(currMass[mass].sum())"
     ],
     "language": "python",
     "metadata": {},
     "outputs": [
      {
       "output_type": "stream",
       "stream": "stdout",
       "text": [
        "initialDryMass: 2.064420e-13\n"
       ]
      }
     ],
     "prompt_number": 3
    },
    {
     "cell_type": "heading",
     "level": 2,
     "metadata": {},
     "source": [
      "Plot"
     ]
    },
    {
     "cell_type": "code",
     "collapsed": false,
     "input": [
      "## Plotting 1\n",
      "%matplotlib inline\n",
      "import matplotlib.pyplot\n",
      "\n",
      "# Expected doubling time is an hour\n",
      "x = numpy.linspace(0, sim.lengthSec, sim.lengthSec)\n",
      "doubling_time = 60*60 # sec\n",
      "growth_rate = numpy.log(2)/doubling_time\n",
      "exp_x_1 = massSave['total'][0]*numpy.exp(growth_rate*x)\n",
      "exp_x_2 = massSave1['total'][0]*numpy.exp(growth_rate*x)\n",
      "\n",
      "x = numpy.linspace(0, sim.lengthSec, sim.lengthSec)\n",
      "p1 = matplotlib.pyplot.plot(x, massSave['total'], label=\"Computed1\")\n",
      "p3 = matplotlib.pyplot.plot(x, massSave1['total'], label=\"Computed2\")\n",
      "p2 = matplotlib.pyplot.plot(x, exp_x_1, label=\"Exponential\")\n",
      "p4 = matplotlib.pyplot.plot(x, exp_x_2, label=\"Exponential\")\n",
      "matplotlib.pylab.legend()"
     ],
     "language": "python",
     "metadata": {},
     "outputs": [
      {
       "metadata": {},
       "output_type": "pyout",
       "prompt_number": 4,
       "text": [
        "<matplotlib.legend.Legend at 0x2f61950>"
       ]
      },
      {
       "metadata": {},
       "output_type": "display_data",
       "png": "[encoded data removed]",
       "text": [
        "<matplotlib.figure.Figure at 0x52bb210>"
       ]
      }
     ],
     "prompt_number": 4
    },
    {
     "cell_type": "code",
     "collapsed": false,
     "input": [],
     "language": "python",
     "metadata": {},
     "outputs": [],
     "prompt_number": 14
    },
    {
     "cell_type": "code",
     "collapsed": false,
     "input": [],
     "language": "python",
     "metadata": {},
     "outputs": [
      {
       "metadata": {},
       "output_type": "pyout",
       "prompt_number": 15,
       "text": [
        "[<matplotlib.lines.Line2D at 0x4cf8150>]"
       ]
      },
      {
       "metadata": {},
       "output_type": "display_data",
       "png": "[encoded data removed]",
       "text": [
        "<matplotlib.figure.Figure at 0x445c5d0>"
       ]
      }
     ],
     "prompt_number": 15
    },
    {
     "cell_type": "code",
     "collapsed": false,
     "input": [],
     "language": "python",
     "metadata": {},
     "outputs": [],
     "prompt_number": 20
    },
    {
     "cell_type": "code",
     "collapsed": false,
     "input": [],
     "language": "python",
     "metadata": {},
     "outputs": [
      {
       "metadata": {},
       "output_type": "pyout",
       "prompt_number": 21,
       "text": [
        "array([[ 0.57415605,  0.50065339],\n",
        "       [ 0.64845419,  0.23190848],\n",
        "       [ 0.79407105,  0.3955847 ],\n",
        "       [ 0.94208862,  0.26120175],\n",
        "       [ 0.21407378,  0.35052189],\n",
        "       [ 0.78928809,  0.39057909],\n",
        "       [ 0.43440009,  0.81462567],\n",
        "       [ 0.88972415,  0.99285902],\n",
        "       [ 0.94767484,  0.72893758],\n",
        "       [ 0.48992743,  0.79130159]])"
       ]
      }
     ],
     "prompt_number": 21
    },
    {
     "cell_type": "code",
     "collapsed": false,
     "input": [],
     "language": "python",
     "metadata": {},
     "outputs": [
      {
       "metadata": {},
       "output_type": "pyout",
       "prompt_number": 22,
       "text": [
        "[<matplotlib.lines.Line2D at 0x293f6d0>,\n",
        " <matplotlib.lines.Line2D at 0x293f950>]"
       ]
      },
      {
       "metadata": {},
       "output_type": "display_data",
       "png": "[encoded data removed]",
       "text": [
        "<matplotlib.figure.Figure at 0x3584e90>"
       ]
      }
     ],
     "prompt_number": 22
    },
    {
     "cell_type": "code",
     "collapsed": false,
     "input": [],
     "language": "python",
     "metadata": {},
     "outputs": []
    }
   ],
   "metadata": {}
  }
 ]
}