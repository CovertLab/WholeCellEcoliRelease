{
 "metadata": {
  "name": ""
 },
 "nbformat": 3,
 "nbformat_minor": 0,
 "worksheets": [
  {
   "cells": [
    {
     "cell_type": "code",
     "collapsed": false,
     "input": [
      "import os\n",
      "import os.path\n",
      "import cPickle\n",
      "import wholecell.kb.KnowledgeBase\n",
      "\n",
      "# Create output directory\n",
      "outDir = \"data/fixtures\"\n",
      "if not os.path.exists(outDir):\n",
      "    os.makedirs(outDir)\n",
      "\n",
      "# Construct KB fixture\n",
      "kb = wholecell.kb.KnowledgeBase.KnowledgeBase(dataFileDir = \"data/parsed\", seqFileName = \"data/raw/sequence.txt\")\n",
      "cPickle.dump(kb, open(os.path.join(outDir, \"KnowledgeBase.cPickle\"), \"w\"), protocol = cPickle.HIGHEST_PROTOCOL)\n",
      "\n",
      "import cPickle\n",
      "import os\n",
      "import os.path\n",
      "import wholecell.kb.KnowledgeBase\n",
      "import wholecell.sim.Simulation\n",
      "import wholecell.sim.logger.Shell\n",
      "import wholecell.sim.logger.DiskPyTables\n",
      "\n",
      "import numpy\n",
      "\n",
      "# Load KB fixture\n",
      "kbDir = \"data/fixtures\"\n",
      "kb = cPickle.load(open(os.path.join(kbDir, \"KnowledgeBase.cPickle\"), \"r\"))"
     ],
     "language": "python",
     "metadata": {},
     "outputs": [
      {
       "output_type": "stream",
       "stream": "stderr",
       "text": [
        "/usr/local/lib/python2.7/dist-packages/Bio/Seq.py:1971: BiopythonWarning: Partial codon, len(sequence) not a multiple of three. Explicitly trim the sequence or add trailing N before translation. This may become an error in future.\n",
        "  BiopythonWarning)\n"
       ]
      }
     ],
     "prompt_number": 1
    },
    {
     "cell_type": "heading",
     "level": 2,
     "metadata": {},
     "source": [
      "Run simulation - With unpartitioned counts being partitioned"
     ]
    },
    {
     "cell_type": "code",
     "collapsed": false,
     "input": [
      "# Initialize simulation\n",
      "sim = wholecell.sim.Simulation.Simulation(kb)\n",
      "sim.setOptions({\"seed\": 10, \"lengthSec\": 100})\n",
      "\n",
      "# Fit simulation\n",
      "import wholecell.util.Fitter\n",
      "wholecell.util.Fitter.Fitter.FitSimulation(sim, kb)\n",
      "sim.calcInitialConditions()"
     ],
     "language": "python",
     "metadata": {},
     "outputs": [
      {
       "output_type": "stream",
       "stream": "stdout",
       "text": [
        "initialDryMass: 2.051623e-13\n"
       ]
      }
     ],
     "prompt_number": 2
    },
    {
     "cell_type": "code",
     "collapsed": false,
     "input": [
      "# Construct saving variables\n",
      "massState = sim.getState(\"Mass\")\n",
      "total_mass_fullpartition = numpy.array([],dtype=float)\n",
      "\n",
      "# Calculate temporal evolution\n",
      "for iSec in numpy.arange(sim.timeStepSec, sim.lengthSec + sim.timeStepSec, sim.timeStepSec):\n",
      "    sim.time.value = iSec\n",
      "    sim.evolveState()\n",
      "    total_mass_fullpartition = numpy.hstack((total_mass_fullpartition, massState.getDynamics()['total'].sum()))"
     ],
     "language": "python",
     "metadata": {},
     "outputs": [],
     "prompt_number": 3
    },
    {
     "cell_type": "code",
     "collapsed": false,
     "input": [
      "total_mass_fullpartition"
     ],
     "language": "python",
     "metadata": {},
     "outputs": [
      {
       "metadata": {},
       "output_type": "pyout",
       "prompt_number": 4,
       "text": [
        "array([ 711.82150059,  711.86570509,  711.91358983,  711.96194558,\n",
        "        712.01182075,  712.06243099,  712.11000527,  712.16040667,\n",
        "        712.2088072 ,  712.25677468,  712.3060102 ,  712.35601973,\n",
        "        712.4056231 ,  712.4533893 ,  712.50200932,  712.55158302,\n",
        "        712.59662434,  712.6461257 ,  712.69745103,  712.74685108,\n",
        "        712.79973711,  712.84643118,  712.89467072,  712.94629867,\n",
        "        712.99465818,  713.04565547,  713.09462165,  713.14180989,\n",
        "        713.18968217,  713.23687652,  713.28568057,  713.3358475 ,\n",
        "        713.38601015,  713.43476554,  713.4869428 ,  713.53531083,\n",
        "        713.58602837,  713.63773381,  713.68645725,  713.7366782 ,\n",
        "        713.78425512,  713.83273532,  713.88355622,  713.93261588,\n",
        "        713.98087336,  714.0304962 ,  714.08023221,  714.12969952,\n",
        "        714.17896696,  714.22787431,  714.27744225,  714.32656411,\n",
        "        714.37620928,  714.42222385,  714.47036575,  714.52058962,\n",
        "        714.56932337,  714.61946525,  714.669987  ,  714.72069246,\n",
        "        714.77086187,  714.82140028,  714.87065431,  714.91991645,\n",
        "        714.97030859,  715.01913408,  715.06795032,  715.11596389,\n",
        "        715.16838686,  715.21700682,  715.26751678,  715.31933828,\n",
        "        715.37052502,  715.41999981,  715.46674598,  715.51600996,\n",
        "        715.56632596,  715.61891961,  715.66997157,  715.7195257 ,\n",
        "        715.76864108,  715.81957623,  715.86809994,  715.91953199,\n",
        "        715.97047112,  716.02332675,  716.07220738,  716.12316446,\n",
        "        716.17371865,  716.22378134,  716.27426911,  716.32449622,\n",
        "        716.37627067,  716.42501077,  716.47529809,  716.52532257,\n",
        "        716.57519678,  716.62638655,  716.67571842,  716.72578265])"
       ]
      }
     ],
     "prompt_number": 4
    },
    {
     "cell_type": "heading",
     "level": 2,
     "metadata": {},
     "source": [
      "Run Simulation - Without unpartitioned counts being partitioned"
     ]
    },
    {
     "cell_type": "heading",
     "level": 4,
     "metadata": {},
     "source": [
      "Note: This was done by just commenting out the code"
     ]
    },
    {
     "cell_type": "code",
     "collapsed": false,
     "input": [
      "# Initialize simulation\n",
      "sim = wholecell.sim.Simulation.Simulation(kb)\n",
      "sim.setOptions({\"seed\": 10, \"lengthSec\": 100})\n",
      "\n",
      "# Fit simulation\n",
      "import wholecell.util.Fitter\n",
      "wholecell.util.Fitter.Fitter.FitSimulation(sim, kb)\n",
      "sim.calcInitialConditions()"
     ],
     "language": "python",
     "metadata": {},
     "outputs": [
      {
       "output_type": "stream",
       "stream": "stdout",
       "text": [
        "initialDryMass: 2.051623e-13\n"
       ]
      }
     ],
     "prompt_number": 5
    },
    {
     "cell_type": "code",
     "collapsed": false,
     "input": [
      "# Construct saving variables\n",
      "massState = sim.getState(\"Mass\")\n",
      "total_mass_nopartition = numpy.array([],dtype=float)\n",
      "\n",
      "# Calculate temporal evolution\n",
      "for iSec in numpy.arange(sim.timeStepSec, sim.lengthSec + sim.timeStepSec, sim.timeStepSec):\n",
      "    sim.time.value = iSec\n",
      "    sim.evolveState()\n",
      "    total_mass_nopartition = numpy.hstack((total_mass_nopartition, massState.getDynamics()['total'].sum()))"
     ],
     "language": "python",
     "metadata": {},
     "outputs": [],
     "prompt_number": 6
    },
    {
     "cell_type": "code",
     "collapsed": false,
     "input": [
      "total_mass_nopartition"
     ],
     "language": "python",
     "metadata": {},
     "outputs": [
      {
       "metadata": {},
       "output_type": "pyout",
       "prompt_number": 7,
       "text": [
        "array([ 711.82150059,  711.86570509,  711.91358983,  711.96194558,\n",
        "        712.01182075,  712.06243099,  712.11000527,  712.16040667,\n",
        "        712.2088072 ,  712.25677468,  712.3060102 ,  712.35601973,\n",
        "        712.4056231 ,  712.4533893 ,  712.50200932,  712.55158302,\n",
        "        712.59662434,  712.6461257 ,  712.69745103,  712.74685108,\n",
        "        712.79973711,  712.84643118,  712.89467072,  712.94629867,\n",
        "        712.99465818,  713.04565547,  713.09462165,  713.14180989,\n",
        "        713.18968217,  713.23687652,  713.28568057,  713.3358475 ,\n",
        "        713.38601015,  713.43476554,  713.4869428 ,  713.53531083,\n",
        "        713.58602837,  713.63773381,  713.68645725,  713.7366782 ,\n",
        "        713.78425512,  713.83273532,  713.88355622,  713.93261588,\n",
        "        713.98087336,  714.0304962 ,  714.08023221,  714.12969952,\n",
        "        714.17896696,  714.22787431,  714.27744225,  714.32656411,\n",
        "        714.37620928,  714.42222385,  714.47036575,  714.52058962,\n",
        "        714.56932337,  714.61946525,  714.669987  ,  714.72069246,\n",
        "        714.77086187,  714.82140028,  714.87065431,  714.91991645,\n",
        "        714.97030859,  715.01913408,  715.06795032,  715.11596389,\n",
        "        715.16838686,  715.21700682,  715.26751678,  715.31933828,\n",
        "        715.37052502,  715.41999981,  715.46674598,  715.51600996,\n",
        "        715.56632596,  715.61891961,  715.66997157,  715.7195257 ,\n",
        "        715.76864108,  715.81957623,  715.86809994,  715.91953199,\n",
        "        715.97047112,  716.02332675,  716.07220738,  716.12316446,\n",
        "        716.17371865,  716.22378134,  716.27426911,  716.32449622,\n",
        "        716.37627067,  716.42501077,  716.47529809,  716.52532257,\n",
        "        716.57519678,  716.62638655,  716.67571842,  716.72578265])"
       ]
      }
     ],
     "prompt_number": 7
    },
    {
     "cell_type": "heading",
     "level": 2,
     "metadata": {},
     "source": [
      "Check two masses are equal"
     ]
    },
    {
     "cell_type": "code",
     "collapsed": false,
     "input": [
      "total_mass_fullpartition == total_mass_nopartition"
     ],
     "language": "python",
     "metadata": {},
     "outputs": [
      {
       "metadata": {},
       "output_type": "pyout",
       "prompt_number": 8,
       "text": [
        "array([ True,  True,  True,  True,  True,  True,  True,  True,  True,\n",
        "        True,  True,  True,  True,  True,  True,  True,  True,  True,\n",
        "        True,  True,  True,  True,  True,  True,  True,  True,  True,\n",
        "        True,  True,  True,  True,  True,  True,  True,  True,  True,\n",
        "        True,  True,  True,  True,  True,  True,  True,  True,  True,\n",
        "        True,  True,  True,  True,  True,  True,  True,  True,  True,\n",
        "        True,  True,  True,  True,  True,  True,  True,  True,  True,\n",
        "        True,  True,  True,  True,  True,  True,  True,  True,  True,\n",
        "        True,  True,  True,  True,  True,  True,  True,  True,  True,\n",
        "        True,  True,  True,  True,  True,  True,  True,  True,  True,\n",
        "        True,  True,  True,  True,  True,  True,  True,  True,  True,  True], dtype=bool)"
       ]
      }
     ],
     "prompt_number": 8
    },
    {
     "cell_type": "heading",
     "level": 2,
     "metadata": {},
     "source": [
      "Plot"
     ]
    },
    {
     "cell_type": "code",
     "collapsed": false,
     "input": [
      "## Plotting 1\n",
      "%matplotlib inline\n",
      "import matplotlib.pyplot\n",
      "\n",
      "# Expected doubling time is an hour\n",
      "x = numpy.linspace(0, sim.lengthSec, sim.lengthSec)\n",
      "doubling_time = 60*60 # sec\n",
      "growth_rate = numpy.log(2)/doubling_time\n",
      "exp_x_1 = massSave['total'][0]*numpy.exp(growth_rate*x)\n",
      "exp_x_2 = massSave1['total'][0]*numpy.exp(growth_rate*x)\n",
      "\n",
      "x = numpy.linspace(0, sim.lengthSec, sim.lengthSec)\n",
      "p1 = matplotlib.pyplot.plot(x, massSave['total'], label=\"Computed1\")\n",
      "p3 = matplotlib.pyplot.plot(x, massSave1['total'], label=\"Computed2\")\n",
      "p2 = matplotlib.pyplot.plot(x, exp_x_1, label=\"Exponential\")\n",
      "p4 = matplotlib.pyplot.plot(x, exp_x_2, label=\"Exponential\")\n",
      "matplotlib.pylab.legend()"
     ],
     "language": "python",
     "metadata": {},
     "outputs": [
      {
       "metadata": {},
       "output_type": "pyout",
       "prompt_number": 4,
       "text": [
        "<matplotlib.legend.Legend at 0x2f61950>"
       ]
      },
      {
       "metadata": {},
       "output_type": "display_data",
       "png": "[encoded data removed]",
       "text": [
        "<matplotlib.figure.Figure at 0x52bb210>"
       ]
      }
     ],
     "prompt_number": 4
    }
   ],
   "metadata": {}
  }
 ]
}