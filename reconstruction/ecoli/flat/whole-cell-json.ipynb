{
 "metadata": {
  "name": "",
  "signature": "sha256:4ffa662e4c1c1e4ee451bdc2fdc8a8ee0a908e18d9a1ee5a0597c65b6237e4b3"
 },
 "nbformat": 3,
 "nbformat_minor": 0,
 "worksheets": [
  {
   "cells": [
    {
     "cell_type": "code",
     "collapsed": true,
     "input": [
      "%matplotlib inline\n",
      "import cobra\n",
      "import numpy as np\n",
      "import matplotlib.pyplot as plt\n",
      "import os\n",
      "import wholecell\n",
      "import json"
     ],
     "language": "python",
     "metadata": {},
     "outputs": [],
     "prompt_number": 1
    },
    {
     "cell_type": "code",
     "collapsed": false,
     "input": [
      "## Define some cobrapy functions for pretty printing...\n",
      "def get_boundaries(model):\n",
      "\treturn {k.id: v for k,v in zip(model.reactions,model.solution.x) if k.boundary and not np.isclose(v,0)}\n",
      "\n",
      "def get_nonzeros(model,pretty=False,limit=None):\n",
      "    tmp = sorted([(k.id, np.abs(v)) for k,v in zip(model.reactions,model.solution.x) if not np.isclose(v,0)],key=lambda x: x[1],reverse=True)\n",
      "    if pretty: \t\n",
      "        print \"{:18}\\t{:40}{}\\t{}{}\".format(\"FLUXES\",\"REACTION NAMES\",\"\",\"REACTION EQUATIONS\",\"\")\n",
      "        print \"{:-<100}\".format(\"\")\n",
      "        for k,v in tmp[:limit]:\n",
      "            rxn_string = model.reactions.get_by_id(k).build_reaction_string()\n",
      "            print \"Flux: {:12.6f}\\t{:25}{}\\t{}{}\".format(v,k[:min(len(k),25)],\"...\" if len(k)>25 else \"\",rxn_string[:60],\"...\" if len(rxn_string)>40 else \"\")\n",
      "    else:\n",
      "        return tmp\n",
      "    \n",
      "\n",
      "## Print out some information about reactions\n",
      "def print_rxn_info(arg):\n",
      "    for rxn in arg:\n",
      "        gene_names = [x.name for x in rxn.genes]\n",
      "        print \"rxn cobra id:        {}\".format(rxn.id)\n",
      "        print \"rxn ptools id:       {}\".format(rxn.name)\n",
      "        print \"genes of reaction:   {} ({})\".format(\"; \".join([x.name for x in rxn.genes]),\n",
      "                                                    \"; \".join([x.annotation['accession_1'] for x in rxn.genes]))\n",
      "        print \"reaction string:     {}\\n\".format(rxn.build_reaction_string())\n",
      "\n",
      "# get the nonzeroes in a solution\n",
      "def get_sol_nonzeros(sol):\n",
      "    return {x:sol.x_dict[x] for x in sol.x_dict.keys() if not np.isclose(sol.x_dict[x],0)}\n",
      "\n",
      "# run some JSON with bounds\n",
      "def run_with_bounds(bounds_sets,\n",
      "                    init_bounds=[],\n",
      "                    start_point=\"\",\n",
      "                    objective=\"\"):\n",
      "    start_prob = cobra.io.load_json_model(start_point)\n",
      "    start_prob.change_objective(objective)\n",
      "    print start_prob.optimize()\n",
      "    result = []\n",
      "    \n",
      "    for this_bound in init_bounds.iterkeys():\n",
      "        start_prob.reactions.get_by_id(this_bound).lower_bound = init_bounds[this_bound][0]\n",
      "        start_prob.reactions.get_by_id(this_bound).upper_bound = init_bounds[this_bound][1]\n",
      "\n",
      "    for bounds in bounds_sets:\n",
      "        work_prob = start_prob\n",
      "        for this_bound in bounds.iterkeys():\n",
      "            work_prob.reactions.get_by_id(this_bound).lower_bound = bounds[this_bound][0]\n",
      "            work_prob.reactions.get_by_id(this_bound).upper_bound = bounds[this_bound][1]\n",
      "        tmp = work_prob.optimize()\n",
      "        print tmp\n",
      "        result.append(tmp)\n",
      "        \n",
      "    return result\n",
      "    \n",
      "    \n",
      "def sols_to_vectors(sols):\n",
      "    fluxes=sols[0].x_dict.keys()\n",
      "    \n",
      "    result = {}\n",
      "    for this_flux in fluxes:\n",
      "        for this_sol in sols:\n",
      "            if this_sol.x_dict is None or this_flux not in this_sol.x_dict:\n",
      "                this_level = 0.\n",
      "            else:\n",
      "                this_level = this_sol.x_dict[this_flux]    \n",
      "            if this_flux in result:\n",
      "                result[this_flux].append(this_level)\n",
      "            else:\n",
      "                result[this_flux] = [this_level]\n",
      "    return result\n",
      "\n",
      "def make_happen(bounds_sets,\n",
      "                init_bounds={},\n",
      "                start_point={},\n",
      "                objective={}):\n",
      "\n",
      "    r = run_with_bounds(bounds_sets,init_bounds=init_bounds,start_point=start_point,objective=objective)   \n",
      "\n",
      "    rv = sols_to_vectors(r)\n",
      "\n",
      "    plt.figure(1)\n",
      "    plt.hold(True)\n",
      "    plt.plot(-np.array(rv['__NUT_EX_OXYGEN_MOLECULE_e']),rv[objective],'k-')\n",
      "    plt.xlabel('specific O2 uptake (mmol/gDW/hr)')\n",
      "    plt.ylabel('specific growth rate (1/hr)')\n",
      "    f1 = plt.gca()\n",
      "    \n",
      "    plt.figure(2)\n",
      "    plt.hold(True)\n",
      "    plt.plot(-np.array(rv['__NUT_EX_OXYGEN_MOLECULE_e']),rv['__SEC_EX_FORMATE_e'],'r-')\n",
      "    plt.plot(-np.array(rv['__NUT_EX_OXYGEN_MOLECULE_e']),rv['__SEC_EX_ACET_e'],'b-')\n",
      "    plt.plot(-np.array(rv['__NUT_EX_OXYGEN_MOLECULE_e']),rv['__SEC_EX_ETOH_e'],'g-')\n",
      "    plt.plot(-np.array(rv['__NUT_EX_OXYGEN_MOLECULE_e']),rv['__SEC_EX_SUC_e'],'k-')\n",
      "    plt.plot(-np.array(rv['__NUT_EX_OXYGEN_MOLECULE_e']),rv['__SEC_EX_D_LACTATE_e'],'y-')\n",
      "    plt.plot(-np.array(rv['__NUT_EX_OXYGEN_MOLECULE_e']),\n",
      "             np.array(rv['__SEC_EX_CARBON_DIOXIDE_e'])+np.array(rv['__NUT_EX_CARBON_DIOXIDE_e']),'c-')\n",
      "    plt.plot(-np.array(rv['__NUT_EX_OXYGEN_MOLECULE_e']),rv['__SEC_EX_HYDROGEN_MOLECULE_e'],'m-')\n",
      "\n",
      "    plt.legend(['formate','acetate','ethanol','succinate','lactate','CO2','H2'],loc='best',fontsize='small')\n",
      "    plt.xlabel('specific O2 uptake (mmol/gDW/hr)')\n",
      "    plt.ylabel('specific efflux rate (mmol/gDW/hr)')\n",
      "    f2 = plt.gca()\n",
      "    \n",
      "    plt.figure(3)\n",
      "    plt.hold(True)\n",
      "    plt.plot(-np.array(rv['__NUT_EX_OXYGEN_MOLECULE_e']),np.array(rv['ATPSYN_RXN_L2R'])-np.array(rv['ATPSYN_RXN_R2L']),'r-')\n",
      "    plt.plot(-np.array(rv['__NUT_EX_OXYGEN_MOLECULE_e']),np.array(rv['__SEC_EX_PROTON_e']),'b-')\n",
      "    \n",
      "    plt.legend(['ATP synthase flux','proton efflux'],loc='best',fontsize='small')\n",
      "    plt.xlabel('specific O2 uptake (mmol/gDW/hr)')\n",
      "    plt.ylabel('specific flux rate (mmol/gDW/hr)')\n",
      "    f3 = plt.gca()\n",
      "    \n",
      "    return r, rv, f1, f2, f3\n",
      "\n",
      "def build_rslt_v_data(rslt_v,filename=\"./aerobic_transit_ecocyc_19_6_gem.tsv\"):\n",
      "    with open(filename,\"wt\") as stream:\n",
      "        for k,v in rslt_v.iteritems():\n",
      "            stream.write(\"{}\".format(k))\n",
      "            for element in v:\n",
      "                stream.write(\"\\t{}\".format(element))\n",
      "            stream.write(\"\\n\")\n",
      "    "
     ],
     "language": "python",
     "metadata": {},
     "outputs": [],
     "prompt_number": 22
    },
    {
     "cell_type": "code",
     "collapsed": false,
     "input": [
      "## Load the EcoCyc-19.6-GEM model in JSON format\n",
      "wc = cobra.io.load_json_model(\"./ecocyc_19_6_gem.json\")\n",
      "\n",
      "## Select the MetaFlux objective function for maximization\n",
      "wc.change_objective(\"__OBJ__TOP_LEVEL_c\")\n",
      "\n",
      "## Optimize!\n",
      "print \"Glucose alone: \", wc.optimize()\n",
      "\n",
      "\n",
      "wc.reactions.get_by_id('__NUT_EX_GLUCONATE_e').lower_bound = -10\n",
      "\n",
      "print \"Glucose + gluconate: \", wc.optimize()\n",
      "\n",
      "wc.optimize()\n",
      "\n",
      "# go back to normal\n",
      "wc.reactions.get_by_id('__NUT_EX_GLUCONATE_e').lower_bound = 0\n"
     ],
     "language": "python",
     "metadata": {},
     "outputs": [
      {
       "output_type": "stream",
       "stream": "stdout",
       "text": [
        "Glucose alone:  "
       ]
      },
      {
       "output_type": "stream",
       "stream": "stdout",
       "text": [
        "<Solution 0.29 at 0x110b55250>\n",
        "Glucose + gluconate:  "
       ]
      },
      {
       "output_type": "stream",
       "stream": "stdout",
       "text": [
        "<Solution 0.55 at 0x110b55350>\n"
       ]
      }
     ],
     "prompt_number": 12
    },
    {
     "cell_type": "code",
     "collapsed": false,
     "input": [
      "def wcd(filename):\n",
      "    with open(filename,\"rt\") as wc_fp:\n",
      "        return json.load(wc_fp)\n",
      "\n",
      "wcfull=wcd(\"./ecocyc_19_6_gem.json\")\n",
      "\n",
      "wcfull['pseudo-atom-table']"
     ],
     "language": "python",
     "metadata": {},
     "outputs": [
      {
       "metadata": {},
       "output_type": "pyout",
       "prompt_number": 7,
       "text": [
        "{u'AG': u'AG',\n",
        " u'AL': u'AL',\n",
        " u'AS': u'AS',\n",
        " u'AU': u'AU',\n",
        " u'B': u'B',\n",
        " u'BA': u'BA',\n",
        " u'BE': u'BE',\n",
        " u'BR': u'BR',\n",
        " u'C': u'C',\n",
        " u'CA': u'CA',\n",
        " u'CD': u'CD',\n",
        " u'CL': u'CL',\n",
        " u'CO': u'CO',\n",
        " u'CR': u'CR',\n",
        " u'CS': u'CS',\n",
        " u'CU': u'CU',\n",
        " u'Da': u'16S_rRNAs',\n",
        " u'Db': u'23S_rRNAs',\n",
        " u'Dc': u'50S_Ribosomal_subunit_protein_L16',\n",
        " u'Dd': u'ALA_tRNAs',\n",
        " u'De': u'APO_CITRATE_LYASE',\n",
        " u'Df': u'ARG_tRNAs',\n",
        " u'Dg': u'ASN_tRNAs',\n",
        " u'Dh': u'ASP_tRNAs',\n",
        " u'Di': u'Acceptor',\n",
        " u'Dj': u'All_tRNAs',\n",
        " u'Dk': u'Apo_AsbD_Proteins',\n",
        " u'Dl': u'Aryl_Carrier_Proteins',\n",
        " u'Dm': u'BCCP_monomers',\n",
        " u'Dn': u'Bases',\n",
        " u'Do': u'Beta_phosphoglucomutase',\n",
        " u'Dp': u'CYS',\n",
        " u'Dq': u'CYS_tRNAs',\n",
        " u'Dr': u'Cytochromes_B',\n",
        " u'Ds': u'Cytochromes_C552',\n",
        " u'Dt': u'Cytochromes_CL',\n",
        " u'Du': u'Cytochromes_D',\n",
        " u'Dv': u'Cytochromes_b5',\n",
        " u'Dw': u'Cytochromes_c',\n",
        " u'Dx': u'Cytochromes_c2',\n",
        " u'Dy': u'Cytochromes_c553',\n",
        " u'Dz': u'Deaminated_Amine_Donors',\n",
        " u'Ea': u'EG50003_MONOMER',\n",
        " u'Eb': u'Elongation_tRNAMet',\n",
        " u'Ec': u'Etf',\n",
        " u'Ed': u'GLN_tRNAs',\n",
        " u'Ee': u'GLT_tRNAs',\n",
        " u'Ef': u'GLY_tRNAs',\n",
        " u'Eg': u'General_Protein_Substrates',\n",
        " u'Eh': u'Glutaredoxins',\n",
        " u'Ei': u'Glycine_Cleavage_Complex_H',\n",
        " u'Ej': u'HIS_tRNAs',\n",
        " u'Ek': u'HypE_Proteins',\n",
        " u'El': u'ILE_tRNAs',\n",
        " u'Em': u'ILE2_tRNAs',\n",
        " u'En': u'Initiation_tRNAmet',\n",
        " u'Eo': u'L_Cysteine_Desulfurases',\n",
        " u'Ep': u'LEU_tRNAs',\n",
        " u'Eq': u'LYS_tRNAs',\n",
        " u'Er': u'Lipoyl_Protein',\n",
        " u'Es': u'MPT_Synthases',\n",
        " u'Et': u'NrdH_Glutaredoxin_like_Proteins',\n",
        " u'Eu': u'Nucleobases_in_DNA',\n",
        " u'Ev': u'PHE_tRNAs',\n",
        " u'Ew': u'PRO_tRNAs',\n",
        " u'Ex': u'PTSH_MONOMER',\n",
        " u'Ey': u'PTSI_MONOMER',\n",
        " u'Ez': u'Peptides',\n",
        " u'F': u'F',\n",
        " u'FE': u'FE',\n",
        " u'H': u'H',\n",
        " u'HG': u'HG',\n",
        " u'I': u'I',\n",
        " u'Ja': u'Peptidyl_Carrier_Proteins',\n",
        " u'Jb': u'Phosphoglucomutase',\n",
        " u'Jc': u'Phosphoglucosamine_Mutase',\n",
        " u'Jd': u'Proteins',\n",
        " u'Je': u'R',\n",
        " u'Jf': u'R1',\n",
        " u'Jg': u'R2',\n",
        " u'Jh': u'R3',\n",
        " u'Ji': u'R4',\n",
        " u'Jj': u'R5',\n",
        " u'Jk': u'RPL3',\n",
        " u'Jl': u'Release_factors',\n",
        " u'Jm': u'SER_tRNAs',\n",
        " u'Jn': u'Sulfur_Carrier_Proteins_ThiI',\n",
        " u'Jo': u'Sulfur_Carrier_Proteins_TusE',\n",
        " u'Jp': u'THR_tRNAs',\n",
        " u'Jq': u'TRP_tRNAs',\n",
        " u'Jr': u'TYR_tRNAs',\n",
        " u'Js': u'Thi_S',\n",
        " u'Jt': u'Thioredoxin',\n",
        " u'Ju': u'Ubiquitins',\n",
        " u'Jv': u'VAL_tRNAs',\n",
        " u'Jw': u'YnjE_Proteins',\n",
        " u'Jx': u'apo_ACP',\n",
        " u'Jy': u'lipoate_acetyltransferase',\n",
        " u'Jz': u'lipoate_succinyltransferase',\n",
        " u'K': u'K',\n",
        " u'LA': u'LA',\n",
        " u'LI': u'LI',\n",
        " u'LONE-PAIR': u'LONE_PAIR',\n",
        " u'MG': u'MG',\n",
        " u'MN': u'MN',\n",
        " u'MO': u'MO',\n",
        " u'N': u'N',\n",
        " u'NA': u'NA',\n",
        " u'NI': u'NI',\n",
        " u'O': u'O',\n",
        " u'P': u'P',\n",
        " u'PB': u'PB',\n",
        " u'PD': u'PD',\n",
        " u'PT': u'PT',\n",
        " u'Qa': u'mRNAs',\n",
        " u'Qb': u'rRNAs',\n",
        " u'Qc': u'tRNA_Sec',\n",
        " u'RB': u'RB',\n",
        " u'S': u'S',\n",
        " u'SB': u'SB',\n",
        " u'SE': u'SE',\n",
        " u'SI': u'SI',\n",
        " u'SN': u'SN',\n",
        " u'SR': u'SR',\n",
        " u'TE': u'TE',\n",
        " u'TL': u'TL',\n",
        " u'U': u'U',\n",
        " u'V': u'V',\n",
        " u'W': u'W',\n",
        " u'ZN': u'ZN'}"
       ]
      }
     ],
     "prompt_number": 7
    },
    {
     "cell_type": "code",
     "collapsed": false,
     "input": [
      "print \"EcoCyc-19.6-GEM -- now available in cobra flavor! \\n\"\n",
      "print \"number of genes:             {}\".format(len(wc.genes))\n",
      "print \"number of reactions:         {}\".format(len(wc.reactions))\n",
      "print \"number of metabolites:       {}\".format(len(wc.metabolites))\n",
      "print \"\\nSelected reactions...\\n\"\n",
      "map(print_rxn_info, [wc.reactions[2305:2310]])"
     ],
     "language": "python",
     "metadata": {},
     "outputs": [
      {
       "output_type": "stream",
       "stream": "stdout",
       "text": [
        "EcoCyc-19.6-GEM -- now available in cobra flavor! \n",
        "\n",
        "number of genes:             1581\n",
        "number of reactions:         6274\n",
        "number of metabolites:       3962\n",
        "\n",
        "Selected reactions...\n",
        "\n",
        "rxn cobra id:        TRANS_RXN_25_CPD0_1123_PROTON__CPD0_1123_PROTON_35__L2R\n",
        "rxn ptools id:       TRANS-RXN-25-CPD0-1123/PROTON//CPD0-1123/PROTON.35.\n",
        "genes of reaction:   nanT (b3224)\n",
        "reaction string:     CPD0_1123_p + PROTON_p --> CPD0_1123_c + PROTON_c\n",
        "\n",
        "rxn cobra id:        TRANS_RXN_25_CPD0_1123_PROTON__N_ACETYLNEURAMINATE_PROTON_45__L2R\n",
        "rxn ptools id:       TRANS-RXN-25-CPD0-1123/PROTON//N-ACETYLNEURAMINATE/PROTON.45.\n",
        "genes of reaction:   nanT (b3224)\n",
        "reaction string:     CPD0_1123_p + PROTON_p --> N_ACETYLNEURAMINATE_c + PROTON_c\n",
        "\n",
        "rxn cobra id:        TRANS_RXN_25_N_ACETYLNEURAMINATE_PROTON__CPD0_1122_PROTON_45__L2R\n",
        "rxn ptools id:       TRANS-RXN-25-N-ACETYLNEURAMINATE/PROTON//CPD0-1122/PROTON.45.\n",
        "genes of reaction:   nanT (b3224)\n",
        "reaction string:     PROTON_p + N_ACETYLNEURAMINATE_p --> CPD0_1122_c + PROTON_c\n",
        "\n",
        "rxn cobra id:        TRANS_RXN_25_N_ACETYLNEURAMINATE_PROTON__CPD0_1123_PROTON_45__L2R\n",
        "rxn ptools id:       TRANS-RXN-25-N-ACETYLNEURAMINATE/PROTON//CPD0-1123/PROTON.45.\n",
        "genes of reaction:   nanT (b3224)\n",
        "reaction string:     PROTON_p + N_ACETYLNEURAMINATE_p --> CPD0_1123_c + PROTON_c\n",
        "\n",
        "rxn cobra id:        TRANS_RXN_25_N_ACETYLNEURAMINATE_PROTON__N_ACETYLNEURAMINATE_PROTON_55__L2R\n",
        "rxn ptools id:       TRANS-RXN-25-N-ACETYLNEURAMINATE/PROTON//N-ACETYLNEURAMINATE/PROTON.55.\n",
        "genes of reaction:   nanT (b3224)\n",
        "reaction string:     N_ACETYLNEURAMINATE_p + PROTON_p --> N_ACETYLNEURAMINATE_c + PROTON_c\n",
        "\n"
       ]
      },
      {
       "metadata": {},
       "output_type": "pyout",
       "prompt_number": 8,
       "text": [
        "[None]"
       ]
      }
     ],
     "prompt_number": 8
    },
    {
     "cell_type": "code",
     "collapsed": false,
     "input": [
      "KO_dict = {}\n",
      "for g in wc.genes[0:20]:\n",
      "    cobra.manipulation.delete_model_genes(wc,g,cumulative_deletions=False)\n",
      "    tmp = wc.optimize()\n",
      "    print \"{}: {}\".format(g.name,tmp)\n",
      "    KO_dict[g.name] = tmp\n",
      "cobra.manipulation.undelete_model_genes(wc)"
     ],
     "language": "python",
     "metadata": {},
     "outputs": [
      {
       "output_type": "stream",
       "stream": "stdout",
       "text": [
        "citG: <Solution 0.29 at 0x10ddb5b90>\n",
        "cfa: <Solution 0.00 at 0x110b55190>"
       ]
      },
      {
       "output_type": "stream",
       "stream": "stdout",
       "text": [
        "\n",
        "mocA: <Solution 0.29 at 0x110a65810>"
       ]
      },
      {
       "output_type": "stream",
       "stream": "stdout",
       "text": [
        "\n",
        "fadH: <Solution 0.29 at 0x110a658d0>"
       ]
      },
      {
       "output_type": "stream",
       "stream": "stdout",
       "text": [
        "\n",
        "rhaM: <Solution 0.29 at 0x110a65a50>"
       ]
      },
      {
       "output_type": "stream",
       "stream": "stdout",
       "text": [
        "\n",
        "bioA: <Solution 0.00 at 0x110a65950>"
       ]
      },
      {
       "output_type": "stream",
       "stream": "stdout",
       "text": [
        "\n",
        "mqo: <Solution 0.29 at 0x110a65150>"
       ]
      },
      {
       "output_type": "stream",
       "stream": "stdout",
       "text": [
        "\n",
        "tsaE: <Solution 0.29 at 0x110a65850>"
       ]
      },
      {
       "output_type": "stream",
       "stream": "stdout",
       "text": [
        "\n",
        "tsaD: <Solution 0.29 at 0x110a65a10>"
       ]
      },
      {
       "output_type": "stream",
       "stream": "stdout",
       "text": [
        "\n",
        "tsaB: <Solution 0.29 at 0x110a65b50>"
       ]
      },
      {
       "output_type": "stream",
       "stream": "stdout",
       "text": [
        "\n",
        "epmB: <Solution 0.29 at 0x110a659d0>"
       ]
      },
      {
       "output_type": "stream",
       "stream": "stdout",
       "text": [
        "\n",
        "caiA: <Solution 0.29 at 0x110a65910>"
       ]
      },
      {
       "output_type": "stream",
       "stream": "stdout",
       "text": [
        "\n",
        "caiC: <Solution 0.29 at 0x110a65f10>"
       ]
      },
      {
       "output_type": "stream",
       "stream": "stdout",
       "text": [
        "\n",
        "waaJ: <Solution -0.00 at 0x110a65bd0>"
       ]
      },
      {
       "output_type": "stream",
       "stream": "stdout",
       "text": [
        "\n",
        "kdsA: <Solution 0.00 at 0x110a65110>"
       ]
      },
      {
       "output_type": "stream",
       "stream": "stdout",
       "text": [
        "\n",
        "murE: <Solution 0.00 at 0x110a65ad0>"
       ]
      },
      {
       "output_type": "stream",
       "stream": "stdout",
       "text": [
        "\n",
        "anmK: <Solution 0.29 at 0x110a65b10>"
       ]
      },
      {
       "output_type": "stream",
       "stream": "stdout",
       "text": [
        "\n",
        "ygiF: <Solution 0.29 at 0x110a65650>"
       ]
      },
      {
       "output_type": "stream",
       "stream": "stdout",
       "text": [
        "\n",
        "asnA: <Solution 0.29 at 0x110a65610>"
       ]
      },
      {
       "output_type": "stream",
       "stream": "stdout",
       "text": [
        "\n",
        "puuD: <Solution 0.29 at 0x110a656d0>"
       ]
      },
      {
       "output_type": "stream",
       "stream": "stdout",
       "text": [
        "\n"
       ]
      }
     ],
     "prompt_number": 13
    },
    {
     "cell_type": "code",
     "collapsed": false,
     "input": [
      "print_rxn_info([wc.reactions.get_by_id(\"__OBJ__TOP_LEVEL_c\")])"
     ],
     "language": "python",
     "metadata": {},
     "outputs": [
      {
       "output_type": "stream",
       "stream": "stdout",
       "text": [
        "rxn cobra id:        __OBJ__TOP_LEVEL_c\n",
        "rxn ptools id:       _TOP_LEVEL_c objective reaction\n",
        "genes of reaction:    ()\n",
        "reaction string:     0.0001 _FOLATES_c + 0.0784 _LIPID_PE_c + 0.0001 _FLAVINS_c + 0.0001 _NAD_NADPS_c + 0.0001 _MENAQUINOLS_c + 0.0056 _LIPID_CL_c + 0.0198 _DNA_c + 0.0048 _POLYSACCHARIDE_c + 0.0001 _HEMES_c + 0.0001 _COA_AND_FRIENDS_c + 0.1306 _RNA_c + 0.028 _LIPID_PG_c + 0.0001 _IRON_UPTAKE_c + 0.0048 _PEPTIDOGLYCAN_c + 0.0029 _POLYAMINE_c + 0.6543 _PK_PROT_0_3_c + 0.0001 _SOLUBLES_c + 0.0065 _LIPOPOLYSACCHARIDE_c + 60.0 _GAM_c + 0.0001 _ENZYME_COFACTORS_c --> _TOP_LEVEL_c\n",
        "\n"
       ]
      }
     ],
     "prompt_number": 14
    },
    {
     "cell_type": "code",
     "collapsed": false,
     "input": [
      "get_boundaries(wc)\n"
     ],
     "language": "python",
     "metadata": {},
     "outputs": [
      {
       "metadata": {},
       "output_type": "pyout",
       "prompt_number": 15,
       "text": [
        "{'__NUT_EX_ADP_c': -3.15,\n",
        " '__NUT_EX_AMMONIUM_e': -2.926965770131439,\n",
        " '__NUT_EX_FE_2_e': -8.554455302903634e-05,\n",
        " '__NUT_EX_GLC_e': -10.0,\n",
        " '__NUT_EX_PROTON_c': -3.15,\n",
        " '__NUT_EX_Pi_c': -3.15,\n",
        " '__NUT_EX_Pi_e': -0.44932992982567893,\n",
        " '__NUT_EX_SULFATE_e': -0.07695504729978642,\n",
        " '__SEC_EX_ACET_e': 8.117957981322634,\n",
        " '__SEC_EX_ATP_c': 3.15,\n",
        " '__SEC_EX_CARBON_DIOXIDE_e': 1.5440396812638875,\n",
        " '__SEC_EX_CARBON_MONOXIDE_e': 2.851485100967878e-05,\n",
        " '__SEC_EX_CPD0_2167_c': 0.00022811880807743027,\n",
        " '__SEC_EX_CPD_108_p': 2.851485100967878e-05,\n",
        " '__SEC_EX_CPD_560_e': 0.0019158578056778684,\n",
        " '__SEC_EX_HYDROGEN_MOLECULE_e': 9.293666092348046,\n",
        " '__SEC_EX_METOH_e': 2.851485100967878e-05,\n",
        " '__SEC_EX_PROTON_e': 25.94829674126134,\n",
        " '__SEC_EX_SUC_e': 7.706537539796309,\n",
        " '__SEC_EX_S_ADENOSYL_4_METHYLTHIO_2_OXOBUTANOATE_c': 2.851485100967878e-05,\n",
        " '__SEC_EX_WATER_c': 3.15,\n",
        " '__SEC_EX_WATER_e': 5.413346068718312,\n",
        " '__SEC_EX__TOP_LEVEL_c': 0.2851485100967878}"
       ]
      }
     ],
     "prompt_number": 15
    },
    {
     "cell_type": "code",
     "collapsed": false,
     "input": [
      "for met in wc.reactions.get_by_id(\"__OBJ__TOP_LEVEL_c\").reactants:\n",
      "    wc.change_objective(\"__OBJ_\"+met.id)\n",
      "    print met.id, wc.optimize()"
     ],
     "language": "python",
     "metadata": {},
     "outputs": [
      {
       "output_type": "stream",
       "stream": "stdout",
       "text": [
        "_FOLATES_c "
       ]
      },
      {
       "output_type": "stream",
       "stream": "stdout",
       "text": [
        "<Solution 0.21 at 0x110b55a50>\n",
        "_LIPID_PE_c "
       ]
      },
      {
       "output_type": "stream",
       "stream": "stdout",
       "text": [
        "<Solution 0.59 at 0x110b55a90>\n",
        "_FLAVINS_c "
       ]
      },
      {
       "output_type": "stream",
       "stream": "stdout",
       "text": [
        "<Solution 0.28 at 0x110b55a50>\n",
        "_NAD_NADPS_c "
       ]
      },
      {
       "output_type": "stream",
       "stream": "stdout",
       "text": [
        "<Solution 0.22 at 0x110b55a90>\n",
        "_MENAQUINOLS_c "
       ]
      },
      {
       "output_type": "stream",
       "stream": "stdout",
       "text": [
        "<Solution 0.23 at 0x110b55a50>\n",
        "_LIPID_CL_c "
       ]
      },
      {
       "output_type": "stream",
       "stream": "stdout",
       "text": [
        "<Solution 0.62 at 0x110b55a90>\n",
        "_DNA_c "
       ]
      },
      {
       "output_type": "stream",
       "stream": "stdout",
       "text": [
        "<Solution 0.52 at 0x110b55a50>\n",
        "_POLYSACCHARIDE_c "
       ]
      },
      {
       "output_type": "stream",
       "stream": "stdout",
       "text": [
        "<Solution 5.56 at 0x110b55a90>\n",
        "_HEMES_c "
       ]
      },
      {
       "output_type": "stream",
       "stream": "stdout",
       "text": [
        "<Solution 0.15 at 0x110b55a50>\n",
        "_COA_AND_FRIENDS_c "
       ]
      },
      {
       "output_type": "stream",
       "stream": "stdout",
       "text": [
        "<Solution 0.19 at 0x110b55a90>\n",
        "_RNA_c "
       ]
      },
      {
       "output_type": "stream",
       "stream": "stdout",
       "text": [
        "<Solution 0.53 at 0x110b55a50>\n",
        "_LIPID_PG_c "
       ]
      },
      {
       "output_type": "stream",
       "stream": "stdout",
       "text": [
        "<Solution 0.61 at 0x110b55a90>\n",
        "_IRON_UPTAKE_c "
       ]
      },
      {
       "output_type": "stream",
       "stream": "stdout",
       "text": [
        "<Solution 0.66 at 0x110b55a50>\n",
        "_PEPTIDOGLYCAN_c "
       ]
      },
      {
       "output_type": "stream",
       "stream": "stdout",
       "text": [
        "<Solution 0.57 at 0x110b55a90>\n",
        "_POLYAMINE_c "
       ]
      },
      {
       "output_type": "stream",
       "stream": "stdout",
       "text": [
        "<Solution 0.36 at 0x110b55a50>\n",
        "_PK_PROT_0_3_c "
       ]
      },
      {
       "output_type": "stream",
       "stream": "stdout",
       "text": [
        "<Solution 0.82 at 0x110b55a90>\n",
        "_SOLUBLES_c "
       ]
      },
      {
       "output_type": "stream",
       "stream": "stdout",
       "text": [
        "<Solution 0.33 at 0x110b55a50>\n",
        "_LIPOPOLYSACCHARIDE_c "
       ]
      },
      {
       "output_type": "stream",
       "stream": "stdout",
       "text": [
        "<Solution 0.78 at 0x110b55a90>\n",
        "_GAM_c "
       ]
      },
      {
       "output_type": "stream",
       "stream": "stdout",
       "text": [
        "<Solution 26.85 at 0x110b55a50>\n",
        "_ENZYME_COFACTORS_c "
       ]
      },
      {
       "output_type": "stream",
       "stream": "stdout",
       "text": [
        "<Solution 0.17 at 0x110b55a90>\n"
       ]
      }
     ],
     "prompt_number": 16
    },
    {
     "cell_type": "code",
     "collapsed": false,
     "input": [
      "bounds_sets = [{'__NUT_EX_OXYGEN_MOLECULE_e': [-N,0]} for N in np.linspace(0,20,201)]\n",
      "\n",
      "init_bounds = {'__NUT_EX_GLC_e':[-10,0]\n",
      "               }\n",
      "start_point = './ecocyc_19_6_gem.json'\n",
      "objective = '__OBJ__TOP_LEVEL_c'\n",
      "\n",
      "bounds_sets\n",
      "\n",
      "rslt,rslt_v,f1,f2,f3 = make_happen(bounds_sets,\n",
      "                                   init_bounds=init_bounds,\n",
      "                                   start_point=start_point,\n",
      "                                   objective=objective)\n",
      "plt.sca(f1)\n",
      "plt.savefig(\"./growth.png\",dpi=300,format='png',transparent=True)\n",
      "plt.sca(f2)\n",
      "plt.savefig(\"./products.png\",dpi=300,format='png',transparent=True)\n",
      "plt.sca(f3)\n",
      "plt.savefig(\"./protons.png\",dpi=300,format='png',transparent=True)\n"
     ],
     "language": "python",
     "metadata": {},
     "outputs": [
      {
       "output_type": "stream",
       "stream": "stdout",
       "text": [
        "<Solution 0.29 at 0x10ef39a10>\n",
        "<Solution 0.29 at 0x10ef391d0>"
       ]
      },
      {
       "output_type": "stream",
       "stream": "stdout",
       "text": [
        "\n",
        "<Solution 0.29 at 0x10ef39a10>"
       ]
      },
      {
       "output_type": "stream",
       "stream": "stdout",
       "text": [
        "\n",
        "<Solution 0.30 at 0x10ef39e10>"
       ]
      },
      {
       "output_type": "stream",
       "stream": "stdout",
       "text": [
        "\n",
        "<Solution 0.30 at 0x10ef397d0>"
       ]
      },
      {
       "output_type": "stream",
       "stream": "stdout",
       "text": [
        "\n",
        "<Solution 0.31 at 0x10ef39390>"
       ]
      },
      {
       "output_type": "stream",
       "stream": "stdout",
       "text": [
        "\n",
        "<Solution 0.31 at 0x10ef39110>"
       ]
      },
      {
       "output_type": "stream",
       "stream": "stdout",
       "text": [
        "\n",
        "<Solution 0.32 at 0x10ef39310>"
       ]
      },
      {
       "output_type": "stream",
       "stream": "stdout",
       "text": [
        "\n",
        "<Solution 0.32 at 0x10ef39550>"
       ]
      },
      {
       "output_type": "stream",
       "stream": "stdout",
       "text": [
        "\n",
        "<Solution 0.33 at 0x10ef396d0>"
       ]
      },
      {
       "output_type": "stream",
       "stream": "stdout",
       "text": [
        "\n",
        "<Solution 0.33 at 0x10ef39290>"
       ]
      },
      {
       "output_type": "stream",
       "stream": "stdout",
       "text": [
        "\n",
        "<Solution 0.34 at 0x10ef39210>"
       ]
      },
      {
       "output_type": "stream",
       "stream": "stdout",
       "text": [
        "\n",
        "<Solution 0.34 at 0x10ef39f50>"
       ]
      },
      {
       "output_type": "stream",
       "stream": "stdout",
       "text": [
        "\n",
        "<Solution 0.35 at 0x10ed58410>"
       ]
      },
      {
       "output_type": "stream",
       "stream": "stdout",
       "text": [
        "\n",
        "<Solution 0.35 at 0x10ed58dd0>"
       ]
      },
      {
       "output_type": "stream",
       "stream": "stdout",
       "text": [
        "\n",
        "<Solution 0.36 at 0x10ed58210>"
       ]
      },
      {
       "output_type": "stream",
       "stream": "stdout",
       "text": [
        "\n",
        "<Solution 0.36 at 0x10ed58c10>"
       ]
      },
      {
       "output_type": "stream",
       "stream": "stdout",
       "text": [
        "\n",
        "<Solution 0.37 at 0x10ed58b10>"
       ]
      },
      {
       "output_type": "stream",
       "stream": "stdout",
       "text": [
        "\n",
        "<Solution 0.38 at 0x10ed58510>"
       ]
      },
      {
       "output_type": "stream",
       "stream": "stdout",
       "text": [
        "\n",
        "<Solution 0.38 at 0x10ed583d0>"
       ]
      },
      {
       "output_type": "stream",
       "stream": "stdout",
       "text": [
        "\n",
        "<Solution 0.39 at 0x10ed58fd0>"
       ]
      },
      {
       "output_type": "stream",
       "stream": "stdout",
       "text": [
        "\n",
        "<Solution 0.39 at 0x10ed582d0>"
       ]
      },
      {
       "output_type": "stream",
       "stream": "stdout",
       "text": [
        "\n",
        "<Solution 0.40 at 0x10ed58990>"
       ]
      },
      {
       "output_type": "stream",
       "stream": "stdout",
       "text": [
        "\n",
        "<Solution 0.40 at 0x10ed58650>"
       ]
      },
      {
       "output_type": "stream",
       "stream": "stdout",
       "text": [
        "\n",
        "<Solution 0.41 at 0x10ed58710>"
       ]
      },
      {
       "output_type": "stream",
       "stream": "stdout",
       "text": [
        "\n",
        "<Solution 0.41 at 0x10ed58250>"
       ]
      },
      {
       "output_type": "stream",
       "stream": "stdout",
       "text": [
        "\n",
        "<Solution 0.42 at 0x10ed58b50>"
       ]
      },
      {
       "output_type": "stream",
       "stream": "stdout",
       "text": [
        "\n",
        "<Solution 0.42 at 0x10ed58390>"
       ]
      },
      {
       "output_type": "stream",
       "stream": "stdout",
       "text": [
        "\n",
        "<Solution 0.43 at 0x10ed58550>"
       ]
      },
      {
       "output_type": "stream",
       "stream": "stdout",
       "text": [
        "\n",
        "<Solution 0.43 at 0x10ed58e10>"
       ]
      },
      {
       "output_type": "stream",
       "stream": "stdout",
       "text": [
        "\n",
        "<Solution 0.44 at 0x10ef99c10>"
       ]
      },
      {
       "output_type": "stream",
       "stream": "stdout",
       "text": [
        "\n",
        "<Solution 0.44 at 0x10ef99a10>"
       ]
      },
      {
       "output_type": "stream",
       "stream": "stdout",
       "text": [
        "\n",
        "<Solution 0.45 at 0x10ef99510>"
       ]
      },
      {
       "output_type": "stream",
       "stream": "stdout",
       "text": [
        "\n",
        "<Solution 0.46 at 0x10ef996d0>"
       ]
      },
      {
       "output_type": "stream",
       "stream": "stdout",
       "text": [
        "\n",
        "<Solution 0.46 at 0x10ef99ed0>"
       ]
      },
      {
       "output_type": "stream",
       "stream": "stdout",
       "text": [
        "\n",
        "<Solution 0.47 at 0x10ef99290>"
       ]
      },
      {
       "output_type": "stream",
       "stream": "stdout",
       "text": [
        "\n",
        "<Solution 0.47 at 0x10ef99990>"
       ]
      },
      {
       "output_type": "stream",
       "stream": "stdout",
       "text": [
        "\n",
        "<Solution 0.48 at 0x10ef99d50>"
       ]
      },
      {
       "output_type": "stream",
       "stream": "stdout",
       "text": [
        "\n",
        "<Solution 0.48 at 0x10ef992d0>"
       ]
      },
      {
       "output_type": "stream",
       "stream": "stdout",
       "text": [
        "\n",
        "<Solution 0.49 at 0x10ef99c90>"
       ]
      },
      {
       "output_type": "stream",
       "stream": "stdout",
       "text": [
        "\n",
        "<Solution 0.49 at 0x10ef993d0>"
       ]
      },
      {
       "output_type": "stream",
       "stream": "stdout",
       "text": [
        "\n",
        "<Solution 0.50 at 0x10ef99ad0>"
       ]
      },
      {
       "output_type": "stream",
       "stream": "stdout",
       "text": [
        "\n",
        "<Solution 0.50 at 0x10ef99750>"
       ]
      },
      {
       "output_type": "stream",
       "stream": "stdout",
       "text": [
        "\n",
        "<Solution 0.51 at 0x10ef999d0>"
       ]
      },
      {
       "output_type": "stream",
       "stream": "stdout",
       "text": [
        "\n",
        "<Solution 0.51 at 0x10ef99610>"
       ]
      },
      {
       "output_type": "stream",
       "stream": "stdout",
       "text": [
        "\n",
        "<Solution 0.52 at 0x10ef990d0>"
       ]
      },
      {
       "output_type": "stream",
       "stream": "stdout",
       "text": [
        "\n",
        "<Solution 0.52 at 0x10ef99950>"
       ]
      },
      {
       "output_type": "stream",
       "stream": "stdout",
       "text": [
        "\n",
        "<Solution 0.53 at 0x10ef99a50>"
       ]
      },
      {
       "output_type": "stream",
       "stream": "stdout",
       "text": [
        "\n",
        "<Solution 0.53 at 0x10ef99f50>"
       ]
      },
      {
       "output_type": "stream",
       "stream": "stdout",
       "text": [
        "\n",
        "<Solution 0.54 at 0x10ef99d10>"
       ]
      },
      {
       "output_type": "stream",
       "stream": "stdout",
       "text": [
        "\n",
        "<Solution 0.55 at 0x10ef99590>"
       ]
      },
      {
       "output_type": "stream",
       "stream": "stdout",
       "text": [
        "\n",
        "<Solution 0.55 at 0x10ef994d0>"
       ]
      },
      {
       "output_type": "stream",
       "stream": "stdout",
       "text": [
        "\n",
        "<Solution 0.56 at 0x10ef99450>"
       ]
      },
      {
       "output_type": "stream",
       "stream": "stdout",
       "text": [
        "\n",
        "<Solution 0.56 at 0x110a13390>"
       ]
      },
      {
       "output_type": "stream",
       "stream": "stdout",
       "text": [
        "\n",
        "<Solution 0.57 at 0x110a13b90>"
       ]
      },
      {
       "output_type": "stream",
       "stream": "stdout",
       "text": [
        "\n",
        "<Solution 0.57 at 0x110a13090>"
       ]
      },
      {
       "output_type": "stream",
       "stream": "stdout",
       "text": [
        "\n",
        "<Solution 0.58 at 0x110a13890>"
       ]
      },
      {
       "output_type": "stream",
       "stream": "stdout",
       "text": [
        "\n",
        "<Solution 0.58 at 0x110a13f90>"
       ]
      },
      {
       "output_type": "stream",
       "stream": "stdout",
       "text": [
        "\n",
        "<Solution 0.58 at 0x1109ff490>"
       ]
      },
      {
       "output_type": "stream",
       "stream": "stdout",
       "text": [
        "\n",
        "<Solution 0.59 at 0x1109ff910>"
       ]
      },
      {
       "output_type": "stream",
       "stream": "stdout",
       "text": [
        "\n",
        "<Solution 0.59 at 0x1109ff790>"
       ]
      },
      {
       "output_type": "stream",
       "stream": "stdout",
       "text": [
        "\n",
        "<Solution 0.60 at 0x1109ff6d0>"
       ]
      },
      {
       "output_type": "stream",
       "stream": "stdout",
       "text": [
        "\n",
        "<Solution 0.60 at 0x1109ff290>"
       ]
      },
      {
       "output_type": "stream",
       "stream": "stdout",
       "text": [
        "\n",
        "<Solution 0.60 at 0x1109ff190>"
       ]
      },
      {
       "output_type": "stream",
       "stream": "stdout",
       "text": [
        "\n",
        "<Solution 0.61 at 0x1109ff110>"
       ]
      },
      {
       "output_type": "stream",
       "stream": "stdout",
       "text": [
        "\n",
        "<Solution 0.61 at 0x1109ff250>"
       ]
      },
      {
       "output_type": "stream",
       "stream": "stdout",
       "text": [
        "\n",
        "<Solution 0.62 at 0x1109ff150>"
       ]
      },
      {
       "output_type": "stream",
       "stream": "stdout",
       "text": [
        "\n",
        "<Solution 0.62 at 0x1109ff850>"
       ]
      },
      {
       "output_type": "stream",
       "stream": "stdout",
       "text": [
        "\n",
        "<Solution 0.62 at 0x1109ff350>"
       ]
      },
      {
       "output_type": "stream",
       "stream": "stdout",
       "text": [
        "\n",
        "<Solution 0.63 at 0x1109ff650>"
       ]
      },
      {
       "output_type": "stream",
       "stream": "stdout",
       "text": [
        "\n",
        "<Solution 0.63 at 0x1109ff550>"
       ]
      },
      {
       "output_type": "stream",
       "stream": "stdout",
       "text": [
        "\n",
        "<Solution 0.63 at 0x1109ff750>"
       ]
      },
      {
       "output_type": "stream",
       "stream": "stdout",
       "text": [
        "\n",
        "<Solution 0.64 at 0x1109ffc50>"
       ]
      },
      {
       "output_type": "stream",
       "stream": "stdout",
       "text": [
        "\n",
        "<Solution 0.64 at 0x10dde0d10>"
       ]
      },
      {
       "output_type": "stream",
       "stream": "stdout",
       "text": [
        "\n",
        "<Solution 0.65 at 0x10dde0f90>"
       ]
      },
      {
       "output_type": "stream",
       "stream": "stdout",
       "text": [
        "\n",
        "<Solution 0.65 at 0x10dde0090>"
       ]
      },
      {
       "output_type": "stream",
       "stream": "stdout",
       "text": [
        "\n",
        "<Solution 0.65 at 0x10dde0590>"
       ]
      },
      {
       "output_type": "stream",
       "stream": "stdout",
       "text": [
        "\n",
        "<Solution 0.66 at 0x10ec7b550>"
       ]
      },
      {
       "output_type": "stream",
       "stream": "stdout",
       "text": [
        "\n",
        "<Solution 0.66 at 0x10ec7b7d0>"
       ]
      },
      {
       "output_type": "stream",
       "stream": "stdout",
       "text": [
        "\n",
        "<Solution 0.67 at 0x10ec7bf90>"
       ]
      },
      {
       "output_type": "stream",
       "stream": "stdout",
       "text": [
        "\n",
        "<Solution 0.67 at 0x10ec7b0d0>"
       ]
      },
      {
       "output_type": "stream",
       "stream": "stdout",
       "text": [
        "\n",
        "<Solution 0.67 at 0x10ec7b490>"
       ]
      },
      {
       "output_type": "stream",
       "stream": "stdout",
       "text": [
        "\n",
        "<Solution 0.68 at 0x10ec7b450>"
       ]
      },
      {
       "output_type": "stream",
       "stream": "stdout",
       "text": [
        "\n",
        "<Solution 0.68 at 0x10ec7b5d0>"
       ]
      },
      {
       "output_type": "stream",
       "stream": "stdout",
       "text": [
        "\n",
        "<Solution 0.69 at 0x10ec7b890>"
       ]
      },
      {
       "output_type": "stream",
       "stream": "stdout",
       "text": [
        "\n",
        "<Solution 0.69 at 0x10df59f10>"
       ]
      },
      {
       "output_type": "stream",
       "stream": "stdout",
       "text": [
        "\n",
        "<Solution 0.69 at 0x10df59dd0>"
       ]
      },
      {
       "output_type": "stream",
       "stream": "stdout",
       "text": [
        "\n",
        "<Solution 0.70 at 0x10df59c90>"
       ]
      },
      {
       "output_type": "stream",
       "stream": "stdout",
       "text": [
        "\n",
        "<Solution 0.70 at 0x10df59650>"
       ]
      },
      {
       "output_type": "stream",
       "stream": "stdout",
       "text": [
        "\n",
        "<Solution 0.71 at 0x10df59510>"
       ]
      },
      {
       "output_type": "stream",
       "stream": "stdout",
       "text": [
        "\n",
        "<Solution 0.71 at 0x10df59790>"
       ]
      },
      {
       "output_type": "stream",
       "stream": "stdout",
       "text": [
        "\n",
        "<Solution 0.71 at 0x10df598d0>"
       ]
      },
      {
       "output_type": "stream",
       "stream": "stdout",
       "text": [
        "\n",
        "<Solution 0.72 at 0x10df59a10>"
       ]
      },
      {
       "output_type": "stream",
       "stream": "stdout",
       "text": [
        "\n",
        "<Solution 0.72 at 0x10df593d0>"
       ]
      },
      {
       "output_type": "stream",
       "stream": "stdout",
       "text": [
        "\n",
        "<Solution 0.72 at 0x10df59b50>"
       ]
      },
      {
       "output_type": "stream",
       "stream": "stdout",
       "text": [
        "\n",
        "<Solution 0.73 at 0x10df59290>"
       ]
      },
      {
       "output_type": "stream",
       "stream": "stdout",
       "text": [
        "\n",
        "<Solution 0.73 at 0x10df59150>"
       ]
      },
      {
       "output_type": "stream",
       "stream": "stdout",
       "text": [
        "\n",
        "<Solution 0.74 at 0x111429b10>"
       ]
      },
      {
       "output_type": "stream",
       "stream": "stdout",
       "text": [
        "\n",
        "<Solution 0.74 at 0x111429f50>"
       ]
      },
      {
       "output_type": "stream",
       "stream": "stdout",
       "text": [
        "\n",
        "<Solution 0.74 at 0x111429910>"
       ]
      },
      {
       "output_type": "stream",
       "stream": "stdout",
       "text": [
        "\n",
        "<Solution 0.75 at 0x111429c90>"
       ]
      },
      {
       "output_type": "stream",
       "stream": "stdout",
       "text": [
        "\n",
        "<Solution 0.75 at 0x1114297d0>"
       ]
      },
      {
       "output_type": "stream",
       "stream": "stdout",
       "text": [
        "\n",
        "<Solution 0.76 at 0x1114296d0>"
       ]
      },
      {
       "output_type": "stream",
       "stream": "stdout",
       "text": [
        "\n",
        "<Solution 0.76 at 0x111429810>"
       ]
      },
      {
       "output_type": "stream",
       "stream": "stdout",
       "text": [
        "\n",
        "<Solution 0.76 at 0x1114299d0>"
       ]
      },
      {
       "output_type": "stream",
       "stream": "stdout",
       "text": [
        "\n",
        "<Solution 0.77 at 0x111429e50>"
       ]
      },
      {
       "output_type": "stream",
       "stream": "stdout",
       "text": [
        "\n",
        "<Solution 0.77 at 0x111429710>"
       ]
      },
      {
       "output_type": "stream",
       "stream": "stdout",
       "text": [
        "\n",
        "<Solution 0.77 at 0x111429610>"
       ]
      },
      {
       "output_type": "stream",
       "stream": "stdout",
       "text": [
        "\n",
        "<Solution 0.78 at 0x111429410>"
       ]
      },
      {
       "output_type": "stream",
       "stream": "stdout",
       "text": [
        "\n",
        "<Solution 0.78 at 0x111429290>"
       ]
      },
      {
       "output_type": "stream",
       "stream": "stdout",
       "text": [
        "\n",
        "<Solution 0.78 at 0x111429450>"
       ]
      },
      {
       "output_type": "stream",
       "stream": "stdout",
       "text": [
        "\n",
        "<Solution 0.79 at 0x111429350>"
       ]
      },
      {
       "output_type": "stream",
       "stream": "stdout",
       "text": [
        "\n",
        "<Solution 0.79 at 0x111429390>"
       ]
      },
      {
       "output_type": "stream",
       "stream": "stdout",
       "text": [
        "\n",
        "<Solution 0.80 at 0x1114295d0>"
       ]
      },
      {
       "output_type": "stream",
       "stream": "stdout",
       "text": [
        "\n",
        "<Solution 0.80 at 0x111429f90>"
       ]
      },
      {
       "output_type": "stream",
       "stream": "stdout",
       "text": [
        "\n",
        "<Solution 0.80 at 0x111429250>"
       ]
      },
      {
       "output_type": "stream",
       "stream": "stdout",
       "text": [
        "\n",
        "<Solution 0.81 at 0x111429490>"
       ]
      },
      {
       "output_type": "stream",
       "stream": "stdout",
       "text": [
        "\n",
        "<Solution 0.81 at 0x111429f10>"
       ]
      },
      {
       "output_type": "stream",
       "stream": "stdout",
       "text": [
        "\n",
        "<Solution 0.81 at 0x111429150>"
       ]
      },
      {
       "output_type": "stream",
       "stream": "stdout",
       "text": [
        "\n",
        "<Solution 0.82 at 0x111429c10>"
       ]
      },
      {
       "output_type": "stream",
       "stream": "stdout",
       "text": [
        "\n",
        "<Solution 0.82 at 0x111429190>"
       ]
      },
      {
       "output_type": "stream",
       "stream": "stdout",
       "text": [
        "\n",
        "<Solution 0.82 at 0x111429bd0>"
       ]
      },
      {
       "output_type": "stream",
       "stream": "stdout",
       "text": [
        "\n",
        "<Solution 0.83 at 0x111429a10>"
       ]
      },
      {
       "output_type": "stream",
       "stream": "stdout",
       "text": [
        "\n",
        "<Solution 0.83 at 0x111429ad0>"
       ]
      },
      {
       "output_type": "stream",
       "stream": "stdout",
       "text": [
        "\n",
        "<Solution 0.83 at 0x1114298d0>"
       ]
      },
      {
       "output_type": "stream",
       "stream": "stdout",
       "text": [
        "\n",
        "<Solution 0.84 at 0x10dfb28d0>"
       ]
      },
      {
       "output_type": "stream",
       "stream": "stdout",
       "text": [
        "\n",
        "<Solution 0.84 at 0x10dfb2b50>"
       ]
      },
      {
       "output_type": "stream",
       "stream": "stdout",
       "text": [
        "\n",
        "<Solution 0.84 at 0x10dfb2650>"
       ]
      },
      {
       "output_type": "stream",
       "stream": "stdout",
       "text": [
        "\n",
        "<Solution 0.85 at 0x10f2d3ed0>"
       ]
      },
      {
       "output_type": "stream",
       "stream": "stdout",
       "text": [
        "\n",
        "<Solution 0.85 at 0x10f2d3cd0>"
       ]
      },
      {
       "output_type": "stream",
       "stream": "stdout",
       "text": [
        "\n",
        "<Solution 0.86 at 0x10f2d3dd0>"
       ]
      },
      {
       "output_type": "stream",
       "stream": "stdout",
       "text": [
        "\n",
        "<Solution 0.86 at 0x10f2d3ad0>"
       ]
      },
      {
       "output_type": "stream",
       "stream": "stdout",
       "text": [
        "\n",
        "<Solution 0.86 at 0x10f2d3290>"
       ]
      },
      {
       "output_type": "stream",
       "stream": "stdout",
       "text": [
        "\n",
        "<Solution 0.87 at 0x10f2d3fd0>"
       ]
      },
      {
       "output_type": "stream",
       "stream": "stdout",
       "text": [
        "\n",
        "<Solution 0.87 at 0x10f2d3bd0>"
       ]
      },
      {
       "output_type": "stream",
       "stream": "stdout",
       "text": [
        "\n",
        "<Solution 0.87 at 0x10f2d38d0>"
       ]
      },
      {
       "output_type": "stream",
       "stream": "stdout",
       "text": [
        "\n",
        "<Solution 0.88 at 0x10f2d37d0>"
       ]
      },
      {
       "output_type": "stream",
       "stream": "stdout",
       "text": [
        "\n",
        "<Solution 0.88 at 0x10f2d36d0>"
       ]
      },
      {
       "output_type": "stream",
       "stream": "stdout",
       "text": [
        "\n",
        "<Solution 0.88 at 0x10f2d35d0>"
       ]
      },
      {
       "output_type": "stream",
       "stream": "stdout",
       "text": [
        "\n",
        "<Solution 0.89 at 0x10f2d34d0>"
       ]
      },
      {
       "output_type": "stream",
       "stream": "stdout",
       "text": [
        "\n",
        "<Solution 0.89 at 0x10f2d39d0>"
       ]
      },
      {
       "output_type": "stream",
       "stream": "stdout",
       "text": [
        "\n",
        "<Solution 0.89 at 0x1056f9790>"
       ]
      },
      {
       "output_type": "stream",
       "stream": "stdout",
       "text": [
        "\n",
        "<Solution 0.90 at 0x10f2d3490>"
       ]
      },
      {
       "output_type": "stream",
       "stream": "stdout",
       "text": [
        "\n",
        "<Solution 0.90 at 0x10f2d3390>"
       ]
      },
      {
       "output_type": "stream",
       "stream": "stdout",
       "text": [
        "\n",
        "<Solution 0.90 at 0x10f2d3090>"
       ]
      },
      {
       "output_type": "stream",
       "stream": "stdout",
       "text": [
        "\n",
        "<Solution 0.91 at 0x10f2d3190>"
       ]
      },
      {
       "output_type": "stream",
       "stream": "stdout",
       "text": [
        "\n",
        "<Solution 0.91 at 0x10ded3a50>"
       ]
      },
      {
       "output_type": "stream",
       "stream": "stdout",
       "text": [
        "\n",
        "<Solution 0.91 at 0x10ded3f50>"
       ]
      },
      {
       "output_type": "stream",
       "stream": "stdout",
       "text": [
        "\n",
        "<Solution 0.92 at 0x10ded3c50>"
       ]
      },
      {
       "output_type": "stream",
       "stream": "stdout",
       "text": [
        "\n",
        "<Solution 0.92 at 0x10ded3d50>"
       ]
      },
      {
       "output_type": "stream",
       "stream": "stdout",
       "text": [
        "\n",
        "<Solution 0.92 at 0x10ded3950>"
       ]
      },
      {
       "output_type": "stream",
       "stream": "stdout",
       "text": [
        "\n",
        "<Solution 0.93 at 0x10ded3b50>"
       ]
      },
      {
       "output_type": "stream",
       "stream": "stdout",
       "text": [
        "\n",
        "<Solution 0.93 at 0x10ded3450>"
       ]
      },
      {
       "output_type": "stream",
       "stream": "stdout",
       "text": [
        "\n",
        "<Solution 0.93 at 0x10ded3650>"
       ]
      },
      {
       "output_type": "stream",
       "stream": "stdout",
       "text": [
        "\n",
        "<Solution 0.94 at 0x10ded3850>"
       ]
      },
      {
       "output_type": "stream",
       "stream": "stdout",
       "text": [
        "\n",
        "<Solution 0.94 at 0x10ded3550>"
       ]
      },
      {
       "output_type": "stream",
       "stream": "stdout",
       "text": [
        "\n",
        "<Solution 0.94 at 0x10ded3750>"
       ]
      },
      {
       "output_type": "stream",
       "stream": "stdout",
       "text": [
        "\n",
        "<Solution 0.95 at 0x10ded3350>"
       ]
      },
      {
       "output_type": "stream",
       "stream": "stdout",
       "text": [
        "\n",
        "<Solution 0.95 at 0x10ded3250>"
       ]
      },
      {
       "output_type": "stream",
       "stream": "stdout",
       "text": [
        "\n",
        "<Solution 0.95 at 0x10ded3150>"
       ]
      },
      {
       "output_type": "stream",
       "stream": "stdout",
       "text": [
        "\n",
        "<Solution 0.96 at 0x10ded3050>"
       ]
      },
      {
       "output_type": "stream",
       "stream": "stdout",
       "text": [
        "\n",
        "<Solution 0.96 at 0x10e34ff50>"
       ]
      },
      {
       "output_type": "stream",
       "stream": "stdout",
       "text": [
        "\n",
        "<Solution 0.96 at 0x10e34fe50>"
       ]
      },
      {
       "output_type": "stream",
       "stream": "stdout",
       "text": [
        "\n",
        "<Solution 0.97 at 0x10e34fd50>"
       ]
      },
      {
       "output_type": "stream",
       "stream": "stdout",
       "text": [
        "\n",
        "<Solution 0.97 at 0x10e34fb50>"
       ]
      },
      {
       "output_type": "stream",
       "stream": "stdout",
       "text": [
        "\n",
        "<Solution 0.97 at 0x10e34fa50>"
       ]
      },
      {
       "output_type": "stream",
       "stream": "stdout",
       "text": [
        "\n",
        "<Solution 0.98 at 0x10e34fc50>"
       ]
      },
      {
       "output_type": "stream",
       "stream": "stdout",
       "text": [
        "\n",
        "<Solution 0.98 at 0x10e34f850>"
       ]
      },
      {
       "output_type": "stream",
       "stream": "stdout",
       "text": [
        "\n",
        "<Solution 0.98 at 0x10e34f950>"
       ]
      },
      {
       "output_type": "stream",
       "stream": "stdout",
       "text": [
        "\n",
        "<Solution 0.99 at 0x10e34f550>"
       ]
      },
      {
       "output_type": "stream",
       "stream": "stdout",
       "text": [
        "\n",
        "<Solution 0.99 at 0x10e34f310>"
       ]
      },
      {
       "output_type": "stream",
       "stream": "stdout",
       "text": [
        "\n",
        "<Solution 0.99 at 0x10e34f750>"
       ]
      },
      {
       "output_type": "stream",
       "stream": "stdout",
       "text": [
        "\n",
        "<Solution 1.00 at 0x10e34f450>"
       ]
      },
      {
       "output_type": "stream",
       "stream": "stdout",
       "text": [
        "\n",
        "<Solution 1.00 at 0x10e34f650>"
       ]
      },
      {
       "output_type": "stream",
       "stream": "stdout",
       "text": [
        "\n",
        "<Solution 1.00 at 0x10e34f410>"
       ]
      },
      {
       "output_type": "stream",
       "stream": "stdout",
       "text": [
        "\n",
        "<Solution 1.00 at 0x10e34f1d0>"
       ]
      },
      {
       "output_type": "stream",
       "stream": "stdout",
       "text": [
        "\n",
        "<Solution 1.00 at 0x10e34f2d0>"
       ]
      },
      {
       "output_type": "stream",
       "stream": "stdout",
       "text": [
        "\n",
        "<Solution 1.00 at 0x10e34f090>"
       ]
      },
      {
       "output_type": "stream",
       "stream": "stdout",
       "text": [
        "\n",
        "<Solution 1.00 at 0x10e34f190>"
       ]
      },
      {
       "output_type": "stream",
       "stream": "stdout",
       "text": [
        "\n",
        "<Solution 1.00 at 0x10e34f050>"
       ]
      },
      {
       "output_type": "stream",
       "stream": "stdout",
       "text": [
        "\n",
        "<Solution 1.00 at 0x10d48ddd0>"
       ]
      },
      {
       "output_type": "stream",
       "stream": "stdout",
       "text": [
        "\n",
        "<Solution 1.00 at 0x10d48d9d0>"
       ]
      },
      {
       "output_type": "stream",
       "stream": "stdout",
       "text": [
        "\n",
        "<Solution 1.00 at 0x10d48d6d0>"
       ]
      },
      {
       "output_type": "stream",
       "stream": "stdout",
       "text": [
        "\n",
        "<Solution 1.00 at 0x10d48dad0>"
       ]
      },
      {
       "output_type": "stream",
       "stream": "stdout",
       "text": [
        "\n",
        "<Solution 1.00 at 0x10d48d7d0>"
       ]
      },
      {
       "output_type": "stream",
       "stream": "stdout",
       "text": [
        "\n",
        "<Solution 1.00 at 0x10d48d8d0>"
       ]
      },
      {
       "output_type": "stream",
       "stream": "stdout",
       "text": [
        "\n",
        "<Solution 1.00 at 0x10d48d5d0>"
       ]
      },
      {
       "output_type": "stream",
       "stream": "stdout",
       "text": [
        "\n",
        "<Solution 1.00 at 0x10d48d2d0>"
       ]
      },
      {
       "output_type": "stream",
       "stream": "stdout",
       "text": [
        "\n",
        "<Solution 1.00 at 0x10d48d1d0>"
       ]
      },
      {
       "output_type": "stream",
       "stream": "stdout",
       "text": [
        "\n",
        "<Solution 1.00 at 0x10d48d0d0>"
       ]
      },
      {
       "output_type": "stream",
       "stream": "stdout",
       "text": [
        "\n",
        "<Solution 1.00 at 0x10d48d4d0>"
       ]
      },
      {
       "output_type": "stream",
       "stream": "stdout",
       "text": [
        "\n",
        "<Solution 1.00 at 0x10d48d3d0>"
       ]
      },
      {
       "output_type": "stream",
       "stream": "stdout",
       "text": [
        "\n",
        "<Solution 1.00 at 0x10d48dfd0>"
       ]
      },
      {
       "output_type": "stream",
       "stream": "stdout",
       "text": [
        "\n",
        "<Solution 1.00 at 0x10d48ded0>"
       ]
      },
      {
       "output_type": "stream",
       "stream": "stdout",
       "text": [
        "\n",
        "<Solution 1.00 at 0x10d48dcd0>"
       ]
      },
      {
       "output_type": "stream",
       "stream": "stdout",
       "text": [
        "\n",
        "<Solution 1.00 at 0x10d48dbd0>"
       ]
      },
      {
       "output_type": "stream",
       "stream": "stdout",
       "text": [
        "\n",
        "<Solution 1.00 at 0x10f197fd0>"
       ]
      },
      {
       "output_type": "stream",
       "stream": "stdout",
       "text": [
        "\n",
        "<Solution 1.00 at 0x10f1978d0>"
       ]
      },
      {
       "output_type": "stream",
       "stream": "stdout",
       "text": [
        "\n",
        "<Solution 1.00 at 0x10f1977d0>"
       ]
      },
      {
       "output_type": "stream",
       "stream": "stdout",
       "text": [
        "\n",
        "<Solution 1.00 at 0x10f1976d0>"
       ]
      },
      {
       "output_type": "stream",
       "stream": "stdout",
       "text": [
        "\n",
        "<Solution 1.00 at 0x10f1973d0>"
       ]
      },
      {
       "output_type": "stream",
       "stream": "stdout",
       "text": [
        "\n",
        "<Solution 1.00 at 0x10f1972d0>"
       ]
      },
      {
       "output_type": "stream",
       "stream": "stdout",
       "text": [
        "\n"
       ]
      },
      {
       "metadata": {},
       "output_type": "display_data",
       "png": "[encoded data removed]",
       "text": [
        "<matplotlib.figure.Figure at 0x10ef39b90>"
       ]
      },
      {
       "metadata": {},
       "output_type": "display_data",
       "png": "[encoded data removed]",
       "text": [
        "<matplotlib.figure.Figure at 0x10f878e90>"
       ]
      },
      {
       "metadata": {},
       "output_type": "display_data",
       "png": "[encoded data removed]",
       "text": [
        "<matplotlib.figure.Figure at 0x1166c3290>"
       ]
      }
     ],
     "prompt_number": 20
    },
    {
     "cell_type": "code",
     "collapsed": false,
     "input": [
      "build_rslt_v_data(rslt_v)\n"
     ],
     "language": "python",
     "metadata": {},
     "outputs": [],
     "prompt_number": 23
    }
   ],
   "metadata": {}
  }
 ]
}