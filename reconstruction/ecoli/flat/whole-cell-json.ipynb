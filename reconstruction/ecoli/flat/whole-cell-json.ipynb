{
 "metadata": {
  "name": "",
  "signature": "sha256:3d33a5a0fdf82d9fbfbb5b94868d12014e04c296abed455cd5065b15a022d5c7"
 },
 "nbformat": 3,
 "nbformat_minor": 0,
 "worksheets": [
  {
   "cells": [
    {
     "cell_type": "code",
     "collapsed": true,
     "input": [
      "%matplotlib inline\n",
      "import cobra\n",
      "import numpy as np\n",
      "import matplotlib.pyplot as plt\n",
      "import os\n",
      "import wholecell\n",
      "import json"
     ],
     "language": "python",
     "metadata": {},
     "outputs": [],
     "prompt_number": 61
    },
    {
     "cell_type": "code",
     "collapsed": false,
     "input": [
      "## Define some cobrapy functions for pretty printing...\n",
      "def get_boundaries(model):\n",
      "\treturn {k.id: v for k,v in zip(model.reactions,model.solution.x) if k.boundary}\n",
      "\n",
      "def get_nonzeros(model,pretty=False,limit=None):\n",
      "    tmp = sorted([(k.id, np.abs(v)) for k,v in zip(model.reactions,model.solution.x) if not np.isclose(v,0)],key=lambda x: x[1],reverse=True)\n",
      "    if pretty: \t\n",
      "        print \"{:18}\\t{:40}{}\\t{}{}\".format(\"FLUXES\",\"REACTION NAMES\",\"\",\"REACTION EQUATIONS\",\"\")\n",
      "        print \"{:-<100}\".format(\"\")\n",
      "        for k,v in tmp[:limit]:\n",
      "            rxn_string = model.reactions.get_by_id(k).build_reaction_string()\n",
      "            print \"Flux: {:12.6f}\\t{:25}{}\\t{}{}\".format(v,k[:min(len(k),25)],\"...\" if len(k)>25 else \"\",rxn_string[:60],\"...\" if len(rxn_string)>40 else \"\")\n",
      "    else:\n",
      "        return tmp\n",
      "    \n",
      "\n",
      "## Print out some information about reactions\n",
      "def print_rxn_info(arg):\n",
      "    for rxn in arg:\n",
      "        gene_names = [x.name for x in rxn.genes]\n",
      "        print \"rxn cobra id:        {}\".format(rxn.id)\n",
      "        print \"rxn ptools id:       {}\".format(rxn.name)\n",
      "        print \"genes of reaction:   {} ({})\".format(\"; \".join([x.name for x in rxn.genes]),\n",
      "                                                    \"; \".join([x.annotation['accession_1'] for x in rxn.genes]))\n",
      "        print \"reaction string:     {}\\n\".format(rxn.build_reaction_string())\n",
      "\n",
      "# get the nonzeroes in a solution\n",
      "def get_sol_nonzeros(sol):\n",
      "    return {x:sol.x_dict[x] for x in sol.x_dict.keys() if not np.isclose(sol.x_dict[x],0)}\n",
      "\n",
      "# run some JSON with bounds\n",
      "def run_with_bounds(bounds_sets,\n",
      "                    init_bounds=[],\n",
      "                    start_point=\"\",\n",
      "                    objective=\"\"):\n",
      "    start_prob = cobra.io.load_json_model(start_point)\n",
      "    start_prob.change_objective(objective)\n",
      "    print start_prob.optimize()\n",
      "    result = []\n",
      "    \n",
      "    for this_bound in init_bounds.iterkeys():\n",
      "        start_prob.reactions.get_by_id(this_bound).lower_bound = init_bounds[this_bound][0]\n",
      "        start_prob.reactions.get_by_id(this_bound).upper_bound = init_bounds[this_bound][1]\n",
      "\n",
      "    for bounds in bounds_sets:\n",
      "        work_prob = start_prob\n",
      "        for this_bound in bounds.iterkeys():\n",
      "            work_prob.reactions.get_by_id(this_bound).lower_bound = bounds[this_bound][0]\n",
      "            work_prob.reactions.get_by_id(this_bound).upper_bound = bounds[this_bound][1]\n",
      "        tmp = work_prob.optimize()\n",
      "        print tmp\n",
      "        result.append(tmp)\n",
      "        \n",
      "    return result\n",
      "    \n",
      "    \n",
      "def sols_to_vectors(sols):\n",
      "    fluxes=sols[0].x_dict.keys()\n",
      "    \n",
      "    result = {}\n",
      "    for this_flux in fluxes:\n",
      "        for this_sol in sols:\n",
      "            if this_sol.x_dict is None or this_flux not in this_sol.x_dict:\n",
      "                this_level = 0.\n",
      "            else:\n",
      "                this_level = this_sol.x_dict[this_flux]    \n",
      "            if this_flux in result:\n",
      "                result[this_flux].append(this_level)\n",
      "            else:\n",
      "                result[this_flux] = [this_level]\n",
      "    return result\n",
      "\n",
      "def make_happen(bounds_sets,\n",
      "                init_bounds={},\n",
      "                start_point={},\n",
      "                objective={}):\n",
      "\n",
      "    r = run_with_bounds(bounds_sets,init_bounds=init_bounds,start_point=start_point,objective=objective)   \n",
      "\n",
      "    rv = sols_to_vectors(r)\n",
      "\n",
      "    plt.figure(1)\n",
      "    plt.hold(True)\n",
      "    plt.plot(-np.array(rv['__NUT_EX_OXYGEN_MOLECULE_e']),rv[objective],'k-')\n",
      "    plt.xlabel('specific O2 uptake (mmol/gDW/hr)')\n",
      "    plt.ylabel('specific growth rate (1/hr)')\n",
      "    f1 = plt.gca()\n",
      "    \n",
      "    plt.figure(2)\n",
      "    plt.hold(True)\n",
      "    plt.plot(-np.array(rv['__NUT_EX_OXYGEN_MOLECULE_e']),rv['__SEC_EX_FORMATE_e'],'r-')\n",
      "    plt.plot(-np.array(rv['__NUT_EX_OXYGEN_MOLECULE_e']),rv['__SEC_EX_ACET_e'],'b-')\n",
      "    plt.plot(-np.array(rv['__NUT_EX_OXYGEN_MOLECULE_e']),rv['__SEC_EX_ETOH_e'],'g-')\n",
      "    plt.plot(-np.array(rv['__NUT_EX_OXYGEN_MOLECULE_e']),rv['__SEC_EX_SUC_e'],'k-')\n",
      "    plt.plot(-np.array(rv['__NUT_EX_OXYGEN_MOLECULE_e']),rv['__SEC_EX_D_LACTATE_e'],'y-')\n",
      "    plt.plot(-np.array(rv['__NUT_EX_OXYGEN_MOLECULE_e']),\n",
      "             np.array(rv['__SEC_EX_CARBON_DIOXIDE_e'])+np.array(rv['__NUT_EX_CARBON_DIOXIDE_e']),'c-')\n",
      "    plt.plot(-np.array(rv['__NUT_EX_OXYGEN_MOLECULE_e']),rv['__SEC_EX_HYDROGEN_MOLECULE_e'],'m-')\n",
      "\n",
      "    plt.legend(['formate','acetate','ethanol','succinate','lactate','CO2','H2'],loc='best',fontsize='small')\n",
      "    plt.xlabel('specific O2 uptake (mmol/gDW/hr)')\n",
      "    plt.ylabel('specific efflux rate (mmol/gDW/hr)')\n",
      "    f2 = plt.gca()\n",
      "    \n",
      "    plt.figure(3)\n",
      "    plt.hold(True)\n",
      "    plt.plot(-np.array(rv['__NUT_EX_OXYGEN_MOLECULE_e']),np.array(rv['ATPSYN_RXN_L2R'])-np.array(rv['ATPSYN_RXN_R2L']),'r-')\n",
      "    plt.plot(-np.array(rv['__NUT_EX_OXYGEN_MOLECULE_e']),np.array(rv['__SEC_EX_PROTON_e']),'b-')\n",
      "    \n",
      "    plt.legend(['ATP synthase flux','proton efflux'],loc='best',fontsize='small')\n",
      "    plt.xlabel('specific O2 uptake (mmol/gDW/hr)')\n",
      "    plt.ylabel('specific flux rate (mmol/gDW/hr)')\n",
      "    f3 = plt.gca()\n",
      "    \n",
      "    return r, rv, f1, f2, f3\n",
      "    "
     ],
     "language": "python",
     "metadata": {},
     "outputs": [],
     "prompt_number": 82
    },
    {
     "cell_type": "code",
     "collapsed": false,
     "input": [
      "with open(\"./eco_wc_test_fun.json\",\"rt\") as wc_fp:\n",
      "    wc = json.load(wc_fp)"
     ],
     "language": "python",
     "metadata": {},
     "outputs": [],
     "prompt_number": 27
    },
    {
     "cell_type": "code",
     "collapsed": false,
     "input": [
      "wc.keys()"
     ],
     "language": "python",
     "metadata": {},
     "outputs": [
      {
       "metadata": {},
       "output_type": "pyout",
       "prompt_number": 28,
       "text": [
        "[u'reactions',\n",
        " u'name',\n",
        " u'complexations',\n",
        " u'genes',\n",
        " u'compartments',\n",
        " u'metabolites',\n",
        " u'version',\n",
        " u'biomass_groups',\n",
        " u'description']"
       ]
      }
     ],
     "prompt_number": 28
    },
    {
     "cell_type": "code",
     "collapsed": false,
     "input": [
      "wc['biomass_groups']"
     ],
     "language": "python",
     "metadata": {},
     "outputs": [
      {
       "metadata": {},
       "output_type": "pyout",
       "prompt_number": 29,
       "text": [
        "[{u'group': u'GAM',\n",
        "  u'members': [{u'coeff': 53.95, u'id': u'ATP_c'},\n",
        "   {u'coeff': 53.95, u'id': u'WATER_c'},\n",
        "   {u'coeff': -53.95, u'id': u'ADP_c'},\n",
        "   {u'coeff': -53.95, u'id': u'Pi_c'},\n",
        "   {u'coeff': -53.95, u'id': u'PROTON_c'}]},\n",
        " {u'group': u'PROTEIN',\n",
        "  u'members': [{u'coeff': 1.0299027, u'id': u'L_ALPHA_ALANINE_c'},\n",
        "   {u'coeff': 0.4577345, u'id': u'ARG_c'},\n",
        "   {u'coeff': 0.4863429, u'id': u'L_ASPARTATE_c'},\n",
        "   {u'coeff': 0.48634294, u'id': u'ASN_c'},\n",
        "   {u'coeff': 0.16211432, u'id': u'CYS_c'},\n",
        "   {u'coeff': 0.5530958, u'id': u'GLT_c'},\n",
        "   {u'coeff': 0.5530958, u'id': u'GLN_c'},\n",
        "   {u'coeff': 0.80103534, u'id': u'GLY_c'},\n",
        "   {u'coeff': 0.1621143, u'id': u'HIS_c'},\n",
        "   {u'coeff': 0.44819838, u'id': u'ILE_c'},\n",
        "   {u'coeff': 0.50541514, u'id': u'LEU_c'},\n",
        "   {u'coeff': 0.5530959, u'id': u'LYS_c'},\n",
        "   {u'coeff': 0.23840338, u'id': u'MET_c'},\n",
        "   {u'coeff': 0.32422864, u'id': u'PHE_c'},\n",
        "   {u'coeff': 0.39098155, u'id': u'PRO_c'},\n",
        "   {u'coeff': 0.45773453, u'id': u'SER_c'},\n",
        "   {u'coeff': 0.495879, u'id': u'THR_c'},\n",
        "   {u'coeff': 0.1048975, u'id': u'TRP_c'},\n",
        "   {u'coeff': 0.2670118, u'id': u'TYR_c'},\n",
        "   {u'coeff': 0.68660176, u'id': u'VAL_c'}]},\n",
        " {u'group': u'RNA',\n",
        "  u'members': [{u'coeff': 0.6181023, u'id': u'CTP_c'},\n",
        "   {u'coeff': 0.9951446, u'id': u'GTP_c'},\n",
        "   {u'coeff': 0.6675505, u'id': u'UTP_c'},\n",
        "   {u'coeff': 0.809714, u'id': u'ATP_c'}]},\n",
        " {u'group': u'DNA',\n",
        "  u'members': [{u'coeff': 0.8247184, u'id': u'DCTP_c'},\n",
        "   {u'coeff': 0.8247184, u'id': u'DGTP_c'},\n",
        "   {u'coeff': 0.7989459, u'id': u'TTP_c'},\n",
        "   {u'coeff': 0.7989459, u'id': u'DATP_c'}]},\n",
        " {u'group': u'LIPID-PE',\n",
        "  u'members': [{u'coeff': 0.0051224544, u'id': u'CPD_17087_c'},\n",
        "   {u'coeff': 0.023989318, u'id': u'CPD_18403_c'},\n",
        "   {u'coeff': 0.037987314, u'id': u'CPD_18404_c'},\n",
        "   {u'coeff': 0.22964826, u'id': u'CPD_18367_c'},\n",
        "   {u'coeff': 0.07348947, u'id': u'CPD_12819_c'},\n",
        "   {u'coeff': 0.5071737, u'id': u'CPD_18371_c'},\n",
        "   {u'coeff': 0.14966697, u'id': u'CPD_18368_c'},\n",
        "   {u'coeff': 0.20768765, u'id': u'CPD_18369_c'},\n",
        "   {u'coeff': 0.08140138, u'id': u'CPD_18372_c'},\n",
        "   {u'coeff': 0.0980874, u'id': u'CPD_18370_c'}]},\n",
        " {u'group': u'LIPID-PG',\n",
        "  u'members': [{u'coeff': 0.023235943, u'id': u'CPD_18392_c'},\n",
        "   {u'coeff': 0.051575106, u'id': u'CPD_18393_c'},\n",
        "   {u'coeff': 0.03159654, u'id': u'CPD_18405_c'},\n",
        "   {u'coeff': 0.31987423, u'id': u'CPD_18361_c'},\n",
        "   {u'coeff': 0.35103646, u'id': u'CPD_18373_c'},\n",
        "   {u'coeff': 0.116939776, u'id': u'CPD_18394_c'},\n",
        "   {u'coeff': 0.2689506, u'id': u'CPD_18362_c'},\n",
        "   {u'coeff': 0.095115356, u'id': u'CPD_18406_c'},\n",
        "   {u'coeff': 0.09945852, u'id': u'CPD_18396_c'}]},\n",
        " {u'group': u'LIPID-CL',\n",
        "  u'members': [{u'coeff': 0.7397293, u'id': u'CPD_12824_c'}]},\n",
        " {u'group': u'LIPOPOLYSACCHARIDE',\n",
        "  u'members': [{u'coeff': 0.26275235, u'id': u'CPD0_939_c'}]},\n",
        " {u'group': u'POLYSACCHARIDE',\n",
        "  u'members': [{u'coeff': -2.3574898, u'id': u'ADP_c'},\n",
        "   {u'coeff': 1.7026203, u'id': u'ADP_D_GLUCOSE_c'}]},\n",
        " {u'group': u'PEPTIDOGLYCAN',\n",
        "  u'members': [{u'coeff': 0.52185804, u'id': u'C6_c'}]},\n",
        " {u'group': u'PUTRESCINE',\n",
        "  u'members': [{u'coeff': 11.090409, u'id': u'PUTRESCINE_c'}]},\n",
        " {u'group': u'SPERMIDINE',\n",
        "  u'members': [{u'coeff': 6.7444077, u'id': u'SPERMIDINE_c'}]}]"
       ]
      }
     ],
     "prompt_number": 29
    },
    {
     "cell_type": "code",
     "collapsed": false,
     "input": [
      "wc['biomass_groups'][0]"
     ],
     "language": "python",
     "metadata": {},
     "outputs": [
      {
       "metadata": {},
       "output_type": "pyout",
       "prompt_number": 30,
       "text": [
        "{u'group': u'GAM',\n",
        " u'members': [{u'coeff': 53.95, u'id': u'ATP_c'},\n",
        "  {u'coeff': 53.95, u'id': u'WATER_c'},\n",
        "  {u'coeff': -53.95, u'id': u'ADP_c'},\n",
        "  {u'coeff': -53.95, u'id': u'Pi_c'},\n",
        "  {u'coeff': -53.95, u'id': u'PROTON_c'}]}"
       ]
      }
     ],
     "prompt_number": 30
    },
    {
     "cell_type": "code",
     "collapsed": false,
     "input": [
      "## Load the EcoCyc-19.6-GEM model in JSON format\n",
      "wc_json_new_bm = cobra.io.load_json_model(\"/Users/weaver/git/covert/jan-wc-v2.json\")\n",
      "\n",
      "## Select the MetaFlux objective function for maximization\n",
      "wc_json_new_bm.change_objective(\"__SEC_EX_TOP_LEVEL_c\")\n",
      "\n",
      "## Optimize!\n",
      "wc_json_new_bm.optimize()"
     ],
     "language": "python",
     "metadata": {},
     "outputs": [
      {
       "metadata": {},
       "output_type": "pyout",
       "prompt_number": 9,
       "text": [
        "<Solution 0.36 at 0x10e46c850>"
       ]
      }
     ],
     "prompt_number": 9
    },
    {
     "cell_type": "code",
     "collapsed": false,
     "input": [
      "wc_json_new_bm.solution.f"
     ],
     "language": "python",
     "metadata": {},
     "outputs": [
      {
       "metadata": {},
       "output_type": "pyout",
       "prompt_number": 10,
       "text": [
        "0.35770427662605436"
       ]
      }
     ],
     "prompt_number": 10
    },
    {
     "cell_type": "code",
     "collapsed": false,
     "input": [
      "# print the output\n",
      "get_nonzeros(wc_json_new_bm,pretty=True,limit=10)"
     ],
     "language": "python",
     "metadata": {},
     "outputs": [
      {
       "output_type": "stream",
       "stream": "stdout",
       "text": [
        "FLUXES            \tREACTION NAMES                          \tREACTION EQUATIONS\n",
        "----------------------------------------------------------------------------------------------------\n",
        "Flux:    23.622805\tATPSYN_RXN_L2R           \tADP_c + 4.0 PROTON_p + Pi_c --> 3.0 PROTON_c + ATP_c + WATER...\n",
        "Flux:    14.238744\tTRANS_RXN0_603_L2R       \tWATER_p --> WATER_e\n",
        "Flux:    14.238744\tTRANS_RXN_145_R2L        \tWATER_c --> WATER_p\n",
        "Flux:    14.238744\t__SEC_EX_WATER_e         \tWATER_e --> \n",
        "Flux:    10.850753\tNADH_DEHYDROG_A_RXN_NADH_...\tUBIQUINONE_8_i + 5.0 PROTON_c + NADH_c --> CPD_9956_i + NAD_...\n",
        "Flux:     7.339940\tTRANS_RXN0_602_L2R       \tCARBON_DIOXIDE_p --> CARBON_DIOXIDE_e\n",
        "Flux:     7.339940\tTRANS_RXN0_545_R2L       \tCARBON_DIOXIDE_c --> CARBON_DIOXIDE_p\n",
        "Flux:     7.339940\t__SEC_EX_CARBON_DIOXIDE_e\tCARBON_DIOXIDE_e --> \n",
        "Flux:     6.540732\tGAPOXNPHOSPHN_RXN_L2R    \tGAP_c + Pi_c + NAD_c --> NADH_c + PROTON_c + DPG_c...\n",
        "Flux:     6.540732\tPHOSGLYPHOS_RXN_R2L      \tDPG_c + ADP_c --> ATP_c + G3P_c\n"
       ]
      }
     ],
     "prompt_number": 11
    },
    {
     "cell_type": "code",
     "collapsed": false,
     "input": [
      "wjnb = wc_json_new_bm\n",
      "wjnb.reactions.get_by_id('__NUT_EX_GLC_e').lower_bound = -10\n",
      "wjnb.optimize()\n",
      "wjnb.reactions.get_by_id('__NUT_EX_OXYGEN_MOLECULE_e').lower_bound = 0\n",
      "wjnb.optimize()\n",
      "v = wjnb.optimize()\n",
      "wjnb.reactions.get_by_id('__NUT_EX_OXYGEN_MOLECULE_e').lower_bound = -5\n",
      "w = wjnb.optimize()\n",
      "\n",
      "#{z:v.x_dict[z] - w.x_dict[z] for z in v.x_dict.keys() if v.x_dict[z] - w.x_dict[z] != 0}\n",
      "\n",
      "#get_sol_nonzeros(w)"
     ],
     "language": "python",
     "metadata": {},
     "outputs": [],
     "prompt_number": 17
    },
    {
     "cell_type": "code",
     "collapsed": false,
     "input": [
      "rslt,f1,f2,f3 = make_happen(bounds_sets,init_bounds={'__NUT_EX_GLC_e':[-10,0],\n",
      "                                     '__SEC_EX_HYDROGEN_MOLECULE_e':[0,0]})\n",
      "plt.sca(f1)\n",
      "plt.savefig(\"/Users/weaver/git/covert/simple-growth.png\",dpi=300,format='png',transparent=True)\n",
      "plt.sca(f2)\n",
      "plt.savefig(\"/Users/weaver/git/covert/simple-products.png\",dpi=300,format='png',transparent=True)\n",
      "plt.sca(f3)\n",
      "plt.savefig(\"/Users/weaver/git/covert/simple-protons.png\",dpi=300,format='png',transparent=True)"
     ],
     "language": "python",
     "metadata": {},
     "outputs": [
      {
       "output_type": "stream",
       "stream": "stdout",
       "text": [
        "<Solution 0.36 at 0x131e7ec50>\n",
        "<Solution 0.22 at 0x14a0ecfd0>"
       ]
      },
      {
       "output_type": "stream",
       "stream": "stdout",
       "text": [
        "\n",
        "<Solution 0.24 at 0x131e7ec50>"
       ]
      },
      {
       "output_type": "stream",
       "stream": "stdout",
       "text": [
        "\n",
        "<Solution 0.25 at 0x14a0ece90>"
       ]
      },
      {
       "output_type": "stream",
       "stream": "stdout",
       "text": [
        "\n",
        "<Solution 0.26 at 0x14a0ecf90>"
       ]
      },
      {
       "output_type": "stream",
       "stream": "stdout",
       "text": [
        "\n",
        "<Solution 0.27 at 0x14a0ecf10>"
       ]
      },
      {
       "output_type": "stream",
       "stream": "stdout",
       "text": [
        "\n",
        "<Solution 0.28 at 0x14a0ecd50>"
       ]
      },
      {
       "output_type": "stream",
       "stream": "stdout",
       "text": [
        "\n",
        "<Solution 0.29 at 0x14a0ecd90>"
       ]
      },
      {
       "output_type": "stream",
       "stream": "stdout",
       "text": [
        "\n",
        "<Solution 0.30 at 0x14a0ecc10>"
       ]
      },
      {
       "output_type": "stream",
       "stream": "stdout",
       "text": [
        "\n",
        "<Solution 0.31 at 0x14a0ecc90>"
       ]
      },
      {
       "output_type": "stream",
       "stream": "stdout",
       "text": [
        "\n",
        "<Solution 0.32 at 0x14a0ecb90>"
       ]
      },
      {
       "output_type": "stream",
       "stream": "stdout",
       "text": [
        "\n",
        "<Solution 0.33 at 0x14a0eca90>"
       ]
      },
      {
       "output_type": "stream",
       "stream": "stdout",
       "text": [
        "\n",
        "<Solution 0.35 at 0x14a0ecb10>"
       ]
      },
      {
       "output_type": "stream",
       "stream": "stdout",
       "text": [
        "\n",
        "<Solution 0.36 at 0x14a0eca10>"
       ]
      },
      {
       "output_type": "stream",
       "stream": "stdout",
       "text": [
        "\n",
        "<Solution 0.37 at 0x14a0ec990>"
       ]
      },
      {
       "output_type": "stream",
       "stream": "stdout",
       "text": [
        "\n",
        "<Solution 0.38 at 0x14a0ec910>"
       ]
      },
      {
       "output_type": "stream",
       "stream": "stdout",
       "text": [
        "\n",
        "<Solution 0.39 at 0x14a0ec890>"
       ]
      },
      {
       "output_type": "stream",
       "stream": "stdout",
       "text": [
        "\n",
        "<Solution 0.40 at 0x14a0ec750>"
       ]
      },
      {
       "output_type": "stream",
       "stream": "stdout",
       "text": [
        "\n",
        "<Solution 0.41 at 0x14a0ec6d0>"
       ]
      },
      {
       "output_type": "stream",
       "stream": "stdout",
       "text": [
        "\n",
        "<Solution 0.42 at 0x14a0ec690>"
       ]
      },
      {
       "output_type": "stream",
       "stream": "stdout",
       "text": [
        "\n",
        "<Solution 0.43 at 0x14a0ec610>"
       ]
      },
      {
       "output_type": "stream",
       "stream": "stdout",
       "text": [
        "\n",
        "<Solution 0.44 at 0x14a0ec590>"
       ]
      },
      {
       "output_type": "stream",
       "stream": "stdout",
       "text": [
        "\n",
        "<Solution 0.46 at 0x14a0ec510>"
       ]
      },
      {
       "output_type": "stream",
       "stream": "stdout",
       "text": [
        "\n",
        "<Solution 0.47 at 0x14a0ec490>"
       ]
      },
      {
       "output_type": "stream",
       "stream": "stdout",
       "text": [
        "\n",
        "<Solution 0.48 at 0x14a0ec410>"
       ]
      },
      {
       "output_type": "stream",
       "stream": "stdout",
       "text": [
        "\n",
        "<Solution 0.49 at 0x14a0ec390>"
       ]
      },
      {
       "output_type": "stream",
       "stream": "stdout",
       "text": [
        "\n",
        "<Solution 0.50 at 0x14a0ec310>"
       ]
      },
      {
       "output_type": "stream",
       "stream": "stdout",
       "text": [
        "\n",
        "<Solution 0.51 at 0x14a0ec290>"
       ]
      },
      {
       "output_type": "stream",
       "stream": "stdout",
       "text": [
        "\n",
        "<Solution 0.52 at 0x14a0ec210>"
       ]
      },
      {
       "output_type": "stream",
       "stream": "stdout",
       "text": [
        "\n",
        "<Solution 0.53 at 0x14a0ec190>"
       ]
      },
      {
       "output_type": "stream",
       "stream": "stdout",
       "text": [
        "\n",
        "<Solution 0.54 at 0x14a0ec110>"
       ]
      },
      {
       "output_type": "stream",
       "stream": "stdout",
       "text": [
        "\n",
        "<Solution 0.55 at 0x14a0ec090>"
       ]
      },
      {
       "output_type": "stream",
       "stream": "stdout",
       "text": [
        "\n",
        "<Solution 0.56 at 0x149d59110>"
       ]
      },
      {
       "output_type": "stream",
       "stream": "stdout",
       "text": [
        "\n",
        "<Solution 0.57 at 0x141f74f50>"
       ]
      },
      {
       "output_type": "stream",
       "stream": "stdout",
       "text": [
        "\n",
        "<Solution 0.58 at 0x13d8a3d10>"
       ]
      },
      {
       "output_type": "stream",
       "stream": "stdout",
       "text": [
        "\n",
        "<Solution 0.59 at 0x13d8a3790>"
       ]
      },
      {
       "output_type": "stream",
       "stream": "stdout",
       "text": [
        "\n",
        "<Solution 0.60 at 0x149e32cd0>"
       ]
      },
      {
       "output_type": "stream",
       "stream": "stdout",
       "text": [
        "\n",
        "<Solution 0.61 at 0x149e32c90>"
       ]
      },
      {
       "output_type": "stream",
       "stream": "stdout",
       "text": [
        "\n",
        "<Solution 0.63 at 0x149d1c650>"
       ]
      },
      {
       "output_type": "stream",
       "stream": "stdout",
       "text": [
        "\n",
        "<Solution 0.64 at 0x149ce03d0>"
       ]
      },
      {
       "output_type": "stream",
       "stream": "stdout",
       "text": [
        "\n",
        "<Solution 0.65 at 0x149ce0290>"
       ]
      },
      {
       "output_type": "stream",
       "stream": "stdout",
       "text": [
        "\n",
        "<Solution 0.66 at 0x149af13d0>"
       ]
      },
      {
       "output_type": "stream",
       "stream": "stdout",
       "text": [
        "\n",
        "<Solution 0.67 at 0x149af1310>"
       ]
      },
      {
       "output_type": "stream",
       "stream": "stdout",
       "text": [
        "\n",
        "<Solution 0.68 at 0x149af12d0>"
       ]
      },
      {
       "output_type": "stream",
       "stream": "stdout",
       "text": [
        "\n",
        "<Solution 0.69 at 0x149af1750>"
       ]
      },
      {
       "output_type": "stream",
       "stream": "stdout",
       "text": [
        "\n",
        "<Solution 0.70 at 0x149af10d0>"
       ]
      },
      {
       "output_type": "stream",
       "stream": "stdout",
       "text": [
        "\n",
        "<Solution 0.71 at 0x149af1350>"
       ]
      },
      {
       "output_type": "stream",
       "stream": "stdout",
       "text": [
        "\n",
        "<Solution 0.72 at 0x149b6c3d0>"
       ]
      },
      {
       "output_type": "stream",
       "stream": "stdout",
       "text": [
        "\n",
        "<Solution 0.73 at 0x149e70b50>"
       ]
      },
      {
       "output_type": "stream",
       "stream": "stdout",
       "text": [
        "\n",
        "<Solution 0.74 at 0x149c0d650>"
       ]
      },
      {
       "output_type": "stream",
       "stream": "stdout",
       "text": [
        "\n",
        "<Solution 0.75 at 0x149ca31d0>"
       ]
      },
      {
       "output_type": "stream",
       "stream": "stdout",
       "text": [
        "\n",
        "<Solution 0.76 at 0x149ca3410>"
       ]
      },
      {
       "output_type": "stream",
       "stream": "stdout",
       "text": [
        "\n",
        "<Solution 0.77 at 0x149ca3ad0>"
       ]
      },
      {
       "output_type": "stream",
       "stream": "stdout",
       "text": [
        "\n",
        "<Solution 0.78 at 0x149ca3990>"
       ]
      },
      {
       "output_type": "stream",
       "stream": "stdout",
       "text": [
        "\n",
        "<Solution 0.79 at 0x149bcf150>"
       ]
      },
      {
       "output_type": "stream",
       "stream": "stdout",
       "text": [
        "\n",
        "<Solution 0.79 at 0x149bcf1d0>"
       ]
      },
      {
       "output_type": "stream",
       "stream": "stdout",
       "text": [
        "\n",
        "<Solution 0.80 at 0x149bcf850>"
       ]
      },
      {
       "output_type": "stream",
       "stream": "stdout",
       "text": [
        "\n",
        "<Solution 0.81 at 0x149bcf050>"
       ]
      },
      {
       "output_type": "stream",
       "stream": "stdout",
       "text": [
        "\n",
        "<Solution 0.82 at 0x149bcf7d0>"
       ]
      },
      {
       "output_type": "stream",
       "stream": "stdout",
       "text": [
        "\n",
        "<Solution 0.82 at 0x149bcf550>"
       ]
      },
      {
       "output_type": "stream",
       "stream": "stdout",
       "text": [
        "\n",
        "<Solution 0.83 at 0x149bcf410>"
       ]
      },
      {
       "output_type": "stream",
       "stream": "stdout",
       "text": [
        "\n",
        "<Solution 0.84 at 0x149bde350>"
       ]
      },
      {
       "output_type": "stream",
       "stream": "stdout",
       "text": [
        "\n",
        "<Solution 0.84 at 0x149bde650>"
       ]
      },
      {
       "output_type": "stream",
       "stream": "stdout",
       "text": [
        "\n",
        "<Solution 0.85 at 0x149bde190>"
       ]
      },
      {
       "output_type": "stream",
       "stream": "stdout",
       "text": [
        "\n",
        "<Solution 0.86 at 0x149bde450>"
       ]
      },
      {
       "output_type": "stream",
       "stream": "stdout",
       "text": [
        "\n",
        "<Solution 0.87 at 0x149bde110>"
       ]
      },
      {
       "output_type": "stream",
       "stream": "stdout",
       "text": [
        "\n",
        "<Solution 0.87 at 0x149bde710>"
       ]
      },
      {
       "output_type": "stream",
       "stream": "stdout",
       "text": [
        "\n",
        "<Solution 0.88 at 0x149bded50>"
       ]
      },
      {
       "output_type": "stream",
       "stream": "stdout",
       "text": [
        "\n",
        "<Solution 0.89 at 0x149bdeb10>"
       ]
      },
      {
       "output_type": "stream",
       "stream": "stdout",
       "text": [
        "\n",
        "<Solution 0.90 at 0x149c7bb90>"
       ]
      },
      {
       "output_type": "stream",
       "stream": "stdout",
       "text": [
        "\n",
        "<Solution 0.90 at 0x149ae34d0>"
       ]
      },
      {
       "output_type": "stream",
       "stream": "stdout",
       "text": [
        "\n",
        "<Solution 0.91 at 0x149ae3450>"
       ]
      },
      {
       "output_type": "stream",
       "stream": "stdout",
       "text": [
        "\n",
        "<Solution 0.92 at 0x149ae3390>"
       ]
      },
      {
       "output_type": "stream",
       "stream": "stdout",
       "text": [
        "\n",
        "<Solution 0.93 at 0x149ae3310>"
       ]
      },
      {
       "output_type": "stream",
       "stream": "stdout",
       "text": [
        "\n",
        "<Solution 0.93 at 0x149ae3350>"
       ]
      },
      {
       "output_type": "stream",
       "stream": "stdout",
       "text": [
        "\n",
        "<Solution 0.94 at 0x149ae3250>"
       ]
      },
      {
       "output_type": "stream",
       "stream": "stdout",
       "text": [
        "\n",
        "<Solution 0.95 at 0x149ae3210>"
       ]
      },
      {
       "output_type": "stream",
       "stream": "stdout",
       "text": [
        "\n",
        "<Solution 0.95 at 0x149ae31d0>"
       ]
      },
      {
       "output_type": "stream",
       "stream": "stdout",
       "text": [
        "\n",
        "<Solution 0.96 at 0x149ae3110>"
       ]
      },
      {
       "output_type": "stream",
       "stream": "stdout",
       "text": [
        "\n",
        "<Solution 0.97 at 0x149ae30d0>"
       ]
      },
      {
       "output_type": "stream",
       "stream": "stdout",
       "text": [
        "\n",
        "<Solution 0.98 at 0x149ad2090>"
       ]
      },
      {
       "output_type": "stream",
       "stream": "stdout",
       "text": [
        "\n",
        "<Solution 0.98 at 0x149ad2f90>"
       ]
      },
      {
       "output_type": "stream",
       "stream": "stdout",
       "text": [
        "\n",
        "<Solution 0.99 at 0x149ad2f10>"
       ]
      },
      {
       "output_type": "stream",
       "stream": "stdout",
       "text": [
        "\n",
        "<Solution 1.00 at 0x149ad2f50>"
       ]
      },
      {
       "output_type": "stream",
       "stream": "stdout",
       "text": [
        "\n",
        "<Solution 1.01 at 0x149ad2e90>"
       ]
      },
      {
       "output_type": "stream",
       "stream": "stdout",
       "text": [
        "\n",
        "<Solution 1.01 at 0x149ad2e10>"
       ]
      },
      {
       "output_type": "stream",
       "stream": "stdout",
       "text": [
        "\n",
        "<Solution 1.01 at 0x149ad2e50>"
       ]
      },
      {
       "output_type": "stream",
       "stream": "stdout",
       "text": [
        "\n",
        "<Solution 1.01 at 0x149ad2d90>"
       ]
      },
      {
       "output_type": "stream",
       "stream": "stdout",
       "text": [
        "\n",
        "<Solution 1.01 at 0x149ad2d10>"
       ]
      },
      {
       "output_type": "stream",
       "stream": "stdout",
       "text": [
        "\n",
        "<Solution 1.01 at 0x149ad2d50>"
       ]
      },
      {
       "output_type": "stream",
       "stream": "stdout",
       "text": [
        "\n",
        "<Solution 1.01 at 0x149ad2c90>"
       ]
      },
      {
       "output_type": "stream",
       "stream": "stdout",
       "text": [
        "\n",
        "<Solution 1.01 at 0x149ad2c10>"
       ]
      },
      {
       "output_type": "stream",
       "stream": "stdout",
       "text": [
        "\n",
        "<Solution 1.01 at 0x149ad2c50>"
       ]
      },
      {
       "output_type": "stream",
       "stream": "stdout",
       "text": [
        "\n",
        "<Solution 1.01 at 0x149ad2b90>"
       ]
      },
      {
       "output_type": "stream",
       "stream": "stdout",
       "text": [
        "\n",
        "<Solution 1.01 at 0x149ad2b10>"
       ]
      },
      {
       "output_type": "stream",
       "stream": "stdout",
       "text": [
        "\n",
        "<Solution 1.01 at 0x149ad2b50>"
       ]
      },
      {
       "output_type": "stream",
       "stream": "stdout",
       "text": [
        "\n",
        "<Solution 1.01 at 0x149ad2a50>"
       ]
      },
      {
       "output_type": "stream",
       "stream": "stdout",
       "text": [
        "\n",
        "<Solution 1.01 at 0x149ad2a10>"
       ]
      },
      {
       "output_type": "stream",
       "stream": "stdout",
       "text": [
        "\n",
        "<Solution 1.01 at 0x149ad29d0>"
       ]
      },
      {
       "output_type": "stream",
       "stream": "stdout",
       "text": [
        "\n",
        "<Solution 1.01 at 0x149ad2910>"
       ]
      },
      {
       "output_type": "stream",
       "stream": "stdout",
       "text": [
        "\n",
        "<Solution 1.01 at 0x149ad2890>"
       ]
      },
      {
       "output_type": "stream",
       "stream": "stdout",
       "text": [
        "\n",
        "<Solution 1.01 at 0x149ad28d0>"
       ]
      },
      {
       "output_type": "stream",
       "stream": "stdout",
       "text": [
        "\n"
       ]
      },
      {
       "metadata": {},
       "output_type": "display_data",
       "png": "[encoded data removed]",
       "text": [
        "<matplotlib.figure.Figure at 0x137e62a50>"
       ]
      },
      {
       "metadata": {},
       "output_type": "display_data",
       "png": "[encoded data removed]",
       "text": [
        "<matplotlib.figure.Figure at 0x142a01790>"
       ]
      },
      {
       "metadata": {},
       "output_type": "display_data",
       "png": "[encoded data removed]",
       "text": [
        "<matplotlib.figure.Figure at 0x12c370150>"
       ]
      }
     ],
     "prompt_number": 357
    },
    {
     "cell_type": "code",
     "collapsed": false,
     "input": [
      "make_happen(bounds_sets,init_bounds={'__NUT_EX_GLC_e':[-10,0],\n",
      "                                     'TRANS_RXN0_552_L2R':[-30000,30000],\n",
      "                                     '__SEC_EX_HYDROGEN_MOLECULE_e':[0,0],\n",
      "                                     '__SEC_EX_ACET_e':[0,0],\n",
      "                                             'ACETATEKIN_RXN_L2R':[0,0],\n",
      "                                             'ACETATEKIN_RXN_R2L':[0,0],\n",
      "                                             'PHOSACETYLTRANS_RXN_R2L':[0,0],\n",
      "                                             'PHOSACETYLTRANS_RXN_L2R':[0,0],\n",
      "                                             'ACETALD_DEHYDROG_RXN_L2R':[0,0],\n",
      "                                             'ACETALD_DEHYDROG_RXN_R2L':[0,0],\n",
      "                                             'ALCOHOL_DEHYDROG_RXN_L2R':[0,0],\n",
      "                                             'ALCOHOL_DEHYDROG_GENERIC_RXN_ETOH_NAD__ACETALD_NADH_PROTON_30__L2R':[0,0],\n",
      "                                             'DEOXYRIBOSE_P_ALD_RXN_L2R':[0,0],\n",
      "                                             'ETHAMLY_RXN_L2R':[0,0],\n",
      "                                             'LTAA_RXN_L2R':[0,0],\n",
      "                                             'MHPELY_RXN_L2R':[0,0],\n",
      "                                             #'RXN0_280_CPD_10434_FMNH2_OXYGEN_MOLECULE__ACETALD_SO3_FMN_WATER_PROTON_62__L2R':[0,0],\n",
      "                                             'RXN0_5234_L2R':[0,0],\n",
      "                                             'RXN0_5507_L2R':[0,0],\n",
      "                                             'RXN0_986_L2R':[0,0],\n",
      "                                             'THREONINE_ALDOLASE_RXN_L2R':[0,0],\n",
      "                                             'DLACTDEHYDROGNAD_RXN_R2L':[0,0],\n",
      "                                             'PYRUVFORMLY_RXN_R2L':[0,0]})\n",
      "\n",
      "#aa = cobra.io.load_json_model('/Users/weaver/git/covert/jan-wc-v2.json')\n",
      "#aa.change_objective('__SEC_EX_TOP_LEVEL_c')\n",
      "#aa.reactions.get_by_id('TRANS_RXN0_552_L2R').lower_bound = -30000.0\n",
      "#aa.reactions.get_by_id('TRANS_RXN0_552_L2R').lower_bound = 30000.0\n",
      "\n",
      "# aa.reactions.get_by_id('TRANS_RXN0_553_L2R').upper_bound = 0.0\n",
      "# aa.reactions.get_by_id('TRANS_RXN0_554_L2R').upper_bound = 0.0\n",
      "# aa.reactions.get_by_id('TRANS_RXN0_603_L2R').upper_bound = 0.0\n",
      "# aa.reactions.get_by_id('TRANS_RXN_121_L2R').upper_bound = 0.0\n",
      "# aa.reactions.get_by_id('TRANS_RXN0_517_L_ASPARTATE_PROTON__L_ASPARTATE_PROTON_39__L2R').upper_bound = 0.0\n",
      "# aa.reactions.get_by_id(\"TRANS_RXN0_517_SUC_PROTON__SUC_PROTON_23__L2R\").upper_bound = 0.0\n",
      "# aa.reactions.get_by_id(\"TRANS_RXN_121B_L2R\").upper_bound = 0.0\n",
      "# aa.reactions.get_by_id(\"TRANS_RXN0_517_FUM_PROTON__FUM_PROTON_23__L2R\").upper_bound = 0.0\n",
      "# aa.reactions.get_by_id(\"TRANS_RXN0_451_L2R\").upper_bound = 0.0\n",
      "# aa.reactions.get_by_id(\"TRANS_RXN0_517_CPD_660_PROTON__CPD_660_PROTON_31__L2R\").upper_bound = 0.0\n",
      "# aa.reactions.get_by_id(\"TRANS_RXN_122A_L2R\").upper_bound = 0.0\n",
      "# aa.reactions.get_by_id(\"TRANS_RXN_121A_L2R\").upper_bound = 0.0\n",
      "# aa.reactions.get_by_id(\"TRANS_RXN0_517_MAL_PROTON__MAL_PROTON_23__L2R\").upper_bound = 0.0\n",
      "#bb=aa.optimize()\n",
      "#get_nonzeros(aa,pretty=True,limit=20)"
     ],
     "language": "python",
     "metadata": {},
     "outputs": [
      {
       "output_type": "stream",
       "stream": "stdout",
       "text": [
        "<Solution 0.36 at 0x11add0cd0>\n",
        "<Solution 1.00 at 0x1223735d0>"
       ]
      },
      {
       "output_type": "stream",
       "stream": "stdout",
       "text": [
        "\n",
        "<Solution 1.00 at 0x11add0cd0>"
       ]
      },
      {
       "output_type": "stream",
       "stream": "stdout",
       "text": [
        "\n",
        "<Solution 1.00 at 0x122373350>"
       ]
      },
      {
       "output_type": "stream",
       "stream": "stdout",
       "text": [
        "\n",
        "<Solution 1.00 at 0x122373d10>"
       ]
      },
      {
       "output_type": "stream",
       "stream": "stdout",
       "text": [
        "\n",
        "<Solution 0.97 at 0x122373ad0>"
       ]
      },
      {
       "output_type": "stream",
       "stream": "stdout",
       "text": [
        "\n",
        "<Solution 0.91 at 0x122373810>"
       ]
      },
      {
       "output_type": "stream",
       "stream": "stdout",
       "text": [
        "\n",
        "<Solution 0.86 at 0x122373290>"
       ]
      },
      {
       "output_type": "stream",
       "stream": "stdout",
       "text": [
        "\n",
        "<Solution 0.80 at 0x11764c1d0>"
       ]
      },
      {
       "output_type": "stream",
       "stream": "stdout",
       "text": [
        "\n",
        "<Solution 0.75 at 0x12c6ec390>"
       ]
      },
      {
       "output_type": "stream",
       "stream": "stdout",
       "text": [
        "\n",
        "<Solution 0.70 at 0x12c6ec490>"
       ]
      },
      {
       "output_type": "stream",
       "stream": "stdout",
       "text": [
        "\n",
        "<Solution 0.64 at 0x12c6ecf50>"
       ]
      },
      {
       "output_type": "stream",
       "stream": "stdout",
       "text": [
        "\n",
        "<Solution 0.59 at 0x12c6ecb90>"
       ]
      },
      {
       "output_type": "stream",
       "stream": "stdout",
       "text": [
        "\n",
        "<Solution 0.56 at 0x12c6ec790>"
       ]
      },
      {
       "output_type": "stream",
       "stream": "stdout",
       "text": [
        "\n",
        "<Solution 0.54 at 0x12c6ecad0>"
       ]
      },
      {
       "output_type": "stream",
       "stream": "stdout",
       "text": [
        "\n",
        "<Solution 0.51 at 0x12c6ec590>"
       ]
      },
      {
       "output_type": "stream",
       "stream": "stdout",
       "text": [
        "\n",
        "<Solution 0.48 at 0x12c6ece50>"
       ]
      },
      {
       "output_type": "stream",
       "stream": "stdout",
       "text": [
        "\n",
        "<Solution 0.46 at 0x12c6ec050>"
       ]
      },
      {
       "output_type": "stream",
       "stream": "stdout",
       "text": [
        "\n",
        "<Solution 0.43 at 0x12c6ec990>"
       ]
      },
      {
       "output_type": "stream",
       "stream": "stdout",
       "text": [
        "\n",
        "<Solution 0.40 at 0x12c6ec690>"
       ]
      },
      {
       "output_type": "stream",
       "stream": "stdout",
       "text": [
        "\n",
        "<Solution 0.38 at 0x132225990>"
       ]
      },
      {
       "output_type": "stream",
       "stream": "stdout",
       "text": [
        "\n",
        "<Solution 0.35 at 0x132225190>"
       ]
      },
      {
       "output_type": "stream",
       "stream": "stdout",
       "text": [
        "\n",
        "<Solution 0.32 at 0x132225450>"
       ]
      },
      {
       "output_type": "stream",
       "stream": "stdout",
       "text": [
        "\n",
        "<Solution 0.27 at 0x132225650>"
       ]
      },
      {
       "output_type": "stream",
       "stream": "stdout",
       "text": [
        "\n",
        "<Solution 0.21 at 0x12c348110>"
       ]
      },
      {
       "output_type": "stream",
       "stream": "stdout",
       "text": [
        "\n",
        "<Solution 0.16 at 0x12c348950>"
       ]
      },
      {
       "output_type": "stream",
       "stream": "stdout",
       "text": [
        "\n",
        "<Solution 0.11 at 0x12c3481d0>"
       ]
      },
      {
       "output_type": "stream",
       "stream": "stdout",
       "text": [
        "\n"
       ]
      },
      {
       "metadata": {},
       "output_type": "pyout",
       "prompt_number": 334,
       "text": [
        "([<Solution 1.00 at 0x1223735d0>,\n",
        "  <Solution 1.00 at 0x11add0cd0>,\n",
        "  <Solution 1.00 at 0x122373350>,\n",
        "  <Solution 1.00 at 0x122373d10>,\n",
        "  <Solution 0.97 at 0x122373ad0>,\n",
        "  <Solution 0.91 at 0x122373810>,\n",
        "  <Solution 0.86 at 0x122373290>,\n",
        "  <Solution 0.80 at 0x11764c1d0>,\n",
        "  <Solution 0.75 at 0x12c6ec390>,\n",
        "  <Solution 0.70 at 0x12c6ec490>,\n",
        "  <Solution 0.64 at 0x12c6ecf50>,\n",
        "  <Solution 0.59 at 0x12c6ecb90>,\n",
        "  <Solution 0.56 at 0x12c6ec790>,\n",
        "  <Solution 0.54 at 0x12c6ecad0>,\n",
        "  <Solution 0.51 at 0x12c6ec590>,\n",
        "  <Solution 0.48 at 0x12c6ece50>,\n",
        "  <Solution 0.46 at 0x12c6ec050>,\n",
        "  <Solution 0.43 at 0x12c6ec990>,\n",
        "  <Solution 0.40 at 0x12c6ec690>,\n",
        "  <Solution 0.38 at 0x132225990>,\n",
        "  <Solution 0.35 at 0x132225190>,\n",
        "  <Solution 0.32 at 0x132225450>,\n",
        "  <Solution 0.27 at 0x132225650>,\n",
        "  <Solution 0.21 at 0x12c348110>,\n",
        "  <Solution 0.16 at 0x12c348950>,\n",
        "  <Solution 0.11 at 0x12c3481d0>],\n",
        " <matplotlib.axes._subplots.AxesSubplot at 0x1192c8d10>,\n",
        " <matplotlib.axes._subplots.AxesSubplot at 0x12e127fd0>,\n",
        " <matplotlib.axes._subplots.AxesSubplot at 0x13230ce90>)"
       ]
      },
      {
       "metadata": {},
       "output_type": "display_data",
       "png": "[encoded data removed]",
       "text": [
        "<matplotlib.figure.Figure at 0x122425a90>"
       ]
      },
      {
       "metadata": {},
       "output_type": "display_data",
       "png": "[encoded data removed]",
       "text": [
        "<matplotlib.figure.Figure at 0x12a4b97d0>"
       ]
      },
      {
       "metadata": {},
       "output_type": "display_data",
       "png": "[encoded data removed]",
       "text": [
        "<matplotlib.figure.Figure at 0x13231be10>"
       ]
      }
     ],
     "prompt_number": 334
    },
    {
     "cell_type": "code",
     "collapsed": false,
     "input": [
      "rslt,f1,f2,f3 = make_happen(bounds_sets,init_bounds={'__NUT_EX_GLC_e':[-10,0],\n",
      "                                     'TRANS_RXN0_552_L2R':[-30000,30000],\n",
      "                                     '__SEC_EX_HYDROGEN_MOLECULE_e':[0,0],\n",
      "                                             'ACETATEKIN_RXN_L2R':[0,0],\n",
      "                                             'ACETATEKIN_RXN_R2L':[0,0],\n",
      "                                             'PHOSACETYLTRANS_RXN_R2L':[0,0],\n",
      "                                             'PHOSACETYLTRANS_RXN_L2R':[0,0],\n",
      "#                                              'ACETALD_DEHYDROG_RXN_L2R':[0,0],\n",
      "#                                              'ACETALD_DEHYDROG_RXN_R2L':[0,0],\n",
      "#                                              'ALCOHOL_DEHYDROG_RXN_L2R':[0,0],\n",
      "#                                              'ALCOHOL_DEHYDROG_GENERIC_RXN_ETOH_NAD__ACETALD_NADH_PROTON_30__L2R':[0,0],\n",
      "#                                              'DEOXYRIBOSE_P_ALD_RXN_L2R':[0,0],\n",
      "#                                              'ETHAMLY_RXN_L2R':[0,0],\n",
      "#                                              'LTAA_RXN_L2R':[0,0],\n",
      "#                                              'MHPELY_RXN_L2R':[0,0],\n",
      "#                                              #'RXN0_280_CPD_10434_FMNH2_OXYGEN_MOLECULE__ACETALD_SO3_FMN_WATER_PROTON_62__L2R':[0,0],\n",
      "#                                              'RXN0_5234_L2R':[0,0],\n",
      "#                                              'RXN0_5507_L2R':[0,0],\n",
      "#                                              'RXN0_986_L2R':[0,0],\n",
      "#                                              'THREONINE_ALDOLASE_RXN_L2R':[0,0],\n",
      "#                                              'DLACTDEHYDROGNAD_RXN_R2L':[0,0],\n",
      "                                              'PYRUVFORMLY_RXN_R2L':[0,0]}\n",
      "                                             )\n",
      "\n",
      "plt.sca(f1)\n",
      "plt.savefig(\"/Users/weaver/git/covert/etoh-growth.png\",dpi=300,format='png',transparent=True)\n",
      "plt.sca(f2)\n",
      "plt.savefig(\"/Users/weaver/git/covert/etoh-products.png\",dpi=300,format='png',transparent=True)\n",
      "plt.sca(f3)\n",
      "plt.savefig(\"/Users/weaver/git/covert/etoh-protons.png\",dpi=300,format='png',transparent=True)"
     ],
     "language": "python",
     "metadata": {},
     "outputs": [
      {
       "output_type": "stream",
       "stream": "stdout",
       "text": [
        "<Solution 0.36 at 0x136efeb90>\n",
        "<Solution 0.20 at 0x136efee10>"
       ]
      },
      {
       "output_type": "stream",
       "stream": "stdout",
       "text": [
        "\n",
        "<Solution 0.21 at 0x136efeb90>"
       ]
      },
      {
       "output_type": "stream",
       "stream": "stdout",
       "text": [
        "\n",
        "<Solution 0.22 at 0x136efe690>"
       ]
      },
      {
       "output_type": "stream",
       "stream": "stdout",
       "text": [
        "\n",
        "<Solution 0.23 at 0x136efef50>"
       ]
      },
      {
       "output_type": "stream",
       "stream": "stdout",
       "text": [
        "\n",
        "<Solution 0.24 at 0x136efe1d0>"
       ]
      },
      {
       "output_type": "stream",
       "stream": "stdout",
       "text": [
        "\n",
        "<Solution 0.25 at 0x136efe550>"
       ]
      },
      {
       "output_type": "stream",
       "stream": "stdout",
       "text": [
        "\n",
        "<Solution 0.26 at 0x136efe450>"
       ]
      },
      {
       "output_type": "stream",
       "stream": "stdout",
       "text": [
        "\n",
        "<Solution 0.27 at 0x136efea10>"
       ]
      },
      {
       "output_type": "stream",
       "stream": "stdout",
       "text": [
        "\n",
        "<Solution 0.28 at 0x13d4de350>"
       ]
      },
      {
       "output_type": "stream",
       "stream": "stdout",
       "text": [
        "\n",
        "<Solution 0.29 at 0x13d4dea10>"
       ]
      },
      {
       "output_type": "stream",
       "stream": "stdout",
       "text": [
        "\n",
        "<Solution 0.30 at 0x13d4dec90>"
       ]
      },
      {
       "output_type": "stream",
       "stream": "stdout",
       "text": [
        "\n",
        "<Solution 0.31 at 0x13d4de550>"
       ]
      },
      {
       "output_type": "stream",
       "stream": "stdout",
       "text": [
        "\n",
        "<Solution 0.32 at 0x13d4debd0>"
       ]
      },
      {
       "output_type": "stream",
       "stream": "stdout",
       "text": [
        "\n",
        "<Solution 0.33 at 0x13d4dec10>"
       ]
      },
      {
       "output_type": "stream",
       "stream": "stdout",
       "text": [
        "\n",
        "<Solution 0.34 at 0x13d4de2d0>"
       ]
      },
      {
       "output_type": "stream",
       "stream": "stdout",
       "text": [
        "\n",
        "<Solution 0.35 at 0x13d4decd0>"
       ]
      },
      {
       "output_type": "stream",
       "stream": "stdout",
       "text": [
        "\n",
        "<Solution 0.36 at 0x13d4dead0>"
       ]
      },
      {
       "output_type": "stream",
       "stream": "stdout",
       "text": [
        "\n",
        "<Solution 0.37 at 0x13d4de0d0>"
       ]
      },
      {
       "output_type": "stream",
       "stream": "stdout",
       "text": [
        "\n",
        "<Solution 0.38 at 0x13d4de390>"
       ]
      },
      {
       "output_type": "stream",
       "stream": "stdout",
       "text": [
        "\n",
        "<Solution 0.39 at 0x13d4de490>"
       ]
      },
      {
       "output_type": "stream",
       "stream": "stdout",
       "text": [
        "\n",
        "<Solution 0.40 at 0x13d4de9d0>"
       ]
      },
      {
       "output_type": "stream",
       "stream": "stdout",
       "text": [
        "\n",
        "<Solution 0.41 at 0x13d4de4d0>"
       ]
      },
      {
       "output_type": "stream",
       "stream": "stdout",
       "text": [
        "\n",
        "<Solution 0.42 at 0x13d4de3d0>"
       ]
      },
      {
       "output_type": "stream",
       "stream": "stdout",
       "text": [
        "\n",
        "<Solution 0.43 at 0x13d4dea50>"
       ]
      },
      {
       "output_type": "stream",
       "stream": "stdout",
       "text": [
        "\n",
        "<Solution 0.44 at 0x13d4de310>"
       ]
      },
      {
       "output_type": "stream",
       "stream": "stdout",
       "text": [
        "\n",
        "<Solution 0.45 at 0x13d4deb10>"
       ]
      },
      {
       "output_type": "stream",
       "stream": "stdout",
       "text": [
        "\n",
        "<Solution 0.46 at 0x13d4deed0>"
       ]
      },
      {
       "output_type": "stream",
       "stream": "stdout",
       "text": [
        "\n",
        "<Solution 0.47 at 0x13d4de5d0>"
       ]
      },
      {
       "output_type": "stream",
       "stream": "stdout",
       "text": [
        "\n",
        "<Solution 0.48 at 0x13d4de590>"
       ]
      },
      {
       "output_type": "stream",
       "stream": "stdout",
       "text": [
        "\n",
        "<Solution 0.49 at 0x13d4de650>"
       ]
      },
      {
       "output_type": "stream",
       "stream": "stdout",
       "text": [
        "\n",
        "<Solution 0.50 at 0x13d4de410>"
       ]
      },
      {
       "output_type": "stream",
       "stream": "stdout",
       "text": [
        "\n",
        "<Solution 0.51 at 0x13d4dea90>"
       ]
      },
      {
       "output_type": "stream",
       "stream": "stdout",
       "text": [
        "\n",
        "<Solution 0.52 at 0x13d4de8d0>"
       ]
      },
      {
       "output_type": "stream",
       "stream": "stdout",
       "text": [
        "\n",
        "<Solution 0.53 at 0x13d86fd50>"
       ]
      },
      {
       "output_type": "stream",
       "stream": "stdout",
       "text": [
        "\n",
        "<Solution 0.54 at 0x13d86ff10>"
       ]
      },
      {
       "output_type": "stream",
       "stream": "stdout",
       "text": [
        "\n",
        "<Solution 0.55 at 0x13d86ffd0>"
       ]
      },
      {
       "output_type": "stream",
       "stream": "stdout",
       "text": [
        "\n",
        "<Solution 0.55 at 0x13d86f650>"
       ]
      },
      {
       "output_type": "stream",
       "stream": "stdout",
       "text": [
        "\n",
        "<Solution 0.56 at 0x13d86fc90>"
       ]
      },
      {
       "output_type": "stream",
       "stream": "stdout",
       "text": [
        "\n",
        "<Solution 0.57 at 0x13d86f550>"
       ]
      },
      {
       "output_type": "stream",
       "stream": "stdout",
       "text": [
        "\n",
        "<Solution 0.58 at 0x13d86f8d0>"
       ]
      },
      {
       "output_type": "stream",
       "stream": "stdout",
       "text": [
        "\n",
        "<Solution 0.59 at 0x13d86ff90>"
       ]
      },
      {
       "output_type": "stream",
       "stream": "stdout",
       "text": [
        "\n",
        "<Solution 0.60 at 0x13d86fc50>"
       ]
      },
      {
       "output_type": "stream",
       "stream": "stdout",
       "text": [
        "\n",
        "<Solution 0.61 at 0x13d86fb50>"
       ]
      },
      {
       "output_type": "stream",
       "stream": "stdout",
       "text": [
        "\n",
        "<Solution 0.62 at 0x13d86fed0>"
       ]
      },
      {
       "output_type": "stream",
       "stream": "stdout",
       "text": [
        "\n",
        "<Solution 0.63 at 0x13d86f750>"
       ]
      },
      {
       "output_type": "stream",
       "stream": "stdout",
       "text": [
        "\n",
        "<Solution 0.64 at 0x13d86fe90>"
       ]
      },
      {
       "output_type": "stream",
       "stream": "stdout",
       "text": [
        "\n",
        "<Solution 0.65 at 0x13d86f390>"
       ]
      },
      {
       "output_type": "stream",
       "stream": "stdout",
       "text": [
        "\n",
        "<Solution 0.66 at 0x13d86fbd0>"
       ]
      },
      {
       "output_type": "stream",
       "stream": "stdout",
       "text": [
        "\n",
        "<Solution 0.67 at 0x13d86f150>"
       ]
      },
      {
       "output_type": "stream",
       "stream": "stdout",
       "text": [
        "\n",
        "<Solution 0.68 at 0x13d86f350>"
       ]
      },
      {
       "output_type": "stream",
       "stream": "stdout",
       "text": [
        "\n",
        "<Solution 0.69 at 0x13d86ff50>"
       ]
      },
      {
       "output_type": "stream",
       "stream": "stdout",
       "text": [
        "\n",
        "<Solution 0.70 at 0x13d86f3d0>"
       ]
      },
      {
       "output_type": "stream",
       "stream": "stdout",
       "text": [
        "\n",
        "<Solution 0.71 at 0x13d86fa50>"
       ]
      },
      {
       "output_type": "stream",
       "stream": "stdout",
       "text": [
        "\n",
        "<Solution 0.72 at 0x13d86f850>"
       ]
      },
      {
       "output_type": "stream",
       "stream": "stdout",
       "text": [
        "\n",
        "<Solution 0.73 at 0x13d86f950>"
       ]
      },
      {
       "output_type": "stream",
       "stream": "stdout",
       "text": [
        "\n",
        "<Solution 0.74 at 0x13d86fe10>"
       ]
      },
      {
       "output_type": "stream",
       "stream": "stdout",
       "text": [
        "\n",
        "<Solution 0.75 at 0x13dbe8350>"
       ]
      },
      {
       "output_type": "stream",
       "stream": "stdout",
       "text": [
        "\n",
        "<Solution 0.76 at 0x13dbe87d0>"
       ]
      },
      {
       "output_type": "stream",
       "stream": "stdout",
       "text": [
        "\n",
        "<Solution 0.77 at 0x135b8e610>"
       ]
      },
      {
       "output_type": "stream",
       "stream": "stdout",
       "text": [
        "\n",
        "<Solution 0.78 at 0x138e92d50>"
       ]
      },
      {
       "output_type": "stream",
       "stream": "stdout",
       "text": [
        "\n",
        "<Solution 0.79 at 0x137131490>"
       ]
      },
      {
       "output_type": "stream",
       "stream": "stdout",
       "text": [
        "\n",
        "<Solution 0.80 at 0x128908c90>"
       ]
      },
      {
       "output_type": "stream",
       "stream": "stdout",
       "text": [
        "\n",
        "<Solution 0.81 at 0x131ee9890>"
       ]
      },
      {
       "output_type": "stream",
       "stream": "stdout",
       "text": [
        "\n",
        "<Solution 0.82 at 0x116117a10>"
       ]
      },
      {
       "output_type": "stream",
       "stream": "stdout",
       "text": [
        "\n",
        "<Solution 0.83 at 0x116117710>"
       ]
      },
      {
       "output_type": "stream",
       "stream": "stdout",
       "text": [
        "\n",
        "<Solution 0.84 at 0x137f3f110>"
       ]
      },
      {
       "output_type": "stream",
       "stream": "stdout",
       "text": [
        "\n",
        "<Solution 0.85 at 0x137f3f5d0>"
       ]
      },
      {
       "output_type": "stream",
       "stream": "stdout",
       "text": [
        "\n",
        "<Solution 0.86 at 0x13d4a0e90>"
       ]
      },
      {
       "output_type": "stream",
       "stream": "stdout",
       "text": [
        "\n",
        "<Solution 0.87 at 0x13d4a0c90>"
       ]
      },
      {
       "output_type": "stream",
       "stream": "stdout",
       "text": [
        "\n",
        "<Solution 0.88 at 0x13d3c72d0>"
       ]
      },
      {
       "output_type": "stream",
       "stream": "stdout",
       "text": [
        "\n",
        "<Solution 0.89 at 0x13d3c7790>"
       ]
      },
      {
       "output_type": "stream",
       "stream": "stdout",
       "text": [
        "\n",
        "<Solution 0.90 at 0x13d3c7250>"
       ]
      },
      {
       "output_type": "stream",
       "stream": "stdout",
       "text": [
        "\n",
        "<Solution 0.91 at 0x133f89050>"
       ]
      },
      {
       "output_type": "stream",
       "stream": "stdout",
       "text": [
        "\n",
        "<Solution 0.91 at 0x133f89610>"
       ]
      },
      {
       "output_type": "stream",
       "stream": "stdout",
       "text": [
        "\n",
        "<Solution 0.92 at 0x139630b90>"
       ]
      },
      {
       "output_type": "stream",
       "stream": "stdout",
       "text": [
        "\n",
        "<Solution 0.93 at 0x139630a50>"
       ]
      },
      {
       "output_type": "stream",
       "stream": "stdout",
       "text": [
        "\n",
        "<Solution 0.94 at 0x1370354d0>"
       ]
      },
      {
       "output_type": "stream",
       "stream": "stdout",
       "text": [
        "\n",
        "<Solution 0.95 at 0x137035450>"
       ]
      },
      {
       "output_type": "stream",
       "stream": "stdout",
       "text": [
        "\n",
        "<Solution 0.96 at 0x137035390>"
       ]
      },
      {
       "output_type": "stream",
       "stream": "stdout",
       "text": [
        "\n",
        "<Solution 0.97 at 0x122810250>"
       ]
      },
      {
       "output_type": "stream",
       "stream": "stdout",
       "text": [
        "\n",
        "<Solution 0.98 at 0x139c389d0>"
       ]
      },
      {
       "output_type": "stream",
       "stream": "stdout",
       "text": [
        "\n",
        "<Solution 0.99 at 0x129910350>"
       ]
      },
      {
       "output_type": "stream",
       "stream": "stdout",
       "text": [
        "\n",
        "<Solution 1.00 at 0x129910650>"
       ]
      },
      {
       "output_type": "stream",
       "stream": "stdout",
       "text": [
        "\n",
        "<Solution 1.00 at 0x13700f3d0>"
       ]
      },
      {
       "output_type": "stream",
       "stream": "stdout",
       "text": [
        "\n",
        "<Solution 1.00 at 0x13700f9d0>"
       ]
      },
      {
       "output_type": "stream",
       "stream": "stdout",
       "text": [
        "\n",
        "<Solution 1.00 at 0x13700f4d0>"
       ]
      },
      {
       "output_type": "stream",
       "stream": "stdout",
       "text": [
        "\n",
        "<Solution 1.00 at 0x13700fa10>"
       ]
      },
      {
       "output_type": "stream",
       "stream": "stdout",
       "text": [
        "\n",
        "<Solution 1.00 at 0x13700f390>"
       ]
      },
      {
       "output_type": "stream",
       "stream": "stdout",
       "text": [
        "\n",
        "<Solution 1.00 at 0x13980eed0>"
       ]
      },
      {
       "output_type": "stream",
       "stream": "stdout",
       "text": [
        "\n",
        "<Solution 1.00 at 0x13980ef90>"
       ]
      },
      {
       "output_type": "stream",
       "stream": "stdout",
       "text": [
        "\n",
        "<Solution 1.00 at 0x13980e990>"
       ]
      },
      {
       "output_type": "stream",
       "stream": "stdout",
       "text": [
        "\n",
        "<Solution 1.00 at 0x13980e1d0>"
       ]
      },
      {
       "output_type": "stream",
       "stream": "stdout",
       "text": [
        "\n",
        "<Solution 1.00 at 0x13980e3d0>"
       ]
      },
      {
       "output_type": "stream",
       "stream": "stdout",
       "text": [
        "\n",
        "<Solution 1.00 at 0x13980eb10>"
       ]
      },
      {
       "output_type": "stream",
       "stream": "stdout",
       "text": [
        "\n",
        "<Solution 1.00 at 0x137242e90>"
       ]
      },
      {
       "output_type": "stream",
       "stream": "stdout",
       "text": [
        "\n",
        "<Solution 1.00 at 0x149d59250>"
       ]
      },
      {
       "output_type": "stream",
       "stream": "stdout",
       "text": [
        "\n",
        "<Solution 1.00 at 0x149d59050>"
       ]
      },
      {
       "output_type": "stream",
       "stream": "stdout",
       "text": [
        "\n",
        "<Solution 1.00 at 0x14211b410>"
       ]
      },
      {
       "output_type": "stream",
       "stream": "stdout",
       "text": [
        "\n",
        "<Solution 1.00 at 0x1427f1650>"
       ]
      },
      {
       "output_type": "stream",
       "stream": "stdout",
       "text": [
        "\n",
        "<Solution 1.00 at 0x149abd090>"
       ]
      },
      {
       "output_type": "stream",
       "stream": "stdout",
       "text": [
        "\n",
        "<Solution 1.00 at 0x137040310>"
       ]
      },
      {
       "output_type": "stream",
       "stream": "stdout",
       "text": [
        "\n"
       ]
      },
      {
       "metadata": {},
       "output_type": "display_data",
       "png": "[encoded data removed]",
       "text": [
        "<matplotlib.figure.Figure at 0x136efe710>"
       ]
      },
      {
       "metadata": {},
       "output_type": "display_data",
       "png": "[encoded data removed]",
       "text": [
        "<matplotlib.figure.Figure at 0x14979e190>"
       ]
      },
      {
       "metadata": {},
       "output_type": "display_data",
       "png": "[encoded data removed]",
       "text": [
        "<matplotlib.figure.Figure at 0x1425cac90>"
       ]
      }
     ],
     "prompt_number": 358
    },
    {
     "cell_type": "code",
     "collapsed": false,
     "input": [
      "new_init_bounds = {'__NUT_EX_GLC_e':[-10,0],\n",
      "                    'TRANS_RXN0_552_L2R':[-30000,30000]}\n",
      "#                    '__SEC_EX_HYDROGEN_MOLECULE_e':[0,0],\n",
      "                    #'ACETATEKIN_RXN_L2R':[0,0],\n",
      "                    #'ACETATEKIN_RXN_R2L':[0,0],\n",
      "                    #'PHOSACETYLTRANS_RXN_R2L':[0,0],\n",
      "                    #'PHOSACETYLTRANS_RXN_L2R':[0,0],\n",
      "                    #'PYRUVFORMLY_RXN_R2L':[0,0],\n",
      "                    #'PYFLAVOXRE_RXN_PYRUVATE_Oxidized_flavodoxins_CO_A_PROTON__ACETYL_COA_CARBON_DIOXIDE_Reduced_flavodoxins_89__L2R':[0,0],\n",
      "                    #'ATPSYN_RXN_L2R':[0,0],\n",
      "                    #'ATPSYN_RXN_R2L':[0,0],\n",
      "                    #'RXN0_5268_CPD_9956_PROTON_OXYGEN_MOLECULE__UBIQUINONE_8_WATER_PROTON_59__L2R':[0,0]}\n",
      "    \n",
      "# why is PYRUFLAVREDUCT_RXN_L2R needed for real flux...\n",
      "rslt,f1,f2,f3 = make_happen(bounds_sets,init_bounds=new_init_bounds)\n",
      "plt.sca(f1)\n",
      "plt.savefig(\"/Users/weaver/git/covert/H2-growth.png\",dpi=300,format='png',transparent=True)\n",
      "plt.sca(f2)\n",
      "plt.savefig(\"/Users/weaver/git/covert/H2-products.png\",dpi=300,format='png',transparent=True)\n",
      "plt.sca(f3)\n",
      "plt.savefig(\"/Users/weaver/git/covert/H2-protons.png\",dpi=300,format='png',transparent=True)"
     ],
     "language": "python",
     "metadata": {},
     "outputs": [
      {
       "output_type": "stream",
       "stream": "stdout",
       "text": [
        "<Solution 0.36 at 0x115496210>\n",
        "<Solution 0.27 at 0x115496190>"
       ]
      },
      {
       "output_type": "stream",
       "stream": "stdout",
       "text": [
        "\n",
        "<Solution 0.28 at 0x115496210>"
       ]
      },
      {
       "output_type": "stream",
       "stream": "stdout",
       "text": [
        "\n",
        "<Solution 0.30 at 0x115496110>"
       ]
      },
      {
       "output_type": "stream",
       "stream": "stdout",
       "text": [
        "\n",
        "<Solution 0.31 at 0x115496150>"
       ]
      },
      {
       "output_type": "stream",
       "stream": "stdout",
       "text": [
        "\n",
        "<Solution 0.32 at 0x115496050>"
       ]
      },
      {
       "output_type": "stream",
       "stream": "stdout",
       "text": [
        "\n",
        "<Solution 0.33 at 0x1159f6590>"
       ]
      },
      {
       "output_type": "stream",
       "stream": "stdout",
       "text": [
        "\n",
        "<Solution 0.34 at 0x1159f6890>"
       ]
      },
      {
       "output_type": "stream",
       "stream": "stdout",
       "text": [
        "\n",
        "<Solution 0.35 at 0x1159f6290>"
       ]
      },
      {
       "output_type": "stream",
       "stream": "stdout",
       "text": [
        "\n",
        "<Solution 0.36 at 0x1159f6b90>"
       ]
      },
      {
       "output_type": "stream",
       "stream": "stdout",
       "text": [
        "\n",
        "<Solution 0.37 at 0x1159f62d0>"
       ]
      },
      {
       "output_type": "stream",
       "stream": "stdout",
       "text": [
        "\n",
        "<Solution 0.38 at 0x1159f6310>"
       ]
      },
      {
       "output_type": "stream",
       "stream": "stdout",
       "text": [
        "\n",
        "<Solution 0.39 at 0x1159f6c10>"
       ]
      },
      {
       "output_type": "stream",
       "stream": "stdout",
       "text": [
        "\n",
        "<Solution 0.40 at 0x1159f6b10>"
       ]
      },
      {
       "output_type": "stream",
       "stream": "stdout",
       "text": [
        "\n",
        "<Solution 0.41 at 0x1159f6e90>"
       ]
      },
      {
       "output_type": "stream",
       "stream": "stdout",
       "text": [
        "\n",
        "<Solution 0.42 at 0x1159f6d10>"
       ]
      },
      {
       "output_type": "stream",
       "stream": "stdout",
       "text": [
        "\n",
        "<Solution 0.43 at 0x111cc1fd0>"
       ]
      },
      {
       "output_type": "stream",
       "stream": "stdout",
       "text": [
        "\n",
        "<Solution 0.44 at 0x111cc1190>"
       ]
      },
      {
       "output_type": "stream",
       "stream": "stdout",
       "text": [
        "\n",
        "<Solution 0.46 at 0x111cc1110>"
       ]
      },
      {
       "output_type": "stream",
       "stream": "stdout",
       "text": [
        "\n",
        "<Solution 0.47 at 0x111cc1090>"
       ]
      },
      {
       "output_type": "stream",
       "stream": "stdout",
       "text": [
        "\n",
        "<Solution 0.48 at 0x111cc1350>"
       ]
      },
      {
       "output_type": "stream",
       "stream": "stdout",
       "text": [
        "\n",
        "<Solution 0.49 at 0x111cc1310>"
       ]
      },
      {
       "output_type": "stream",
       "stream": "stdout",
       "text": [
        "\n",
        "<Solution 0.50 at 0x111cc1e10>"
       ]
      },
      {
       "output_type": "stream",
       "stream": "stdout",
       "text": [
        "\n",
        "<Solution 0.51 at 0x111cc1050>"
       ]
      },
      {
       "output_type": "stream",
       "stream": "stdout",
       "text": [
        "\n",
        "<Solution 0.52 at 0x1151362d0>"
       ]
      },
      {
       "output_type": "stream",
       "stream": "stdout",
       "text": [
        "\n",
        "<Solution 0.53 at 0x115136bd0>"
       ]
      },
      {
       "output_type": "stream",
       "stream": "stdout",
       "text": [
        "\n",
        "<Solution 0.54 at 0x110b75f90>"
       ]
      },
      {
       "output_type": "stream",
       "stream": "stdout",
       "text": [
        "\n",
        "<Solution 0.55 at 0x110b75fd0>"
       ]
      },
      {
       "output_type": "stream",
       "stream": "stdout",
       "text": [
        "\n",
        "<Solution 0.56 at 0x110b75ed0>"
       ]
      },
      {
       "output_type": "stream",
       "stream": "stdout",
       "text": [
        "\n",
        "<Solution 0.57 at 0x110b75e90>"
       ]
      },
      {
       "output_type": "stream",
       "stream": "stdout",
       "text": [
        "\n",
        "<Solution 0.58 at 0x110b75e50>"
       ]
      },
      {
       "output_type": "stream",
       "stream": "stdout",
       "text": [
        "\n",
        "<Solution 0.59 at 0x110b75d90>"
       ]
      },
      {
       "output_type": "stream",
       "stream": "stdout",
       "text": [
        "\n",
        "<Solution 0.60 at 0x110b75d10>"
       ]
      },
      {
       "output_type": "stream",
       "stream": "stdout",
       "text": [
        "\n",
        "<Solution 0.61 at 0x110b75d50>"
       ]
      },
      {
       "output_type": "stream",
       "stream": "stdout",
       "text": [
        "\n",
        "<Solution 0.62 at 0x110b75c50>"
       ]
      },
      {
       "output_type": "stream",
       "stream": "stdout",
       "text": [
        "\n",
        "<Solution 0.63 at 0x110b75c10>"
       ]
      },
      {
       "output_type": "stream",
       "stream": "stdout",
       "text": [
        "\n",
        "<Solution 0.63 at 0x110b75bd0>"
       ]
      },
      {
       "output_type": "stream",
       "stream": "stdout",
       "text": [
        "\n",
        "<Solution 0.64 at 0x110b75b50>"
       ]
      },
      {
       "output_type": "stream",
       "stream": "stdout",
       "text": [
        "\n",
        "<Solution 0.65 at 0x110b75b10>"
       ]
      },
      {
       "output_type": "stream",
       "stream": "stdout",
       "text": [
        "\n",
        "<Solution 0.66 at 0x110b75ad0>"
       ]
      },
      {
       "output_type": "stream",
       "stream": "stdout",
       "text": [
        "\n",
        "<Solution 0.67 at 0x110b75a50>"
       ]
      },
      {
       "output_type": "stream",
       "stream": "stdout",
       "text": [
        "\n",
        "<Solution 0.68 at 0x110b75a10>"
       ]
      },
      {
       "output_type": "stream",
       "stream": "stdout",
       "text": [
        "\n",
        "<Solution 0.69 at 0x110b759d0>"
       ]
      },
      {
       "output_type": "stream",
       "stream": "stdout",
       "text": [
        "\n",
        "<Solution 0.69 at 0x110b75950>"
       ]
      },
      {
       "output_type": "stream",
       "stream": "stdout",
       "text": [
        "\n",
        "<Solution 0.70 at 0x110b75910>"
       ]
      },
      {
       "output_type": "stream",
       "stream": "stdout",
       "text": [
        "\n",
        "<Solution 0.71 at 0x110b758d0>"
       ]
      },
      {
       "output_type": "stream",
       "stream": "stdout",
       "text": [
        "\n",
        "<Solution 0.72 at 0x110b75850>"
       ]
      },
      {
       "output_type": "stream",
       "stream": "stdout",
       "text": [
        "\n",
        "<Solution 0.73 at 0x110b75810>"
       ]
      },
      {
       "output_type": "stream",
       "stream": "stdout",
       "text": [
        "\n",
        "<Solution 0.74 at 0x110b757d0>"
       ]
      },
      {
       "output_type": "stream",
       "stream": "stdout",
       "text": [
        "\n",
        "<Solution 0.74 at 0x110b75750>"
       ]
      },
      {
       "output_type": "stream",
       "stream": "stdout",
       "text": [
        "\n",
        "<Solution 0.75 at 0x110b75710>"
       ]
      },
      {
       "output_type": "stream",
       "stream": "stdout",
       "text": [
        "\n",
        "<Solution 0.76 at 0x110b756d0>"
       ]
      },
      {
       "output_type": "stream",
       "stream": "stdout",
       "text": [
        "\n",
        "<Solution 0.77 at 0x110b75650>"
       ]
      },
      {
       "output_type": "stream",
       "stream": "stdout",
       "text": [
        "\n",
        "<Solution 0.78 at 0x110b75610>"
       ]
      },
      {
       "output_type": "stream",
       "stream": "stdout",
       "text": [
        "\n",
        "<Solution 0.79 at 0x110b755d0>"
       ]
      },
      {
       "output_type": "stream",
       "stream": "stdout",
       "text": [
        "\n",
        "<Solution 0.79 at 0x110b75510>"
       ]
      },
      {
       "output_type": "stream",
       "stream": "stdout",
       "text": [
        "\n",
        "<Solution 0.80 at 0x110b75550>"
       ]
      },
      {
       "output_type": "stream",
       "stream": "stdout",
       "text": [
        "\n",
        "<Solution 0.81 at 0x110b75450>"
       ]
      },
      {
       "output_type": "stream",
       "stream": "stdout",
       "text": [
        "\n",
        "<Solution 0.82 at 0x110b754d0>"
       ]
      },
      {
       "output_type": "stream",
       "stream": "stdout",
       "text": [
        "\n",
        "<Solution 0.82 at 0x110b75410>"
       ]
      },
      {
       "output_type": "stream",
       "stream": "stdout",
       "text": [
        "\n",
        "<Solution 0.83 at 0x110b753d0>"
       ]
      },
      {
       "output_type": "stream",
       "stream": "stdout",
       "text": [
        "\n",
        "<Solution 0.84 at 0x110b75350>"
       ]
      },
      {
       "output_type": "stream",
       "stream": "stdout",
       "text": [
        "\n",
        "<Solution 0.84 at 0x110b75310>"
       ]
      },
      {
       "output_type": "stream",
       "stream": "stdout",
       "text": [
        "\n",
        "<Solution 0.85 at 0x110b752d0>"
       ]
      },
      {
       "output_type": "stream",
       "stream": "stdout",
       "text": [
        "\n",
        "<Solution 0.86 at 0x110b75250>"
       ]
      },
      {
       "output_type": "stream",
       "stream": "stdout",
       "text": [
        "\n",
        "<Solution 0.87 at 0x110b75210>"
       ]
      },
      {
       "output_type": "stream",
       "stream": "stdout",
       "text": [
        "\n",
        "<Solution 0.87 at 0x110b751d0>"
       ]
      },
      {
       "output_type": "stream",
       "stream": "stdout",
       "text": [
        "\n",
        "<Solution 0.88 at 0x110b75150>"
       ]
      },
      {
       "output_type": "stream",
       "stream": "stdout",
       "text": [
        "\n",
        "<Solution 0.89 at 0x110b75110>"
       ]
      },
      {
       "output_type": "stream",
       "stream": "stdout",
       "text": [
        "\n",
        "<Solution 0.90 at 0x110b750d0>"
       ]
      },
      {
       "output_type": "stream",
       "stream": "stdout",
       "text": [
        "\n",
        "<Solution 0.90 at 0x110b75050>"
       ]
      },
      {
       "output_type": "stream",
       "stream": "stdout",
       "text": [
        "\n",
        "<Solution 0.91 at 0x117e7efd0>"
       ]
      },
      {
       "output_type": "stream",
       "stream": "stdout",
       "text": [
        "\n",
        "<Solution 0.92 at 0x117e7ef90>"
       ]
      },
      {
       "output_type": "stream",
       "stream": "stdout",
       "text": [
        "\n",
        "<Solution 0.93 at 0x117e7ef50>"
       ]
      },
      {
       "output_type": "stream",
       "stream": "stdout",
       "text": [
        "\n",
        "<Solution 0.93 at 0x117e7eed0>"
       ]
      },
      {
       "output_type": "stream",
       "stream": "stdout",
       "text": [
        "\n",
        "<Solution 0.94 at 0x117e7ee90>"
       ]
      },
      {
       "output_type": "stream",
       "stream": "stdout",
       "text": [
        "\n",
        "<Solution 0.95 at 0x117e7ee50>"
       ]
      },
      {
       "output_type": "stream",
       "stream": "stdout",
       "text": [
        "\n",
        "<Solution 0.95 at 0x117e7edd0>"
       ]
      },
      {
       "output_type": "stream",
       "stream": "stdout",
       "text": [
        "\n",
        "<Solution 0.96 at 0x117e7ed90>"
       ]
      },
      {
       "output_type": "stream",
       "stream": "stdout",
       "text": [
        "\n",
        "<Solution 0.97 at 0x117e7ed50>"
       ]
      },
      {
       "output_type": "stream",
       "stream": "stdout",
       "text": [
        "\n",
        "<Solution 0.98 at 0x117e7ecd0>"
       ]
      },
      {
       "output_type": "stream",
       "stream": "stdout",
       "text": [
        "\n",
        "<Solution 0.98 at 0x117e7ec90>"
       ]
      },
      {
       "output_type": "stream",
       "stream": "stdout",
       "text": [
        "\n",
        "<Solution 0.99 at 0x117e7ec50>"
       ]
      },
      {
       "output_type": "stream",
       "stream": "stdout",
       "text": [
        "\n",
        "<Solution 1.00 at 0x117e7eb90>"
       ]
      },
      {
       "output_type": "stream",
       "stream": "stdout",
       "text": [
        "\n",
        "<Solution 1.01 at 0x117e7ebd0>"
       ]
      },
      {
       "output_type": "stream",
       "stream": "stdout",
       "text": [
        "\n",
        "<Solution 1.01 at 0x117e7eb50>"
       ]
      },
      {
       "output_type": "stream",
       "stream": "stdout",
       "text": [
        "\n",
        "<Solution 1.01 at 0x117e7ead0>"
       ]
      },
      {
       "output_type": "stream",
       "stream": "stdout",
       "text": [
        "\n",
        "<Solution 1.01 at 0x117e7ea90>"
       ]
      },
      {
       "output_type": "stream",
       "stream": "stdout",
       "text": [
        "\n",
        "<Solution 1.01 at 0x117e7ea50>"
       ]
      },
      {
       "output_type": "stream",
       "stream": "stdout",
       "text": [
        "\n",
        "<Solution 1.01 at 0x117e7e9d0>"
       ]
      },
      {
       "output_type": "stream",
       "stream": "stdout",
       "text": [
        "\n",
        "<Solution 1.01 at 0x117e7e990>"
       ]
      },
      {
       "output_type": "stream",
       "stream": "stdout",
       "text": [
        "\n",
        "<Solution 1.01 at 0x117e7e950>"
       ]
      },
      {
       "output_type": "stream",
       "stream": "stdout",
       "text": [
        "\n",
        "<Solution 1.01 at 0x117e7e890>"
       ]
      },
      {
       "output_type": "stream",
       "stream": "stdout",
       "text": [
        "\n",
        "<Solution 1.01 at 0x117e7e810>"
       ]
      },
      {
       "output_type": "stream",
       "stream": "stdout",
       "text": [
        "\n",
        "<Solution 1.01 at 0x117e7e850>"
       ]
      },
      {
       "output_type": "stream",
       "stream": "stdout",
       "text": [
        "\n",
        "<Solution 1.01 at 0x117e7e750>"
       ]
      },
      {
       "output_type": "stream",
       "stream": "stdout",
       "text": [
        "\n",
        "<Solution 1.01 at 0x117e7e710>"
       ]
      },
      {
       "output_type": "stream",
       "stream": "stdout",
       "text": [
        "\n",
        "<Solution 1.01 at 0x117e7e6d0>"
       ]
      },
      {
       "output_type": "stream",
       "stream": "stdout",
       "text": [
        "\n",
        "<Solution 1.01 at 0x117e7e650>"
       ]
      },
      {
       "output_type": "stream",
       "stream": "stdout",
       "text": [
        "\n",
        "<Solution 1.01 at 0x117e7e610>"
       ]
      },
      {
       "output_type": "stream",
       "stream": "stdout",
       "text": [
        "\n",
        "<Solution 1.01 at 0x117e7e5d0>"
       ]
      },
      {
       "output_type": "stream",
       "stream": "stdout",
       "text": [
        "\n",
        "<Solution 1.01 at 0x117e7e550>"
       ]
      },
      {
       "output_type": "stream",
       "stream": "stdout",
       "text": [
        "\n"
       ]
      },
      {
       "metadata": {},
       "output_type": "display_data",
       "png": "[encoded data removed]",
       "text": [
        "<matplotlib.figure.Figure at 0x115496250>"
       ]
      },
      {
       "metadata": {},
       "output_type": "display_data",
       "png": "[encoded data removed]",
       "text": [
        "<matplotlib.figure.Figure at 0x1184c1f50>"
       ]
      },
      {
       "metadata": {},
       "output_type": "display_data",
       "png": "[encoded data removed]",
       "text": [
        "<matplotlib.figure.Figure at 0x1151d36d0>"
       ]
      }
     ],
     "prompt_number": 14
    },
    {
     "cell_type": "code",
     "collapsed": false,
     "input": [
      "rslt,f1,f2,f3 = make_happen(bounds_sets,init_bounds={'__NUT_EX_GLC_e':[-10,0],\n",
      "                                     'TRANS_RXN0_552_L2R':[-30000,30000],\n",
      "                                     '__SEC_EX_HYDROGEN_MOLECULE_e':[0,0],\n",
      "#                                             'ACETATEKIN_RXN_L2R':[0,0],\n",
      "#                                             'ACETATEKIN_RXN_R2L':[0,0],\n",
      "#                                             'PHOSACETYLTRANS_RXN_R2L':[0,0],\n",
      "#                                             'PHOSACETYLTRANS_RXN_L2R':[0,0],\n",
      "                                              'ACETALD_DEHYDROG_RXN_L2R':[0,0],\n",
      "                                              'ACETALD_DEHYDROG_RXN_R2L':[0,0],\n",
      "#                                              'ALCOHOL_DEHYDROG_RXN_L2R':[0,0],\n",
      "#                                              'ALCOHOL_DEHYDROG_GENERIC_RXN_ETOH_NAD__ACETALD_NADH_PROTON_30__L2R':[0,0],\n",
      "#                                              'DEOXYRIBOSE_P_ALD_RXN_L2R':[0,0],\n",
      "#                                              'ETHAMLY_RXN_L2R':[0,0],\n",
      "                                              'LTAA_RXN_L2R':[0,0],\n",
      "#                                              'MHPELY_RXN_L2R':[0,0],\n",
      "#                                              'RXN0_280_CPD_10434_FMNH2_OXYGEN_MOLECULE__ACETALD_SO3_FMN_WATER_PROTON_62__L2R':[0,0],\n",
      "#                                              'RXN0_5234_L2R':[0,0],\n",
      "#                                              'RXN0_5507_L2R':[0,0],\n",
      "#                                              'RXN0_986_L2R':[0,0],\n",
      "                                              'THREONINE_ALDOLASE_RXN_L2R':[0,0],\n",
      "                                              'DLACTDEHYDROGNAD_RXN_R2L':[0,0],\n",
      "                                              'PYRUVFORMLY_RXN_R2L':[0,0]}\n",
      "                                             )\n",
      "plt.sca(f1)\n",
      "plt.savefig(\"/Users/weaver/git/covert/ac-suc-growth.png\",dpi=300,format='png',transparent=True)\n",
      "plt.sca(f2)\n",
      "plt.savefig(\"/Users/weaver/git/covert/ac-suc-products.png\",dpi=300,format='png',transparent=True)\n",
      "plt.sca(f3)\n",
      "plt.savefig(\"/Users/weaver/git/covert/ac-suc-protons.png\",dpi=300,format='png',transparent=True)"
     ],
     "language": "python",
     "metadata": {},
     "outputs": [
      {
       "output_type": "stream",
       "stream": "stdout",
       "text": [
        "<Solution 0.36 at 0x14d86f090>\n",
        "<Solution 0.18 at 0x14d86fe90>"
       ]
      },
      {
       "output_type": "stream",
       "stream": "stdout",
       "text": [
        "\n",
        "<Solution 0.19 at 0x14d86f090>"
       ]
      },
      {
       "output_type": "stream",
       "stream": "stdout",
       "text": [
        "\n",
        "<Solution 0.21 at 0x14d86fe10>"
       ]
      },
      {
       "output_type": "stream",
       "stream": "stdout",
       "text": [
        "\n",
        "<Solution 0.22 at 0x14d86fd10>"
       ]
      },
      {
       "output_type": "stream",
       "stream": "stdout",
       "text": [
        "\n",
        "<Solution 0.23 at 0x14d86fc10>"
       ]
      },
      {
       "output_type": "stream",
       "stream": "stdout",
       "text": [
        "\n",
        "<Solution 0.24 at 0x14d86ff10>"
       ]
      },
      {
       "output_type": "stream",
       "stream": "stdout",
       "text": [
        "\n",
        "<Solution 0.25 at 0x14d86fa10>"
       ]
      },
      {
       "output_type": "stream",
       "stream": "stdout",
       "text": [
        "\n",
        "<Solution 0.26 at 0x14d86f910>"
       ]
      },
      {
       "output_type": "stream",
       "stream": "stdout",
       "text": [
        "\n",
        "<Solution 0.27 at 0x14d86f810>"
       ]
      },
      {
       "output_type": "stream",
       "stream": "stdout",
       "text": [
        "\n",
        "<Solution 0.29 at 0x14d86f710>"
       ]
      },
      {
       "output_type": "stream",
       "stream": "stdout",
       "text": [
        "\n",
        "<Solution 0.30 at 0x14d86f610>"
       ]
      },
      {
       "output_type": "stream",
       "stream": "stdout",
       "text": [
        "\n",
        "<Solution 0.31 at 0x14d86f510>"
       ]
      },
      {
       "output_type": "stream",
       "stream": "stdout",
       "text": [
        "\n",
        "<Solution 0.32 at 0x14d86f410>"
       ]
      },
      {
       "output_type": "stream",
       "stream": "stdout",
       "text": [
        "\n",
        "<Solution 0.33 at 0x14d86f310>"
       ]
      },
      {
       "output_type": "stream",
       "stream": "stdout",
       "text": [
        "\n",
        "<Solution 0.34 at 0x14d8e1c10>"
       ]
      },
      {
       "output_type": "stream",
       "stream": "stdout",
       "text": [
        "\n",
        "<Solution 0.36 at 0x14d8f6450>"
       ]
      },
      {
       "output_type": "stream",
       "stream": "stdout",
       "text": [
        "\n",
        "<Solution 0.37 at 0x14d8f6310>"
       ]
      },
      {
       "output_type": "stream",
       "stream": "stdout",
       "text": [
        "\n",
        "<Solution 0.38 at 0x14d8f62d0>"
       ]
      },
      {
       "output_type": "stream",
       "stream": "stdout",
       "text": [
        "\n",
        "<Solution 0.39 at 0x14d8f6590>"
       ]
      },
      {
       "output_type": "stream",
       "stream": "stdout",
       "text": [
        "\n",
        "<Solution 0.40 at 0x14d8f6490>"
       ]
      },
      {
       "output_type": "stream",
       "stream": "stdout",
       "text": [
        "\n",
        "<Solution 0.41 at 0x14d8f6810>"
       ]
      },
      {
       "output_type": "stream",
       "stream": "stdout",
       "text": [
        "\n",
        "<Solution 0.43 at 0x14d8f67d0>"
       ]
      },
      {
       "output_type": "stream",
       "stream": "stdout",
       "text": [
        "\n",
        "<Solution 0.44 at 0x14d8f6fd0>"
       ]
      },
      {
       "output_type": "stream",
       "stream": "stdout",
       "text": [
        "\n",
        "<Solution 0.45 at 0x14d8f6e90>"
       ]
      },
      {
       "output_type": "stream",
       "stream": "stdout",
       "text": [
        "\n",
        "<Solution 0.46 at 0x14d8f6f50>"
       ]
      },
      {
       "output_type": "stream",
       "stream": "stdout",
       "text": [
        "\n",
        "<Solution 0.47 at 0x14a0ec6d0>"
       ]
      },
      {
       "output_type": "stream",
       "stream": "stdout",
       "text": [
        "\n",
        "<Solution 0.48 at 0x14dbe9090>"
       ]
      },
      {
       "output_type": "stream",
       "stream": "stdout",
       "text": [
        "\n",
        "<Solution 0.49 at 0x14ddc2990>"
       ]
      },
      {
       "output_type": "stream",
       "stream": "stdout",
       "text": [
        "\n",
        "<Solution 0.51 at 0x1399d9590>"
       ]
      },
      {
       "output_type": "stream",
       "stream": "stdout",
       "text": [
        "\n",
        "<Solution 0.52 at 0x14d8a7490>"
       ]
      },
      {
       "output_type": "stream",
       "stream": "stdout",
       "text": [
        "\n",
        "<Solution 0.53 at 0x14d979a50>"
       ]
      },
      {
       "output_type": "stream",
       "stream": "stdout",
       "text": [
        "\n",
        "<Solution 0.54 at 0x14d9f2cd0>"
       ]
      },
      {
       "output_type": "stream",
       "stream": "stdout",
       "text": [
        "\n",
        "<Solution 0.55 at 0x14d9f2950>"
       ]
      },
      {
       "output_type": "stream",
       "stream": "stdout",
       "text": [
        "\n",
        "<Solution 0.56 at 0x14d93b210>"
       ]
      },
      {
       "output_type": "stream",
       "stream": "stdout",
       "text": [
        "\n",
        "<Solution 0.58 at 0x14d93bc10>"
       ]
      },
      {
       "output_type": "stream",
       "stream": "stdout",
       "text": [
        "\n",
        "<Solution 0.59 at 0x14d93ba50>"
       ]
      },
      {
       "output_type": "stream",
       "stream": "stdout",
       "text": [
        "\n",
        "<Solution 0.60 at 0x14d9a2bd0>"
       ]
      },
      {
       "output_type": "stream",
       "stream": "stdout",
       "text": [
        "\n",
        "<Solution 0.61 at 0x1420908d0>"
       ]
      },
      {
       "output_type": "stream",
       "stream": "stdout",
       "text": [
        "\n",
        "<Solution 0.62 at 0x14d85af50>"
       ]
      },
      {
       "output_type": "stream",
       "stream": "stdout",
       "text": [
        "\n",
        "<Solution 0.63 at 0x14d951350>"
       ]
      },
      {
       "output_type": "stream",
       "stream": "stdout",
       "text": [
        "\n",
        "<Solution 0.65 at 0x14d951250>"
       ]
      },
      {
       "output_type": "stream",
       "stream": "stdout",
       "text": [
        "\n",
        "<Solution 0.66 at 0x14d951290>"
       ]
      },
      {
       "output_type": "stream",
       "stream": "stdout",
       "text": [
        "\n",
        "<Solution 0.67 at 0x1422a9250>"
       ]
      },
      {
       "output_type": "stream",
       "stream": "stdout",
       "text": [
        "\n",
        "<Solution 0.68 at 0x13dd0f5d0>"
       ]
      },
      {
       "output_type": "stream",
       "stream": "stdout",
       "text": [
        "\n",
        "<Solution 0.69 at 0x13dd0f410>"
       ]
      },
      {
       "output_type": "stream",
       "stream": "stdout",
       "text": [
        "\n",
        "<Solution 0.70 at 0x13dd0f510>"
       ]
      },
      {
       "output_type": "stream",
       "stream": "stdout",
       "text": [
        "\n",
        "<Solution 0.71 at 0x14d906650>"
       ]
      },
      {
       "output_type": "stream",
       "stream": "stdout",
       "text": [
        "\n",
        "<Solution 0.72 at 0x14d906e90>"
       ]
      },
      {
       "output_type": "stream",
       "stream": "stdout",
       "text": [
        "\n",
        "<Solution 0.74 at 0x14d906f90>"
       ]
      },
      {
       "output_type": "stream",
       "stream": "stdout",
       "text": [
        "\n",
        "<Solution 0.75 at 0x14d906fd0>"
       ]
      },
      {
       "output_type": "stream",
       "stream": "stdout",
       "text": [
        "\n",
        "<Solution 0.76 at 0x14d906ad0>"
       ]
      },
      {
       "output_type": "stream",
       "stream": "stdout",
       "text": [
        "\n",
        "<Solution 0.77 at 0x14d906bd0>"
       ]
      },
      {
       "output_type": "stream",
       "stream": "stdout",
       "text": [
        "\n",
        "<Solution 0.78 at 0x14d9065d0>"
       ]
      },
      {
       "output_type": "stream",
       "stream": "stdout",
       "text": [
        "\n",
        "<Solution 0.79 at 0x14d9066d0>"
       ]
      },
      {
       "output_type": "stream",
       "stream": "stdout",
       "text": [
        "\n",
        "<Solution 0.79 at 0x14d906990>"
       ]
      },
      {
       "output_type": "stream",
       "stream": "stdout",
       "text": [
        "\n",
        "<Solution 0.80 at 0x14d906a90>"
       ]
      },
      {
       "output_type": "stream",
       "stream": "stdout",
       "text": [
        "\n",
        "<Solution 0.81 at 0x14d906710>"
       ]
      },
      {
       "output_type": "stream",
       "stream": "stdout",
       "text": [
        "\n",
        "<Solution 0.82 at 0x14d906810>"
       ]
      },
      {
       "output_type": "stream",
       "stream": "stdout",
       "text": [
        "\n",
        "<Solution 0.82 at 0x14d906d50>"
       ]
      },
      {
       "output_type": "stream",
       "stream": "stdout",
       "text": [
        "\n",
        "<Solution 0.83 at 0x14d906e50>"
       ]
      },
      {
       "output_type": "stream",
       "stream": "stdout",
       "text": [
        "\n",
        "<Solution 0.84 at 0x14d906050>"
       ]
      },
      {
       "output_type": "stream",
       "stream": "stdout",
       "text": [
        "\n",
        "<Solution 0.84 at 0x14d906490>"
       ]
      },
      {
       "output_type": "stream",
       "stream": "stdout",
       "text": [
        "\n",
        "<Solution 0.85 at 0x14d906590>"
       ]
      },
      {
       "output_type": "stream",
       "stream": "stdout",
       "text": [
        "\n",
        "<Solution 0.86 at 0x14d906090>"
       ]
      },
      {
       "output_type": "stream",
       "stream": "stdout",
       "text": [
        "\n",
        "<Solution 0.87 at 0x14d906190>"
       ]
      },
      {
       "output_type": "stream",
       "stream": "stdout",
       "text": [
        "\n",
        "<Solution 0.87 at 0x14d906850>"
       ]
      },
      {
       "output_type": "stream",
       "stream": "stdout",
       "text": [
        "\n",
        "<Solution 0.88 at 0x14d906950>"
       ]
      },
      {
       "output_type": "stream",
       "stream": "stdout",
       "text": [
        "\n",
        "<Solution 0.89 at 0x14d906290>"
       ]
      },
      {
       "output_type": "stream",
       "stream": "stdout",
       "text": [
        "\n",
        "<Solution 0.90 at 0x14d906390>"
       ]
      },
      {
       "output_type": "stream",
       "stream": "stdout",
       "text": [
        "\n",
        "<Solution 0.90 at 0x14d906c10>"
       ]
      },
      {
       "output_type": "stream",
       "stream": "stdout",
       "text": [
        "\n",
        "<Solution 0.91 at 0x14d906d10>"
       ]
      },
      {
       "output_type": "stream",
       "stream": "stdout",
       "text": [
        "\n",
        "<Solution 0.92 at 0x14d906150>"
       ]
      },
      {
       "output_type": "stream",
       "stream": "stdout",
       "text": [
        "\n",
        "<Solution 0.93 at 0x14d9060d0>"
       ]
      },
      {
       "output_type": "stream",
       "stream": "stdout",
       "text": [
        "\n",
        "<Solution 0.93 at 0x14d906250>"
       ]
      },
      {
       "output_type": "stream",
       "stream": "stdout",
       "text": [
        "\n",
        "<Solution 0.94 at 0x14d906210>"
       ]
      },
      {
       "output_type": "stream",
       "stream": "stdout",
       "text": [
        "\n",
        "<Solution 0.95 at 0x14d9063d0>"
       ]
      },
      {
       "output_type": "stream",
       "stream": "stdout",
       "text": [
        "\n",
        "<Solution 0.95 at 0x14d906410>"
       ]
      },
      {
       "output_type": "stream",
       "stream": "stdout",
       "text": [
        "\n",
        "<Solution 0.96 at 0x14d98d550>"
       ]
      },
      {
       "output_type": "stream",
       "stream": "stdout",
       "text": [
        "\n",
        "<Solution 0.97 at 0x14d98d650>"
       ]
      },
      {
       "output_type": "stream",
       "stream": "stdout",
       "text": [
        "\n",
        "<Solution 0.98 at 0x14d967310>"
       ]
      },
      {
       "output_type": "stream",
       "stream": "stdout",
       "text": [
        "\n",
        "<Solution 0.98 at 0x14d9673d0>"
       ]
      },
      {
       "output_type": "stream",
       "stream": "stdout",
       "text": [
        "\n",
        "<Solution 0.99 at 0x14d884e10>"
       ]
      },
      {
       "output_type": "stream",
       "stream": "stdout",
       "text": [
        "\n",
        "<Solution 1.00 at 0x14d884f90>"
       ]
      },
      {
       "output_type": "stream",
       "stream": "stdout",
       "text": [
        "\n",
        "<Solution 1.01 at 0x14d927650>"
       ]
      },
      {
       "output_type": "stream",
       "stream": "stdout",
       "text": [
        "\n",
        "<Solution 1.01 at 0x14d80bd10>"
       ]
      },
      {
       "output_type": "stream",
       "stream": "stdout",
       "text": [
        "\n",
        "<Solution 1.01 at 0x14d80b110>"
       ]
      },
      {
       "output_type": "stream",
       "stream": "stdout",
       "text": [
        "\n",
        "<Solution 1.01 at 0x14d80b4d0>"
       ]
      },
      {
       "output_type": "stream",
       "stream": "stdout",
       "text": [
        "\n",
        "<Solution 1.01 at 0x14d80b450>"
       ]
      },
      {
       "output_type": "stream",
       "stream": "stdout",
       "text": [
        "\n",
        "<Solution 1.01 at 0x14d7f5dd0>"
       ]
      },
      {
       "output_type": "stream",
       "stream": "stdout",
       "text": [
        "\n",
        "<Solution 1.01 at 0x14d7f5e90>"
       ]
      },
      {
       "output_type": "stream",
       "stream": "stdout",
       "text": [
        "\n",
        "<Solution 1.01 at 0x14d7f5f50>"
       ]
      },
      {
       "output_type": "stream",
       "stream": "stdout",
       "text": [
        "\n",
        "<Solution 1.01 at 0x14d7f5c50>"
       ]
      },
      {
       "output_type": "stream",
       "stream": "stdout",
       "text": [
        "\n",
        "<Solution 1.01 at 0x14d7f5b50>"
       ]
      },
      {
       "output_type": "stream",
       "stream": "stdout",
       "text": [
        "\n",
        "<Solution 1.01 at 0x14d7f5a50>"
       ]
      },
      {
       "output_type": "stream",
       "stream": "stdout",
       "text": [
        "\n",
        "<Solution 1.01 at 0x14d7f5950>"
       ]
      },
      {
       "output_type": "stream",
       "stream": "stdout",
       "text": [
        "\n",
        "<Solution 1.01 at 0x14d7f5850>"
       ]
      },
      {
       "output_type": "stream",
       "stream": "stdout",
       "text": [
        "\n",
        "<Solution 1.01 at 0x14d7f5750>"
       ]
      },
      {
       "output_type": "stream",
       "stream": "stdout",
       "text": [
        "\n",
        "<Solution 1.01 at 0x14d7f5650>"
       ]
      },
      {
       "output_type": "stream",
       "stream": "stdout",
       "text": [
        "\n",
        "<Solution 1.01 at 0x14d7f5550>"
       ]
      },
      {
       "output_type": "stream",
       "stream": "stdout",
       "text": [
        "\n",
        "<Solution 1.01 at 0x14d7f5450>"
       ]
      },
      {
       "output_type": "stream",
       "stream": "stdout",
       "text": [
        "\n",
        "<Solution 1.01 at 0x14d7f5350>"
       ]
      },
      {
       "output_type": "stream",
       "stream": "stdout",
       "text": [
        "\n"
       ]
      },
      {
       "metadata": {},
       "output_type": "display_data",
       "png": "[encoded data removed]",
       "text": [
        "<matplotlib.figure.Figure at 0x14d86f0d0>"
       ]
      },
      {
       "metadata": {},
       "output_type": "display_data",
       "png": "[encoded data removed]",
       "text": [
        "<matplotlib.figure.Figure at 0x1398e8e90>"
       ]
      },
      {
       "metadata": {},
       "output_type": "display_data",
       "png": "[encoded data removed]",
       "text": [
        "<matplotlib.figure.Figure at 0x139105190>"
       ]
      }
     ],
     "prompt_number": 360
    },
    {
     "cell_type": "code",
     "collapsed": false,
     "input": [
      "## Load the EcoCyc-19.6-GEM model in JSON format\n",
      "wc_json_v3 = cobra.io.load_json_model(\"/Users/weaver/git/covert/jan-wc-v3.json\")\n",
      "\n",
      "## Select the MetaFlux objective function for maximization\n",
      "wc_json_v3.change_objective(\"__SEC_EX_TOP_LEVEL_c\")\n",
      "\n",
      "## Optimize!\n",
      "wc_json_v3.optimize()"
     ],
     "language": "python",
     "metadata": {},
     "outputs": [
      {
       "metadata": {},
       "output_type": "pyout",
       "prompt_number": 15,
       "text": [
        "<Solution 0.39 at 0x111f15a50>"
       ]
      }
     ],
     "prompt_number": 15
    },
    {
     "cell_type": "code",
     "collapsed": false,
     "input": [
      "with open(\"/Users/weaver/git/covert/jan-wc-v3.json\") as wcv3_fp:\n",
      "    wcv3 = json.load(wcv3_fp)\n",
      "    \n",
      "with open(\"/Users/weaver/git/covert/jan-wc-v2.json\") as wcv2_fp:\n",
      "    wcv2 = json.load(wcv2_fp)"
     ],
     "language": "python",
     "metadata": {},
     "outputs": [],
     "prompt_number": 26
    },
    {
     "cell_type": "code",
     "collapsed": false,
     "input": [
      "print len(wcv3['complexations'])\n",
      "print len(wcv2['complexations'])\n",
      "\n",
      "#print {z:len(wcv3[z] for z in wcv3.keys())}\n",
      "#print len(wcv2['complexations'])\n",
      "\n",
      "def keycheck(wcj):\n",
      "    return {z:len(wcj[z]) for z in wcj.keys()}\n",
      "    \n",
      "print keycheck(wcv3)\n",
      "print keycheck(wcv2)\n",
      "\n",
      "set([v['id'] for v in wcv3['reactions']]) - set([v['id'] for v in wcv2['reactions']])\n",
      "\n"
     ],
     "language": "python",
     "metadata": {},
     "outputs": [
      {
       "output_type": "stream",
       "stream": "stdout",
       "text": [
        "1233\n",
        "1233\n",
        "{u'reactions': 4235, u'name': 18, u'genes': 1579, u'compartments': 5, u'metabolites': 3016, u'version': 4, u'complexations': 1233, u'description': 239}\n",
        "{u'reactions': 4171, u'name': 18, u'genes': 1579, u'compartments': 5, u'metabolites': 2980, u'version': 4, u'complexations': 1233, u'description': 239}\n"
       ]
      },
      {
       "metadata": {},
       "output_type": "pyout",
       "prompt_number": 38,
       "text": [
        "{u'3_OXOACYL_ACP_SYNTH_RXN_MALONYL_ACP_POLYMER_INST_Saturated_Fatty_Acyl_ACPs_C0_H0_PROTON__ACP_3_oxo_hexanoyl_ACPs_CARBON_DIOXIDE_104__L2R',\n",
        " u'ACYLCOASYN_RXN_POLYMER_INST_CPD66_39_C16_H32_CO_A_ATP__CPD_9965_PPI_AMP_57__L2R',\n",
        " u'ACYLCOASYN_RXN_POLYMER_INST_CPD66_39_C8_H16_CO_A_ATP__LAUROYLCOA_CPD_PPI_AMP_62__L2R',\n",
        " u'ENOYL_ACP_REDUCT_NADH_RXN_POLYMER_INST_Saturated_Fatty_Acyl_ACPs_C0_H0_NAD__Crotonyl_ACPs_NADH_PROTON_76__R2L',\n",
        " u'ENOYL_ACP_REDUCT_NADPH_RXN_POLYMER_INST_Saturated_Fatty_Acyl_ACPs_C0_H0_NADP__NADPH_Crotonyl_ACPs_PROTON_78__R2L',\n",
        " u'ENOYL_COA_DELTA_ISOM_RXN_POLYMER_INST_CIS_DELTA3_ENOYL_COA_C0_H0__CROTONYL_COA_54__L2R',\n",
        " u'ENOYL_COA_DELTA_ISOM_RXN_POLYMER_INST_CIS_DELTA3_ENOYL_COA_C0_H0__CROTONYL_COA_54__R2L',\n",
        " u'ENOYL_COA_DELTA_ISOM_RXN_POLYMER_INST_CIS_DELTA3_ENOYL_COA_C10_H20__POLYMER_INST_TRANS_D2_ENOYL_COA_C10_H20_83__L2R',\n",
        " u'ENOYL_COA_DELTA_ISOM_RXN_POLYMER_INST_CIS_DELTA3_ENOYL_COA_C10_H20__POLYMER_INST_TRANS_D2_ENOYL_COA_C10_H20_83__R2L',\n",
        " u'ENOYL_COA_DELTA_ISOM_RXN_POLYMER_INST_CIS_DELTA3_ENOYL_COA_C12_H24__CPD0_2117_53__L2R',\n",
        " u'ENOYL_COA_DELTA_ISOM_RXN_POLYMER_INST_CIS_DELTA3_ENOYL_COA_C12_H24__CPD0_2117_53__R2L',\n",
        " u'ENOYL_COA_DELTA_ISOM_RXN_POLYMER_INST_CIS_DELTA3_ENOYL_COA_C14_H28__CPD_10262_53__L2R',\n",
        " u'ENOYL_COA_DELTA_ISOM_RXN_POLYMER_INST_CIS_DELTA3_ENOYL_COA_C14_H28__CPD_10262_53__R2L',\n",
        " u'ENOYL_COA_DELTA_ISOM_RXN_POLYMER_INST_CIS_DELTA3_ENOYL_COA_C16_H32__POLYMER_INST_TRANS_D2_ENOYL_COA_C16_H32_83__L2R',\n",
        " u'ENOYL_COA_DELTA_ISOM_RXN_POLYMER_INST_CIS_DELTA3_ENOYL_COA_C16_H32__POLYMER_INST_TRANS_D2_ENOYL_COA_C16_H32_83__R2L',\n",
        " u'ENOYL_COA_DELTA_ISOM_RXN_POLYMER_INST_CIS_DELTA3_ENOYL_COA_C2_H4__CPD0_2121_51__L2R',\n",
        " u'ENOYL_COA_DELTA_ISOM_RXN_POLYMER_INST_CIS_DELTA3_ENOYL_COA_C2_H4__CPD0_2121_51__R2L',\n",
        " u'ENOYL_COA_DELTA_ISOM_RXN_POLYMER_INST_CIS_DELTA3_ENOYL_COA_C4_H8__CPD0_2108_51__L2R',\n",
        " u'ENOYL_COA_DELTA_ISOM_RXN_POLYMER_INST_CIS_DELTA3_ENOYL_COA_C4_H8__CPD0_2108_51__R2L',\n",
        " u'ENOYL_COA_DELTA_ISOM_RXN_POLYMER_INST_CIS_DELTA3_ENOYL_COA_C6_H12__T2_DECENOYL_COA_58__L2R',\n",
        " u'ENOYL_COA_DELTA_ISOM_RXN_POLYMER_INST_CIS_DELTA3_ENOYL_COA_C6_H12__T2_DECENOYL_COA_58__R2L',\n",
        " u'ENOYL_COA_HYDRAT_RXN_CPD0_2171__POLYMER_INST_TRANS_D2_ENOYL_COA_C10_H20_WATER_57__R2L',\n",
        " u'ENOYL_COA_HYDRAT_RXN_POLYMER_INST_L_3_HYDROXYACYL_COA_C16_H32__POLYMER_INST_TRANS_D2_ENOYL_COA_C16_H32_WATER_88__R2L',\n",
        " u'KETOACYLCOATHIOL_RXN_CPD_9965_ACETYL_COA__POLYMER_INST_3_KETOACYL_COA_C18_H36_CO_A_62__R2L',\n",
        " u'KETOACYLCOATHIOL_RXN_STEAROYL_COA_ACETYL_COA__POLYMER_INST_3_KETOACYL_COA_C16_H32_CO_A_66__R2L',\n",
        " u'OHACYL_COA_DEHYDROG_RXN_NAD_POLYMER_INST_L_3_HYDROXYACYL_COA_C16_H32__NADH_POLYMER_INST_3_KETOACYL_COA_C16_H32_PROTON_94__L2R',\n",
        " u'OHBUTYRYL_COA_EPIM_RXN_POLYMER_INST_D_3_HYDROXYACYL_COA_C10_H20__CPD0_2171_52__L2R',\n",
        " u'OHBUTYRYL_COA_EPIM_RXN_POLYMER_INST_D_3_HYDROXYACYL_COA_C10_H20__CPD0_2171_52__R2L',\n",
        " u'OHBUTYRYL_COA_EPIM_RXN_POLYMER_INST_D_3_HYDROXYACYL_COA_C12_H24__CPD0_2232_52__L2R',\n",
        " u'OHBUTYRYL_COA_EPIM_RXN_POLYMER_INST_D_3_HYDROXYACYL_COA_C12_H24__CPD0_2232_52__R2L',\n",
        " u'OHBUTYRYL_COA_EPIM_RXN_POLYMER_INST_D_3_HYDROXYACYL_COA_C14_H28__CPD0_2253_52__L2R',\n",
        " u'OHBUTYRYL_COA_EPIM_RXN_POLYMER_INST_D_3_HYDROXYACYL_COA_C14_H28__CPD0_2253_52__R2L',\n",
        " u'OHBUTYRYL_COA_EPIM_RXN_POLYMER_INST_D_3_HYDROXYACYL_COA_C16_H32__POLYMER_INST_L_3_HYDROXYACYL_COA_C16_H32_83__L2R',\n",
        " u'OHBUTYRYL_COA_EPIM_RXN_POLYMER_INST_D_3_HYDROXYACYL_COA_C16_H32__POLYMER_INST_L_3_HYDROXYACYL_COA_C16_H32_83__R2L',\n",
        " u'OHBUTYRYL_COA_EPIM_RXN_POLYMER_INST_D_3_HYDROXYACYL_COA_C2_H4__OH_HEXANOYL_COA_56__L2R',\n",
        " u'OHBUTYRYL_COA_EPIM_RXN_POLYMER_INST_D_3_HYDROXYACYL_COA_C2_H4__OH_HEXANOYL_COA_56__R2L',\n",
        " u'OHBUTYRYL_COA_EPIM_RXN_POLYMER_INST_D_3_HYDROXYACYL_COA_C4_H8__CPD0_2224_50__L2R',\n",
        " u'OHBUTYRYL_COA_EPIM_RXN_POLYMER_INST_D_3_HYDROXYACYL_COA_C4_H8__CPD0_2224_50__R2L',\n",
        " u'OHBUTYRYL_COA_EPIM_RXN_POLYMER_INST_D_3_HYDROXYACYL_COA_C6_H12__CPD0_2244_51__L2R',\n",
        " u'OHBUTYRYL_COA_EPIM_RXN_POLYMER_INST_D_3_HYDROXYACYL_COA_C6_H12__CPD0_2244_51__R2L',\n",
        " u'OHBUTYRYL_COA_EPIM_RXN_POLYMER_INST_D_3_HYDROXYACYL_COA_C8_H16__CPD0_2107_51__L2R',\n",
        " u'OHBUTYRYL_COA_EPIM_RXN_POLYMER_INST_D_3_HYDROXYACYL_COA_C8_H16__CPD0_2107_51__R2L',\n",
        " u'RXN0_280_CPD_10434_FMNH2_OXYGEN_MOLECULE__ACETALD_SO3_FMN_WATER_PROTON_62__L2R',\n",
        " u'__OBJ_DNA_c',\n",
        " u'__OBJ_GAM_c',\n",
        " u'__OBJ_LIPID_CL_c',\n",
        " u'__OBJ_LIPID_PE_c',\n",
        " u'__OBJ_LIPID_PG_c',\n",
        " u'__OBJ_LIPOPOLYSACCHARIDE_c',\n",
        " u'__OBJ_NEID_PROT_c',\n",
        " u'__OBJ_PEPTIDOGLYCAN_c',\n",
        " u'__OBJ_POLYAMINE_c',\n",
        " u'__OBJ_POLYSACCHARIDE_c',\n",
        " u'__OBJ_RNA_c',\n",
        " u'__SEC_EX_DNA_c',\n",
        " u'__SEC_EX_GAM_c',\n",
        " u'__SEC_EX_LIPID_CL_c',\n",
        " u'__SEC_EX_LIPID_PE_c',\n",
        " u'__SEC_EX_LIPID_PG_c',\n",
        " u'__SEC_EX_LIPOPOLYSACCHARIDE_c',\n",
        " u'__SEC_EX_NEID_PROT_c',\n",
        " u'__SEC_EX_PEPTIDOGLYCAN_c',\n",
        " u'__SEC_EX_POLYAMINE_c',\n",
        " u'__SEC_EX_POLYSACCHARIDE_c',\n",
        " u'__SEC_EX_RNA_c'}"
       ]
      }
     ],
     "prompt_number": 38
    },
    {
     "cell_type": "code",
     "collapsed": false,
     "input": [
      "## Load the EcoCyc-19.6-GEM model in JSON format\n",
      "wc4 = cobra.io.load_json_model(\"/Users/weaver/git/covert/jan-wc-v4.json\")\n",
      "\n",
      "## Select the MetaFlux objective function for maximization\n",
      "wc4.change_objective(\"__SEC_EX_TOP_LEVEL_c\")\n",
      "\n",
      "## Optimize!\n",
      "wc4.optimize()"
     ],
     "language": "python",
     "metadata": {},
     "outputs": [
      {
       "metadata": {},
       "output_type": "pyout",
       "prompt_number": 39,
       "text": [
        "<Solution 0.36 at 0x11598c950>"
       ]
      }
     ],
     "prompt_number": 39
    },
    {
     "cell_type": "code",
     "collapsed": false,
     "input": [
      "get_nonzeros(wc4,pretty=False)\n"
     ],
     "language": "python",
     "metadata": {},
     "outputs": [
      {
       "metadata": {},
       "output_type": "pyout",
       "prompt_number": 41,
       "text": [
        "[('ATPSYN_RXN_L2R', 23.622804733779301),\n",
        " ('TRANS_RXN0_603_L2R', 14.238744395697848),\n",
        " ('TRANS_RXN_145_R2L', 14.238744395697848),\n",
        " ('__SEC_EX_WATER_e', 14.238744395697848),\n",
        " ('NADH_DEHYDROG_A_RXN_NADH_UBIQUINONE_8_PROTON__NAD_CPD_9956_PROTON_46__L2R',\n",
        "  10.85075297302568),\n",
        " ('TRANS_RXN0_602_L2R', 7.3399395280507891),\n",
        " ('TRANS_RXN0_545_R2L', 7.3399395280507891),\n",
        " ('__SEC_EX_CARBON_DIOXIDE_e', 7.3399395280507891),\n",
        " ('GAPOXNPHOSPHN_RXN_L2R', 6.540731610677585),\n",
        " ('PHOSGLYPHOS_RXN_R2L', 6.540731610677585),\n",
        " ('TRANS_RXN0_600_R2L', 6.3714467930352603),\n",
        " ('TRANS_RXN0_474_L2R', 6.3714467930352603),\n",
        " ('__NUT_EX_OXYGEN_MOLECULE_e', 6.3714467930352603),\n",
        " ('RXN0_5268_CPD_9956_PROTON_OXYGEN_MOLECULE__UBIQUINONE_8_WATER_PROTON_59__L2R',\n",
        "  6.3709835659970295),\n",
        " ('2PGADEHYDRAT_RXN_L2R', 5.9733378677548385),\n",
        " ('3PGAREARR_RXN_R2L', 5.9733378677548385),\n",
        " ('PYFLAVOXRE_RXN_PYRUVATE_Oxidized_flavodoxins_CO_A_PROTON__ACETYL_COA_CARBON_DIOXIDE_Reduced_flavodoxins_89__L2R',\n",
        "  4.1861090574102011),\n",
        " ('FLAVONADPREDUCT_RXN_Oxidized_flavodoxins_NADPH_PROTON__Reduced_flavodoxins_NADP_60__R2L',\n",
        "  4.1571800817423457),\n",
        " ('TRANS_RXN0_601_AMMONIUM__AMMONIUM_19__R2L', 3.7111836585167106),\n",
        " ('TRANS_RXN0_544_L2R', 3.7111836585167106),\n",
        " ('__NUT_EX_AMMONIUM_e', 3.7111836585167106),\n",
        " ('TRANS_RXN0_598_GLC__GLC_9__R2L', 3.6320000000000001),\n",
        " ('__NUT_EX_GLC_e', 3.6320000000000001),\n",
        " ('PGLUCISOM_RXN_GLC_6_P__FRUCTOSE_6P_21__L2R', 3.6190321468594759),\n",
        " ('RXN0_313_L2R', 3.3881426211999952),\n",
        " ('TRIOSEPISOMERIZATION_RXN_R2L', 3.3386345607935684),\n",
        " ('2_7_1_121_RXN_L2R', 3.3168378506973579),\n",
        " ('__NUT_EX_ADP_c', 3.1499999999999999),\n",
        " ('__NUT_EX_Pi_c', 3.1499999999999999),\n",
        " ('__NUT_EX_PROTON_c', 3.1499999999999999),\n",
        " ('__SEC_EX_ATP_c', 3.1499999999999999),\n",
        " ('__SEC_EX_WATER_c', 3.1499999999999999),\n",
        " ('TRANS_RXN_157_PTSH_PHOSPHORYLATED_GLC__GLC_6_P_PTSH_MONOMER_46__L2R',\n",
        "  3.0896099564835149),\n",
        " ('RXN0_7166_L2R', 3.0896099564835149),\n",
        " ('MALATE_DEH_RXN_L2R', 3.066222799556344),\n",
        " ('TRANS_RXN0_601_PROTON__PROTON_15__L2R', 3.0267211753483396),\n",
        " ('__SEC_EX_PROTON_e', 3.0267211753483396),\n",
        " ('CITSYN_RXN_L2R', 2.3035738605415141),\n",
        " ('RXN_14047_L2R', 2.3035738605415141),\n",
        " ('GLUTDEHYD_RXN_R2L', 2.198234073056371),\n",
        " ('SUCCINATE_DEHYDROGENASE_UBIQUINONE_RXN_SUC_UBIQUINONE_8__FUM_CPD_9956_31__L2R',\n",
        "  1.8196539876122328),\n",
        " ('ISOCIT_CLEAV_RXN_L2R', 1.8179523883683246),\n",
        " ('MALSYN_RXN_L2R', 1.739021720392302),\n",
        " ('FUMHYDR_RXN_R2L', 1.3272010791640418),\n",
        " ('RXN_11811_CCO_CYTOSOL__AMMONIA_PROTON__AMMONIUM_38__L2R',\n",
        "  1.2370612195055701),\n",
        " ('RXN_11811_CCO_PERI_BAC__AMMONIA_PROTON__AMMONIUM_39__R2L',\n",
        "  1.2370612195055701),\n",
        " ('PYRUVDEH_RXN_L2R', 1.2202000962541619),\n",
        " ('ACETYL_COA_CARBOXYLTRANSFER_RXN_L2R', 0.83010285250948335),\n",
        " ('MALONYL_COA_ACP_TRANSACYL_RXN_ACP_MALONYL_COA__MALONYL_ACP_CO_A_34__L2R',\n",
        "  0.83009176367690796),\n",
        " ('ASPARTASE_RXN_R2L', 0.77820532753520288),\n",
        " ('PEPCARBOX_RXN_L2R', 0.76264893901482966),\n",
        " ('PGLYCDEHYDROG_RXN_L2R', 0.56739374292274702),\n",
        " ('PSERTRANSAM_RXN_R2L', 0.56739374292274702),\n",
        " ('TRANS_RXN0_601_Pi__Pi_7__R2L', 0.56561774118931019),\n",
        " ('TRANS_RXN_114_L2R', 0.56561774118931019),\n",
        " ('__NUT_EX_Pi_e', 0.56561774118931019),\n",
        " ('GLUCOKIN_RXN_GLC_ATP__GLC_6_P_ADP_PROTON_28__L2R', 0.54239004351648534),\n",
        " ('TRANS_RXN0_574_GLC__GLC_9__L2R', 0.54239004351648534),\n",
        " ('GLUCOSAMINE_6_P_DEAMIN_RXN_R2L', 0.53900096596555314),\n",
        " ('L_GLN_FRUCT_6_P_AMINOTRANS_RXN_FRUCTOSE_6P_GLN__CPD_13469_GLT_31__R2L',\n",
        "  0.53598694973070204),\n",
        " ('ADENYL_KIN_RXN_L2R', 0.48564651147255805),\n",
        " ('ISOCITDEH_RXN_L2R', 0.48562147217318979),\n",
        " ('INORGPYROPHOSPHAT_RXN_CCO_CYTOSOL__PPI_WATER__Pi_PROTON_34__L2R',\n",
        "  0.40000334389350001),\n",
        " ('__SEC_EX_TOP_LEVEL_c', 0.35770427662605342),\n",
        " ('__OBJ_TOP_LEVEL_c', 0.35770427662605342),\n",
        " ('RXN0_5224_R2L', 0.34374398135206918),\n",
        " ('R15_RXN_MET_2_KETOGLUTARATE__CPD_479_GLT_33__R2L', 0.32296689891433839),\n",
        " ('RXN0_5114_CCO_CYTOSOL__3_P_SERINE_WATER__SER_Pi_38__L2R',\n",
        "  0.28369687146137351),\n",
        " ('ACETOLACTREDUCTOISOM_RXN_R2L', 0.27933842370281803),\n",
        " ('ACETOLACTSYN_RXN_L2R', 0.27933842370281803),\n",
        " ('DIHYDROXYISOVALDEHYDRAT_RXN_L2R', 0.27933842370281803),\n",
        " ('RXN0_1401_L2R', 0.25921147716990295),\n",
        " ('RXN0_1402_L2R', 0.25921147716990295),\n",
        " ('PPENTOMUT_RXN_R2L', 0.2535529532179554),\n",
        " ('R15_RXN_MET_PYRUVATE__CPD_479_L_ALPHA_ALANINE_38__L2R',\n",
        "  0.24373254000746025),\n",
        " ('GLYOHMETRANS_RXN_SER_THF__GLY_METHYLENE_THF_WATER_33__L2R',\n",
        "  0.23902801336128501),\n",
        " ('METHENYLTHFCYCLOHYDRO_RXN_5_10_METHENYL_THF_WATER__10_FORMYL_THF_PROTON_46__L2R',\n",
        "  0.23321496116183502),\n",
        " ('METHYLENETHFDEHYDROG_NADP_RXN_METHYLENE_THF_NADP__5_10_METHENYL_THF_NADPH_44__L2R',\n",
        "  0.23321496116183502),\n",
        " ('ACETATEKIN_RXN_L2R', 0.23146256791063383),\n",
        " ('PHOSACETYLTRANS_RXN_R2L', 0.23146256791063383),\n",
        " ('RIBULP3EPIM_RXN_R2L', 0.22543167380672044),\n",
        " ('RIB5PISOM_RXN_R2L', 0.22391429226527271),\n",
        " ('2TRANSKETO_RXN_R2L', 0.19579301285403777),\n",
        " ('SUCCCOASYN_RXN_L2R', 0.19037128913321549),\n",
        " ('ASPARTATE_SEMIALDEHYDE_DEHYDROGENASE_RXN_R2L', 0.19033623411410613),\n",
        " ('ASPARTATEKIN_RXN_L2R', 0.19033623411410613),\n",
        " ('RXN_13202_L2R', 0.17869117138854493),\n",
        " ('2_5_1_19_RXN_L2R', 0.16371051628344591),\n",
        " ('3_DEHYDROQUINATE_DEHYDRATASE_RXN_L2R', 0.16371051628344591),\n",
        " ('3_DEHYDROQUINATE_SYNTHASE_RXN_L2R', 0.16371051628344591),\n",
        " ('CHORISMATE_SYNTHASE_RXN_L2R', 0.16371051628344591),\n",
        " ('DAHPSYN_RXN_L2R', 0.16371051628344591),\n",
        " ('RXN_7968_SHIKIMATE_NADP__3_DEHYDRO_SHIKIMATE_NADPH_PROTON_49__R2L',\n",
        "  0.16371051628344591),\n",
        " ('SHIKIMATE_KINASE_RXN_L2R', 0.16371051628344591),\n",
        " ('BRANCHED_CHAINAMINOTRANSFERVAL_RXN_R2L', 0.16069614234431809),\n",
        " ('CHORISMATEMUT_RXN_L2R', 0.13837754170851213),\n",
        " ('AICARTRANSFORM_RXN_10_FORMYL_THF_AICAR__THF_PHOSPHORIBOSYL_FORMAMIDO_CARBOXAMIDE_62__L2R',\n",
        "  0.1355409467948728),\n",
        " ('GDPKIN_RXN_L2R', 0.1355409467948728),\n",
        " ('IMPCYCLOHYDROLASE_RXN_R2L', 0.1355409467948728),\n",
        " ('ACETYLGLUTKIN_RXN_L2R', 0.13186052749266206),\n",
        " ('ACETYLORNDEACET_RXN_L2R', 0.13186052749266206),\n",
        " ('ACETYLORNTRANSAM_RXN_R2L', 0.13186052749266206),\n",
        " ('N_ACETYLGLUTPREDUCT_RXN_R2L', 0.13186052749266206),\n",
        " ('N_ACETYLTRANSFER_RXN_L2R', 0.13186052749266206),\n",
        " ('DIAMINOPIMEPIM_RXN_L2R', 0.13034600758542736),\n",
        " ('DIHYDRODIPICSYN_RXN_L2R', 0.13034600758542736),\n",
        " ('RXN_14014_R2L', 0.13034600758542736),\n",
        " ('SUCCDIAMINOPIMDESUCC_RXN_L2R', 0.13034600758542736),\n",
        " ('SUCCINYLDIAMINOPIMTRANS_RXN_R2L', 0.13034600758542736),\n",
        " ('TETHYDPICSUCC_RXN_L2R', 0.13034600758542736),\n",
        " ('DIAMINOPIMDECARB_RXN_L2R', 0.12944995837247911),\n",
        " ('AKBLIG_RXN_L2R', 0.12171710732037708),\n",
        " ('RXN_16000_R2L', 0.12171710732037708),\n",
        " ('2_ISOPROPYLMALATESYN_RXN_L2R', 0.11829030035029947),\n",
        " ('3_ISOPROPYLMALISOM_RXN_L2R', 0.11829030035029947),\n",
        " ('BRANCHED_CHAINAMINOTRANSFERLEU_RXN_R2L', 0.11829030035029947),\n",
        " ('RXN_8991_R2L', 0.11829030035029947),\n",
        " ('RXN_13158_L2R', 0.11829030035029947),\n",
        " ('RXN_9514_Beta_3_hydroxybutyryl_ACPs_NADP__Acetoacetyl_ACPs_NADPH_PROTON_63__R2L',\n",
        "  0.11611366982702982),\n",
        " ('RXN_9528_Beta_hydroxydecanoyl_ACPs_NADP__3_oxo_decanoyl_ACPs_NADPH_PROTON_65__R2L',\n",
        "  0.11611366982702982),\n",
        " ('2_3_1_180_RXN_ACETYL_COA_MALONYL_ACP_PROTON__Acetoacetyl_ACPs_CARBON_DIOXIDE_CO_A_68__L2R',\n",
        "  0.11611366982702982),\n",
        " ('RXN_9523_Hexanoyl_ACPs_MALONYL_ACP_PROTON__3_Oxo_octanoyl_ACPs_CARBON_DIOXIDE_ACP_73__L2R',\n",
        "  0.11611366982702982),\n",
        " ('RXN_9516_Butanoyl_ACPs_MALONYL_ACP_PROTON__3_oxo_hexanoyl_ACPs_CARBON_DIOXIDE_ACP_73__L2R',\n",
        "  0.11611366982702982),\n",
        " ('3_OXOACYL_ACP_SYNTH_RXN_MALONYL_ACP_Octanoyl_ACPs_PROTON__ACP_3_oxo_decanoyl_ACPs_CARBON_DIOXIDE_73__L2R',\n",
        "  0.11611366982702982),\n",
        " ('ENOYL_ACP_REDUCT_NADH_RXN_Octanoyl_ACPs_NAD__2_Octenoyl_ACPs_NADH_PROTON_47__R2L',\n",
        "  0.11611366982702982),\n",
        " ('3_HYDROXYDECANOYL_ACP_DEHYDR_RXN_Beta_3_hydroxybutyryl_ACPs__Crotonyl_ACPs_WATER_48__L2R',\n",
        "  0.11611366982702982),\n",
        " ('3_HYDROXYDECANOYL_ACP_DEHYDR_RXN_R_3_hydroxyhexanoyl_ACPs__Hex_2_enoyl_ACPs_WATER_49__L2R',\n",
        "  0.11611366982702982),\n",
        " ('3_HYDROXYDECANOYL_ACP_DEHYDR_RXN_3_Hydroxy_octanoyl_ACPs__2_Octenoyl_ACPs_WATER_47__L2R',\n",
        "  0.11611366982702982),\n",
        " ('3_HYDROXYDECANOYL_ACP_DEHYDR_RXN_Beta_hydroxydecanoyl_ACPs__Trans_D2_decenoyl_ACPs_WATER_56__L2R',\n",
        "  0.11611366982702982),\n",
        " ('RXN_9524_3_Hydroxy_octanoyl_ACPs_NADP__3_Oxo_octanoyl_ACPs_NADPH_PROTON_63__R2L',\n",
        "  0.11611366982702982),\n",
        " ('RXN_9518_R_3_hydroxyhexanoyl_ACPs_NADP__3_oxo_hexanoyl_ACPs_NADPH_PROTON_64__R2L',\n",
        "  0.11611366982702982),\n",
        " ('ENOYL_ACP_REDUCT_NADPH_RXN_Hexanoyl_ACPs_NADP__NADPH_Hex_2_enoyl_ACPs_PROTON_50__R2L',\n",
        "  0.11611366982702982),\n",
        " ('RXN_9657_Butanoyl_ACPs_NAD__Crotonyl_ACPs_NADH_PROTON_45__R2L',\n",
        "  0.11611366982702982),\n",
        " ('RXN_14249_R2L', 0.11605858336842953),\n",
        " ('RXN_16001_L2R', 0.11605858336842953),\n",
        " ('ASNSYNB_RXN_L2R', 0.11382650868228295),\n",
        " ('ARGSUCCINLYA_RXN_L2R', 0.10713100003239648),\n",
        " ('ARGSUCCINSYN_RXN_L2R', 0.10713100003239648),\n",
        " ('ORNCARBAMTRANSFER_RXN_L2R', 0.10713100003239648),\n",
        " ('ACETOOHBUTREDUCTOISOM_RXN_R2L', 0.10489892534624992),\n",
        " ('ACETOOHBUTSYN_RXN_L2R', 0.10489892534624992),\n",
        " ('ACETYL_COA_ACETYLTRANSFER_RXN_L2R', 0.10489892534624992),\n",
        " ('ACYL_COA_HYDROLASE_RXN_ACETOACETYL_COA_WATER__2_OXOBUTANOATE_CO_A_PROTON_50__L2R',\n",
        "  0.10489892534624992),\n",
        " ('BRANCHED_CHAINAMINOTRANSFERILEU_RXN_R2L', 0.10489892534624992),\n",
        " ('DIHYDROXYMETVALDEHYDRAT_RXN_L2R', 0.10489892534624992),\n",
        " ('325_BISPHOSPHATE_NUCLEOTIDASE_RXN_L2R', 0.09838012260901717),\n",
        " ('ACSERLY_RXN_L2R', 0.09838012260901717),\n",
        " ('ADENYLYLSULFKIN_RXN_L2R', 0.09838012260901717),\n",
        " ('SERINE_O_ACETTRAN_RXN_L2R', 0.09838012260901717),\n",
        " ('SULFATE_ADENYLYLTRANS_RXN_L2R', 0.09838012260901717),\n",
        " ('SULFITE_REDUCT_RXN_R2L', 0.09838012260901717),\n",
        " ('TRANS_RXN0_601_SULFATE__SULFATE_17__R2L', 0.09838012260901717),\n",
        " ('ABC_70_RXN_L2R', 0.09838012260901717),\n",
        " ('1_8_4_8_RXN_3_5_ADP_SO3_Ox_Thioredoxin_PROTON__PAPS_Red_Thioredoxin_56__R2L',\n",
        "  0.09838012260901717),\n",
        " ('THIOREDOXIN_REDUCT_NADPH_RXN_Red_Thioredoxin_NADP__Ox_Thioredoxin_NADPH_PROTON_50__R2L',\n",
        "  0.09838012260901717),\n",
        " ('__NUT_EX_SULFATE_e', 0.09838012260901717),\n",
        " ('AICARSYN_RXN_L2R', 0.097598896468870697),\n",
        " ('AIRS_RXN_L2R', 0.097598896468870697),\n",
        " ('FGAMSYN_RXN_L2R', 0.097598896468870697),\n",
        " ('GART_RXN_10_FORMYL_THF_5_PHOSPHO_RIBOSYL_GLYCINEAMIDE__THF_5_P_RIBOSYL_N_FORMYLGLYCINEAMIDE_PROTON_90__L2R',\n",
        "  0.097598896468870697),\n",
        " ('GLYRIBONUCSYN_RXN_L2R', 0.097598896468870697),\n",
        " ('PRPPAMIDOTRANS_RXN_R2L', 0.097598896468870697),\n",
        " ('RXN0_742_L2R', 0.097598896468870697),\n",
        " ('RXN0_743_L2R', 0.097598896468870697),\n",
        " ('SAICARSYN_RXN_L2R', 0.097598896468870697),\n",
        " ('GLUTKIN_RXN_L2R', 0.091507550342200372),\n",
        " ('GLUTSEMIALDEHYDROG_RXN_R2L', 0.091507550342200372),\n",
        " ('PYRROLINECARBREDUCT_RXN_PRO_NAD__L_DELTA1_PYRROLINE_5_CARBOXYLATE_NADH_PROTON_54__R2L',\n",
        "  0.091507550342200372),\n",
        " ('SPONTPRO_RXN_R2L', 0.091507550342200372),\n",
        " ('GLYOHMETRANS_RXN_SER_CPD_1301__GLY_CPD_12996_WATER_34__L2R',\n",
        "  0.082953767975241982),\n",
        " ('ADENYLOSUCCINATE_SYNTHASE_RXN_L2R', 0.082759176848762231),\n",
        " ('AMPSYN_RXN_L2R', 0.082759176848762231),\n",
        " ('1_5_1_20_RXN_CPD_1302_NAD__CPD_12996_NADH_PROTON_36__R2L',\n",
        "  0.082601786967041513),\n",
        " ('HOMOCYSMET_RXN_L2R', 0.082601786967041513),\n",
        " ('R15_RXN_MET_GLYOX__CPD_479_GLY_23__L2R', 0.079234358906878105),\n",
        " ('PHEAMINOTRANS_RXN_L2R', 0.07588445835628084),\n",
        " ('PREPHENATEDEHYDRAT_RXN_L2R', 0.07588445835628084),\n",
        " ('GLYCEROL_KIN_RXN_L2R', 0.072786381616422591),\n",
        " ('DIHYDROOROTATE_DEHYDROGENASE_RXN_DI_H_OROTATE_UBIQUINONE_8__OROTATE_CPD_9956_44__L2R',\n",
        "  0.071560171356148464),\n",
        " ('ASPCARBTRANS_RXN_L2R', 0.071560171356148464),\n",
        " ('DIHYDROOROT_RXN_R2L', 0.071560171356148464),\n",
        " ('OROPRIBTRANS_RXN_R2L', 0.071560171356148464),\n",
        " ('OROTPDECARB_RXN_L2R', 0.071560171356148464),\n",
        " ('NUCLEOSIDE_DIP_KIN_RXN_UDP_ATP__UTP_ADP_17__L2R', 0.071359499256961251),\n",
        " ('GLYCDEH_RXN_R2L', 0.071304770502637477),\n",
        " ('CDPKIN_RXN_L2R', 0.069386402467092406),\n",
        " ('RXN_11832_L2R', 0.069386402467092406),\n",
        " ('RXN_12002_L2R', 0.06740865552162649),\n",
        " ('PREPHENATEDEHYDROG_RXN_L2R', 0.062493083352231291),\n",
        " ('TYROSINE_AMINOTRANSFERASE_RXN_R2L', 0.062493083352231291),\n",
        " ('CYSTATHIONINE_BETA_LYASE_RXN_L2R', 0.059990226528678796),\n",
        " ('HOMOSERDEHYDROG_RXN_HOMO_SER_NADP__L_ASPARTATE_SEMIALDEHYDE_NADPH_PROTON_53__R2L',\n",
        "  0.059990226528678796),\n",
        " ('HOMSUCTRAN_RXN_L2R', 0.059990226528678796),\n",
        " ('O_SUCCHOMOSERLYASE_RXN_L2R', 0.059990226528678796),\n",
        " ('5_3_3_14_RXN_Trans_D2_decenoyl_ACPs__Cis_delta_3_decenoyl_ACPs_50__L2R',\n",
        "  0.059654699917203555),\n",
        " ('RXN_10658_Cis_Delta7_tetradecenoyl_ACPs_MALONYL_ACP_PROTON__3_oxo_cis_D9_hexadecenoyl_ACPs_ACP_CARBON_DIOXIDE_100__L2R',\n",
        "  0.059654699917203555),\n",
        " ('RXN_10655_3_hydroxy_cis_D7_tetraecenoyl_ACPs_NADP__3_oxo_cis_D7_tetradecenoyl_ACPs_NADPH_PROTON_86__R2L',\n",
        "  0.059654699917203555),\n",
        " ('RXN0_2142_b_Hydroxy_cis_D5_dodecenoyl_ACPs_NADP__b_Keto_cis_D5_dodecenoyl_ACPs_NADPH_PROTON_82__R2L',\n",
        "  0.059654699917203555),\n",
        " ('RXN_10659_3_hydroxy_cis_D9_hexaecenoyl_ACPs_NADP__3_oxo_cis_D9_hexadecenoyl_ACPs_NADPH_PROTON_84__R2L',\n",
        "  0.059654699917203555),\n",
        " ('RXN_10656_3_hydroxy_cis_D7_tetraecenoyl_ACPs__Trans_D3_cis_D7_tetradecenoyl_ACPs_WATER_77__L2R',\n",
        "  0.059654699917203555),\n",
        " ('RXN0_2144_b_Hydroxy_cis_D5_dodecenoyl_ACPs__Trans_D3_cis_D5_dodecenoyl_ACPs_WATER_72__L2R',\n",
        "  0.059654699917203555),\n",
        " ('RXN_10660_3_hydroxy_cis_D9_hexaecenoyl_ACPs__Trans_D3_cis_D9_hexadecenoyl_ACPs_WATER_75__L2R',\n",
        "  0.059654699917203555),\n",
        " ('RXN_10657_Cis_Delta7_tetradecenoyl_ACPs_NAD__Trans_D3_cis_D7_tetradecenoyl_ACPs_NADH_PROTON_82__R2L',\n",
        "  0.059654699917203555),\n",
        " ('RXN0_2145_Cis_Delta5_dodecenoyl_ACPs_NAD__Trans_D3_cis_D5_dodecenoyl_ACPs_NADH_PROTON_76__R2L',\n",
        "  0.059654699917203555),\n",
        " ('RXN_10654_Cis_Delta5_dodecenoyl_ACPs_MALONYL_ACP_PROTON__3_oxo_cis_D7_tetradecenoyl_ACPs_ACP_CARBON_DIOXIDE_98__L2R',\n",
        "  0.059654699917203555),\n",
        " ('RXN0_2141_Cis_delta_3_decenoyl_ACPs_MALONYL_ACP_PROTON__b_Keto_cis_D5_dodecenoyl_ACPs_ACP_CARBON_DIOXIDE_95__L2R',\n",
        "  0.059654699917203555),\n",
        " ('RXN_10661_Palmitoleoyl_ACPs_NAD__Trans_D3_cis_D9_hexadecenoyl_ACPs_NADH_PROTON_69__R2L',\n",
        "  0.059654699917203555),\n",
        " ('RXN_9533_R_3_hydroxydodecanoyl_ACPs__Dodec_2_enoyl_ACPs_WATER_53__L2R',\n",
        "  0.056458969909826268),\n",
        " ('3_OXOACYL_ACP_SYNTH_RXN_MALONYL_ACP_Decanoyl_ACPs_PROTON__ACP_3_oxo_dodecanoyl_ACPs_CARBON_DIOXIDE_75__L2R',\n",
        "  0.056458969909826268),\n",
        " ('ENOYL_ACP_REDUCT_NADH_RXN_Decanoyl_ACPs_NAD__Trans_D2_decenoyl_ACPs_NADH_PROTON_54__R2L',\n",
        "  0.056458969909826268),\n",
        " ('ENOYL_ACP_REDUCT_NADPH_RXN_Dodecanoyl_ACPs_NADP__NADPH_Dodec_2_enoyl_ACPs_PROTON_54__R2L',\n",
        "  0.056458969909826268),\n",
        " ('3_OXOACYL_ACP_REDUCT_RXN_R_3_hydroxydodecanoyl_ACPs_NADP__3_oxo_dodecanoyl_ACPs_NADPH_PROTON_68__R2L',\n",
        "  0.056458969909826268),\n",
        " ('3_OXOACYL_ACP_SYNTH_RXN_MALONYL_ACP_Dodecanoyl_ACPs_PROTON__ACP_3_oxo_myristoyl_ACPs_CARBON_DIOXIDE_76__L2R',\n",
        "  0.055848011005348967),\n",
        " ('3_OXOACYL_ACP_REDUCT_RXN_R_3_hydroxymyristoyl_ACPs_NADP__3_oxo_myristoyl_ACPs_NADPH_PROTON_66__R2L',\n",
        "  0.055848011005348967),\n",
        " ('RXN_9537_R_3_hydroxymyristoyl_ACPs__Tetradec_2_enoyl_ACPs_WATER_55__L2R',\n",
        "  0.053404175387439773),\n",
        " ('ENOYL_ACP_REDUCT_NADPH_RXN_Myristoyl_ACPs_NADP__NADPH_Tetradec_2_enoyl_ACPs_PROTON_56__R2L',\n",
        "  0.053404175387439773),\n",
        " ('GMP_SYN_NH3_RXN_L2R', 0.052781769946110578),\n",
        " ('GUANYL_KIN_RXN_L2R', 0.052781769946110578),\n",
        " ('IMP_DEHYDROG_RXN_L2R', 0.052781769946110578),\n",
        " ('4_2_1_61_RXN_R_3_Hydroxypalmitoyl_ACPs__2_Hexadecenoyl_ACPs_WATER_53__L2R',\n",
        "  0.049701578420083485),\n",
        " ('3_OXOACYL_ACP_SYNTH_RXN_MALONYL_ACP_Myristoyl_ACPs_PROTON__ACP_3_oxo_palmitoyl_ACPs_CARBON_DIOXIDE_75__L2R',\n",
        "  0.049701578420083485),\n",
        " ('RXN_9540_R_3_Hydroxypalmitoyl_ACPs_NADP__3_oxo_palmitoyl_ACPs_NADPH_PROTON_66__R2L',\n",
        "  0.049701578420083485),\n",
        " ('ENOYL_ACP_REDUCT_NADPH_RXN_Palmitoyl_ACPs_NADP__NADPH_2_Hexadecenoyl_ACPs_PROTON_54__R2L',\n",
        "  0.049701578420083485),\n",
        " ('RXN_17018_Palmitoyl_ACPs_GLYCEROL_3P__1_PALMITOYLGLYCEROL_3_PHOSPHATE_ACP_64__L2R',\n",
        "  0.044677264150594066),\n",
        " ('ATPPHOSPHORIBOSYLTRANS_RXN_R2L', 0.037942050326002105),\n",
        " ('GLUTAMIDOTRANS_RXN_L2R', 0.037942050326002105),\n",
        " ('HISTAMINOTRANS_RXN_L2R', 0.037942050326002105),\n",
        " ('HISTCYCLOHYD_RXN_L2R', 0.037942050326002105),\n",
        " ('HISTPRATPHYD_RXN_L2R', 0.037942050326002105),\n",
        " ('IMIDPHOSDEHYD_RXN_L2R', 0.037942050326002105),\n",
        " ('PRIBFAICARPISOM_RXN_L2R', 0.037942050326002105),\n",
        " ('RXN_8001_L2R', 0.037942050326002105),\n",
        " ('CTPSYN_RXN_L2R', 0.034716273159388335),\n",
        " ('TRANSALDOL_RXN_R2L', 0.03208249657059186),\n",
        " ('1TRANSKETO_RXN_L2R', 0.029638660952682666),\n",
        " ('CDPDIGLYSYN_RXN_CTP_CPD_18350_PROTON__CPD_18358_PPI_36__L2R',\n",
        "  0.027382620080001013),\n",
        " ('RXN_17012_Palmitoleoyl_ACPs_1_PALMITOYLGLYCEROL_3_PHOSPHATE__CPD_18350_ACP_65__L2R',\n",
        "  0.027382620080001013),\n",
        " ('S_ADENMETSYN_RXN_L2R', 0.026836763353869655),\n",
        " ('ADENPRIBOSYLTRAN_RXN_R2L', 0.026744833354776759),\n",
        " ('ORNDECARBOX_RXN_L2R', 0.024729527460265573),\n",
        " ('RXN_9558_Cis_vaccenoyl_ACPs_NAD__cis_vaccen_2_enoyl_ACPs_NADH_PROTON_60__R2L',\n",
        "  0.024616135204575115),\n",
        " ('RXN_9556_R_3_hydroxy_cis_vaccenoyl_ACPs_NADP__3_oxo_cis_vaccenoyl_ACPs_NADPH_PROTON_75__R2L',\n",
        "  0.024616135204575115),\n",
        " ('2_3_1_179_RXN_Palmitoleoyl_ACPs_MALONYL_ACP_PROTON__3_oxo_cis_vaccenoyl_ACPs_CARBON_DIOXIDE_ACP_82__L2R',\n",
        "  0.024616135204575115),\n",
        " ('RXN_9557_R_3_hydroxy_cis_vaccenoyl_ACPs__cis_vaccen_2_enoyl_ACPs_WATER_62__L2R',\n",
        "  0.024616135204575115),\n",
        " ('ANTHRANSYN_RXN_L2R', 0.024550675321952549),\n",
        " ('IGPSYN_RXN_L2R', 0.024550675321952549),\n",
        " ('PRAISOM_RXN_L2R', 0.024550675321952549),\n",
        " ('PRTRANS_RXN_R2L', 0.024550675321952549),\n",
        " ('RXN0_2381_L2R', 0.024550675321952549),\n",
        " ('TRYPTOPHAN_RXN_R2L', 0.024550675321952549),\n",
        " ('ADENOSYLHOMOCYSTEINE_NUCLEOSIDASE_RXN_L2R', 0.022611560438362713),\n",
        " ('RIBOSYLHOMOCYSTEINASE_RXN_L2R', 0.022611560438362713),\n",
        " ('RXN_15216_L2R', 0.022611560438362713),\n",
        " ('RXN_15943_R2L', 0.022611560438362713),\n",
        " ('RXN0_5461_L2R', 0.022611560438362713),\n",
        " ('PHOSPHASERDECARB_RXN_CPD_18363_PROTON__CPD_18367_CARBON_DIOXIDE_43__L2R',\n",
        "  0.020663145243580601),\n",
        " ('PHOSPHASERSYN_RXN_CPD_18358_SER__CMP_CPD_18363_PROTON_36__L2R',\n",
        "  0.020663145243580601),\n",
        " ('HISTIDPHOS_RXN_CCO_CYTOSOL__L_HISTIDINOL_P_WATER__HISTIDINOL_Pi_49__L2R',\n",
        "  0.018971025163001053),\n",
        " ('2_1_1_79_RXN_CPD_18367_S_ADENOSYLMETHIONINE__CPD_18371_ADENOSYL_HOMO_CYS_PROTON_67__L2R',\n",
        "  0.014223037447205135),\n",
        " ('PHOSPHOGLUCMUT_RXN_GLC_1_P__GLC_6_P_17__R2L', 0.012967853140524314),\n",
        " ('CDPDIGLYSYN_RXN_CTP_CPD_18352_PROTON__CPD_18356_PPI_36__L2R',\n",
        "  0.011753804825655488),\n",
        " ('RXN_17014_Cis_vaccenoyl_ACPs_1_PALMITOYLGLYCEROL_3_PHOSPHATE__CPD_18352_ACP_66__L2R',\n",
        "  0.011753804825655488),\n",
        " ('2_7_1_148_RXN_L2R', 0.01158854544985425),\n",
        " ('2_7_7_60_RXN_L2R', 0.01158854544985425),\n",
        " ('DXPREDISOM_RXN_R2L', 0.01158854544985425),\n",
        " ('DXS_RXN_L2R', 0.01158854544985425),\n",
        " ('RXN_15878_HYDROXY_METHYL_BUTENYL_DIP_Oxidized_flavodoxins_WATER_PROTON__2C_METH_D_ERYTHRITOL_CYCLODIPHOSPHATE_Reduced_flavodoxins_120__R2L',\n",
        "  0.01158854544985425),\n",
        " ('RXN0_302_L2R', 0.01158854544985425),\n",
        " ('PYRUFLAVREDUCT_RXN_L2R', 0.01158854544985425),\n",
        " ('GLUC1PADENYLTRANS_RXN_L2R', 0.010524017522615116),\n",
        " ('ISPH2_RXN_R2L', 0.010433518340628724),\n",
        " ('RXN_17016_Cis_vaccenoyl_ACPs_GLYCEROL_3P__CPD_18348_ACP_46__L2R',\n",
        "  0.0091153780812617182),\n",
        " ('PHOSPHASERDECARB_RXN_CPD_18365_PROTON__CPD_18369_CARBON_DIOXIDE_43__L2R',\n",
        "  0.0081073674297294993),\n",
        " ('PHOSPHASERSYN_RXN_CPD_18356_SER__CMP_CPD_18365_PROTON_36__L2R',\n",
        "  0.0081073674297294993),\n",
        " ('PGPPHOSPHA_RXN_CPD_18359_WATER__CPD_18361_Pi_30__L2R',\n",
        "  0.0067194748364204126),\n",
        " ('PHOSPHAGLYPSYN_RXN_CPD_18358_GLYCEROL_3P__CMP_CPD_18359_PROTON_44__L2R',\n",
        "  0.0067194748364204126),\n",
        " ('DIHYDROFOLATEREDUCT_RXN_THF_NADP__DIHYDROFOLATE_NADPH_PROTON_37__R2L',\n",
        "  0.0059622148828030828),\n",
        " ('RXN0_746_DGTP_Oxidized_flavodoxins_WATER__GTP_Reduced_flavodoxins_57__R2L',\n",
        "  0.005840953133026826),\n",
        " ('RXN0_723_DCTP_Oxidized_flavodoxins_WATER__CTP_Reduced_flavodoxins_57__R2L',\n",
        "  0.005840953133026826),\n",
        " ('D_PPENTOMUT_RXN_R2L', 0.0056585239519475385),\n",
        " ('DEOXYRIBOSE_P_ALD_RXN_R2L', 0.0056585239519475385),\n",
        " ('DTDPKIN_RXN_L2R', 0.0056585239519475385),\n",
        " ('DTMPKI_RXN_L2R', 0.0056585239519475385),\n",
        " ('DURIDKI_RXN_L2R', 0.0056585239519475385),\n",
        " ('LTAA_RXN_L2R', 0.0056585239519475385),\n",
        " ('THYMIDYLATESYN_RXN_METHYLENE_THF_DUMP__TMP_DIHYDROFOLATE_38__L2R',\n",
        "  0.0056585239519475385),\n",
        " ('URA_PHOSPH_RXN_R2L', 0.0056585239519475385),\n",
        " ('URPHOS_RXN_L2R', 0.0056585239519475385),\n",
        " ('RXN0_745_DATP_Oxidized_flavodoxins_WATER__ATP_Reduced_flavodoxins_57__R2L',\n",
        "  0.0056585239519475385),\n",
        " ('CDPDIGLYSYN_RXN_CTP_CPD_18351_PROTON__CPD_18357_PPI_36__L2R',\n",
        "  0.005368425783603809),\n",
        " ('RXN_17013_Palmitoleoyl_ACPs_CPD_18348__CPD_18351_ACP_43__L2R',\n",
        "  0.005368425783603809),\n",
        " ('CDPDIGLYSYN_RXN_CTP_CPD0_1422_PROTON__CPD_12815_PPI_36__L2R',\n",
        "  0.0050243142694895455),\n",
        " ('RXN0_6705_1_PALMITOYLGLYCEROL_3_PHOSPHATE_Palmitoyl_ACPs__CPD0_1422_ACP_62__L2R',\n",
        "  0.0050243142694895455),\n",
        " ('PHOSPHASERDECARB_RXN_CPD_18364_PROTON__CPD_18368_CARBON_DIOXIDE_43__L2R',\n",
        "  0.0041973019819301106),\n",
        " ('PHOSPHASERSYN_RXN_CPD_18357_SER__CMP_CPD_18364_PROTON_36__L2R',\n",
        "  0.0041973019819301106),\n",
        " ('METHYLTHIOADENOSINE_NUCLEOSIDASE_RXN_L2R', 0.0041010795315177019),\n",
        " ('SAMDECARB_RXN_L2R', 0.0041010795315177019),\n",
        " ('SPERMIDINESYN_RXN_L2R', 0.0041010795315177019),\n",
        " ('TRANS_RXN0_461_L2R', 0.0041010795315177019),\n",
        " ('TRANS_RXN0_615_L2R', 0.0041010795315177019),\n",
        " ('__SEC_EX_CPD_560_e', 0.0041010795315177019),\n",
        " ('CDPDIGLYSYN_RXN_CTP_CPD_18353_PROTON__CPD_18355_PPI_36__L2R',\n",
        "  0.0037469522976579092),\n",
        " ('RXN_17015_Cis_vaccenoyl_ACPs_CPD_18348__CPD_18353_ACP_44__L2R',\n",
        "  0.0037469522976579092),\n",
        " ('PGPPHOSPHA_RXN_CPD_18360_WATER__CPD_18362_Pi_30__L2R',\n",
        "  0.0036464373959259884),\n",
        " ('PHOSPHAGLYPSYN_RXN_CPD_18356_GLYCEROL_3P__CMP_CPD_18360_PROTON_44__L2R',\n",
        "  0.0036464373959259884),\n",
        " ('2_1_1_79_RXN_CPD_18361_S_ADENOSYLMETHIONINE__CPD_18373_ADENOSYL_HOMO_CYS_PROTON_67__L2R',\n",
        "  0.0035158753349574783),\n",
        " ('2_3_1_157_RXN_L2R', 0.0030140162348511255),\n",
        " ('5_4_2_10_RXN_CPD_13469__GLUCOSAMINE_1P_26__L2R', 0.0030140162348511255),\n",
        " ('NAG1P_URIDYLTRANS_RXN_L2R', 0.0030140162348511255),\n",
        " ('PGPPHOSPHA_RXN_CPD_12821_WATER__CPD_8260_Pi_29__L2R',\n",
        "  0.0029632222275702263),\n",
        " ('PHOSPHAGLYPSYN_RXN_CPD_12815_GLYCEROL_3P__CMP_CPD_12821_PROTON_44__L2R',\n",
        "  0.0029632222275702263),\n",
        " ('5_NUCLEOTID_RXN_CCO_CYTOSOL__UMP_WATER__URIDINE_Pi_35__L2R',\n",
        "  0.0028292619759737693),\n",
        " ('PHOSPHASERDECARB_RXN_CPD_18366_PROTON__CPD_18370_CARBON_DIOXIDE_43__L2R',\n",
        "  0.0027507458872543505),\n",
        " ('PHOSPHASERSYN_RXN_CPD_18355_SER__CMP_CPD_18366_PROTON_36__L2R',\n",
        "  0.0027507458872543505),\n",
        " ('GLUC1PURIDYLTRANS_RXN_L2R', 0.002443835617909197),\n",
        " ('5_1_3_20_RXN_L2R', 0.0024438356179091966),\n",
        " ('RXN0_4301_L2R', 0.0024438356179091966),\n",
        " ('RXN0_4341_L2R', 0.0024438356179091966),\n",
        " ('RXN0_4342_L2R', 0.0024438356179091966),\n",
        " ('RXN0_4361_L2R', 0.0024438356179091966),\n",
        " ('RXN_17017_Myristoyl_ACPs_GLYCEROL_3P__CPD_18379_ACP_42__L2R',\n",
        "  0.0024313159682272851),\n",
        " ('CDPDIGLYSYN_RXN_CTP_CPD_18380_PROTON__CPD_18387_PPI_36__L2R',\n",
        "  0.0022875188490236115),\n",
        " ('RXN_17020_Palmitoleoyl_ACPs_CPD_18379__CPD_18380_ACP_43__L2R',\n",
        "  0.0022875188490236115),\n",
        " ('2_1_1_79_RXN_CPD_18369_S_ADENOSYLMETHIONINE__CPD_18372_ADENOSYL_HOMO_CYS_PROTON_67__L2R',\n",
        "  0.0022828686934274725),\n",
        " ('PHOSPHASERDECARB_RXN_CPD_12817_PROTON__CPD_12819_CARBON_DIOXIDE_43__L2R',\n",
        "  0.0020610920419193196),\n",
        " ('PHOSPHASERSYN_RXN_CPD_12815_SER__CMP_CPD_12817_PROTON_36__L2R',\n",
        "  0.0020610920419193196),\n",
        " ('GSAAMINOTRANS_RXN_L2R', 0.0019144332885026377),\n",
        " ('GLURS_RXN_GLT_tRNAs_GLT_ATP_PROTON__Charged_GLT_tRNAs_AMP_PPI_52__L2R',\n",
        "  0.0019144332885026377),\n",
        " ('GLUTRNAREDUCT_RXN_GLUTAMATE_1_SEMIALDEHYDE_GLT_tRNAs_NADP__Charged_GLT_tRNAs_NADPH_65__R2L',\n",
        "  0.0019144332885026377),\n",
        " ('ALARACECAT_RXN_L2R', 0.0017920984258965272),\n",
        " ('PHOSPHASERDECARB_RXN_CPD_18402_PROTON__CPD_18403_CARBON_DIOXIDE_43__L2R',\n",
        "  0.0017380850801259936),\n",
        " ('PHOSPHASERSYN_RXN_CPD_18387_SER__CMP_CPD_18402_PROTON_36__L2R',\n",
        "  0.0017380850801259936),\n",
        " ('CARDIOLIPSYN_RXN_CPD_8260__CPD_12824_GLYCEROL_29__L2R',\n",
        "  0.0014816111137851131),\n",
        " ('CPM_KDOSYNTH_RXN_L2R', 0.0012219178089545985),\n",
        " ('DARAB5PISOM_RXN_R2L', 0.0012219178089545985),\n",
        " ('KDO_8PPHOSPHAT_RXN_L2R', 0.0012219178089545985),\n",
        " ('KDO_8PSYNTH_RXN_L2R', 0.0012219178089545985),\n",
        " ('RXN_16804_L2R', 0.0012219178089545985),\n",
        " ('UDPACYLGLCNACDEACETYL_RXN_L2R', 0.0012219178089545985),\n",
        " ('UDPHYDROXYMYRGLUCOSAMNACETYLTRANS_RXN_R_3_hydroxymyristoyl_ACPs_UDP_OHMYR_GLUCOSAMINE__OH_MYRISTOYL_ACP_PROTON_73__L2R',\n",
        "  0.0012219178089545985),\n",
        " ('UDPNACETYLGLUCOSAMACYLTRANS_RXN_R_3_hydroxymyristoyl_ACPs_UDP_N_ACETYL_D_GLUCOSAMINE__UDP_OHMYR_ACETYLGLUCOSAMINE_ACP_86__L2R',\n",
        "  0.0012219178089545985),\n",
        " ('PGPPHOSPHA_RXN_CPD_18399_WATER__CPD_18394_Pi_30__L2R',\n",
        "  0.0011711238016736988),\n",
        " ('PHOSPHAGLYPSYN_RXN_CPD_18357_GLYCEROL_3P__CMP_CPD_18399_PROTON_44__L2R',\n",
        "  0.0011711238016736988),\n",
        " ('FPPSYN_RXN_L2R', 0.0011550271092255263),\n",
        " ('GPPSYN_RXN_L2R', 0.0011550271092255263),\n",
        " ('RXN0_884_R2L', 0.0011550271092255263),\n",
        " ('2_1_1_79_RXN_CPD_18403_S_ADENOSYLMETHIONINE__CPD_18404_ADENOSYL_HOMO_CYS_PROTON_67__L2R',\n",
        "  0.0010652433357923872),\n",
        " ('PGPPHOSPHA_RXN_CPD_18400_WATER__CPD_18396_Pi_30__L2R',\n",
        "  0.00099620641040355871),\n",
        " ('PHOSPHAGLYPSYN_RXN_CPD_18355_GLYCEROL_3P__CMP_CPD_18400_PROTON_44__L2R',\n",
        "  0.00099620641040355871),\n",
        " ('PORPHOBILSYNTH_RXN_L2R', 0.00095721664425131884),\n",
        " ('2_1_1_79_RXN_CPD_18362_S_ADENOSYLMETHIONINE__CPD_18406_ADENOSYL_HOMO_CYS_PROTON_67__L2R',\n",
        "  0.00095256648865518019),\n",
        " ('R601_RXN_FUM_REDUCED_MENAQUINONE__SUC_CPD_9728_38__L2R',\n",
        "  0.00092180392086533961),\n",
        " ('RXN_8999_L2R', 0.00091572294816269658),\n",
        " ('DALADALALIG_RXN_L2R', 0.00089604921294826362),\n",
        " ('GLUTRACE_RXN_L2R', 0.00089604921294826362),\n",
        " ('NACGLCTRANS_RXN_L2R', 0.00089604921294826362),\n",
        " ('PHOSNACMURPENTATRANS_RXN_L2R', 0.00089604921294826362),\n",
        " ('UDP_NACMUR_ALA_LIG_RXN_L2R', 0.00089604921294826362),\n",
        " ('UDP_NACMURALA_GLU_LIG_RXN_L2R', 0.00089604921294826362),\n",
        " ('UDP_NACMURALGLDAPAALIG_RXN_L2R', 0.00089604921294826362),\n",
        " ('UDP_NACMURALGLDAPLIG_RXN_L2R', 0.00089604921294826362),\n",
        " ('UDPNACETYLGLUCOSAMENOLPYRTRANS_RXN_L2R', 0.00089604921294826362),\n",
        " ('UDPNACETYLMURAMATEDEHYDROG_RXN_R2L', 0.00089604921294826362),\n",
        " ('UNDECAPRENYL_DIPHOSPHATASE_RXN_L2R', 0.00089604921294826362),\n",
        " ('NAD_SYNTH_NH3_RXN_L2R', 0.00081485034215236416),\n",
        " ('NICONUCADENYLYLTRAN_RXN_L2R', 0.00081485034215236416),\n",
        " ('QUINOLINATE_SYNTHA_RXN_L2R', 0.00081485034215236416),\n",
        " ('QUINOPRIBOTRANS_RXN_R2L', 0.00081485034215236416),\n",
        " ('RXN_9772_L2R', 0.00081485034215236416),\n",
        " ('RXN0_5256_CPD_9728_PROTON_HYDROGEN_MOLECULE__REDUCED_MENAQUINONE_PROTON_62__L2R',\n",
        "  0.00074688652959522444),\n",
        " ('FHLMULTI_RXN_L2R', 0.00074688652959522444),\n",
        " ('KDOTRANS_RXN_L2R', 0.00061095890447729925),\n",
        " ('KDOTRANS2_RXN_L2R', 0.00061095890447729925),\n",
        " ('LIPIDADISACCHARIDESYNTH_RXN_L2R', 0.00061095890447729925),\n",
        " ('LIPIDXSYNTHESIS_RXN_L2R', 0.00061095890447729925),\n",
        " ('RXN0_5061_L2R', 0.00061095890447729925),\n",
        " ('RXN0_5118_L2R', 0.00061095890447729925),\n",
        " ('RXN0_5120_L2R', 0.00061095890447729925),\n",
        " ('RXN0_5121_L2R', 0.00061095890447729925),\n",
        " ('RXN0_5122_L2R', 0.00061095890447729925),\n",
        " ('RXN0_5123_L2R', 0.00061095890447729925),\n",
        " ('RXN0_5124_L2R', 0.00061095890447729925),\n",
        " ('RXN0_5125_L2R', 0.00061095890447729925),\n",
        " ('RXN0_5126_L2R', 0.00061095890447729925),\n",
        " ('RXN0_5127_L2R', 0.00061095890447729925),\n",
        " ('TETRAACYLDISACC4KIN_RXN_L2R', 0.00061095890447729925),\n",
        " ('UDPGLUCEPIM_RXN_L2R', 0.00061095890447729925),\n",
        " ('MYRISTOYLACYLTRAN_RXN_Myristoyl_ACPs_KDO2_LAUROYL_LIPID_IVA__KDO2_LIPID_A_ACP_56__L2R',\n",
        "  0.00061095890447729925),\n",
        " ('LAUROYLACYLTRAN_RXN_Dodecanoyl_ACPs_KDO2_LIPID_IVA__KDO2_LAUROYL_LIPID_IVA_ACP_59__L2R',\n",
        "  0.00061095890447729925),\n",
        " ('PGPPHOSPHA_RXN_CPD_18397_WATER__CPD_18392_Pi_30__L2R',\n",
        "  0.00054943376889761799),\n",
        " ('PHOSPHAGLYPSYN_RXN_CPD_18387_GLYCEROL_3P__CMP_CPD_18397_PROTON_44__L2R',\n",
        "  0.00054943376889761799),\n",
        " ('CDPDIGLYSYN_RXN_CTP_CPD_18390_PROTON__CPD_18391_PPI_36__L2R',\n",
        "  0.00051652497544802105),\n",
        " ('PGPPHOSPHA_RXN_CPD_18398_WATER__CPD_18393_Pi_30__L2R',\n",
        "  0.00051652497544802105),\n",
        " ('PHOSPHAGLYPSYN_RXN_CPD_18391_GLYCEROL_3P__CMP_CPD_18398_PROTON_44__L2R',\n",
        "  0.00051652497544802105),\n",
        " ('RXN_17024_1_PALMITOYLGLYCEROL_3_PHOSPHATE_Myristoyl_ACPs__CPD_18390_ACP_62__L2R',\n",
        "  0.00051652497544802105),\n",
        " ('ISOCHORSYN_RXN_L2R', 0.00039884026843804954),\n",
        " ('TRANS_RXN0_610_CCO_PM_BAC_NEG__HYDROGEN_MOLECULE__HYDROGEN_MOLECULE_53__L2R',\n",
        "  0.00037344326479761222),\n",
        " ('2_DEHYDROPANTOATE_REDUCT_RXN_R2L', 0.00035198100820047878),\n",
        " ('3_CH3_2_OXOBUTANOATE_OH_CH3_XFER_RXN_CPD_12996_2_KETO_ISOVALERATE_WATER__2_DEHYDROPANTOATE_CPD_1301_63__L2R',\n",
        "  0.00035198100820047878),\n",
        " ('ASPDECARBOX_RXN_L2R', 0.00035198100820047878),\n",
        " ('DEPHOSPHOCOAKIN_RXN_L2R', 0.00035198100820047878),\n",
        " ('P_PANTOCYSDECARB_RXN_L2R', 0.00035198100820047878),\n",
        " ('P_PANTOCYSLIG_RXN_L2R', 0.00035198100820047878),\n",
        " ('PANTEPADENYLYLTRAN_RXN_L2R', 0.00035198100820047878),\n",
        " ('PANTOATE_BETA_ALANINE_LIG_RXN_L2R', 0.00035198100820047878),\n",
        " ('PANTOTHENATE_KIN_RXN_L2R', 0.00035198100820047878),\n",
        " ('2_1_1_79_RXN_CPD_18392_S_ADENOSYLMETHIONINE__CPD_18405_ADENOSYL_HOMO_CYS_PROTON_67__L2R',\n",
        "  0.00031656828481405725),\n",
        " ('ADCLY_RXN_L2R', 0.0003036909308555443),\n",
        " ('DIHYDROFOLATESYNTH_RXN_L2R', 0.0003036909308555443),\n",
        " ('GLYCOLALD_DEHYDROG_RXN_L2R', 0.0003036909308555443),\n",
        " ('GLYCOLATEDEHYDRO_RXN_L2R', 0.0003036909308555443),\n",
        " ('GTP_CYCLOHYDRO_I_RXN_L2R', 0.0003036909308555443),\n",
        " ('H2NEOPTERINALDOL_RXN_L2R', 0.0003036909308555443),\n",
        " ('H2NTPEPIM_RXN_L2R', 0.0003036909308555443),\n",
        " ('H2PTERIDINEPYROPHOSPHOKIN_RXN_L2R', 0.0003036909308555443),\n",
        " ('H2PTEROATESYNTH_RXN_L2R', 0.0003036909308555443),\n",
        " ('PABASYN_RXN_L2R', 0.0003036909308555443),\n",
        " ('RXN_10856_R2L', 0.0003036909308555443),\n",
        " ('RXN_8667_L2R', 0.0003036909308555443),\n",
        " ('RXN0_6368_L2R', 0.0003036909308555443),\n",
        " ('DIOHBUTANONEPSYN_RXN_L2R', 0.00029546373249312007),\n",
        " ('LUMAZINESYN_RXN_L2R', 0.00029546373249312007),\n",
        " ('DHBDEHYD_RXN_L2R', 0.00023930416106282971),\n",
        " ('ISOCHORMAT_RXN_L2R', 0.00023930416106282971),\n",
        " ('OHMETHYLBILANESYN_RXN_L2R', 0.00023930416106282971),\n",
        " ('UROGENIIISYN_RXN_L2R', 0.00023930416106282971),\n",
        " ('TRANS_RXN_8_L2R', 0.00023930416106282971),\n",
        " ('TRANS_RXN0_601_FE_2__FE_2_11__R2L', 0.00023930416106282971),\n",
        " ('__NUT_EX_FE_2_e', 0.00023930416106282971),\n",
        " ('NAD_KIN_RXN_L2R', 0.00015989381165195185),\n",
        " ('2_5_1_64_RXN_L2R', 0.0001595361073752198),\n",
        " ('DMK_RXN_L2R', 0.0001595361073752198),\n",
        " ('NAPHTHOATE_SYN_RXN_L2R', 0.0001595361073752198),\n",
        " ('O_SUCCINYLBENZOATE_COA_LIG_RXN_L2R', 0.0001595361073752198),\n",
        " ('O_SUCCINYLBENZOATE_COA_SYN_RXN_L2R', 0.0001595361073752198),\n",
        " ('RXN_8992_L2R', 0.0001595361073752198),\n",
        " ('RXN_9310_L2R', 0.0001595361073752198),\n",
        " ('RXN_9311_L2R', 0.0001595361073752198),\n",
        " ('RXN0_1461_L2R', 0.0001595361073752198),\n",
        " ('UROGENDECARBOX_RXN_L2R', 0.0001595361073752198),\n",
        " ('GTP_CYCLOHYDRO_II_RXN_L2R', 0.00014773186624656004),\n",
        " ('RIBOFLAVIN_SYN_RXN_L2R', 0.00014773186624656004),\n",
        " ('RIBOFLAVINSYNDEAM_RXN_L2R', 0.00014773186624656004),\n",
        " ('RIBOFLAVINSYNREDUC_RXN_R2L', 0.00014773186624656004),\n",
        " ('RIBOPHOSPHAT_RXN_L2R', 0.00014773186624656004),\n",
        " ('CDPDIGLYSYN_RXN_CTP_CPD0_1425_PROTON__CPD_18388_PPI_36__L2R',\n",
        "  0.00014379711920367347),\n",
        " ('PHOSPHASERDECARB_RXN_CPD_18401_PROTON__CPD_17087_CARBON_DIOXIDE_43__L2R',\n",
        "  0.00014379711920367347),\n",
        " ('PHOSPHASERSYN_RXN_CPD_18388_SER__CMP_CPD_18401_PROTON_36__L2R',\n",
        "  0.00014379711920367347),\n",
        " ('RXN_17022_Myristoyl_ACPs_CPD_18379__CPD0_1425_ACP_40__L2R',\n",
        "  0.00014379711920367347),\n",
        " ('PROTOPORGENOXI_RXN_L2R', 0.00010123031028518144),\n",
        " ('1_5_1_20_RXN_5_METHYL_THF_NAD__METHYLENE_THF_NADH_PROTON_44__R2L',\n",
        "  7.9768053687609899e-05),\n",
        " ('ADOMET_DMK_METHYLTRANSFER_RXN_L2R', 7.9768053687609899e-05),\n",
        " ('DIMETHUROPORDEHYDROG_RXN_L2R', 7.9768053687609899e-05),\n",
        " ('ENTMULTI_RXN_L2R', 7.9768053687609899e-05),\n",
        " ('GLUTATHIONE_SYN_RXN_L2R', 7.9768053687609899e-05),\n",
        " ('GLUTCYSLIG_RXN_L2R', 7.9768053687609899e-05),\n",
        " ('HEMEOSYN_RXN_PROTOHEME_FARNESYL_PP_WATER__CPD_17063_PPI_43__L2R',\n",
        "  7.9768053687609899e-05),\n",
        " ('PROTOHEMEFERROCHELAT_RXN_CCO_CYTOSOL__FE_2_PROTOPORPHYRIN_IX__PROTOHEME_PROTON_54__L2R',\n",
        "  7.9768053687609899e-05),\n",
        " ('SIROHEME_FERROCHELAT_RXN_L2R', 7.9768053687609899e-05),\n",
        " ('RXN_13403_L2R', 7.9768053687609899e-05),\n",
        " ('FADSYN_RXN_L2R', 7.4402489538219095e-05),\n",
        " ('RIBOFLAVINKIN_RXN_L2R', 7.4402489538219095e-05),\n",
        " ('RXN0_6259_PROTOPORPHYRIN_IX_REDUCED_MENAQUINONE__PROTOPORPHYRINOGEN_CPD_9728_67__R2L',\n",
        "  5.8305797090038367e-05),\n",
        " ('RXN0_6550_L2R', 3.2193384896344805e-05),\n",
        " ('__SEC_EX_CPD0_2167_c', 3.2193384896344805e-05),\n",
        " ('2_8_1_6_RXN_L2R', 1.6096692448172403e-05),\n",
        " ('DAPASYN_RXN_L2R', 1.6096692448172403e-05),\n",
        " ('DETHIOBIOTIN_SYN_RXN_L2R', 1.6096692448172403e-05),\n",
        " ('RXN_11475_MALONYL_ACP_S_ADENOSYLMETHIONINE__Malonyl_acp_methyl_ester_ADENOSYL_HOMO_CYS_77__L2R',\n",
        "  1.6096692448172403e-05),\n",
        " ('RXN_11484_Pimeloyl_ACPs_L_ALPHA_ALANINE_PROTON__8_AMINO_7_OXONONANOATE_CARBON_DIOXIDE_ACP_80__L2R',\n",
        "  1.6096692448172403e-05),\n",
        " ('RXN_12588_CYS_Unsulfurated_Sulfur_Acceptors__L_ALPHA_ALANINE_Sulfurated_Sulfur_Acceptors_79__L2R',\n",
        "  1.6096692448172403e-05),\n",
        " ('TRANS_RXN0_607_METOH__METOH_13__L2R', 1.6096692448172403e-05),\n",
        " ('TRANS_RXN0_459_L2R', 1.6096692448172403e-05),\n",
        " ('RXN_11483_Pimeloyl_ACP_methyl_esters_WATER__Pimeloyl_ACPs_METOH_PROTON_61__L2R',\n",
        "  1.6096692448172403e-05),\n",
        " ('RXN_11480_3_hydroxypimeloyl_ACP_methyl_esters_NADP__3_Ketopimeloyl_ACP_methyl_esters_NADPH_PROTON_88__R2L',\n",
        "  1.6096692448172403e-05),\n",
        " ('RXN_11477_3_Hydroxyglutaryl_ACP_methyl_ester__Enoylglutaryl_ACP_methyl_esters_WATER_74__L2R',\n",
        "  1.6096692448172403e-05),\n",
        " ('RXN_11481_3_hydroxypimeloyl_ACP_methyl_esters__Enoylpimeloyl_ACP_methyl_esters_WATER_75__L2R',\n",
        "  1.6096692448172403e-05),\n",
        " ('RXN_11478_Glutaryl_ACP_methyl_esters_NAD__Enoylglutaryl_ACP_methyl_esters_NADH_PROTON_76__R2L',\n",
        "  1.6096692448172403e-05),\n",
        " ('RXN_11474_Malonyl_acp_methyl_ester_MALONYL_ACP_PROTON__3_Ketoglutaryl_ACP_methyl_ester_CARBON_DIOXIDE_ACP_96__L2R',\n",
        "  1.6096692448172403e-05),\n",
        " ('RXN_11482_Pimeloyl_ACP_methyl_esters_NAD__Enoylpimeloyl_ACP_methyl_esters_NADH_PROTON_76__R2L',\n",
        "  1.6096692448172403e-05),\n",
        " ('RXN_11479_Glutaryl_ACP_methyl_esters_MALONYL_ACP_PROTON__3_Ketopimeloyl_ACP_methyl_esters_CARBON_DIOXIDE_ACP_99__L2R',\n",
        "  1.6096692448172403e-05),\n",
        " ('RXN_11476_3_Hydroxyglutaryl_ACP_methyl_ester_NADP__3_Ketoglutaryl_ACP_methyl_ester_NADPH_PROTON_86__R2L',\n",
        "  1.6096692448172403e-05),\n",
        " ('FERREDOXIN__NAD__REDUCTASE_RXN_R2L', 1.6096692448172403e-05),\n",
        " ('__SEC_EX_METOH_e', 1.6096692448172403e-05),\n",
        " ('__SEC_EX_S_ADENOSYL_4_METHYLTHIO_2_OXOBUTANOATE_c', 1.6096692448172403e-05)]"
       ]
      }
     ],
     "prompt_number": 41
    },
    {
     "cell_type": "code",
     "collapsed": false,
     "input": [
      "## Load the EcoCyc-19.6-GEM model in JSON format\n",
      "wc11 = cobra.io.load_json_model(\"/Users/weaver/git/covert/jan-wc-v11.json\")\n",
      "\n",
      "## Select the MetaFlux objective function for maximization\n",
      "wc11.change_objective(\"OBJ_TOP_LEVEL_c\")\n",
      "\n",
      "wc11.reactions.get_by_id('__NUT_EX_GLYCEROL_e').lower_bound = -10\n",
      "wc11.reactions.get_by_id('__NUT_EX_ACET_e').lower_bound = -10\n",
      "wc11.reactions.get_by_id('__NUT_EX_GLUCONATE_p').lower_bound = -10\n",
      "wc11.reactions.get_by_id('__NUT_EX_GLC_6_P_p').lower_bound = -10\n",
      "\n",
      "\n",
      "## Optimize!\n",
      "wc11.optimize()"
     ],
     "language": "python",
     "metadata": {},
     "outputs": [
      {
       "metadata": {},
       "output_type": "pyout",
       "prompt_number": 33,
       "text": [
        "<Solution 2.59 at 0x10f41f2d0>"
       ]
      }
     ],
     "prompt_number": 33
    },
    {
     "cell_type": "code",
     "collapsed": false,
     "input": [
      "dict(get_nonzeros(wc11,pretty=False))"
     ],
     "language": "python",
     "metadata": {},
     "outputs": [
      {
       "metadata": {},
       "output_type": "pyout",
       "prompt_number": 36,
       "text": [
        "{'1TRANSKETO_RXN_R2L': 3.1186971998299802,\n",
        " '1_5_1_20_RXN_5_METHYL_THF_NAD__METHYLENE_THF_NADH_PROTON_44__R2L': 0.59876015687841266,\n",
        " '1_8_4_8_RXN_3_5_ADP_SO3_Ox_Thioredoxin_PROTON__PAPS_Red_Thioredoxin_56__R2L': 0.71244544968129653,\n",
        " '2PGADEHYDRAT_RXN_L2R': 32.776136785597352,\n",
        " '2TRANSKETO_RXN_L2R': 1.9154469007089241,\n",
        " '2_1_1_79_RXN_CPD_18361_S_ADENOSYLMETHIONINE__CPD_18373_ADENOSYL_HOMO_CYS_PROTON_67__L2R': 0.025461132976953505,\n",
        " '2_1_1_79_RXN_CPD_18362_S_ADENOSYLMETHIONINE__CPD_18406_ADENOSYL_HOMO_CYS_PROTON_67__L2R': 0.0068982599570278965,\n",
        " '2_1_1_79_RXN_CPD_18367_S_ADENOSYLMETHIONINE__CPD_18371_ADENOSYL_HOMO_CYS_PROTON_67__L2R': 0.10299985445412814,\n",
        " '2_1_1_79_RXN_CPD_18369_S_ADENOSYLMETHIONINE__CPD_18372_ADENOSYL_HOMO_CYS_PROTON_67__L2R': 0.016531992131337599,\n",
        " '2_1_1_79_RXN_CPD_18392_S_ADENOSYLMETHIONINE__CPD_18405_ADENOSYL_HOMO_CYS_PROTON_67__L2R': 0.0022925122275515163,\n",
        " '2_1_1_79_RXN_CPD_18403_S_ADENOSYLMETHIONINE__CPD_18404_ADENOSYL_HOMO_CYS_PROTON_67__L2R': 0.0077142388854784362,\n",
        " '2_3_1_157_RXN_L2R': 0.021826788733727769,\n",
        " '2_3_1_179_RXN_Palmitoleoyl_ACPs_MALONYL_ACP_PROTON__3_oxo_cis_vaccenoyl_ACPs_CARBON_DIOXIDE_ACP_82__L2R': 0.17826419656882792,\n",
        " '2_3_1_180_RXN_ACETYL_COA_MALONYL_ACP_PROTON__Acetoacetyl_ACPs_CARBON_DIOXIDE_CO_A_68__L2R': 0.84086758097292902,\n",
        " '2_5_1_19_RXN_L2R': 1.1855526228062179,\n",
        " '2_5_1_64_RXN_L2R': 0.0011553225463140976,\n",
        " '2_7_1_121_RXN_L2R': 22.112406495961466,\n",
        " '2_7_1_148_RXN_L2R': 0.083921489984165515,\n",
        " '2_7_7_60_RXN_L2R': 0.083921489984165515,\n",
        " '2_8_1_6_RXN_L2R': 0.00011656841835007711,\n",
        " '2_DEHYDROPANTOATE_REDUCT_RXN_R2L': 0.002548962747920375,\n",
        " '2_ISOPROPYLMALATESYN_RXN_L2R': 0.85663022154315671,\n",
        " '325_BISPHOSPHATE_NUCLEOTIDASE_RXN_L2R': 0.71244544968129653,\n",
        " '3PGAREARR_RXN_R2L': 32.776136785597352,\n",
        " '3_CH3_2_OXOBUTANOATE_OH_CH3_XFER_RXN_CPD_12996_2_KETO_ISOVALERATE_WATER__2_DEHYDROPANTOATE_CPD_1301_63__L2R': 0.002548962747920375,\n",
        " '3_DEHYDROQUINATE_DEHYDRATASE_RXN_L2R': 1.1855526228062179,\n",
        " '3_DEHYDROQUINATE_SYNTHASE_RXN_L2R': 1.1855526228062179,\n",
        " '3_HYDROXYDECANOYL_ACP_DEHYDR_RXN_3_Hydroxy_octanoyl_ACPs__2_Octenoyl_ACPs_WATER_47__L2R': 0.84086758097292902,\n",
        " '3_HYDROXYDECANOYL_ACP_DEHYDR_RXN_Beta_3_hydroxybutyryl_ACPs__Crotonyl_ACPs_WATER_48__L2R': 0.84086758097292902,\n",
        " '3_HYDROXYDECANOYL_ACP_DEHYDR_RXN_Beta_hydroxydecanoyl_ACPs__Trans_D2_decenoyl_ACPs_WATER_56__L2R': 0.84086758097292902,\n",
        " '3_HYDROXYDECANOYL_ACP_DEHYDR_RXN_R_3_hydroxyhexanoyl_ACPs__Hex_2_enoyl_ACPs_WATER_49__L2R': 0.84086758097292902,\n",
        " '3_OXOACYL_ACP_REDUCT_RXN_R_3_hydroxydodecanoyl_ACPs_NADP__3_oxo_dodecanoyl_ACPs_NADPH_PROTON_68__R2L': 0.40886243215824664,\n",
        " '3_OXOACYL_ACP_REDUCT_RXN_R_3_hydroxymyristoyl_ACPs_NADP__3_oxo_myristoyl_ACPs_NADPH_PROTON_66__R2L': 0.40443801307953703,\n",
        " '3_OXOACYL_ACP_SYNTH_RXN_MALONYL_ACP_Decanoyl_ACPs_PROTON__ACP_3_oxo_dodecanoyl_ACPs_CARBON_DIOXIDE_75__L2R': 0.40886243215824664,\n",
        " '3_OXOACYL_ACP_SYNTH_RXN_MALONYL_ACP_Dodecanoyl_ACPs_PROTON__ACP_3_oxo_myristoyl_ACPs_CARBON_DIOXIDE_76__L2R': 0.40443801307953703,\n",
        " '3_OXOACYL_ACP_SYNTH_RXN_MALONYL_ACP_Myristoyl_ACPs_PROTON__ACP_3_oxo_palmitoyl_ACPs_CARBON_DIOXIDE_75__L2R': 0.35992701013488426,\n",
        " '3_OXOACYL_ACP_SYNTH_RXN_MALONYL_ACP_Octanoyl_ACPs_PROTON__ACP_3_oxo_decanoyl_ACPs_CARBON_DIOXIDE_73__L2R': 0.84086758097292902,\n",
        " '4_2_1_61_RXN_R_3_Hydroxypalmitoyl_ACPs__2_Hexadecenoyl_ACPs_WATER_53__L2R': 0.35992701013488476,\n",
        " '5_1_3_20_RXN_L2R': 0.017697676314838373,\n",
        " '5_3_3_14_RXN_Trans_D2_decenoyl_ACPs__Cis_delta_3_decenoyl_ACPs_50__L2R': 0.43200514881468238,\n",
        " '5_4_2_10_RXN_CPD_13469__GLUCOSAMINE_1P_26__L2R': 0.021826788733727769,\n",
        " '5_NUCLEOTID_RXN_CCO_CYTOSOL__UMP_WATER__URIDINE_Pi_35__L2R': 0.020488842331998554,\n",
        " 'ABC_70_RXN_L2R': 0.71244544968129653,\n",
        " 'ACETALD_DEHYDROG_RXN_R2L': 0.8814463426052398,\n",
        " 'ACETATEKIN_RXN_L2R': 11.676196866869581,\n",
        " 'ACETOLACTREDUCTOISOM_RXN_R2L': 2.02290242795427,\n",
        " 'ACETOLACTSYN_RXN_L2R': 2.02290242795427,\n",
        " 'ACETOOHBUTREDUCTOISOM_RXN_R2L': 0.75965306870378257,\n",
        " 'ACETOOHBUTSYN_RXN_L2R': 0.75965306870378257,\n",
        " 'ACETYLGLUTKIN_RXN_L2R': 0.95490257903086495,\n",
        " 'ACETYLORNDEACET_RXN_L2R': 0.95490257903086495,\n",
        " 'ACETYLORNTRANSAM_RXN_R2L': 0.95490257903086495,\n",
        " 'ACETYL_COA_ACETYLTRANSFER_RXN_L2R': 0.75965306870378257,\n",
        " 'ACETYL_COA_CARBOXYLTRANSFER_RXN_L2R': 6.0114074302205065,\n",
        " 'ACONITATEDEHYDR_RXN_L2R': 16.200578644305551,\n",
        " 'ACONITATEHYDR_RXN_L2R': 16.200578644305551,\n",
        " 'ACSERLY_RXN_L2R': 0.71244544968129653,\n",
        " 'ACYL_COA_HYDROLASE_RXN_ACETOACETYL_COA_WATER__2_OXOBUTANOATE_CO_A_PROTON_50__L2R': 0.75965306870378257,\n",
        " 'ADCLY_RXN_L2R': 0.0021992574928717465,\n",
        " 'ADENOSYLHOMOCYSTEINE_NUCLEOSIDASE_RXN_L2R': 0.1637475428702983,\n",
        " 'ADENPRIBOSYLTRAN_RXN_R2L': 0.19367972229330144,\n",
        " 'ADENYLOSUCCINATE_SYNTHASE_RXN_L2R': 0.59932227569579366,\n",
        " 'ADENYLYLSULFKIN_RXN_L2R': 0.71244544968129653,\n",
        " 'ADENYL_KIN_RXN_L2R': 5.3531067156581988,\n",
        " 'ADOMET_DMK_METHYLTRANSFER_RXN_L2R': 0.00057766127315704878,\n",
        " 'AICARSYN_RXN_L2R': 0.70678799577737839,\n",
        " 'AICARTRANSFORM_RXN_10_FORMYL_THF_AICAR__THF_PHOSPHORIBOSYL_FORMAMIDO_CARBOXAMIDE_62__L2R': 0.98155530028429017,\n",
        " 'AIRS_RXN_L2R': 0.70678799577737839,\n",
        " 'ALARACECAT_RXN_L2R': 0.012977950576308584,\n",
        " 'AMPSYN_RXN_L2R': 0.59932227569579366,\n",
        " 'ANTHRANSYN_RXN_L2R': 0.17779015166753762,\n",
        " 'ARGSUCCINLYA_RXN_L2R': 0.7758172227149932,\n",
        " 'ARGSUCCINSYN_RXN_L2R': 0.7758172227149932,\n",
        " 'ASNSYNA_RXN_L2R': 0.82430450393003196,\n",
        " 'ASPARTASE_RXN_R2L': 5.635577897413393,\n",
        " 'ASPARTATEKIN_RXN_L2R': 1.3783697388037284,\n",
        " 'ASPARTATE_SEMIALDEHYDE_DEHYDROGENASE_RXN_R2L': 1.3783697388037284,\n",
        " 'ASPCARBTRANS_RXN_L2R': 0.5182217414356961,\n",
        " 'ASPDECARBOX_RXN_L2R': 0.002548962747920375,\n",
        " 'ATPPHOSPHORIBOSYLTRANS_RXN_R2L': 0.27476730450691178,\n",
        " 'ATPSYN_RXN_L2R': 168.27582433684083,\n",
        " 'BRANCHED_CHAINAMINOTRANSFERILEU_RXN_R2L': 0.75965306870378257,\n",
        " 'BRANCHED_CHAINAMINOTRANSFERLEU_RXN_R2L': 0.85663022154315671,\n",
        " 'BRANCHED_CHAINAMINOTRANSFERVAL_RXN_R2L': 1.163723243663193,\n",
        " 'CARDIOLIPSYN_RXN_CPD_8260__CPD_12824_GLYCEROL_29__L2R': 0.010729475306800431,\n",
        " 'CDPDIGLYSYN_RXN_CTP_CPD0_1422_PROTON__CPD_12815_PPI_36__L2R': 0.036384888981004067,\n",
        " 'CDPDIGLYSYN_RXN_CTP_CPD0_1425_PROTON__CPD_18388_PPI_36__L2R': 0.0010413445372606889,\n",
        " 'CDPDIGLYSYN_RXN_CTP_CPD_18350_PROTON__CPD_18358_PPI_36__L2R': 0.19829842206926118,\n",
        " 'CDPDIGLYSYN_RXN_CTP_CPD_18351_PROTON__CPD_18357_PPI_36__L2R': 0.038876862724399046,\n",
        " 'CDPDIGLYSYN_RXN_CTP_CPD_18352_PROTON__CPD_18356_PPI_36__L2R': 0.085118259079226294,\n",
        " 'CDPDIGLYSYN_RXN_CTP_CPD_18353_PROTON__CPD_18355_PPI_36__L2R': 0.027134537382601281,\n",
        " 'CDPDIGLYSYN_RXN_CTP_CPD_18380_PROTON__CPD_18387_PPI_36__L2R': 0.016565667452194292,\n",
        " 'CDPDIGLYSYN_RXN_CTP_CPD_18390_PROTON__CPD_18391_PPI_36__L2R': 0.0037405510243891408,\n",
        " 'CDPKIN_RXN_L2R': 0.46018103073454308,\n",
        " 'CHORISMATEMUT_RXN_L2R': 1.0020972460068662,\n",
        " 'CHORISMATE_SYNTHASE_RXN_L2R': 1.1855526228062179,\n",
        " 'CITSYN_RXN_L2R': 16.200578644305551,\n",
        " 'CPM_KDOSYNTH_RXN_L2R': 0.0088488381574191866,\n",
        " 'CYSTATHIONINE_BETA_LYASE_RXN_L2R': 0.43443495273495725,\n",
        " 'DAHPSYN_RXN_L2R': 1.1855526228062179,\n",
        " 'DALADALALIG_RXN_L2R': 0.0064889752881542922,\n",
        " 'DAPASYN_RXN_L2R': 0.00011656841835007711,\n",
        " 'DARAB5PISOM_RXN_R2L': 0.0088488381574191866,\n",
        " 'DCDPKIN_RXN_L2R': 0.042298793405297977,\n",
        " 'DEOXYRIBOSE_P_ALD_RXN_R2L': 0.040977684663997108,\n",
        " 'DEPHOSPHOCOAKIN_RXN_L2R': 0.002548962747920375,\n",
        " 'DETHIOBIOTIN_SYN_RXN_L2R': 0.00011656841835007711,\n",
        " 'DHBDEHYD_RXN_L2R': 0.0017329838194711461,\n",
        " 'DIAMINOPIMDECARB_RXN_L2R': 0.93744581078061684,\n",
        " 'DIAMINOPIMEPIM_RXN_L2R': 0.94393478606877113,\n",
        " 'DIHYDRODIPICSYN_RXN_L2R': 0.94393478606877113,\n",
        " 'DIHYDROFOLATEREDUCT_RXN_THF_NADP__DIHYDROFOLATE_NADPH_PROTON_37__R2L': 0.043176942156868854,\n",
        " 'DIHYDROFOLATESYNTH_RXN_L2R': 0.0021992574928717465,\n",
        " 'DIHYDROOROTATE_DEHYDROGENASE_RXN_DI_H_OROTATE_UBIQUINONE_8__OROTATE_CPD_9956_44__L2R': 0.5182217414356961,\n",
        " 'DIHYDROOROT_RXN_R2L': 0.5182217414356961,\n",
        " 'DIHYDROXYISOVALDEHYDRAT_RXN_L2R': 2.02290242795427,\n",
        " 'DIHYDROXYMETVALDEHYDRAT_RXN_L2R': 0.75965306870378257,\n",
        " 'DIMETHUROPORDEHYDROG_RXN_L2R': 0.00057766127315704878,\n",
        " 'DIOHBUTANONEPSYN_RXN_L2R': 0.0021396780790480818,\n",
        " 'DMK_RXN_L2R': 0.0011553225463140976,\n",
        " 'DTDPKIN_RXN_L2R': 0.040977684663997108,\n",
        " 'DTMPKI_RXN_L2R': 0.040977684663997108,\n",
        " 'DURIDKI_RXN_L2R': 0.040977684663997108,\n",
        " 'DXPREDISOM_RXN_R2L': 0.083921489984165515,\n",
        " 'DXS_RXN_L2R': 0.083921489984165515,\n",
        " 'D_PPENTOMUT_RXN_R2L': 0.040977684663997108,\n",
        " 'ENOYL_ACP_REDUCT_NADH_RXN_Decanoyl_ACPs_NAD__Trans_D2_decenoyl_ACPs_NADH_PROTON_54__R2L': 0.40886243215824664,\n",
        " 'ENOYL_ACP_REDUCT_NADH_RXN_Myristoyl_ACPs_NAD__Tetradec_2_enoyl_ACPs_NADH_PROTON_54__R2L': 0.38674033676469866,\n",
        " 'ENOYL_ACP_REDUCT_NADH_RXN_Octanoyl_ACPs_NAD__2_Octenoyl_ACPs_NADH_PROTON_47__R2L': 0.84086758097292902,\n",
        " 'ENOYL_ACP_REDUCT_NADPH_RXN_Palmitoyl_ACPs_NADP__NADPH_2_Hexadecenoyl_ACPs_PROTON_54__R2L': 0.35992701013488476,\n",
        " 'ENTMULTI_RXN_L2R': 0.00057766127315704878,\n",
        " 'FADSYN_RXN_L2R': 0.00053880513370702305,\n",
        " 'FERREDOXIN__NAD__REDUCTASE_RXN_R2L': 0.00011656841835007711,\n",
        " 'FGAMSYN_RXN_L2R': 0.70678799577737839,\n",
        " 'FHLMULTI_RXN_L2R': 0.0054087746114438685,\n",
        " 'FPPSYN_RXN_L2R': 0.0083644316189421999,\n",
        " 'FUMHYDR_RXN_R2L': 9.1299191773564807,\n",
        " 'GAPOXNPHOSPHN_RXN_L2R': 36.885067325656415,\n",
        " 'GART_RXN_10_FORMYL_THF_5_PHOSPHO_RIBOSYL_GLYCINEAMIDE__THF_5_P_RIBOSYL_N_FORMYLGLYCINEAMIDE_PROTON_90__L2R': 0.70678799577737839,\n",
        " 'GDPKIN_RXN_L2R': 0.98155530028429006,\n",
        " 'GLUC1PADENYLTRANS_RXN_L2R': 0.076212431917280415,\n",
        " 'GLUC1PURIDYLTRANS_RXN_L2R': 0.017697676314838373,\n",
        " 'GLUCOKIN_RXN_Glucopyranose_ATP__GLC_6_P_ADP_PROTON_38__L2R': 3.6320000000000001,\n",
        " 'GLUCONOKIN_RXN_L2R': 10.0,\n",
        " 'GLUCOSAMINE_6_P_DEAMIN_RXN_R2L': 2.8276053047364225,\n",
        " 'GLURS_RXN_GLT_tRNAs_GLT_ATP_PROTON__Charged_GLT_tRNAs_AMP_PPI_52__L2R': 0.013863870555769169,\n",
        " 'GLUTAMIDOTRANS_RXN_L2R': 0.27476730450691178,\n",
        " 'GLUTATHIONE_REDUCT_NADPH_RXN_R2L': 0.042298793405297977,\n",
        " 'GLUTATHIONE_SYN_RXN_L2R': 0.0005776612731570504,\n",
        " 'GLUTCYSLIG_RXN_L2R': 0.0005776612731570504,\n",
        " 'GLUTDEHYD_RXN_R2L': 15.919088339699382,\n",
        " 'GLUTKIN_RXN_L2R': 0.66267591586440844,\n",
        " 'GLUTRACE_RXN_L2R': 0.0064889752881542922,\n",
        " 'GLUTRNAREDUCT_RXN_GLUTAMATE_1_SEMIALDEHYDE_GLT_tRNAs_NADP__Charged_GLT_tRNAs_NADPH_65__R2L': 0.013863870555769169,\n",
        " 'GLUTSEMIALDEHYDROG_RXN_R2L': 0.66267591586440844,\n",
        " 'GLYCDEH_RXN_L2R': 9.4836278108021244,\n",
        " 'GLYCEROL_KIN_RXN_L2R': 0.52710166450467533,\n",
        " 'GLYCOLALD_DEHYDROG_RXN_L2R': 0.0021992574928717465,\n",
        " 'GLYCOLATEDEHYDRO_RXN_L2R': 0.0021992574928717465,\n",
        " 'GLYOHMETRANS_RXN_SER_CPD_1301__GLY_CPD_12996_WATER_34__L2R': 0.002548962747920375,\n",
        " 'GLYOHMETRANS_RXN_SER_THF__GLY_METHYLENE_THF_WATER_33__L2R': 2.3291665190993824,\n",
        " 'GLYRIBONUCSYN_RXN_L2R': 0.70678799577737839,\n",
        " 'GMP_SYN_NH3_RXN_L2R': 0.38223302458849645,\n",
        " 'GPPSYN_RXN_L2R': 0.0083644316189421999,\n",
        " 'GSAAMINOTRANS_RXN_L2R': 0.013863870555769169,\n",
        " 'GTP_CYCLOHYDRO_II_RXN_L2R': 0.0010698390395240409,\n",
        " 'GTP_CYCLOHYDRO_I_RXN_L2R': 0.0021992574928717465,\n",
        " 'GUANYL_KIN_RXN_L2R': 0.38223302458849645,\n",
        " 'H2NEOPTERINALDOL_RXN_L2R': 0.0021992574928717465,\n",
        " 'H2NTPEPIM_RXN_L2R': 0.0021992574928717465,\n",
        " 'H2PTERIDINEPYROPHOSPHOKIN_RXN_L2R': 0.0021992574928717465,\n",
        " 'H2PTEROATESYNTH_RXN_L2R': 0.0021992574928717465,\n",
        " 'HEMEOSYN_RXN_PROTOHEME_FARNESYL_PP_WATER__CPD_17063_PPI_43__L2R': 0.00057766127315704878,\n",
        " 'HISTAMINOTRANS_RXN_L2R': 0.27476730450691178,\n",
        " 'HISTCYCLOHYD_RXN_L2R': 0.27476730450691178,\n",
        " 'HISTIDPHOS_RXN_CCO_CYTOSOL__L_HISTIDINOL_P_WATER__HISTIDINOL_Pi_49__L2R': 0.13738365225345589,\n",
        " 'HISTPRATPHYD_RXN_L2R': 0.27476730450691178,\n",
        " 'HOMOCYSMETB12_RXN_HOMO_CYS_5_METHYL_THF__MET_THF_31__L2R': 0.5981824956052556,\n",
        " 'HOMOSERDEHYDROG_RXN_HOMO_SER_NAD__L_ASPARTATE_SEMIALDEHYDE_NADH_PROTON_51__R2L': 0.43443495273495725,\n",
        " 'HOMSUCTRAN_RXN_L2R': 0.43443495273495725,\n",
        " 'HYDGLUTSYN_RXN_R2L': 12.683823440692782,\n",
        " 'IGPSYN_RXN_L2R': 0.17779015166753762,\n",
        " 'IMIDPHOSDEHYD_RXN_L2R': 0.27476730450691178,\n",
        " 'IMPCYCLOHYDROLASE_RXN_R2L': 0.98155530028429017,\n",
        " 'IMP_DEHYDROG_RXN_L2R': 0.38223302458849645,\n",
        " 'INORGPYROPHOSPHAT_RXN_CCO_CYTOSOL__PPI_WATER__Pi_PROTON_34__L2R': 2.8967290816133735,\n",
        " 'ISOCHORMAT_RXN_L2R': 0.0017329838194711461,\n",
        " 'ISOCHORSYN_RXN_L2R': 0.0028883063657852434,\n",
        " 'ISOCITDEH_RXN_L2R': 16.200578644305551,\n",
        " 'ISPH2_RXN_R2L': 0.075557058365223306,\n",
        " 'KDOTRANS2_RXN_L2R': 0.0044244190787095933,\n",
        " 'KDOTRANS_RXN_L2R': 0.0044244190787095933,\n",
        " 'KDO_8PPHOSPHAT_RXN_L2R': 0.0088488381574191866,\n",
        " 'KDO_8PSYNTH_RXN_L2R': 0.0088488381574191866,\n",
        " 'LAUROYLACYLTRAN_RXN_Dodecanoyl_ACPs_KDO2_LIPID_IVA__KDO2_LAUROYL_LIPID_IVA_ACP_59__L2R': 0.0044244190787095933,\n",
        " 'LIPIDADISACCHARIDESYNTH_RXN_L2R': 0.0044244190787095933,\n",
        " 'LIPIDXSYNTHESIS_RXN_L2R': 0.0044244190787095933,\n",
        " 'LTAA_RXN_R2L': 0.8404686579412427,\n",
        " 'LUMAZINESYN_RXN_L2R': 0.0021396780790480818,\n",
        " 'L_GLN_FRUCT_6_P_AMINOTRANS_RXN_FRUCTOSE_6P_GLN__CPD_13469_GLT_31__R2L': 2.8057785160026945,\n",
        " 'MALATE_DEH_RXN_L2R': 21.24214549305572,\n",
        " 'MALONYL_COA_ACP_TRANSACYL_RXN_ACP_MALONYL_COA__MALONYL_ACP_CO_A_34__L2R': 6.0113271275323097,\n",
        " 'MALSYN_RXN_L2R': 12.112226315699237,\n",
        " 'METHENYLTHFCYCLOHYDRO_RXN_5_10_METHENYL_THF_WATER__10_FORMYL_THF_PROTON_46__L2R': 1.6888872820139689,\n",
        " 'METHYLENETHFDEHYDROG_NADP_RXN_METHYLENE_THF_NADP__5_10_METHENYL_THF_NADPH_44__L2R': 1.6888872820139689,\n",
        " 'METHYLMALONYL_COA_EPIM_RXN_R2L': 12.683823440692782,\n",
        " 'METHYLMALONYL_COA_MUT_RXN_L2R': 12.683823440692782,\n",
        " 'METHYLTHIOADENOSINE_NUCLEOSIDASE_RXN_L2R': 0.029699042586302977,\n",
        " 'MYRISTOYLACYLTRAN_RXN_Myristoyl_ACPs_KDO2_LAUROYL_LIPID_IVA__KDO2_LIPID_A_ACP_56__L2R': 0.0044244190787095933,\n",
        " 'NACGLCTRANS_RXN_L2R': 0.0064889752881542922,\n",
        " 'NADH_DEHYDROG_A_RXN_NADH_UBIQUINONE_8_PROTON__NAD_CPD_9956_PROTON_46__L2R': 76.171795425697042,\n",
        " 'NAD_KIN_RXN_L2R': 0.0011579129556115646,\n",
        " 'NAD_SYNTH_NH3_RXN_L2R': 0.0059009523778194425,\n",
        " 'NAG1P_URIDYLTRANS_RXN_L2R': 0.021826788733727769,\n",
        " 'NAPHTHOATE_SYN_RXN_L2R': 0.0011553225463140976,\n",
        " 'NICONUCADENYLYLTRAN_RXN_L2R': 0.0059009523778194425,\n",
        " 'NUCLEOSIDE_DIP_KIN_RXN_UDP_ATP__UTP_ADP_17__L2R': 0.51676852182026523,\n",
        " 'N_ACETYLGLUTPREDUCT_RXN_R2L': 0.95490257903086495,\n",
        " 'N_ACETYLTRANSFER_RXN_L2R': 0.95490257903086495,\n",
        " 'OBJ_TOP_LEVEL_c': 2.5904092966683803,\n",
        " 'OHMETHYLBILANESYN_RXN_L2R': 0.0017329838194711461,\n",
        " 'ORNCARBAMTRANSFER_RXN_L2R': 0.7758172227149932,\n",
        " 'ORNDECARBOX_RXN_L2R': 0.17908535631587177,\n",
        " 'OROPRIBTRANS_RXN_R2L': 0.5182217414356961,\n",
        " 'OROTPDECARB_RXN_L2R': 0.5182217414356961,\n",
        " 'O_SUCCHOMOSERLYASE_RXN_L2R': 0.43443495273495725,\n",
        " 'O_SUCCINYLBENZOATE_COA_LIG_RXN_L2R': 0.0011553225463140976,\n",
        " 'O_SUCCINYLBENZOATE_COA_SYN_RXN_L2R': 0.0011553225463140976,\n",
        " 'PABASYN_RXN_L2R': 0.0021992574928717465,\n",
        " 'PANTEPADENYLYLTRAN_RXN_L2R': 0.002548962747920375,\n",
        " 'PANTOATE_BETA_ALANINE_LIG_RXN_L2R': 0.002548962747920375,\n",
        " 'PANTOTHENATE_KIN_RXN_L2R': 0.002548962747920375,\n",
        " 'PEPCARBOX_RXN_L2R': 5.0415668487501666,\n",
        " 'PEPDEPHOS_RXN_R2L': 13.318854079328045,\n",
        " 'PGLUCISOM_RXN_ALPHA_GLC_6_P__FRUCTOSE_6P_27__R2L': 0.093910108232118789,\n",
        " 'PGLUCISOM_RXN_GLC_6_P__FRUCTOSE_6P_21__L2R': 7.728069157901122,\n",
        " 'PGLYCDEHYDROG_RXN_L2R': 4.1089305400590606,\n",
        " 'PGPPHOSPHA_RXN_CPD_12821_WATER__CPD_8260_Pi_29__L2R': 0.021458950613600862,\n",
        " 'PGPPHOSPHA_RXN_CPD_18359_WATER__CPD_18361_Pi_30__L2R': 0.048660838637915524,\n",
        " 'PGPPHOSPHA_RXN_CPD_18360_WATER__CPD_18362_Pi_30__L2R': 0.026406632370237468,\n",
        " 'PGPPHOSPHA_RXN_CPD_18397_WATER__CPD_18392_Pi_30__L2R': 0.0039788686796826322,\n",
        " 'PGPPHOSPHA_RXN_CPD_18398_WATER__CPD_18393_Pi_30__L2R': 0.0037405510243891408,\n",
        " 'PGPPHOSPHA_RXN_CPD_18399_WATER__CPD_18394_Pi_30__L2R': 0.0084810000372922776,\n",
        " 'PGPPHOSPHA_RXN_CPD_18400_WATER__CPD_18396_Pi_30__L2R': 0.0072142898912214391,\n",
        " 'PHEAMINOTRANS_RXN_L2R': 0.54953719942312018,\n",
        " 'PHOSACETYLTRANS_RXN_R2L': 11.676196866869581,\n",
        " 'PHOSGLYPHOS_RXN_R2L': 36.885067325656415,\n",
        " 'PHOSNACMURPENTATRANS_RXN_L2R': 0.0064889752881542922,\n",
        " 'PHOSPHAGLYPSYN_RXN_CPD_12815_GLYCEROL_3P__CMP_CPD_12821_PROTON_44__L2R': 0.021458950613600862,\n",
        " 'PHOSPHAGLYPSYN_RXN_CPD_18355_GLYCEROL_3P__CMP_CPD_18400_PROTON_44__L2R': 0.0072142898912214391,\n",
        " 'PHOSPHAGLYPSYN_RXN_CPD_18356_GLYCEROL_3P__CMP_CPD_18360_PROTON_44__L2R': 0.026406632370237468,\n",
        " 'PHOSPHAGLYPSYN_RXN_CPD_18357_GLYCEROL_3P__CMP_CPD_18399_PROTON_44__L2R': 0.0084810000372922776,\n",
        " 'PHOSPHAGLYPSYN_RXN_CPD_18358_GLYCEROL_3P__CMP_CPD_18359_PROTON_44__L2R': 0.048660838637915524,\n",
        " 'PHOSPHAGLYPSYN_RXN_CPD_18387_GLYCEROL_3P__CMP_CPD_18397_PROTON_44__L2R': 0.0039788686796826322,\n",
        " 'PHOSPHAGLYPSYN_RXN_CPD_18391_GLYCEROL_3P__CMP_CPD_18398_PROTON_44__L2R': 0.0037405510243891408,\n",
        " 'PHOSPHASERDECARB_RXN_CPD_12817_PROTON__CPD_12819_CARBON_DIOXIDE_43__L2R': 0.014925938367403205,\n",
        " 'PHOSPHASERDECARB_RXN_CPD_18363_PROTON__CPD_18367_CARBON_DIOXIDE_43__L2R': 0.14963758343134564,\n",
        " 'PHOSPHASERDECARB_RXN_CPD_18364_PROTON__CPD_18368_CARBON_DIOXIDE_43__L2R': 0.030395862687106773,\n",
        " 'PHOSPHASERDECARB_RXN_CPD_18365_PROTON__CPD_18369_CARBON_DIOXIDE_43__L2R': 0.058711626708988829,\n",
        " 'PHOSPHASERDECARB_RXN_CPD_18366_PROTON__CPD_18370_CARBON_DIOXIDE_43__L2R': 0.019920247491379845,\n",
        " 'PHOSPHASERDECARB_RXN_CPD_18401_PROTON__CPD_17087_CARBON_DIOXIDE_43__L2R': 0.0010413445372606889,\n",
        " 'PHOSPHASERDECARB_RXN_CPD_18402_PROTON__CPD_18403_CARBON_DIOXIDE_43__L2R': 0.01258679877251166,\n",
        " 'PHOSPHASERSYN_RXN_CPD_12815_SER__CMP_CPD_12817_PROTON_36__L2R': 0.014925938367403205,\n",
        " 'PHOSPHASERSYN_RXN_CPD_18355_SER__CMP_CPD_18366_PROTON_36__L2R': 0.019920247491379845,\n",
        " 'PHOSPHASERSYN_RXN_CPD_18356_SER__CMP_CPD_18365_PROTON_36__L2R': 0.058711626708988829,\n",
        " 'PHOSPHASERSYN_RXN_CPD_18357_SER__CMP_CPD_18364_PROTON_36__L2R': 0.030395862687106773,\n",
        " 'PHOSPHASERSYN_RXN_CPD_18358_SER__CMP_CPD_18363_PROTON_36__L2R': 0.14963758343134564,\n",
        " 'PHOSPHASERSYN_RXN_CPD_18387_SER__CMP_CPD_18402_PROTON_36__L2R': 0.01258679877251166,\n",
        " 'PHOSPHASERSYN_RXN_CPD_18388_SER__CMP_CPD_18401_PROTON_36__L2R': 0.0010413445372606889,\n",
        " 'PHOSPHOGLUCMUT_RXN_GLC_1_P__ALPHA_GLC_6_P_23__R2L': 0.093910108232118789,\n",
        " 'PORPHOBILSYNTH_RXN_L2R': 0.0069319352778845844,\n",
        " 'PRAISOM_RXN_L2R': 0.17779015166753762,\n",
        " 'PREPHENATEDEHYDRAT_RXN_L2R': 0.54953719942312018,\n",
        " 'PREPHENATEDEHYDROG_RXN_L2R': 0.45256004658374599,\n",
        " 'PRIBFAICARPISOM_RXN_L2R': 0.27476730450691178,\n",
        " 'PRODISULFREDUCT_A_RXN_GLUTATHIONE_Oxidized_NrdH_Proteins__OXIDIZED_GLUTATHIONE_Reduced_NrdH_Proteins_79__L2R': 0.042298793405297977,\n",
        " 'PROPIONYL_COA_CARBOXY_RXN_L2R': 12.683823440692782,\n",
        " 'PROTOHEMEFERROCHELAT_RXN_CCO_CYTOSOL__FE_2_PROTOPORPHYRIN_IX__PROTOHEME_PROTON_54__L2R': 0.00057766127315704878,\n",
        " 'PROTOPORGENOXI_RXN_L2R': 0.00073308583095724883,\n",
        " 'PRPPAMIDOTRANS_RXN_R2L': 0.70678799577737839,\n",
        " 'PRPPSYN_RXN_L2R': 1.8361701833946478,\n",
        " 'PRTRANS_RXN_R2L': 0.17779015166753762,\n",
        " 'PSERTRANSAM_RXN_R2L': 4.1089305400590606,\n",
        " 'PYFLAVOXRE_RXN_PYRUVATE_Oxidized_flavodoxins_CO_A_PROTON__ACETYL_COA_CARBON_DIOXIDE_Reduced_flavodoxins_89__L2R': 0.1671979680534606,\n",
        " 'PYRROLINECARBREDUCT_RXN_PRO_NAD__L_DELTA1_PYRROLINE_5_CARBOXYLATE_NADH_PROTON_54__R2L': 0.66267591586440844,\n",
        " 'PYRUFLAVREDUCT_RXN_L2R': 0.083921489984165515,\n",
        " 'PYRUVDEH_RXN_L2R': 28.021296346616339,\n",
        " 'P_PANTOCYSDECARB_RXN_L2R': 0.002548962747920375,\n",
        " 'P_PANTOCYSLIG_RXN_L2R': 0.002548962747920375,\n",
        " 'QUINOLINATE_SYNTHA_RXN_L2R': 0.0059009523778194425,\n",
        " 'QUINOPRIBOTRANS_RXN_R2L': 0.0059009523778194425,\n",
        " 'R15_RXN_MET_2_KETOGLUTARATE__CPD_479_GLT_33__R2L': 2.3388494690503183,\n",
        " 'R15_RXN_MET_GLYOX__CPD_479_GLY_23__L2R': 0.57379638248641696,\n",
        " 'R15_RXN_MET_PYRUVATE__CPD_479_L_ALPHA_ALANINE_38__L2R': 1.7650530865639011,\n",
        " 'R601_RXN_FUM_REDUCED_MENAQUINONE__SUC_CPD_9728_38__L2R': 0.0066754847575144147,\n",
        " 'RIB5PISOM_RXN_R2L': 4.9548673832246282,\n",
        " 'RIBOFLAVINKIN_RXN_L2R': 0.00053880513370702305,\n",
        " 'RIBOFLAVINSYNDEAM_RXN_L2R': 0.0010698390395240409,\n",
        " 'RIBOFLAVINSYNREDUC_RXN_R2L': 0.0010698390395240409,\n",
        " 'RIBOFLAVIN_SYN_RXN_L2R': 0.0010698390395240409,\n",
        " 'RIBONUCLEOSIDE_DIP_REDUCTII_RXN_DCDP_Oxidized_NrdH_Proteins_WATER__CDP_Reduced_NrdH_Proteins_61__R2L': 0.042298793405297977,\n",
        " 'RIBOPHOSPHAT_RXN_L2R': 0.0010698390395240409,\n",
        " 'RIBOSYLHOMOCYSTEINASE_RXN_L2R': 0.1637475428702983,\n",
        " 'RIBULP3EPIM_RXN_L2R': 5.0341441005389047,\n",
        " 'RXN0_1401_L2R': 0.040977684663997108,\n",
        " 'RXN0_1402_L2R': 0.040977684663997108,\n",
        " 'RXN0_1461_L2R': 0.0011553225463140976,\n",
        " 'RXN0_2141_Cis_delta_3_decenoyl_ACPs_MALONYL_ACP_PROTON__b_Keto_cis_D5_dodecenoyl_ACPs_ACP_CARBON_DIOXIDE_95__L2R': 0.43200514881468238,\n",
        " 'RXN0_2142_b_Hydroxy_cis_D5_dodecenoyl_ACPs_NADP__b_Keto_cis_D5_dodecenoyl_ACPs_NADPH_PROTON_82__R2L': 0.43200514881468238,\n",
        " 'RXN0_2144_b_Hydroxy_cis_D5_dodecenoyl_ACPs__Trans_D3_cis_D5_dodecenoyl_ACPs_WATER_72__L2R': 0.43200514881468238,\n",
        " 'RXN0_2145_Cis_Delta5_dodecenoyl_ACPs_NAD__Trans_D3_cis_D5_dodecenoyl_ACPs_NADH_PROTON_76__R2L': 0.43200514881468238,\n",
        " 'RXN0_2381_L2R': 0.17779015166753762,\n",
        " 'RXN0_302_L2R': 0.083921489984165515,\n",
        " 'RXN0_308_L2R': 0.00011656841835007711,\n",
        " 'RXN0_313_L2R': 12.628778685159341,\n",
        " 'RXN0_4281_L2R': 3.325880513016179,\n",
        " 'RXN0_4301_L2R': 0.017697676314838373,\n",
        " 'RXN0_4341_L2R': 0.017697676314838373,\n",
        " 'RXN0_4342_L2R': 0.017697676314838373,\n",
        " 'RXN0_4361_L2R': 0.017697676314838373,\n",
        " 'RXN0_5061_L2R': 0.0044244190787095933,\n",
        " 'RXN0_5114_CCO_CYTOSOL__3_P_SERINE_WATER__SER_Pi_38__L2R': 2.0544652700295303,\n",
        " 'RXN0_5118_L2R': 0.0044244190787095933,\n",
        " 'RXN0_5120_L2R': 0.0044244190787095933,\n",
        " 'RXN0_5121_L2R': 0.0044244190787095933,\n",
        " 'RXN0_5122_L2R': 0.0044244190787095933,\n",
        " 'RXN0_5123_L2R': 0.0044244190787095933,\n",
        " 'RXN0_5124_L2R': 0.0044244190787095933,\n",
        " 'RXN0_5125_L2R': 0.0044244190787095933,\n",
        " 'RXN0_5126_L2R': 0.0044244190787095933,\n",
        " 'RXN0_5127_L2R': 0.0044244190787095933,\n",
        " 'RXN0_5213_L2R': 3.325880513016179,\n",
        " 'RXN0_5224_R2L': 15.654490982091191,\n",
        " 'RXN0_5256_CPD_9728_PROTON_HYDROGEN_MOLECULE__REDUCED_MENAQUINONE_PROTON_62__L2R': 0.0054087746114438685,\n",
        " 'RXN0_5268_CPD_9956_PROTON_OXYGEN_MOLECULE__UBIQUINONE_8_WATER_PROTON_59__L2R': 44.693081592424889,\n",
        " 'RXN0_5461_L2R': 0.1637475428702983,\n",
        " 'RXN0_6259_PROTOPORPHYRIN_IX_REDUCED_MENAQUINONE__PROTOPORPHYRINOGEN_CPD_9728_67__R2L': 0.00042223671535684861,\n",
        " 'RXN0_6368_L2R': 0.0021992574928717465,\n",
        " 'RXN0_6550_L2R': 0.00023313683670015423,\n",
        " 'RXN0_6705_1_PALMITOYLGLYCEROL_3_PHOSPHATE_Palmitoyl_ACPs__CPD0_1422_ACP_62__L2R': 0.036384888981004067,\n",
        " 'RXN0_742_L2R': 0.70678799577737839,\n",
        " 'RXN0_743_L2R': 0.70678799577737839,\n",
        " 'RXN0_745_DATP_Oxidized_flavodoxins_WATER__ATP_Reduced_flavodoxins_57__R2L': 0.040977684663997108,\n",
        " 'RXN0_746_DGTP_Oxidized_flavodoxins_WATER__GTP_Reduced_flavodoxins_57__R2L': 0.042298793405297977,\n",
        " 'RXN0_884_R2L': 0.0083644316189421999,\n",
        " 'RXN_10654_Cis_Delta5_dodecenoyl_ACPs_MALONYL_ACP_PROTON__3_oxo_cis_D7_tetradecenoyl_ACPs_ACP_CARBON_DIOXIDE_98__L2R': 0.43200514881468238,\n",
        " 'RXN_10655_3_hydroxy_cis_D7_tetraecenoyl_ACPs_NADP__3_oxo_cis_D7_tetradecenoyl_ACPs_NADPH_PROTON_86__R2L': 0.43200514881468238,\n",
        " 'RXN_10656_3_hydroxy_cis_D7_tetraecenoyl_ACPs__Trans_D3_cis_D7_tetradecenoyl_ACPs_WATER_77__L2R': 0.43200514881468238,\n",
        " 'RXN_10657_Cis_Delta7_tetradecenoyl_ACPs_NAD__Trans_D3_cis_D7_tetradecenoyl_ACPs_NADH_PROTON_82__R2L': 0.43200514881468238,\n",
        " 'RXN_10658_Cis_Delta7_tetradecenoyl_ACPs_MALONYL_ACP_PROTON__3_oxo_cis_D9_hexadecenoyl_ACPs_ACP_CARBON_DIOXIDE_100__L2R': 0.43200514881468238,\n",
        " 'RXN_10659_3_hydroxy_cis_D9_hexaecenoyl_ACPs_NADP__3_oxo_cis_D9_hexadecenoyl_ACPs_NADPH_PROTON_84__R2L': 0.43200514881468238,\n",
        " 'RXN_10660_3_hydroxy_cis_D9_hexaecenoyl_ACPs__Trans_D3_cis_D9_hexadecenoyl_ACPs_WATER_75__L2R': 0.43200514881468238,\n",
        " 'RXN_10661_Palmitoleoyl_ACPs_NAD__Trans_D3_cis_D9_hexadecenoyl_ACPs_NADH_PROTON_69__R2L': 0.43200514881468238,\n",
        " 'RXN_10856_R2L': 0.0021992574928717465,\n",
        " 'RXN_11474_Malonyl_acp_methyl_ester_MALONYL_ACP_PROTON__3_Ketoglutaryl_ACP_methyl_ester_CARBON_DIOXIDE_ACP_96__L2R': 0.00011656841835007711,\n",
        " 'RXN_11475_MALONYL_ACP_S_ADENOSYLMETHIONINE__Malonyl_acp_methyl_ester_ADENOSYL_HOMO_CYS_77__L2R': 0.00011656841835007711,\n",
        " 'RXN_11476_3_Hydroxyglutaryl_ACP_methyl_ester_NADP__3_Ketoglutaryl_ACP_methyl_ester_NADPH_PROTON_86__R2L': 0.00011656841835007711,\n",
        " 'RXN_11477_3_Hydroxyglutaryl_ACP_methyl_ester__Enoylglutaryl_ACP_methyl_esters_WATER_74__L2R': 0.00011656841835007711,\n",
        " 'RXN_11478_Glutaryl_ACP_methyl_esters_NAD__Enoylglutaryl_ACP_methyl_esters_NADH_PROTON_76__R2L': 0.00011656841835007711,\n",
        " 'RXN_11479_Glutaryl_ACP_methyl_esters_MALONYL_ACP_PROTON__3_Ketopimeloyl_ACP_methyl_esters_CARBON_DIOXIDE_ACP_99__L2R': 0.00011656841835007711,\n",
        " 'RXN_11480_3_hydroxypimeloyl_ACP_methyl_esters_NADP__3_Ketopimeloyl_ACP_methyl_esters_NADPH_PROTON_88__R2L': 0.00011656841835007711,\n",
        " 'RXN_11481_3_hydroxypimeloyl_ACP_methyl_esters__Enoylpimeloyl_ACP_methyl_esters_WATER_75__L2R': 0.00011656841835007711,\n",
        " 'RXN_11482_Pimeloyl_ACP_methyl_esters_NAD__Enoylpimeloyl_ACP_methyl_esters_NADH_PROTON_76__R2L': 0.00011656841835007711,\n",
        " 'RXN_11483_Pimeloyl_ACP_methyl_esters_WATER__Pimeloyl_ACPs_METOH_PROTON_61__L2R': 0.00011656841835007711,\n",
        " 'RXN_11484_Pimeloyl_ACPs_L_ALPHA_ALANINE_PROTON__8_AMINO_7_OXONONANOATE_CARBON_DIOXIDE_ACP_80__L2R': 0.00011656841835007711,\n",
        " 'RXN_11811_CCO_CYTOSOL__AMMONIA_PROTON__AMMONIUM_38__L2R': 8.9585031349936539,\n",
        " 'RXN_11811_CCO_PERI_BAC__AMMONIA_PROTON__AMMONIUM_39__R2L': 8.9585031349936539,\n",
        " 'RXN_11832_L2R': 0.50247982413984105,\n",
        " 'RXN_12002_L2R': 0.48815745113856285,\n",
        " 'RXN_12587_L2R': 0.00011656841835007711,\n",
        " 'RXN_13158_L2R': 0.85663022154315671,\n",
        " 'RXN_13163_R2L': 0.85663022154315671,\n",
        " 'RXN_13202_L2R': 1.2940389641506893,\n",
        " 'RXN_14014_R2L': 0.94393478606877113,\n",
        " 'RXN_14249_R2L': 0.8404686579412427,\n",
        " 'RXN_14325_L2R': 0.25140699346955631,\n",
        " 'RXN_15216_L2R': 0.1637475428702983,\n",
        " 'RXN_15878_HYDROXY_METHYL_BUTENYL_DIP_Oxidized_flavodoxins_WATER_PROTON__2C_METH_D_ERYTHRITOL_CYCLODIPHOSPHATE_Reduced_flavodoxins_120__R2L': 0.083921489984165515,\n",
        " 'RXN_15943_R2L': 0.1637475428702983,\n",
        " 'RXN_16001_L2R': 0.8404686579412427,\n",
        " 'RXN_16804_L2R': 0.0088488381574191866,\n",
        " 'RXN_17012_Palmitoleoyl_ACPs_1_PALMITOYLGLYCEROL_3_PHOSPHATE__CPD_18350_ACP_65__L2R': 0.19829842206926118,\n",
        " 'RXN_17013_Palmitoleoyl_ACPs_CPD_18348__CPD_18351_ACP_43__L2R': 0.038876862724399046,\n",
        " 'RXN_17014_Cis_vaccenoyl_ACPs_1_PALMITOYLGLYCEROL_3_PHOSPHATE__CPD_18352_ACP_66__L2R': 0.085118259079226294,\n",
        " 'RXN_17015_Cis_vaccenoyl_ACPs_CPD_18348__CPD_18353_ACP_44__L2R': 0.027134537382601281,\n",
        " 'RXN_17016_Cis_vaccenoyl_ACPs_GLYCEROL_3P__CPD_18348_ACP_46__L2R': 0.066011400107000323,\n",
        " 'RXN_17017_Myristoyl_ACPs_GLYCEROL_3P__CPD_18379_ACP_42__L2R': 0.017607011989454982,\n",
        " 'RXN_17018_Palmitoyl_ACPs_GLYCEROL_3P__1_PALMITOYLGLYCEROL_3_PHOSPHATE_ACP_64__L2R': 0.3235421211538807,\n",
        " 'RXN_17020_Palmitoleoyl_ACPs_CPD_18379__CPD_18380_ACP_43__L2R': 0.016565667452194292,\n",
        " 'RXN_17022_Myristoyl_ACPs_CPD_18379__CPD0_1425_ACP_40__L2R': 0.0010413445372606889,\n",
        " 'RXN_17024_1_PALMITOYLGLYCEROL_3_PHOSPHATE_Myristoyl_ACPs__CPD_18390_ACP_62__L2R': 0.0037405510243891408,\n",
        " 'RXN_7968_SHIKIMATE_NAD__3_DEHYDRO_SHIKIMATE_NADH_PROTON_47__R2L': 1.1855526228062179,\n",
        " 'RXN_8001_L2R': 0.27476730450691178,\n",
        " 'RXN_8645_R2L': 12.683823440692782,\n",
        " 'RXN_8667_L2R': 0.0021992574928717465,\n",
        " 'RXN_8675_L2R': 0.00057766127315704878,\n",
        " 'RXN_8992_L2R': 0.0011553225463140976,\n",
        " 'RXN_8999_L2R': 0.0066314477994710531,\n",
        " 'RXN_9310_L2R': 0.0011553225463140976,\n",
        " 'RXN_9311_L2R': 0.0011553225463140976,\n",
        " 'RXN_9514_Beta_3_hydroxybutyryl_ACPs_NADP__Acetoacetyl_ACPs_NADPH_PROTON_63__R2L': 0.84086758097292902,\n",
        " 'RXN_9516_Butanoyl_ACPs_MALONYL_ACP_PROTON__3_oxo_hexanoyl_ACPs_CARBON_DIOXIDE_ACP_73__L2R': 0.84086758097292902,\n",
        " 'RXN_9518_R_3_hydroxyhexanoyl_ACPs_NADP__3_oxo_hexanoyl_ACPs_NADPH_PROTON_64__R2L': 0.84086758097292902,\n",
        " 'RXN_9523_Hexanoyl_ACPs_MALONYL_ACP_PROTON__3_Oxo_octanoyl_ACPs_CARBON_DIOXIDE_ACP_73__L2R': 0.84086758097292902,\n",
        " 'RXN_9524_3_Hydroxy_octanoyl_ACPs_NADP__3_Oxo_octanoyl_ACPs_NADPH_PROTON_63__R2L': 0.84086758097292902,\n",
        " 'RXN_9528_Beta_hydroxydecanoyl_ACPs_NADP__3_oxo_decanoyl_ACPs_NADPH_PROTON_65__R2L': 0.84086758097292902,\n",
        " 'RXN_9533_R_3_hydroxydodecanoyl_ACPs__Dodec_2_enoyl_ACPs_WATER_53__L2R': 0.40886243215824664,\n",
        " 'RXN_9537_R_3_hydroxymyristoyl_ACPs__Tetradec_2_enoyl_ACPs_WATER_55__L2R': 0.38674033676469866,\n",
        " 'RXN_9540_R_3_Hydroxypalmitoyl_ACPs_NADP__3_oxo_palmitoyl_ACPs_NADPH_PROTON_66__R2L': 0.35992701013488426,\n",
        " 'RXN_9556_R_3_hydroxy_cis_vaccenoyl_ACPs_NADP__3_oxo_cis_vaccenoyl_ACPs_NADPH_PROTON_75__R2L': 0.17826419656882792,\n",
        " 'RXN_9557_R_3_hydroxy_cis_vaccenoyl_ACPs__cis_vaccen_2_enoyl_ACPs_WATER_62__L2R': 0.17826419656882792,\n",
        " 'RXN_9558_Cis_vaccenoyl_ACPs_NAD__cis_vaccen_2_enoyl_ACPs_NADH_PROTON_60__R2L': 0.17826419656882792,\n",
        " 'RXN_9657_Butanoyl_ACPs_NAD__Crotonyl_ACPs_NADH_PROTON_45__R2L': 0.84086758097292902,\n",
        " 'RXN_9658_Hexanoyl_ACPs_NAD__Hex_2_enoyl_ACPs_NADH_PROTON_48__R2L': 0.84086758097292902,\n",
        " 'RXN_9661_Dodecanoyl_ACPs_NAD__Dodec_2_enoyl_ACPs_NADH_PROTON_52__R2L': 0.40886243215824664,\n",
        " 'RXN_9772_L2R': 0.0059009523778194425,\n",
        " 'RXN_9952_L2R': 10.0,\n",
        " 'SAICARSYN_RXN_L2R': 0.70678799577737839,\n",
        " 'SAMDECARB_RXN_L2R': 0.029699042586302977,\n",
        " 'SERINE_O_ACETTRAN_RXN_L2R': 0.71244544968129653,\n",
        " 'SHIKIMATE_KINASE_RXN_L2R': 1.1855526228062179,\n",
        " 'SIROHEME_FERROCHELAT_RXN_L2R': 0.00057766127315704878,\n",
        " 'SPERMIDINESYN_RXN_L2R': 0.029699042586302977,\n",
        " 'SPONTPRO_RXN_R2L': 0.66267591586440844,\n",
        " 'SUCCCOASYN_RXN_R2L': 11.305199841777979,\n",
        " 'SUCCDIAMINOPIMDESUCC_RXN_L2R': 0.94393478606877113,\n",
        " 'SUCCINATE_DEHYDROGENASE_UBIQUINONE_RXN_SUC_UBIQUINONE_8__FUM_CPD_9956_31__L2R': 12.696146017717043,\n",
        " 'SUCCINYLDIAMINOPIMTRANS_RXN_R2L': 0.94393478606877113,\n",
        " 'SULFATE_ADENYLYLTRANS_RXN_L2R': 0.71244544968129653,\n",
        " 'SULFITE_REDUCT_RXN_R2L': 0.71244544968129653,\n",
        " 'S_ADENMETSYN_RXN_L2R': 0.1943454574825452,\n",
        " 'TETHYDPICSUCC_RXN_L2R': 0.94393478606877113,\n",
        " 'TETRAACYLDISACC4KIN_RXN_L2R': 0.0044244190787095933,\n",
        " 'THIOREDOXIN_REDUCT_NADPH_RXN_Red_Thioredoxin_NADP__Ox_Thioredoxin_NADPH_PROTON_50__R2L': 0.71244544968129653,\n",
        " 'THYMIDYLATESYN_RXN_METHYLENE_THF_DUMP__TMP_DIHYDROFOLATE_38__L2R': 0.040977684663997108,\n",
        " 'TRANSALDOL_RXN_L2R': 3.1009995235151422,\n",
        " 'TRANS_RXN0_209_L2R': 10.0,\n",
        " 'TRANS_RXN0_459_L2R': 0.00011656841835007711,\n",
        " 'TRANS_RXN0_461_L2R': 0.029699042586302977,\n",
        " 'TRANS_RXN0_474_L2R': 44.696436172464075,\n",
        " 'TRANS_RXN0_544_L2R': 26.875509404980964,\n",
        " 'TRANS_RXN0_545_R2L': 51.710030217812168,\n",
        " 'TRANS_RXN0_567_R2L': 10.0,\n",
        " 'TRANS_RXN0_574_GLC__Glucopyranose_19__L2R': 3.6320000000000001,\n",
        " 'TRANS_RXN0_598_GLC__GLC_9__R2L': 3.6320000000000001,\n",
        " 'TRANS_RXN0_600_R2L': 44.696436172464075,\n",
        " 'TRANS_RXN0_601_AMMONIUM__AMMONIUM_19__R2L': 26.875509404980964,\n",
        " 'TRANS_RXN0_601_FE_2__FE_2_11__R2L': 0.0017329838194711461,\n",
        " 'TRANS_RXN0_601_PROTON__PROTON_15__L2R': 1.9187948911265849,\n",
        " 'TRANS_RXN0_601_SULFATE__SULFATE_17__R2L': 0.71244544968129653,\n",
        " 'TRANS_RXN0_602_L2R': 51.710030217812168,\n",
        " 'TRANS_RXN0_603_L2R': 107.57346513298127,\n",
        " 'TRANS_RXN0_606_ACET__ACET_11__R2L': 10.0,\n",
        " 'TRANS_RXN0_607_METOH__METOH_13__L2R': 0.00011656841835007711,\n",
        " 'TRANS_RXN0_608_GLYCEROL__GLYCEROL_19__R2L': 10.0,\n",
        " 'TRANS_RXN0_610_CCO_PM_BAC_NEG__HYDROGEN_MOLECULE__HYDROGEN_MOLECULE_53__L2R': 0.0027043873057219343,\n",
        " 'TRANS_RXN0_615_L2R': 0.029699042586302977,\n",
        " 'TRANS_RXN_114_L2R': 4.0960691579011215,\n",
        " 'TRANS_RXN_131_L2R': 10.0,\n",
        " 'TRANS_RXN_145_R2L': 107.57346513298127,\n",
        " 'TRANS_RXN_33_GLC_6_P_Pi__GLC_6_P_Pi_23__L2R': 4.0960691579011215,\n",
        " 'TRANS_RXN_8_L2R': 0.0017329838194711461,\n",
        " 'TRIOSEPISOMERIZATION_RXN_R2L': 22.270253086453945,\n",
        " 'TRYPTOPHAN_RXN_R2L': 0.17779015166753762,\n",
        " 'TYROSINE_AMINOTRANSFERASE_RXN_R2L': 0.45256004658374599,\n",
        " 'UDPACYLGLCNACDEACETYL_RXN_L2R': 0.0088488381574191866,\n",
        " 'UDPGLUCEPIM_RXN_L2R': 0.0044244190787095933,\n",
        " 'UDPHYDROXYMYRGLUCOSAMNACETYLTRANS_RXN_R_3_hydroxymyristoyl_ACPs_UDP_OHMYR_GLUCOSAMINE__OH_MYRISTOYL_ACP_PROTON_73__L2R': 0.0088488381574191866,\n",
        " 'UDPNACETYLGLUCOSAMACYLTRANS_RXN_R_3_hydroxymyristoyl_ACPs_UDP_N_ACETYL_D_GLUCOSAMINE__UDP_OHMYR_ACETYLGLUCOSAMINE_ACP_86__L2R': 0.0088488381574191866,\n",
        " 'UDPNACETYLGLUCOSAMENOLPYRTRANS_RXN_L2R': 0.0064889752881542922,\n",
        " 'UDPNACETYLMURAMATEDEHYDROG_RXN_R2L': 0.0064889752881542922,\n",
        " 'UDP_NACMURALA_GLU_LIG_RXN_L2R': 0.0064889752881542922,\n",
        " 'UDP_NACMURALGLDAPAALIG_RXN_L2R': 0.0064889752881542922,\n",
        " 'UDP_NACMURALGLDAPLIG_RXN_L2R': 0.0064889752881542922,\n",
        " 'UDP_NACMUR_ALA_LIG_RXN_L2R': 0.0064889752881542922,\n",
        " 'UNDECAPRENYL_DIPHOSPHATASE_RXN_L2R': 0.0064889752881542922,\n",
        " 'URA_PHOSPH_RXN_R2L': 0.040977684663997108,\n",
        " 'UROGENDECARBOX_RXN_L2R': 0.0011553225463140976,\n",
        " 'UROGENIIISYN_RXN_L2R': 0.0017329838194711461,\n",
        " 'UROPORIIIMETHYLTRANSA_RXN_L2R': 0.00057766127315704878,\n",
        " 'URPHOS_RXN_L2R': 0.040977684663997108,\n",
        " '__NUT_EX_ACET_e': 10.0,\n",
        " '__NUT_EX_ADP_c': 3.1499999999999999,\n",
        " '__NUT_EX_AMMONIUM_e': 26.875509404980964,\n",
        " '__NUT_EX_FE_2_e': 0.0017329838194711461,\n",
        " '__NUT_EX_GLC_6_P_p': 4.0960691579011215,\n",
        " '__NUT_EX_GLC_e': 3.6320000000000001,\n",
        " '__NUT_EX_GLUCONATE_p': 10.0,\n",
        " '__NUT_EX_GLYCEROL_e': 10.0,\n",
        " '__NUT_EX_OXYGEN_MOLECULE_e': 44.696436172464075,\n",
        " '__NUT_EX_PROTON_c': 3.1499999999999999,\n",
        " '__NUT_EX_Pi_c': 3.1499999999999999,\n",
        " '__NUT_EX_SULFATE_e': 0.71244544968129653,\n",
        " '__SEC_EX_ATP_c': 3.1499999999999999,\n",
        " '__SEC_EX_CARBON_DIOXIDE_e': 51.710030217812168,\n",
        " '__SEC_EX_CPD0_2167_c': 0.00023313683670015423,\n",
        " '__SEC_EX_CPD_560_e': 0.029699042586302977,\n",
        " '__SEC_EX_METOH_e': 0.00011656841835007711,\n",
        " '__SEC_EX_OBJ_TOP_LEVEL_c': 2.5904092966683803,\n",
        " '__SEC_EX_PROTON_e': 1.9187948911265849,\n",
        " '__SEC_EX_S_ADENOSYL_4_METHYLTHIO_2_OXOBUTANOATE_c': 0.00011656841835007711,\n",
        " '__SEC_EX_WATER_c': 3.1499999999999999,\n",
        " '__SEC_EX_WATER_e': 107.57346513298127}"
       ]
      }
     ],
     "prompt_number": 36
    },
    {
     "cell_type": "code",
     "collapsed": false,
     "input": [
      "## Load the EcoCyc-19.6-GEM model in JSON format\n",
      "wc = cobra.io.load_json_model(\"/Users/weaver/git/covert/jan-wc-v16.json\")\n",
      "\n",
      "## Select the MetaFlux objective function for maximization\n",
      "wc.change_objective(\"OBJ_TOP_LEVEL_c\")\n",
      "\n",
      "wc.reactions.get_by_id('__NUT_EX_GLYCEROL_e').lower_bound = -10\n",
      "wc.reactions.get_by_id('__NUT_EX_ACET_e').lower_bound = -10\n",
      "wc.reactions.get_by_id('__NUT_EX_GLUCONATE_p').lower_bound = -10\n",
      "wc.reactions.get_by_id('__NUT_EX_GLC_6_P_p').lower_bound = -10\n",
      "\n",
      "\n",
      "## Optimize!\n",
      "wc.optimize()\n",
      "\n"
     ],
     "language": "python",
     "metadata": {},
     "outputs": [
      {
       "metadata": {},
       "output_type": "pyout",
       "prompt_number": 54,
       "text": [
        "<Solution 2.59 at 0x10e8f0fd0>"
       ]
      }
     ],
     "prompt_number": 54
    },
    {
     "cell_type": "code",
     "collapsed": false,
     "input": [
      "def wcd(filename):\n",
      "    with open(filename,\"rt\") as wc_fp:\n",
      "        return json.load(wc_fp)\n",
      "\n",
      "wcfull=wcd(\"/Users/weaver/git/covert/jan-wc-v16.json\")\n",
      "\n",
      "wcfull['pseudo-atom-table']"
     ],
     "language": "python",
     "metadata": {},
     "outputs": [
      {
       "metadata": {},
       "output_type": "pyout",
       "prompt_number": 52,
       "text": [
        "{u'AG': u'AG',\n",
        " u'AL': u'AL',\n",
        " u'AS': u'AS',\n",
        " u'AU': u'AU',\n",
        " u'B': u'B',\n",
        " u'BA': u'BA',\n",
        " u'BE': u'BE',\n",
        " u'BR': u'BR',\n",
        " u'C': u'C',\n",
        " u'CA': u'CA',\n",
        " u'CD': u'CD',\n",
        " u'CL': u'CL',\n",
        " u'CO': u'CO',\n",
        " u'CR': u'CR',\n",
        " u'CS': u'CS',\n",
        " u'CU': u'CU',\n",
        " u'Da': u'16S_rRNAs',\n",
        " u'Db': u'23S_rRNAs',\n",
        " u'Dc': u'50S_Ribosomal_subunit_protein_L16',\n",
        " u'Dd': u'ALA_tRNAs',\n",
        " u'De': u'APO_CITRATE_LYASE',\n",
        " u'Df': u'ARG_tRNAs',\n",
        " u'Dg': u'ASN_tRNAs',\n",
        " u'Dh': u'ASP_tRNAs',\n",
        " u'Di': u'Acceptor',\n",
        " u'Dj': u'All_tRNAs',\n",
        " u'Dk': u'Apo_AsbD_Proteins',\n",
        " u'Dl': u'Aryl_Carrier_Proteins',\n",
        " u'Dm': u'BCCP_monomers',\n",
        " u'Dn': u'Bases',\n",
        " u'Do': u'Beta_phosphoglucomutase',\n",
        " u'Dp': u'CYS',\n",
        " u'Dq': u'CYS_tRNAs',\n",
        " u'Dr': u'Cytochromes_B',\n",
        " u'Ds': u'Cytochromes_C552',\n",
        " u'Dt': u'Cytochromes_CL',\n",
        " u'Du': u'Cytochromes_D',\n",
        " u'Dv': u'Cytochromes_b5',\n",
        " u'Dw': u'Cytochromes_c',\n",
        " u'Dx': u'Cytochromes_c2',\n",
        " u'Dy': u'Cytochromes_c553',\n",
        " u'Dz': u'Deaminated_Amine_Donors',\n",
        " u'Ea': u'EG50003_MONOMER',\n",
        " u'Eb': u'Elongation_tRNAMet',\n",
        " u'Ec': u'Etf',\n",
        " u'Ed': u'GLN_tRNAs',\n",
        " u'Ee': u'GLT_tRNAs',\n",
        " u'Ef': u'GLY_tRNAs',\n",
        " u'Eg': u'General_Protein_Substrates',\n",
        " u'Eh': u'Glutaredoxins',\n",
        " u'Ei': u'Glycine_Cleavage_Complex_H',\n",
        " u'Ej': u'HIS_tRNAs',\n",
        " u'Ek': u'HypE_Proteins',\n",
        " u'El': u'ILE_tRNAs',\n",
        " u'Em': u'ILE2_tRNAs',\n",
        " u'En': u'Initiation_tRNAmet',\n",
        " u'Eo': u'L_Cysteine_Desulfurases',\n",
        " u'Ep': u'LEU_tRNAs',\n",
        " u'Eq': u'LYS_tRNAs',\n",
        " u'Er': u'Lipoyl_Protein',\n",
        " u'Es': u'MPT_Synthases',\n",
        " u'Et': u'NrdH_Glutaredoxin_like_Proteins',\n",
        " u'Eu': u'Nucleobases_in_DNA',\n",
        " u'Ev': u'PHE_tRNAs',\n",
        " u'Ew': u'PRO_tRNAs',\n",
        " u'Ex': u'PTSH_MONOMER',\n",
        " u'Ey': u'PTSI_MONOMER',\n",
        " u'Ez': u'Peptides',\n",
        " u'F': u'F',\n",
        " u'FE': u'FE',\n",
        " u'H': u'H',\n",
        " u'HG': u'HG',\n",
        " u'I': u'I',\n",
        " u'Ja': u'Peptidyl_Carrier_Proteins',\n",
        " u'Jb': u'Phosphoglucomutase',\n",
        " u'Jc': u'Phosphoglucosamine_Mutase',\n",
        " u'Jd': u'Proteins',\n",
        " u'Je': u'R',\n",
        " u'Jf': u'R1',\n",
        " u'Jg': u'R2',\n",
        " u'Jh': u'R3',\n",
        " u'Ji': u'R4',\n",
        " u'Jj': u'R5',\n",
        " u'Jk': u'RPL3',\n",
        " u'Jl': u'Release_factors',\n",
        " u'Jm': u'SER_tRNAs',\n",
        " u'Jn': u'Sulfur_Carrier_Proteins_ThiI',\n",
        " u'Jo': u'Sulfur_Carrier_Proteins_TusE',\n",
        " u'Jp': u'THR_tRNAs',\n",
        " u'Jq': u'TRP_tRNAs',\n",
        " u'Jr': u'TYR_tRNAs',\n",
        " u'Js': u'Thi_S',\n",
        " u'Jt': u'Thioredoxin',\n",
        " u'Ju': u'Ubiquitins',\n",
        " u'Jv': u'VAL_tRNAs',\n",
        " u'Jw': u'apo_ACP',\n",
        " u'Jx': u'lipoate_acetyltransferase',\n",
        " u'Jy': u'lipoate_succinyltransferase',\n",
        " u'Jz': u'mRNAs',\n",
        " u'K': u'K',\n",
        " u'LA': u'LA',\n",
        " u'LI': u'LI',\n",
        " u'LONE-PAIR': u'LONE_PAIR',\n",
        " u'MG': u'MG',\n",
        " u'MN': u'MN',\n",
        " u'MO': u'MO',\n",
        " u'N': u'N',\n",
        " u'NA': u'NA',\n",
        " u'NI': u'NI',\n",
        " u'O': u'O',\n",
        " u'P': u'P',\n",
        " u'PB': u'PB',\n",
        " u'PD': u'PD',\n",
        " u'PT': u'PT',\n",
        " u'Qa': u'rRNAs',\n",
        " u'Qb': u'tRNA_Sec',\n",
        " u'RB': u'RB',\n",
        " u'S': u'S',\n",
        " u'SB': u'SB',\n",
        " u'SE': u'SE',\n",
        " u'SN': u'SN',\n",
        " u'SR': u'SR',\n",
        " u'TE': u'TE',\n",
        " u'TL': u'TL',\n",
        " u'U': u'U',\n",
        " u'V': u'V',\n",
        " u'W': u'W',\n",
        " u'ZN': u'ZN'}"
       ]
      }
     ],
     "prompt_number": 52
    },
    {
     "cell_type": "code",
     "collapsed": false,
     "input": [
      "print \"EcoCyc-GEM-19.6 -- now available in cobra flavor! \\n\"\n",
      "print \"number of genes:             {}\".format(len(wc.genes))\n",
      "print \"number of reactions:         {}\".format(len(wc.reactions))\n",
      "print \"number of metabolites:       {}\".format(len(wc.metabolites))\n",
      "print \"\\nSelected reactions...\\n\"\n",
      "map(print_rxn_info, [wc.reactions[2305:2310]])"
     ],
     "language": "python",
     "metadata": {},
     "outputs": [
      {
       "output_type": "stream",
       "stream": "stdout",
       "text": [
        "EcoCyc-GEM-19.6 -- now available in cobra flavor! \n",
        "\n",
        "number of genes:             1579\n",
        "number of reactions:         4175\n",
        "number of metabolites:       3009\n",
        "\n",
        "Selected reactions...\n",
        "\n",
        "rxn cobra id:        TRANS_RXN_137_L2R\n",
        "rxn ptools id:       TRANS-RXN-137\n",
        "genes of reaction:   nirC; narK (b3367; b1223)\n",
        "reaction string:     NITRITE_p --> NITRITE_c\n",
        "\n",
        "rxn cobra id:        TRANS_RXN_157_L2R\n",
        "rxn ptools id:       TRANS-RXN-157\n",
        "genes of reaction:   ptsG; manZ; manY; manX; crr; bglF (b1101; b1819; b1818; b1817; b2417; b3722)\n",
        "reaction string:     Glucopyranose_p + PTSH_PHOSPHORYLATED_c --> PTSH_MONOMER_c + D_glucopyranose_6_phosphate_c\n",
        "\n",
        "rxn cobra id:        TRANS_RXN_157_PTSH_PHOSPHORYLATED_GLC__GLC_6_P_PTSH_MONOMER_46__L2R\n",
        "rxn ptools id:       TRANS-RXN-157-PTSH-PHOSPHORYLATED/GLC//GLC-6-P/PTSH-MONOMER.46.\n",
        "genes of reaction:   ptsG; bglF; manY; manX; crr; manZ (b1101; b3722; b1818; b1817; b2417; b1819)\n",
        "reaction string:     GLC_p + PTSH_PHOSPHORYLATED_c --> PTSH_MONOMER_c + GLC_6_P_c\n",
        "\n",
        "rxn cobra id:        TRANS_RXN_157_PTSH_PHOSPHORYLATED_GLC__ALPHA_GLC_6_P_PTSH_MONOMER_52__L2R\n",
        "rxn ptools id:       TRANS-RXN-157-PTSH-PHOSPHORYLATED/GLC//ALPHA-GLC-6-P/PTSH-MONOMER.52.\n",
        "genes of reaction:   manY; manZ; ptsG; manX; crr; bglF (b1818; b1819; b1101; b1817; b2417; b3722)\n",
        "reaction string:     GLC_p + PTSH_PHOSPHORYLATED_c --> PTSH_MONOMER_c + ALPHA_GLC_6_P_c\n",
        "\n",
        "rxn cobra id:        TRANS_RXN_157_PTSH_PHOSPHORYLATED_GLC__D_glucopyranose_6_phosphate_PTSH_MONOMER_66__L2R\n",
        "rxn ptools id:       TRANS-RXN-157-PTSH-PHOSPHORYLATED/GLC//D-glucopyranose-6-phosphate/PTSH-MONOMER.66.\n",
        "genes of reaction:   ptsG; bglF; manY; manX; crr; manZ (b1101; b3722; b1818; b1817; b2417; b1819)\n",
        "reaction string:     GLC_p + PTSH_PHOSPHORYLATED_c --> D_glucopyranose_6_phosphate_c + PTSH_MONOMER_c\n",
        "\n"
       ]
      },
      {
       "metadata": {},
       "output_type": "pyout",
       "prompt_number": 59,
       "text": [
        "[None]"
       ]
      }
     ],
     "prompt_number": 59
    },
    {
     "cell_type": "code",
     "collapsed": false,
     "input": [
      "bounds_sets = [{'__NUT_EX_OXYGEN_MOLECULE_e': [-N,0]} for N in np.linspace(0,20,201)]\n",
      "\n",
      "init_bounds = {'__NUT_EX_GLC_e':[-10,0],\n",
      "               '__SEC_EX_HYDROGEN_MOLECULE_e':[0,0],\n",
      "               }\n",
      "start_point = '/Users/weaver/git/covert/jan-wc-v16.json'\n",
      "objective = 'OBJ_TOP_LEVEL_c'\n",
      "\n",
      "bounds_sets\n",
      "\n",
      "rslt,rslt_v,f1,f2,f3 = make_happen(bounds_sets,\n",
      "                                   init_bounds=init_bounds,\n",
      "                                   start_point=start_point,\n",
      "                                   objective=objective)\n",
      "\n",
      "#plt.sca(f1)\n",
      "#plt.savefig(\"/Users/weaver/git/covert/growth.png\",dpi=300,format='png',transparent=True)\n",
      "#plt.sca(f2)\n",
      "#plt.savefig(\"/Users/weaver/git/covert/products.png\",dpi=300,format='png',transparent=True)\n",
      "#plt.sca(f3)\n",
      "#plt.savefig(\"/Users/weaver/git/covert/protons.png\",dpi=300,format='png',transparent=True)"
     ],
     "language": "python",
     "metadata": {},
     "outputs": [
      {
       "output_type": "stream",
       "stream": "stdout",
       "text": [
        "<Solution 0.36 at 0x10cc5d510>\n",
        "<Solution 0.22 at 0x1106a95d0>"
       ]
      },
      {
       "output_type": "stream",
       "stream": "stdout",
       "text": [
        "\n",
        "<Solution 0.23 at 0x10cc5d510>"
       ]
      },
      {
       "output_type": "stream",
       "stream": "stdout",
       "text": [
        "\n",
        "<Solution 0.24 at 0x11442bd90>"
       ]
      },
      {
       "output_type": "stream",
       "stream": "stdout",
       "text": [
        "\n",
        "<Solution 0.24 at 0x11442b790>"
       ]
      },
      {
       "output_type": "stream",
       "stream": "stdout",
       "text": [
        "\n",
        "<Solution 0.25 at 0x10dafe8d0>"
       ]
      },
      {
       "output_type": "stream",
       "stream": "stdout",
       "text": [
        "\n",
        "<Solution 0.25 at 0x10c5df510>"
       ]
      },
      {
       "output_type": "stream",
       "stream": "stdout",
       "text": [
        "\n",
        "<Solution 0.26 at 0x10c5df9d0>"
       ]
      },
      {
       "output_type": "stream",
       "stream": "stdout",
       "text": [
        "\n",
        "<Solution 0.26 at 0x10c9a3890>"
       ]
      },
      {
       "output_type": "stream",
       "stream": "stdout",
       "text": [
        "\n",
        "<Solution 0.27 at 0x10c9a3450>"
       ]
      },
      {
       "output_type": "stream",
       "stream": "stdout",
       "text": [
        "\n",
        "<Solution 0.27 at 0x10c9a3f50>"
       ]
      },
      {
       "output_type": "stream",
       "stream": "stdout",
       "text": [
        "\n",
        "<Solution 0.28 at 0x10c9a3310>"
       ]
      },
      {
       "output_type": "stream",
       "stream": "stdout",
       "text": [
        "\n",
        "<Solution 0.29 at 0x10c9a3a50>"
       ]
      },
      {
       "output_type": "stream",
       "stream": "stdout",
       "text": [
        "\n",
        "<Solution 0.29 at 0x10c67ca10>"
       ]
      },
      {
       "output_type": "stream",
       "stream": "stdout",
       "text": [
        "\n",
        "<Solution 0.30 at 0x10f23b490>"
       ]
      },
      {
       "output_type": "stream",
       "stream": "stdout",
       "text": [
        "\n",
        "<Solution 0.30 at 0x10f23b890>"
       ]
      },
      {
       "output_type": "stream",
       "stream": "stdout",
       "text": [
        "\n",
        "<Solution 0.31 at 0x10f23bed0>"
       ]
      },
      {
       "output_type": "stream",
       "stream": "stdout",
       "text": [
        "\n",
        "<Solution 0.31 at 0x10f23b850>"
       ]
      },
      {
       "output_type": "stream",
       "stream": "stdout",
       "text": [
        "\n",
        "<Solution 0.32 at 0x10f23b690>"
       ]
      },
      {
       "output_type": "stream",
       "stream": "stdout",
       "text": [
        "\n",
        "<Solution 0.32 at 0x10f23b410>"
       ]
      },
      {
       "output_type": "stream",
       "stream": "stdout",
       "text": [
        "\n",
        "<Solution 0.33 at 0x10d9fb550>"
       ]
      },
      {
       "output_type": "stream",
       "stream": "stdout",
       "text": [
        "\n",
        "<Solution 0.33 at 0x1109df7d0>"
       ]
      },
      {
       "output_type": "stream",
       "stream": "stdout",
       "text": [
        "\n",
        "<Solution 0.34 at 0x116609c50>"
       ]
      },
      {
       "output_type": "stream",
       "stream": "stdout",
       "text": [
        "\n",
        "<Solution 0.35 at 0x116609f50>"
       ]
      },
      {
       "output_type": "stream",
       "stream": "stdout",
       "text": [
        "\n",
        "<Solution 0.35 at 0x116609f90>"
       ]
      },
      {
       "output_type": "stream",
       "stream": "stdout",
       "text": [
        "\n",
        "<Solution 0.36 at 0x116609d90>"
       ]
      },
      {
       "output_type": "stream",
       "stream": "stdout",
       "text": [
        "\n",
        "<Solution 0.36 at 0x1166099d0>"
       ]
      },
      {
       "output_type": "stream",
       "stream": "stdout",
       "text": [
        "\n",
        "<Solution 0.37 at 0x116609610>"
       ]
      },
      {
       "output_type": "stream",
       "stream": "stdout",
       "text": [
        "\n",
        "<Solution 0.37 at 0x116609590>"
       ]
      },
      {
       "output_type": "stream",
       "stream": "stdout",
       "text": [
        "\n",
        "<Solution 0.38 at 0x116609510>"
       ]
      },
      {
       "output_type": "stream",
       "stream": "stdout",
       "text": [
        "\n",
        "<Solution 0.38 at 0x116609350>"
       ]
      },
      {
       "output_type": "stream",
       "stream": "stdout",
       "text": [
        "\n",
        "<Solution 0.39 at 0x116609110>"
       ]
      },
      {
       "output_type": "stream",
       "stream": "stdout",
       "text": [
        "\n",
        "<Solution 0.40 at 0x116609210>"
       ]
      },
      {
       "output_type": "stream",
       "stream": "stdout",
       "text": [
        "\n",
        "<Solution 0.40 at 0x116609e10>"
       ]
      },
      {
       "output_type": "stream",
       "stream": "stdout",
       "text": [
        "\n",
        "<Solution 0.41 at 0x116609e50>"
       ]
      },
      {
       "output_type": "stream",
       "stream": "stdout",
       "text": [
        "\n",
        "<Solution 0.41 at 0x116609e90>"
       ]
      },
      {
       "output_type": "stream",
       "stream": "stdout",
       "text": [
        "\n",
        "<Solution 0.42 at 0x116609ed0>"
       ]
      },
      {
       "output_type": "stream",
       "stream": "stdout",
       "text": [
        "\n",
        "<Solution 0.42 at 0x116609fd0>"
       ]
      },
      {
       "output_type": "stream",
       "stream": "stdout",
       "text": [
        "\n",
        "<Solution 0.43 at 0x116609f10>"
       ]
      },
      {
       "output_type": "stream",
       "stream": "stdout",
       "text": [
        "\n",
        "<Solution 0.43 at 0x116609a10>"
       ]
      },
      {
       "output_type": "stream",
       "stream": "stdout",
       "text": [
        "\n",
        "<Solution 0.44 at 0x111039bd0>"
       ]
      },
      {
       "output_type": "stream",
       "stream": "stdout",
       "text": [
        "\n",
        "<Solution 0.44 at 0x1144155d0>"
       ]
      },
      {
       "output_type": "stream",
       "stream": "stdout",
       "text": [
        "\n",
        "<Solution 0.45 at 0x114415610>"
       ]
      },
      {
       "output_type": "stream",
       "stream": "stdout",
       "text": [
        "\n",
        "<Solution 0.46 at 0x1144156d0>"
       ]
      },
      {
       "output_type": "stream",
       "stream": "stdout",
       "text": [
        "\n",
        "<Solution 0.46 at 0x114415290>"
       ]
      },
      {
       "output_type": "stream",
       "stream": "stdout",
       "text": [
        "\n",
        "<Solution 0.47 at 0x1144151d0>"
       ]
      },
      {
       "output_type": "stream",
       "stream": "stdout",
       "text": [
        "\n",
        "<Solution 0.47 at 0x114415090>"
       ]
      },
      {
       "output_type": "stream",
       "stream": "stdout",
       "text": [
        "\n",
        "<Solution 0.48 at 0x114415050>"
       ]
      },
      {
       "output_type": "stream",
       "stream": "stdout",
       "text": [
        "\n",
        "<Solution 0.48 at 0x114415750>"
       ]
      },
      {
       "output_type": "stream",
       "stream": "stdout",
       "text": [
        "\n",
        "<Solution 0.49 at 0x114415650>"
       ]
      },
      {
       "output_type": "stream",
       "stream": "stdout",
       "text": [
        "\n",
        "<Solution 0.49 at 0x114415d50>"
       ]
      },
      {
       "output_type": "stream",
       "stream": "stdout",
       "text": [
        "\n",
        "<Solution 0.50 at 0x114415a10>"
       ]
      },
      {
       "output_type": "stream",
       "stream": "stdout",
       "text": [
        "\n",
        "<Solution 0.51 at 0x114415190>"
       ]
      },
      {
       "output_type": "stream",
       "stream": "stdout",
       "text": [
        "\n",
        "<Solution 0.51 at 0x1144157d0>"
       ]
      },
      {
       "output_type": "stream",
       "stream": "stdout",
       "text": [
        "\n",
        "<Solution 0.52 at 0x1144153d0>"
       ]
      },
      {
       "output_type": "stream",
       "stream": "stdout",
       "text": [
        "\n",
        "<Solution 0.52 at 0x114415510>"
       ]
      },
      {
       "output_type": "stream",
       "stream": "stdout",
       "text": [
        "\n",
        "<Solution 0.53 at 0x114415790>"
       ]
      },
      {
       "output_type": "stream",
       "stream": "stdout",
       "text": [
        "\n",
        "<Solution 0.53 at 0x114415d10>"
       ]
      },
      {
       "output_type": "stream",
       "stream": "stdout",
       "text": [
        "\n",
        "<Solution 0.54 at 0x114415cd0>"
       ]
      },
      {
       "output_type": "stream",
       "stream": "stdout",
       "text": [
        "\n",
        "<Solution 0.54 at 0x116d9ee50>"
       ]
      },
      {
       "output_type": "stream",
       "stream": "stdout",
       "text": [
        "\n",
        "<Solution 0.55 at 0x116d9e1d0>"
       ]
      },
      {
       "output_type": "stream",
       "stream": "stdout",
       "text": [
        "\n",
        "<Solution 0.55 at 0x116d9ed90>"
       ]
      },
      {
       "output_type": "stream",
       "stream": "stdout",
       "text": [
        "\n",
        "<Solution 0.56 at 0x116d9e150>"
       ]
      },
      {
       "output_type": "stream",
       "stream": "stdout",
       "text": [
        "\n",
        "<Solution 0.56 at 0x116d9e950>"
       ]
      },
      {
       "output_type": "stream",
       "stream": "stdout",
       "text": [
        "\n",
        "<Solution 0.57 at 0x116d9e7d0>"
       ]
      },
      {
       "output_type": "stream",
       "stream": "stdout",
       "text": [
        "\n",
        "<Solution 0.57 at 0x116d9edd0>"
       ]
      },
      {
       "output_type": "stream",
       "stream": "stdout",
       "text": [
        "\n",
        "<Solution 0.58 at 0x116d9e690>"
       ]
      },
      {
       "output_type": "stream",
       "stream": "stdout",
       "text": [
        "\n",
        "<Solution 0.58 at 0x116d9ee90>"
       ]
      },
      {
       "output_type": "stream",
       "stream": "stdout",
       "text": [
        "\n",
        "<Solution 0.59 at 0x116d9eb90>"
       ]
      },
      {
       "output_type": "stream",
       "stream": "stdout",
       "text": [
        "\n",
        "<Solution 0.59 at 0x116d9e590>"
       ]
      },
      {
       "output_type": "stream",
       "stream": "stdout",
       "text": [
        "\n",
        "<Solution 0.60 at 0x116d9e190>"
       ]
      },
      {
       "output_type": "stream",
       "stream": "stdout",
       "text": [
        "\n",
        "<Solution 0.60 at 0x116d9ec50>"
       ]
      },
      {
       "output_type": "stream",
       "stream": "stdout",
       "text": [
        "\n",
        "<Solution 0.61 at 0x116d9ecd0>"
       ]
      },
      {
       "output_type": "stream",
       "stream": "stdout",
       "text": [
        "\n",
        "<Solution 0.61 at 0x116d9e910>"
       ]
      },
      {
       "output_type": "stream",
       "stream": "stdout",
       "text": [
        "\n",
        "<Solution 0.62 at 0x116d9e310>"
       ]
      },
      {
       "output_type": "stream",
       "stream": "stdout",
       "text": [
        "\n",
        "<Solution 0.63 at 0x116d9e450>"
       ]
      },
      {
       "output_type": "stream",
       "stream": "stdout",
       "text": [
        "\n",
        "<Solution 0.63 at 0x116d9e290>"
       ]
      },
      {
       "output_type": "stream",
       "stream": "stdout",
       "text": [
        "\n",
        "<Solution 0.64 at 0x116d9eed0>"
       ]
      },
      {
       "output_type": "stream",
       "stream": "stdout",
       "text": [
        "\n",
        "<Solution 0.64 at 0x116d9e5d0>"
       ]
      },
      {
       "output_type": "stream",
       "stream": "stdout",
       "text": [
        "\n",
        "<Solution 0.65 at 0x116d9ef90>"
       ]
      },
      {
       "output_type": "stream",
       "stream": "stdout",
       "text": [
        "\n",
        "<Solution 0.65 at 0x116d9e890>"
       ]
      },
      {
       "output_type": "stream",
       "stream": "stdout",
       "text": [
        "\n",
        "<Solution 0.66 at 0x116d9e550>"
       ]
      },
      {
       "output_type": "stream",
       "stream": "stdout",
       "text": [
        "\n",
        "<Solution 0.66 at 0x116d9e790>"
       ]
      },
      {
       "output_type": "stream",
       "stream": "stdout",
       "text": [
        "\n",
        "<Solution 0.67 at 0x116d9ebd0>"
       ]
      },
      {
       "output_type": "stream",
       "stream": "stdout",
       "text": [
        "\n",
        "<Solution 0.67 at 0x116da5510>"
       ]
      },
      {
       "output_type": "stream",
       "stream": "stdout",
       "text": [
        "\n",
        "<Solution 0.68 at 0x116da5490>"
       ]
      },
      {
       "output_type": "stream",
       "stream": "stdout",
       "text": [
        "\n",
        "<Solution 0.68 at 0x116da5450>"
       ]
      },
      {
       "output_type": "stream",
       "stream": "stdout",
       "text": [
        "\n",
        "<Solution 0.69 at 0x116da5310>"
       ]
      },
      {
       "output_type": "stream",
       "stream": "stdout",
       "text": [
        "\n",
        "<Solution 0.69 at 0x116da5710>"
       ]
      },
      {
       "output_type": "stream",
       "stream": "stdout",
       "text": [
        "\n",
        "<Solution 0.70 at 0x116da5f90>"
       ]
      },
      {
       "output_type": "stream",
       "stream": "stdout",
       "text": [
        "\n",
        "<Solution 0.70 at 0x116da5c90>"
       ]
      },
      {
       "output_type": "stream",
       "stream": "stdout",
       "text": [
        "\n",
        "<Solution 0.71 at 0x116da5b10>"
       ]
      },
      {
       "output_type": "stream",
       "stream": "stdout",
       "text": [
        "\n",
        "<Solution 0.71 at 0x116da5a50>"
       ]
      },
      {
       "output_type": "stream",
       "stream": "stdout",
       "text": [
        "\n",
        "<Solution 0.72 at 0x116da5d90>"
       ]
      },
      {
       "output_type": "stream",
       "stream": "stdout",
       "text": [
        "\n",
        "<Solution 0.72 at 0x116da5990>"
       ]
      },
      {
       "output_type": "stream",
       "stream": "stdout",
       "text": [
        "\n",
        "<Solution 0.73 at 0x116da5810>"
       ]
      },
      {
       "output_type": "stream",
       "stream": "stdout",
       "text": [
        "\n",
        "<Solution 0.73 at 0x116da5850>"
       ]
      },
      {
       "output_type": "stream",
       "stream": "stdout",
       "text": [
        "\n",
        "<Solution 0.74 at 0x116da5410>"
       ]
      },
      {
       "output_type": "stream",
       "stream": "stdout",
       "text": [
        "\n",
        "<Solution 0.74 at 0x116da5250>"
       ]
      },
      {
       "output_type": "stream",
       "stream": "stdout",
       "text": [
        "\n",
        "<Solution 0.75 at 0x116da5290>"
       ]
      },
      {
       "output_type": "stream",
       "stream": "stdout",
       "text": [
        "\n",
        "<Solution 0.75 at 0x116da5cd0>"
       ]
      },
      {
       "output_type": "stream",
       "stream": "stdout",
       "text": [
        "\n",
        "<Solution 0.76 at 0x116da51d0>"
       ]
      },
      {
       "output_type": "stream",
       "stream": "stdout",
       "text": [
        "\n",
        "<Solution 0.76 at 0x116da57d0>"
       ]
      },
      {
       "output_type": "stream",
       "stream": "stdout",
       "text": [
        "\n",
        "<Solution 0.77 at 0x116da58d0>"
       ]
      },
      {
       "output_type": "stream",
       "stream": "stdout",
       "text": [
        "\n",
        "<Solution 0.77 at 0x116da5350>"
       ]
      },
      {
       "output_type": "stream",
       "stream": "stdout",
       "text": [
        "\n",
        "<Solution 0.78 at 0x116da5210>"
       ]
      },
      {
       "output_type": "stream",
       "stream": "stdout",
       "text": [
        "\n",
        "<Solution 0.78 at 0x116da5a10>"
       ]
      },
      {
       "output_type": "stream",
       "stream": "stdout",
       "text": [
        "\n",
        "<Solution 0.79 at 0x116da5e90>"
       ]
      },
      {
       "output_type": "stream",
       "stream": "stdout",
       "text": [
        "\n",
        "<Solution 0.79 at 0x116da5910>"
       ]
      },
      {
       "output_type": "stream",
       "stream": "stdout",
       "text": [
        "\n",
        "<Solution 0.79 at 0x116da52d0>"
       ]
      },
      {
       "output_type": "stream",
       "stream": "stdout",
       "text": [
        "\n",
        "<Solution 0.80 at 0x113db8190>"
       ]
      },
      {
       "output_type": "stream",
       "stream": "stdout",
       "text": [
        "\n",
        "<Solution 0.80 at 0x113db86d0>"
       ]
      },
      {
       "output_type": "stream",
       "stream": "stdout",
       "text": [
        "\n",
        "<Solution 0.80 at 0x113db8050>"
       ]
      },
      {
       "output_type": "stream",
       "stream": "stdout",
       "text": [
        "\n",
        "<Solution 0.81 at 0x113db8d10>"
       ]
      },
      {
       "output_type": "stream",
       "stream": "stdout",
       "text": [
        "\n",
        "<Solution 0.81 at 0x113db8f50>"
       ]
      },
      {
       "output_type": "stream",
       "stream": "stdout",
       "text": [
        "\n",
        "<Solution 0.82 at 0x113db8fd0>"
       ]
      },
      {
       "output_type": "stream",
       "stream": "stdout",
       "text": [
        "\n",
        "<Solution 0.82 at 0x113db8b90>"
       ]
      },
      {
       "output_type": "stream",
       "stream": "stdout",
       "text": [
        "\n",
        "<Solution 0.82 at 0x113db8a50>"
       ]
      },
      {
       "output_type": "stream",
       "stream": "stdout",
       "text": [
        "\n",
        "<Solution 0.83 at 0x113db8990>"
       ]
      },
      {
       "output_type": "stream",
       "stream": "stdout",
       "text": [
        "\n",
        "<Solution 0.83 at 0x113db8550>"
       ]
      },
      {
       "output_type": "stream",
       "stream": "stdout",
       "text": [
        "\n",
        "<Solution 0.83 at 0x113db8210>"
       ]
      },
      {
       "output_type": "stream",
       "stream": "stdout",
       "text": [
        "\n",
        "<Solution 0.84 at 0x113db8310>"
       ]
      },
      {
       "output_type": "stream",
       "stream": "stdout",
       "text": [
        "\n",
        "<Solution 0.84 at 0x113db8850>"
       ]
      },
      {
       "output_type": "stream",
       "stream": "stdout",
       "text": [
        "\n",
        "<Solution 0.84 at 0x113db8450>"
       ]
      },
      {
       "output_type": "stream",
       "stream": "stdout",
       "text": [
        "\n",
        "<Solution 0.85 at 0x113db89d0>"
       ]
      },
      {
       "output_type": "stream",
       "stream": "stdout",
       "text": [
        "\n",
        "<Solution 0.85 at 0x113db8ed0>"
       ]
      },
      {
       "output_type": "stream",
       "stream": "stdout",
       "text": [
        "\n",
        "<Solution 0.86 at 0x113db8c90>"
       ]
      },
      {
       "output_type": "stream",
       "stream": "stdout",
       "text": [
        "\n",
        "<Solution 0.86 at 0x113db8810>"
       ]
      },
      {
       "output_type": "stream",
       "stream": "stdout",
       "text": [
        "\n",
        "<Solution 0.86 at 0x113db8cd0>"
       ]
      },
      {
       "output_type": "stream",
       "stream": "stdout",
       "text": [
        "\n",
        "<Solution 0.87 at 0x113db8150>"
       ]
      },
      {
       "output_type": "stream",
       "stream": "stdout",
       "text": [
        "\n",
        "<Solution 0.87 at 0x113db8250>"
       ]
      },
      {
       "output_type": "stream",
       "stream": "stdout",
       "text": [
        "\n",
        "<Solution 0.87 at 0x113db8b10>"
       ]
      },
      {
       "output_type": "stream",
       "stream": "stdout",
       "text": [
        "\n",
        "<Solution 0.88 at 0x113db8290>"
       ]
      },
      {
       "output_type": "stream",
       "stream": "stdout",
       "text": [
        "\n",
        "<Solution 0.88 at 0x113db84d0>"
       ]
      },
      {
       "output_type": "stream",
       "stream": "stdout",
       "text": [
        "\n",
        "<Solution 0.89 at 0x113db8f10>"
       ]
      },
      {
       "output_type": "stream",
       "stream": "stdout",
       "text": [
        "\n",
        "<Solution 0.89 at 0x113db8d90>"
       ]
      },
      {
       "output_type": "stream",
       "stream": "stdout",
       "text": [
        "\n",
        "<Solution 0.89 at 0x113db8410>"
       ]
      },
      {
       "output_type": "stream",
       "stream": "stdout",
       "text": [
        "\n",
        "<Solution 0.90 at 0x113db8890>"
       ]
      },
      {
       "output_type": "stream",
       "stream": "stdout",
       "text": [
        "\n",
        "<Solution 0.90 at 0x113db8710>"
       ]
      },
      {
       "output_type": "stream",
       "stream": "stdout",
       "text": [
        "\n",
        "<Solution 0.90 at 0x113db8350>"
       ]
      },
      {
       "output_type": "stream",
       "stream": "stdout",
       "text": [
        "\n",
        "<Solution 0.91 at 0x113db8a90>"
       ]
      },
      {
       "output_type": "stream",
       "stream": "stdout",
       "text": [
        "\n",
        "<Solution 0.91 at 0x113da2110>"
       ]
      },
      {
       "output_type": "stream",
       "stream": "stdout",
       "text": [
        "\n",
        "<Solution 0.91 at 0x113da2150>"
       ]
      },
      {
       "output_type": "stream",
       "stream": "stdout",
       "text": [
        "\n",
        "<Solution 0.92 at 0x113da2750>"
       ]
      },
      {
       "output_type": "stream",
       "stream": "stdout",
       "text": [
        "\n",
        "<Solution 0.92 at 0x113da27d0>"
       ]
      },
      {
       "output_type": "stream",
       "stream": "stdout",
       "text": [
        "\n",
        "<Solution 0.93 at 0x113da21d0>"
       ]
      },
      {
       "output_type": "stream",
       "stream": "stdout",
       "text": [
        "\n",
        "<Solution 0.93 at 0x113da29d0>"
       ]
      },
      {
       "output_type": "stream",
       "stream": "stdout",
       "text": [
        "\n",
        "<Solution 0.93 at 0x113da2210>"
       ]
      },
      {
       "output_type": "stream",
       "stream": "stdout",
       "text": [
        "\n",
        "<Solution 0.94 at 0x113da2350>"
       ]
      },
      {
       "output_type": "stream",
       "stream": "stdout",
       "text": [
        "\n",
        "<Solution 0.94 at 0x113da2490>"
       ]
      },
      {
       "output_type": "stream",
       "stream": "stdout",
       "text": [
        "\n",
        "<Solution 0.94 at 0x113da2890>"
       ]
      },
      {
       "output_type": "stream",
       "stream": "stdout",
       "text": [
        "\n",
        "<Solution 0.95 at 0x113da2910>"
       ]
      },
      {
       "output_type": "stream",
       "stream": "stdout",
       "text": [
        "\n",
        "<Solution 0.95 at 0x113da2510>"
       ]
      },
      {
       "output_type": "stream",
       "stream": "stdout",
       "text": [
        "\n",
        "<Solution 0.95 at 0x113da2410>"
       ]
      },
      {
       "output_type": "stream",
       "stream": "stdout",
       "text": [
        "\n",
        "<Solution 0.96 at 0x113da24d0>"
       ]
      },
      {
       "output_type": "stream",
       "stream": "stdout",
       "text": [
        "\n",
        "<Solution 0.96 at 0x113da2810>"
       ]
      },
      {
       "output_type": "stream",
       "stream": "stdout",
       "text": [
        "\n",
        "<Solution 0.97 at 0x113da2710>"
       ]
      },
      {
       "output_type": "stream",
       "stream": "stdout",
       "text": [
        "\n",
        "<Solution 0.97 at 0x113da2050>"
       ]
      },
      {
       "output_type": "stream",
       "stream": "stdout",
       "text": [
        "\n",
        "<Solution 0.97 at 0x113da2ad0>"
       ]
      },
      {
       "output_type": "stream",
       "stream": "stdout",
       "text": [
        "\n",
        "<Solution 0.98 at 0x113da2850>"
       ]
      },
      {
       "output_type": "stream",
       "stream": "stdout",
       "text": [
        "\n",
        "<Solution 0.98 at 0x113da26d0>"
       ]
      },
      {
       "output_type": "stream",
       "stream": "stdout",
       "text": [
        "\n",
        "<Solution 0.98 at 0x113da2d50>"
       ]
      },
      {
       "output_type": "stream",
       "stream": "stdout",
       "text": [
        "\n",
        "<Solution 0.99 at 0x113da2450>"
       ]
      },
      {
       "output_type": "stream",
       "stream": "stdout",
       "text": [
        "\n",
        "<Solution 0.99 at 0x113da2d10>"
       ]
      },
      {
       "output_type": "stream",
       "stream": "stdout",
       "text": [
        "\n",
        "<Solution 1.00 at 0x113da2fd0>"
       ]
      },
      {
       "output_type": "stream",
       "stream": "stdout",
       "text": [
        "\n",
        "<Solution 1.00 at 0x113da28d0>"
       ]
      },
      {
       "output_type": "stream",
       "stream": "stdout",
       "text": [
        "\n",
        "<Solution 1.00 at 0x113da2ed0>"
       ]
      },
      {
       "output_type": "stream",
       "stream": "stdout",
       "text": [
        "\n",
        "<Solution 1.01 at 0x113da2d90>"
       ]
      },
      {
       "output_type": "stream",
       "stream": "stdout",
       "text": [
        "\n",
        "<Solution 1.01 at 0x11850ab50>"
       ]
      },
      {
       "output_type": "stream",
       "stream": "stdout",
       "text": [
        "\n",
        "<Solution 1.01 at 0x11850a610>"
       ]
      },
      {
       "output_type": "stream",
       "stream": "stdout",
       "text": [
        "\n",
        "<Solution 1.01 at 0x11850a510>"
       ]
      },
      {
       "output_type": "stream",
       "stream": "stdout",
       "text": [
        "\n",
        "<Solution 1.01 at 0x11850af10>"
       ]
      },
      {
       "output_type": "stream",
       "stream": "stdout",
       "text": [
        "\n",
        "<Solution 1.01 at 0x11850a750>"
       ]
      },
      {
       "output_type": "stream",
       "stream": "stdout",
       "text": [
        "\n",
        "<Solution 1.01 at 0x11850a290>"
       ]
      },
      {
       "output_type": "stream",
       "stream": "stdout",
       "text": [
        "\n",
        "<Solution 1.01 at 0x11850ab10>"
       ]
      },
      {
       "output_type": "stream",
       "stream": "stdout",
       "text": [
        "\n",
        "<Solution 1.01 at 0x11850aa10>"
       ]
      },
      {
       "output_type": "stream",
       "stream": "stdout",
       "text": [
        "\n",
        "<Solution 1.01 at 0x11850a4d0>"
       ]
      },
      {
       "output_type": "stream",
       "stream": "stdout",
       "text": [
        "\n",
        "<Solution 1.01 at 0x11850a250>"
       ]
      },
      {
       "output_type": "stream",
       "stream": "stdout",
       "text": [
        "\n",
        "<Solution 1.01 at 0x11850a390>"
       ]
      },
      {
       "output_type": "stream",
       "stream": "stdout",
       "text": [
        "\n",
        "<Solution 1.01 at 0x11850a150>"
       ]
      },
      {
       "output_type": "stream",
       "stream": "stdout",
       "text": [
        "\n",
        "<Solution 1.01 at 0x11850a9d0>"
       ]
      },
      {
       "output_type": "stream",
       "stream": "stdout",
       "text": [
        "\n",
        "<Solution 1.01 at 0x11850a8d0>"
       ]
      },
      {
       "output_type": "stream",
       "stream": "stdout",
       "text": [
        "\n",
        "<Solution 1.01 at 0x11850a210>"
       ]
      },
      {
       "output_type": "stream",
       "stream": "stdout",
       "text": [
        "\n",
        "<Solution 1.01 at 0x11850a310>"
       ]
      },
      {
       "output_type": "stream",
       "stream": "stdout",
       "text": [
        "\n",
        "<Solution 1.01 at 0x11850a690>"
       ]
      },
      {
       "output_type": "stream",
       "stream": "stdout",
       "text": [
        "\n",
        "<Solution 1.01 at 0x11850a050>"
       ]
      },
      {
       "output_type": "stream",
       "stream": "stdout",
       "text": [
        "\n",
        "<Solution 1.01 at 0x11850a0d0>"
       ]
      },
      {
       "output_type": "stream",
       "stream": "stdout",
       "text": [
        "\n",
        "<Solution 1.01 at 0x11850a190>"
       ]
      },
      {
       "output_type": "stream",
       "stream": "stdout",
       "text": [
        "\n",
        "<Solution 1.01 at 0x11850ac10>"
       ]
      },
      {
       "output_type": "stream",
       "stream": "stdout",
       "text": [
        "\n",
        "<Solution 1.01 at 0x11850a950>"
       ]
      },
      {
       "output_type": "stream",
       "stream": "stdout",
       "text": [
        "\n",
        "<Solution 1.01 at 0x11850a2d0>"
       ]
      },
      {
       "output_type": "stream",
       "stream": "stdout",
       "text": [
        "\n",
        "<Solution 1.01 at 0x11850aa90>"
       ]
      },
      {
       "output_type": "stream",
       "stream": "stdout",
       "text": [
        "\n",
        "<Solution 1.01 at 0x11850a590>"
       ]
      },
      {
       "output_type": "stream",
       "stream": "stdout",
       "text": [
        "\n",
        "<Solution 1.01 at 0x11850a5d0>"
       ]
      },
      {
       "output_type": "stream",
       "stream": "stdout",
       "text": [
        "\n",
        "<Solution 1.01 at 0x11850ac50>"
       ]
      },
      {
       "output_type": "stream",
       "stream": "stdout",
       "text": [
        "\n",
        "<Solution 1.01 at 0x11850a110>"
       ]
      },
      {
       "output_type": "stream",
       "stream": "stdout",
       "text": [
        "\n",
        "<Solution 1.01 at 0x11850a890>"
       ]
      },
      {
       "output_type": "stream",
       "stream": "stdout",
       "text": [
        "\n",
        "<Solution 1.01 at 0x11850a450>"
       ]
      },
      {
       "output_type": "stream",
       "stream": "stdout",
       "text": [
        "\n",
        "<Solution 1.01 at 0x11850aed0>"
       ]
      },
      {
       "output_type": "stream",
       "stream": "stdout",
       "text": [
        "\n",
        "<Solution 1.01 at 0x11850ac90>"
       ]
      },
      {
       "output_type": "stream",
       "stream": "stdout",
       "text": [
        "\n",
        "<Solution 1.01 at 0x11850add0>"
       ]
      },
      {
       "output_type": "stream",
       "stream": "stdout",
       "text": [
        "\n",
        "<Solution 1.01 at 0x11850acd0>"
       ]
      },
      {
       "output_type": "stream",
       "stream": "stdout",
       "text": [
        "\n"
       ]
      },
      {
       "metadata": {},
       "output_type": "display_data",
       "png": "[encoded data removed]",
       "text": [
        "<matplotlib.figure.Figure at 0x11039f590>"
       ]
      },
      {
       "metadata": {},
       "output_type": "display_data",
       "png": "[encoded data removed]",
       "text": [
        "<matplotlib.figure.Figure at 0x113fa8450>"
       ]
      },
      {
       "metadata": {},
       "output_type": "display_data",
       "png": "[encoded data removed]",
       "text": [
        "<matplotlib.figure.Figure at 0x115dcf150>"
       ]
      }
     ],
     "prompt_number": 90
    },
    {
     "cell_type": "code",
     "collapsed": false,
     "input": [
      "def build_rslt_v_data(rslt_v,filename=\"/Users/weaver/git/covert/aerobic-transit-data-jan-wc-v16.tsv\"):\n",
      "    with open(filename,\"wt\") as stream:\n",
      "        for k,v in rslt_v.iteritems():\n",
      "            stream.write(\"{}\".format(k))\n",
      "            for element in v:\n",
      "                stream.write(\"\\t{}\".format(element))\n",
      "            stream.write(\"\\n\")\n"
     ],
     "language": "python",
     "metadata": {},
     "outputs": [],
     "prompt_number": 96
    },
    {
     "cell_type": "code",
     "collapsed": false,
     "input": [
      "build_rslt_v_data(rslt_v)\n"
     ],
     "language": "python",
     "metadata": {},
     "outputs": [],
     "prompt_number": 97
    }
   ],
   "metadata": {}
  }
 ]
}