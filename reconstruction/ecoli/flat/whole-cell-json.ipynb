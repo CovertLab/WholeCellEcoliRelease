{
 "metadata": {
  "name": "",
  "signature": "sha256:6138f47297b55547936498b18caef4b67136eb593d7f5b4eaaf71249d394418a"
 },
 "nbformat": 3,
 "nbformat_minor": 0,
 "worksheets": [
  {
   "cells": [
    {
     "cell_type": "code",
     "collapsed": true,
     "input": [
      "%matplotlib inline\n",
      "import cobra\n",
      "import numpy as np\n",
      "import matplotlib.pyplot as plt\n",
      "import os\n",
      "import wholecell\n",
      "import json\n",
      "import pprint"
     ],
     "language": "python",
     "metadata": {},
     "outputs": [],
     "prompt_number": 373
    },
    {
     "cell_type": "code",
     "collapsed": false,
     "input": [
      "## Define some cobrapy functions for pretty printing...\n",
      "def get_boundaries(model):\n",
      "\treturn {k.id: v for k,v in zip(model.reactions,model.solution.x) if k.boundary and not np.isclose(v,0)}\n",
      "\n",
      "def get_sol_boundaries(model,solution):\n",
      "\treturn {k.id: v for k,v in zip(model.reactions,solution.x) if k.boundary and not np.isclose(v,0)}\n",
      "\n",
      "\n",
      "def get_nonzeros(model,pretty=False,limit=None):\n",
      "    tmp = sorted([(k.id, np.abs(v)) for k,v in zip(model.reactions,model.solution.x) if not np.isclose(v,0)],key=lambda x: x[1],reverse=True)\n",
      "    if pretty: \t\n",
      "        print \"{:18}\\t{:40}{}\\t{}{}\".format(\"FLUXES\",\"REACTION NAMES\",\"\",\"REACTION EQUATIONS\",\"\")\n",
      "        print \"{:-<100}\".format(\"\")\n",
      "        for k,v in tmp[:limit]:\n",
      "            rxn_string = model.reactions.get_by_id(k).build_reaction_string()\n",
      "            print \"Flux: {:12.6f}\\t{:25}{}\\t{}\".format(v,k[:min(len(k),25)],\"...\" if len(k)>25 else \"\", rxn_string) #,\"...\" if len(rxn_string)>40 else \"\"\n",
      "    else:\n",
      "        return tmp\n",
      "    \n",
      "\n",
      "## Print out some information about reactions\n",
      "def print_rxn_info(arg):\n",
      "    for rxn in arg:\n",
      "        gene_names = [x.name for x in rxn.genes]\n",
      "        print \"rxn cobra id:        {}\".format(rxn.id)\n",
      "        print \"rxn ptools id:       {}\".format(rxn.name)\n",
      "        print \"genes of reaction:   {} ({})\".format(\"; \".join([x.name for x in rxn.genes]),\n",
      "                                                    \"; \".join([x.annotation['accession_1'] for x in rxn.genes]))\n",
      "        print \"reaction string:     {}\\n\".format(rxn.build_reaction_string())\n",
      "\n",
      "# get the nonzeroes in a solution\n",
      "def get_sol_nonzeros(sol):\n",
      "    return {x:sol.x_dict[x] for x in sol.x_dict.keys() if not np.isclose(sol.x_dict[x],0)}\n",
      "\n",
      "# get the nonzeroes in a solution\n",
      "def new_nonzeros(sol):\n",
      "    return sorted([(x,sol.x_dict[x]) for x in sol.x_dict.keys() if not np.isclose(sol.x_dict[x],0)],key=lambda x: x[1])\n",
      "\n",
      "\n",
      "# run some JSON with bounds\n",
      "def run_with_bounds(bounds_sets,\n",
      "                    init_bounds=[],\n",
      "                    start_point=\"\",\n",
      "                    objective=\"\"):\n",
      "    start_prob = cobra.io.load_json_model(start_point)\n",
      "    start_prob.change_objective(objective)\n",
      "    print start_prob.optimize()\n",
      "    result = []\n",
      "    \n",
      "    for this_bound in init_bounds.iterkeys():\n",
      "        start_prob.reactions.get_by_id(this_bound).lower_bound = init_bounds[this_bound][0]\n",
      "        start_prob.reactions.get_by_id(this_bound).upper_bound = init_bounds[this_bound][1]\n",
      "\n",
      "    for bounds in bounds_sets:\n",
      "        work_prob = start_prob\n",
      "        for this_bound in bounds.iterkeys():\n",
      "            work_prob.reactions.get_by_id(this_bound).lower_bound = bounds[this_bound][0]\n",
      "            work_prob.reactions.get_by_id(this_bound).upper_bound = bounds[this_bound][1]\n",
      "        tmp = work_prob.optimize()\n",
      "        print tmp\n",
      "        result.append(tmp)\n",
      "        \n",
      "    return result\n",
      "    \n",
      "    \n",
      "def sols_to_vectors(sols):\n",
      "    fluxes=sols[0].x_dict.keys()\n",
      "    \n",
      "    result = {}\n",
      "    for this_flux in fluxes:\n",
      "        for this_sol in sols:\n",
      "            if this_sol.x_dict is None or this_flux not in this_sol.x_dict:\n",
      "                this_level = 0.\n",
      "            else:\n",
      "                this_level = this_sol.x_dict[this_flux]    \n",
      "            if this_flux in result:\n",
      "                result[this_flux].append(this_level)\n",
      "            else:\n",
      "                result[this_flux] = [this_level]\n",
      "    return result\n",
      "\n",
      "def make_happen(bounds_sets,\n",
      "                init_bounds={},\n",
      "                start_point={},\n",
      "                objective={}):\n",
      "\n",
      "    r = run_with_bounds(bounds_sets,init_bounds=init_bounds,start_point=start_point,objective=objective)   \n",
      "\n",
      "    rv = sols_to_vectors(r)\n",
      "\n",
      "    plt.figure(1)\n",
      "    plt.hold(True)\n",
      "    plt.plot(-np.array(rv['__NUT_EX_OXYGEN_MOLECULE_e']),rv[objective],'k-')\n",
      "    plt.xlabel('specific O2 uptake (mmol/gDW/hr)')\n",
      "    plt.ylabel('specific growth rate (1/hr)')\n",
      "    f1 = plt.gca()\n",
      "    \n",
      "    plt.figure(2)\n",
      "    plt.hold(True)\n",
      "    plt.plot(-np.array(rv['__NUT_EX_OXYGEN_MOLECULE_e']),rv['__SEC_EX_FORMATE_e'],'r-')\n",
      "    plt.plot(-np.array(rv['__NUT_EX_OXYGEN_MOLECULE_e']),rv['__SEC_EX_ACET_e'],'b-')\n",
      "    plt.plot(-np.array(rv['__NUT_EX_OXYGEN_MOLECULE_e']),\n",
      "             np.array(rv['__SEC_EX_ETOH_e'])-np.array(rv['__NUT_EX_ETOH_e']),'g-')\n",
      "    plt.plot(-np.array(rv['__NUT_EX_OXYGEN_MOLECULE_e']),rv['__SEC_EX_SUC_e'],'k-')\n",
      "    plt.plot(-np.array(rv['__NUT_EX_OXYGEN_MOLECULE_e']),rv['__SEC_EX_D_LACTATE_e'],'y-')\n",
      "    plt.plot(-np.array(rv['__NUT_EX_OXYGEN_MOLECULE_e']),\n",
      "             np.array(rv['__SEC_EX_CARBON_DIOXIDE_e'])-np.array(rv['__NUT_EX_CARBON_DIOXIDE_e']),'c-')\n",
      "    plt.plot(-np.array(rv['__NUT_EX_OXYGEN_MOLECULE_e']),\n",
      "             np.array(rv['__SEC_EX_HYDROGEN_MOLECULE_e'])-np.array(rv['__NUT_EX_HYDROGEN_MOLECULE_e']),'m-')\n",
      "\n",
      "    plt.legend(['formate','acetate','ethanol','succinate','lactate','CO2','H2'],loc='best',fontsize='small')\n",
      "    plt.xlabel('specific O2 uptake (mmol/gDW/hr)')\n",
      "    plt.ylabel('specific efflux rate (mmol/gDW/hr)')\n",
      "    f2 = plt.gca()\n",
      "    \n",
      "    plt.figure(3)\n",
      "    plt.hold(True)\n",
      "    plt.plot(-np.array(rv['__NUT_EX_OXYGEN_MOLECULE_e']),np.array(rv['ATPSYN_RXN_L2R'])-np.array(rv['ATPSYN_RXN_R2L']),'r-')\n",
      "    plt.plot(-np.array(rv['__NUT_EX_OXYGEN_MOLECULE_e']),\n",
      "             np.array(rv['__SEC_EX_PROTON_e'])-np.array(rv['__NUT_EX_PROTON_e']),'b-')\n",
      "    \n",
      "    plt.legend(['ATP synthase flux','proton efflux'],loc='best',fontsize='small')\n",
      "    plt.xlabel('specific O2 uptake (mmol/gDW/hr)')\n",
      "    plt.ylabel('specific flux rate (mmol/gDW/hr)')\n",
      "    f3 = plt.gca()\n",
      "    \n",
      "    return r, rv, f1, f2, f3\n",
      "\n",
      "def build_rslt_v_data(rslt_v,filename=\"./aerobic_transit_ecocyc_20_1_gem.tsv\"):\n",
      "    with open(filename,\"wt\") as stream:\n",
      "        for k,v in rslt_v.iteritems():\n",
      "            stream.write(\"{}\".format(k))\n",
      "            for element in v:\n",
      "                stream.write(\"\\t{}\".format(element))\n",
      "            stream.write(\"\\n\")\n",
      "    \n",
      "def attempt_at_fluxes_compare(old,new):\n",
      "\n",
      "    new=[x[0] for x in get_nonzeros(wcd,pretty=False)]\n",
      "    old=[x[0] for x in get_nonzeros(wcdj,pretty=False)]\n",
      "    # for name in set(new)-set(old):\n",
      "    #     if name[:2] != '__':\n",
      "    #         print name\n",
      "    # print\n",
      "    # print\n",
      "    # for name in set(old)-set(new):\n",
      "    #     if name[:2] != '__':\n",
      "    #         print name\n",
      "\n",
      "    new_rxns = [x.id for x in wcd.reactions]\n",
      "    old_rxns = [x.id for x in wcdj.reactions]\n",
      "    new_not_in_old = set(new)-set(old_rxns)\n",
      "    old_not_in_new = set(old)-set(new_rxns)\n",
      "\n",
      "    new_in_old = set(new).intersection(set(old_rxns))\n",
      "    #old_in_new = set(old).intersection(set(new_rxns))\n",
      "\n",
      "    for name in new_not_in_old:\n",
      "        print name\n",
      "        print wcd.reactions.get_by_id(name).build_reaction_string()\n",
      "        print wcd.solution.x_dict[name]\n",
      "        print\n",
      "    print \"-\"*80\n",
      "    old_not_in_new = set(old).intersection(set(old_rxns)-set(new_rxns))\n",
      "    for name in old_not_in_new:\n",
      "        print name\n",
      "        print wcdj.reactions.get_by_id(name).build_reaction_string()\n",
      "        print wcdj.solution.x_dict[name]\n",
      "        print\n",
      "    print \"-\"*80\n",
      "    for name in new_in_old:\n",
      "\n",
      "        print name\n",
      "        qa= wcd.reactions.get_by_id(name).build_reaction_string()\n",
      "        qb= wcdj.reactions.get_by_id(name).build_reaction_string()\n",
      "        print qa\n",
      "        print qb\n",
      "        if qa != qb:\n",
      "            print \"!!! Don't sweat the small stuff...\"\n",
      "\n",
      "        print \"new: \",wcd.solution.x_dict[name],\" old:\",wcdj.solution.x_dict[name]\n",
      "        print\n",
      "\n",
      "# 041016\n",
      "# minflux optimization\n",
      "# add a small penalty function to include a reaction in the objective if a reaction is catalyzed\n",
      "# mimics Mario's flux minimization style\n",
      "# set minflux_coeff = 0 to do normal minimization\n",
      "        \n",
      "def minflux_opt(model,true_obj='__OBJ__TOP_LEVEL_c',minflux_coeff=1.0e-6,genes_only=True):\n",
      "\n",
      "    if genes_only:\n",
      "        mfod = {x.id : -minflux_coeff for x in model.reactions if x.genes} \n",
      "    else:\n",
      "        mfod = {x.id : -minflux_coeff for x in model.reactions}     \n",
      "    mfod[true_obj]=1.0\n",
      "\n",
      "    model.change_objective(mfod)\n",
      "    mfr = model.optimize()\n",
      "    #pprint.pprint(get_sol_boundaries(wcd,mfr))\n",
      "    correction = (sum(mfr.x_dict.values()) - mfr.x_dict[true_obj])*minflux_coeff\n",
      "    #print \"minflux opt objective value: {}\\ncorrection factor: {}\".format(mfr,correction)\n",
      "    return mfr,correction\n",
      "    \n",
      "    \n",
      "\n",
      "def sort_fluxes(model,rxns):\n",
      "    tmp = sorted([(r,model.solution.x_dict[r]) for r in rxns if not np.isclose(model.solution.x_dict[r],0)],key=lambda x: x[1],reverse=True)\n",
      "    return tmp\n"
     ],
     "language": "python",
     "metadata": {},
     "outputs": [],
     "prompt_number": 465
    },
    {
     "cell_type": "code",
     "collapsed": false,
     "input": [
      "## Load the EcoCyc-20.1-GEM model in JSON format\n",
      "wc = cobra.io.load_json_model(\"./ecocyc_20_1_gem.json\")\n",
      "\n",
      "## Select the MetaFlux objective function for maximization\n",
      "wc.change_objective(\"__OBJ__TOP_LEVEL_c\")\n",
      "\n",
      "## Optimize!\n",
      "print \"Glucose alone: \", wc.optimize()\n",
      "\n",
      "\n",
      "wc.reactions.get_by_id('__NUT_EX_GLUCONATE_e').lower_bound = -10\n",
      "\n",
      "print \"Glucose + gluconate: \", wc.optimize()\n",
      "\n",
      "wc.optimize()\n",
      "\n",
      "# go back to normal\n",
      "wc.reactions.get_by_id('__NUT_EX_GLUCONATE_e').lower_bound = 0\n",
      "#wc.optimize()\n",
      "\n"
     ],
     "language": "python",
     "metadata": {},
     "outputs": [
      {
       "output_type": "stream",
       "stream": "stdout",
       "text": [
        "Glucose alone:  "
       ]
      },
      {
       "output_type": "stream",
       "stream": "stdout",
       "text": [
        "<Solution 0.29 at 0x12f03c0d0>\n",
        "Glucose + gluconate:  "
       ]
      },
      {
       "output_type": "stream",
       "stream": "stdout",
       "text": [
        "<Solution 0.55 at 0x11460d790>\n"
       ]
      },
      {
       "metadata": {},
       "output_type": "pyout",
       "prompt_number": 351,
       "text": [
        "<Solution 0.29 at 0x11de4da10>"
       ]
      }
     ],
     "prompt_number": 351
    },
    {
     "cell_type": "code",
     "collapsed": false,
     "input": [
      "def wcd(filename):\n",
      "    with open(filename,\"rt\") as wc_fp:\n",
      "        return json.load(wc_fp)\n",
      "\n",
      "wcfull=wcd(\"./ecocyc_20_1_gem.json\")\n",
      "\n",
      "#wcfull['pseudo_atom_table']\n"
     ],
     "language": "python",
     "metadata": {},
     "outputs": [],
     "prompt_number": 451
    },
    {
     "cell_type": "code",
     "collapsed": false,
     "input": [
      "print \"EcoCyc-20.1-GEM -- now available in cobra flavor! \\n\"\n",
      "print \"number of genes:             {}\".format(len(wc.genes))\n",
      "print \"number of reactions:         {}\".format(len(wc.reactions))\n",
      "print \"number of metabolites:       {}\".format(len(wc.metabolites))\n",
      "print \"\\nSelected reactions...\\n\"\n",
      "map(print_rxn_info, [wc.reactions[2305:2310]])"
     ],
     "language": "python",
     "metadata": {},
     "outputs": [
      {
       "output_type": "stream",
       "stream": "stdout",
       "text": [
        "EcoCyc-20.1-GEM -- now available in cobra flavor! \n",
        "\n",
        "number of genes:             1579\n",
        "number of reactions:         6198\n",
        "number of metabolites:       3955\n",
        "\n",
        "Selected reactions...\n",
        "\n",
        "rxn cobra id:        RXN_15578_L2R\n",
        "rxn ptools id:       RXN-15578\n",
        "genes of reaction:   tnaA (b3708)\n",
        "reaction string:     TRP_c --> 2_AMINOACRYLATE_c + PROTON_c + INDOLE_c\n",
        "\n",
        "rxn cobra id:        RXN0_5410_R2L\n",
        "rxn ptools id:       RXN0-5410\n",
        "genes of reaction:   yghZ (b3001)\n",
        "reaction string:     L_GLYCERALDEHYDE_3_PHOSPHATE_c + NADPH_c + PROTON_c --> GLYCEROL_3P_c + NADP_c\n",
        "\n",
        "rxn cobra id:        AMINOCYL_TRNA_HYDROLASE_RXN_L2R\n",
        "rxn ptools id:       AMINOCYL-TRNA-HYDROLASE-RXN\n",
        "genes of reaction:   arfB; pth (b0191; b1204)\n",
        "reaction string:     WATER_c + N_Substituted_Aminoacyl_tRNA_c --> N_Substituted_Amino_Acids_c + tRNAs_c + 2.0 PROTON_c\n",
        "\n",
        "rxn cobra id:        NAG1P_URIDYLTRANS_RXN_L2R\n",
        "rxn ptools id:       NAG1P-URIDYLTRANS-RXN\n",
        "genes of reaction:   glmU (b3730)\n",
        "reaction string:     UTP_c + PROTON_c + N_ACETYL_D_GLUCOSAMINE_1_P_c --> PPI_c + UDP_N_ACETYL_D_GLUCOSAMINE_c\n",
        "\n",
        "rxn cobra id:        RXN_15210_L2R\n",
        "rxn ptools id:       RXN-15210\n",
        "genes of reaction:   opgE (b0815)\n",
        "reaction string:     CPD_16398_p + L_1_PHOSPHATIDYL_ETHANOLAMINE_p --> CPD_16401_p + DIACYLGLYCEROL_p\n",
        "\n"
       ]
      },
      {
       "metadata": {},
       "output_type": "pyout",
       "prompt_number": 452,
       "text": [
        "[None]"
       ]
      }
     ],
     "prompt_number": 452
    },
    {
     "cell_type": "code",
     "collapsed": false,
     "input": [
      "#wc.reactions.get_by_id('RXN0_6952_L2R').check_mass_balance()\n",
      "#nzd = get_sol_nonzeros(wc.solution)\n",
      "#pml_nzd = {k:nzd[k] for k in pml}\n",
      "#lmp_nzd = {k:nzd[k] for k in lmp}\n",
      "\n",
      "    \n",
      "for f in sort_fluxes(wc,pml):\n",
      "    if f[0][:2] != '__':\n",
      "        print f[1],\" :  \", wc.reactions.get_by_id(f[0]).build_reaction_string()\n",
      "        print f[0]\n",
      "        print\n",
      "\n",
      "\n",
      "#    print \"{}:{}\".format(rxn,nzd[rxn])\n",
      "#get_sol_nonzeros(wc.solution)"
     ],
     "language": "python",
     "metadata": {},
     "outputs": [
      {
       "output_type": "stream",
       "stream": "stdout",
       "text": [
        "25.9482967413  :   PROTON_p --> PROTON_e\n",
        "TRANS_RXN0_601_CCO_OUTER_MEM__PROTON__PROTON_30__L2R\n",
        "\n",
        "18.9974339836  :   G3P_c --> 2_PG_c\n",
        "RXN_15513_R2L\n",
        "\n",
        "10.0  :   GLC_p + PTSH_PHOSPHORYLATED_c --> ALPHA_GLC_6_P_c + PTSH_MONOMER_c\n",
        "TRANS_RXN_157_CCO_PM_BAC_NEG__PTSH_PHOSPHORYLATED_GLC__ALPHA_GLC_6_P_PTSH_MONOMER_68__L2R\n",
        "\n",
        "10.0  :   GLC_e --> GLC_p\n",
        "RXN0_7209_CCO_OUTER_MEM__GLC__GLC_24__R2L\n",
        "\n",
        "9.99668328028  :   ALPHA_GLC_6_P_c --> FRUCTOSE_6P_c\n",
        "PGLUCISOM_RXN_CCO_CYTOSOL__ALPHA_GLC_6_P__FRUCTOSE_6P_40__L2R\n",
        "\n",
        "8.11795798132  :   ACET_p --> ACET_e\n",
        "TRANS_RXN0_606_CCO_OUTER_MEM__ACET__ACET_26__L2R\n",
        "\n",
        "7.70656605465  :   FUM_c + REDUCED_MENAQUINONE_i --> SUC_c + CPD_9728_i\n",
        "R601_RXN_CCO_PM_BAC_NEG__FUM_REDUCED_MENAQUINONE__SUC_CPD_9728_54__L2R\n",
        "\n",
        "7.7065375398  :   SUC_p --> SUC_e\n",
        "TRANS_RXN0_609_CCO_OUTER_MEM__SUC__SUC_24__L2R\n",
        "\n",
        "7.64929263665  :   NADH_c + 5.0 PROTON_c + CPD_9728_i --> NAD_c + REDUCED_MENAQUINONE_i + 4.0 PROTON_p\n",
        "RXN0_5388_CCO_PM_BAC_NEG__NADH_CPD_9728_PROTON__NAD_REDUCED_MENAQUINONE_PROTON_69__L2R\n",
        "\n",
        "5.41334606872  :   WATER_p --> WATER_e\n",
        "TRANS_RXN0_603_L2R\n",
        "\n",
        "5.41334606872  :   WATER_c --> WATER_p\n",
        "TRANS_RXN_145_R2L\n",
        "\n",
        "2.92696577013  :   AMMONIUM_e --> AMMONIUM_p\n",
        "TRANS_RXN0_601_CCO_OUTER_MEM__AMMONIUM__AMMONIUM_34__R2L\n",
        "\n",
        "0.661765371099  :   MALONYL_COA_c + ACP_c --> MALONYL_ACP_c + CO_A_c\n",
        "MALONYL_COA_ACP_TRANSACYL_RXN_CCO_CYTOSOL__ACP_MALONYL_COA__MALONYL_ACP_CO_A_47__L2R\n",
        "\n",
        "0.449329929826  :   Pi_e --> Pi_p\n",
        "TRANS_RXN0_601_CCO_OUTER_MEM__Pi__Pi_22__R2L\n",
        "\n",
        "0.30702575259  :   CPD_13469_c + GLT_c --> FRUCTOSE_6P_c + GLN_c\n",
        "L_GLN_FRUCT_6_P_AMINOTRANS_RXN_CCO_CYTOSOL__FRUCTOSE_6P_GLN__CPD_13469_GLT_44__R2L\n",
        "\n",
        "0.226430823881  :   THF_c + SER_c --> WATER_c + GLY_c + METHYLENE_THF_c\n",
        "GLYOHMETRANS_RXN_CCO_CYTOSOL__SER_THF__GLY_METHYLENE_THF_WATER_46__L2R\n",
        "\n",
        "0.222591338514  :   L_ASPARTATE_SEMIALDEHYDE_c + NADH_c + PROTON_c --> HOMO_SER_c + NAD_c\n",
        "HOMOSERDEHYDROG_RXN_CCO_CYTOSOL__HOMO_SER_NAD__L_ASPARTATE_SEMIALDEHYDE_NADH_PROTON_64__R2L\n",
        "\n",
        "0.204007032191  :   D_SEDOHEPTULOSE_7_P_c + GAP_c --> CPD_15318_c + XYLULOSE_5_PHOSPHATE_c\n",
        "1TRANSKETO_RXN_CCO_CYTOSOL__D_SEDOHEPTULOSE_7_P_GAP__CPD_15318_XYLULOSE_5_PHOSPHATE_69__L2R\n",
        "\n",
        "0.204007032191  :   CPD_15318_c + ATP_c --> AMP_c + PROTON_c + PRPP_c\n",
        "PRPPSYN_RXN_CCO_CYTOSOL__CPD_15318_ATP__PRPP_AMP_PROTON_44__L2R\n",
        "\n",
        "0.178260265828  :   CPD_16551_c + XYLULOSE_5_PHOSPHATE_c --> D_SEDOHEPTULOSE_7_P_c + GAP_c\n",
        "1TRANSKETO_RXN_CCO_CYTOSOL__D_SEDOHEPTULOSE_7_P_GAP__CPD_16551_XYLULOSE_5_PHOSPHATE_69__R2L\n",
        "\n",
        "0.173749464249  :   RIBULOSE_5P_c --> CPD_16551_c\n",
        "RIB5PISOM_RXN_CCO_CYTOSOL__CPD_16551__RIBULOSE_5P_36__R2L\n",
        "\n",
        "0.15736088984  :   NADP_c + METHYLENE_THF_c --> 5_10_METHENYL_THF_c + NADPH_c\n",
        "METHYLENETHFDEHYDROG_NADP_RXN_CCO_CYTOSOL__METHYLENE_THF_NADP__5_10_METHENYL_THF_NADPH_57__L2R\n",
        "\n",
        "0.15736088984  :   5_10_METHENYL_THF_c + WATER_c --> PROTON_c + 10_FORMYL_THF_c\n",
        "METHENYLTHFCYCLOHYDRO_RXN_CCO_CYTOSOL__5_10_METHENYL_THF_WATER__10_FORMYL_THF_PROTON_59__L2R\n",
        "\n",
        "0.10716859719  :   10_FORMYL_THF_c + AICAR_c --> THF_c + PHOSPHORIBOSYL_FORMAMIDO_CARBOXAMIDE_c\n",
        "AICARTRANSFORM_RXN_CCO_CYTOSOL__10_FORMYL_THF_AICAR__THF_PHOSPHORIBOSYL_FORMAMIDO_CARBOXAMIDE_75__L2R\n",
        "\n",
        "0.0942966260871  :   CPD_7100_c + PROTON_c --> 2K_4CH3_PENTANOATE_c + CARBON_DIOXIDE_c\n",
        "RXN_7800_L2R\n",
        "\n",
        "0.0942966260871  :   NAD_c + 2_D_THREO_HYDROXY_3_CARBOXY_ISOCAPROATE_c --> CPD_7100_c + PROTON_c + NADH_c\n",
        "3_ISOPROPYLMALDEHYDROG_RXN_L2R\n",
        "\n",
        "0.0925614360106  :   NADH_c + PROTON_c + 2_Octenoyl_ACPs_c --> NAD_c + Octanoyl_ACPs_c\n",
        "ENOYL_ACP_REDUCT_NADH_RXN_CCO_CYTOSOL__Octanoyl_ACPs_NAD__2_Octenoyl_ACPs_NADH_PROTON_60__R2L\n",
        "\n",
        "0.0925614360106  :   ACETYL_COA_c + ACP_c --> CO_A_c + ACETYL_ACP_c\n",
        "ACP_S_ACETYLTRANSFER_RXN_CCO_CYTOSOL__ACP_ACETYL_COA__ACETYL_ACP_CO_A_45__L2R\n",
        "\n",
        "0.0925614360106  :   Acetoacetyl_ACPs_c + NADPH_c + PROTON_c --> NADP_c + Beta_3_hydroxybutyryl_ACPs_c\n",
        "RXN_9514_CCO_CYTOSOL__Beta_3_hydroxybutyryl_ACPs_NADP__Acetoacetyl_ACPs_NADPH_PROTON_76__R2L\n",
        "\n",
        "0.0925614360106  :   Beta_hydroxydecanoyl_ACPs_c --> Trans_D2_decenoyl_ACPs_c + WATER_c\n",
        "3_HYDROXYDECANOYL_ACP_DEHYDR_RXN_CCO_CYTOSOL__Beta_hydroxydecanoyl_ACPs__Trans_D2_decenoyl_ACPs_WATER_69__L2R\n",
        "\n",
        "0.0925614360106  :   Beta_3_hydroxybutyryl_ACPs_c --> Crotonyl_ACPs_c + WATER_c\n",
        "3_HYDROXYDECANOYL_ACP_DEHYDR_RXN_CCO_CYTOSOL__Beta_3_hydroxybutyryl_ACPs__Crotonyl_ACPs_WATER_61__L2R\n",
        "\n",
        "0.0925614360106  :   Hex_2_enoyl_ACPs_c + NADH_c + PROTON_c --> Hexanoyl_ACPs_c + NAD_c\n",
        "RXN_9658_CCO_CYTOSOL__Hexanoyl_ACPs_NAD__Hex_2_enoyl_ACPs_NADH_PROTON_61__R2L\n",
        "\n",
        "0.0925614360106  :   MALONYL_ACP_c + PROTON_c + Butanoyl_ACPs_c --> ACP_c + 3_oxo_hexanoyl_ACPs_c + CARBON_DIOXIDE_c\n",
        "RXN_9516_CCO_CYTOSOL__Butanoyl_ACPs_MALONYL_ACP_PROTON__3_oxo_hexanoyl_ACPs_CARBON_DIOXIDE_ACP_86__L2R\n",
        "\n",
        "0.0925614360106  :   PROTON_c + 3_Oxo_octanoyl_ACPs_c + NADPH_c --> 3_Hydroxy_octanoyl_ACPs_c + NADP_c\n",
        "RXN_9524_CCO_CYTOSOL__3_Hydroxy_octanoyl_ACPs_NADP__3_Oxo_octanoyl_ACPs_NADPH_PROTON_76__R2L\n",
        "\n",
        "0.0925614360106  :   3_oxo_hexanoyl_ACPs_c + NADPH_c + PROTON_c --> R_3_hydroxyhexanoyl_ACPs_c + NADP_c\n",
        "3_OXOACYL_ACP_REDUCT_RXN_CCO_CYTOSOL__R_3_hydroxyhexanoyl_ACPs_NADP__3_oxo_hexanoyl_ACPs_NADPH_PROTON_77__R2L\n",
        "\n",
        "0.0925614360106  :   3_Hydroxy_octanoyl_ACPs_c --> WATER_c + 2_Octenoyl_ACPs_c\n",
        "3_HYDROXYDECANOYL_ACP_DEHYDR_RXN_CCO_CYTOSOL__3_Hydroxy_octanoyl_ACPs__2_Octenoyl_ACPs_WATER_60__L2R\n",
        "\n",
        "0.0925614360106  :   R_3_hydroxyhexanoyl_ACPs_c --> WATER_c + Hex_2_enoyl_ACPs_c\n",
        "RXN_9520_CCO_CYTOSOL__R_3_hydroxyhexanoyl_ACPs__Hex_2_enoyl_ACPs_WATER_62__L2R\n",
        "\n",
        "0.0925614360106  :   MALONYL_ACP_c + Octanoyl_ACPs_c + PROTON_c --> 3_oxo_decanoyl_ACPs_c + ACP_c + CARBON_DIOXIDE_c\n",
        "RXN_9527_CCO_CYTOSOL__Octanoyl_ACPs_MALONYL_ACP_PROTON__3_oxo_decanoyl_ACPs_CARBON_DIOXIDE_ACP_86__L2R\n",
        "\n",
        "0.0925614360106  :   Hexanoyl_ACPs_c + MALONYL_ACP_c + PROTON_c --> ACP_c + CARBON_DIOXIDE_c + 3_Oxo_octanoyl_ACPs_c\n",
        "3_OXOACYL_ACP_SYNTH_RXN_CCO_CYTOSOL__MALONYL_ACP_Hexanoyl_ACPs_PROTON__ACP_3_Oxo_octanoyl_ACPs_CARBON_DIOXIDE_86__L2R\n",
        "\n",
        "0.0925614360106  :   NADPH_c + PROTON_c + 3_oxo_decanoyl_ACPs_c --> Beta_hydroxydecanoyl_ACPs_c + NADP_c\n",
        "RXN_9528_CCO_CYTOSOL__Beta_hydroxydecanoyl_ACPs_NADP__3_oxo_decanoyl_ACPs_NADPH_PROTON_78__R2L\n",
        "\n",
        "0.0925614360106  :   ACETYL_ACP_c + MALONYL_ACP_c + PROTON_c --> ACP_c + Acetoacetyl_ACPs_c + CARBON_DIOXIDE_c\n",
        "3_OXOACYL_ACP_SYNTH_BASE_RXN_CCO_CYTOSOL__MALONYL_ACP_ACETYL_ACP_PROTON__ACP_Acetoacetyl_ACPs_CARBON_DIOXIDE_80__L2R\n",
        "\n",
        "0.0925614360106  :   Crotonyl_ACPs_c + NADH_c + PROTON_c --> Butanoyl_ACPs_c + NAD_c\n",
        "RXN_9657_CCO_CYTOSOL__Butanoyl_ACPs_NAD__Crotonyl_ACPs_NADH_PROTON_58__R2L\n",
        "\n",
        "0.0862676648142  :   Ox_Thioredoxin_c + PROTON_c + NADPH_c --> Red_Thioredoxin_c + NADP_c\n",
        "THIOREDOXIN_REDUCT_NADPH_RXN_CCO_CYTOSOL__Red_Thioredoxin_NADP__Ox_Thioredoxin_NADPH_PROTON_63__R2L\n",
        "\n",
        "0.0836214976187  :   O_SUCCINYL_L_HOMOSERINE_c + WATER_c --> AMMONIUM_c + SUC_c + 2_OXOBUTANOATE_c + PROTON_c\n",
        "METBALT_RXN_L2R\n",
        "\n",
        "0.0769550472998  :   PAPS_c + Red_Thioredoxin_c --> SO3_c + Ox_Thioredoxin_c + 3_5_ADP_c + 2.0 PROTON_c\n",
        "1_8_4_8_RXN_CCO_CYTOSOL__3_5_ADP_SO3_Ox_Thioredoxin_PROTON__PAPS_Red_Thioredoxin_69__R2L\n",
        "\n",
        "0.0769550472998  :   SULFATE_e --> SULFATE_p\n",
        "TRANS_RXN0_601_CCO_OUTER_MEM__SULFATE__SULFATE_32__R2L\n",
        "\n",
        "0.0729465557231  :   L_DELTA1_PYRROLINE_5_CARBOXYLATE_c + NADH_c + 2.0 PROTON_c --> PRO_c + NAD_c\n",
        "PYRROLINECARBREDUCT_RXN_CCO_CYTOSOL__PRO_NAD__L_DELTA1_PYRROLINE_5_CARBOXYLATE_NADH_PROTON_67__R2L\n",
        "\n",
        "0.0644165582067  :   PROTON_c + METHYLENE_THF_c + NADH_c --> 5_METHYL_THF_c + NAD_c\n",
        "1_5_1_20_RXN_CCO_CYTOSOL__5_METHYL_THF_NAD__METHYLENE_THF_NADH_PROTON_57__R2L\n",
        "\n",
        "0.0643880433557  :   HOMO_CYS_c + 5_METHYL_THF_c --> MET_c + THF_c\n",
        "HOMOCYSMETB12_RXN_CCO_CYTOSOL__HOMO_CYS_5_METHYL_THF__MET_THF_44__L2R\n",
        "\n",
        "0.0570452991866  :   DI_H_OROTATE_c + CPD_9728_i --> REDUCED_MENAQUINONE_i + OROTATE_c\n",
        "RXN0_6554_CCO_PM_BAC_NEG__DI_H_OROTATE_CPD_9728__OROTATE_REDUCED_MENAQUINONE_67__L2R\n",
        "\n",
        "0.0568416899195  :   DIHYDROXY_ACETONE_PHOSPHATE_c + NADH_c + PROTON_c --> GLYCEROL_3P_c + NAD_c\n",
        "GLYC3PDEHYDROGBIOSYN_RXN_CCO_CYTOSOL__GLYCEROL_3P_NAD__DIHYDROXY_ACETONE_PHOSPHATE_NADH_PROTON_70__R2L\n",
        "\n",
        "0.0501637777996  :   5_PHOSPHO_RIBOSYL_GLYCINEAMIDE_c + 10_FORMYL_THF_c --> THF_c + PROTON_c + 5_P_RIBOSYL_N_FORMYLGLYCINEAMIDE_c\n",
        "GART_RXN_CCO_CYTOSOL__10_FORMYL_THF_5_PHOSPHO_RIBOSYL_GLYCINEAMIDE__THF_5_P_RIBOSYL_N_FORMYLGLYCINEAMIDE_PROTON_103__L2R\n",
        "\n",
        "0.0499639237102  :   ATP_c + CDP_c --> CTP_c + ADP_c\n",
        "CDPKIN_RXN_L2R\n",
        "\n",
        "0.0475545489417  :   PROTON_c + MALONYL_ACP_c + Cis_Delta7_tetradecenoyl_ACPs_c --> ACP_c + CARBON_DIOXIDE_c + 3_oxo_cis_D9_hexadecenoyl_ACPs_c\n",
        "RXN_10658_CCO_CYTOSOL__Cis_Delta7_tetradecenoyl_ACPs_MALONYL_ACP_PROTON__3_oxo_cis_D9_hexadecenoyl_ACPs_ACP_CARBON_DIOXIDE_113__L2R\n",
        "\n",
        "0.0475545489417  :   NADH_c + PROTON_c + Trans_D3_cis_D9_hexadecenoyl_ACPs_c --> NAD_c + Palmitoleoyl_ACPs_c\n",
        "RXN_10661_CCO_CYTOSOL__Palmitoleoyl_ACPs_NAD__Trans_D3_cis_D9_hexadecenoyl_ACPs_NADH_PROTON_82__R2L\n",
        "\n",
        "0.0475545489417  :   3_oxo_cis_D9_hexadecenoyl_ACPs_c + NADPH_c + PROTON_c --> NADP_c + 3_hydroxy_cis_D9_hexaecenoyl_ACPs_c\n",
        "RXN_10659_CCO_CYTOSOL__3_hydroxy_cis_D9_hexaecenoyl_ACPs_NADP__3_oxo_cis_D9_hexadecenoyl_ACPs_NADPH_PROTON_97__R2L\n",
        "\n",
        "0.0475545489417  :   Trans_D3_cis_D5_dodecenoyl_ACPs_c + PROTON_c + NADH_c --> NAD_c + Cis_Delta5_dodecenoyl_ACPs_c\n",
        "RXN0_2145_CCO_CYTOSOL__Cis_Delta5_dodecenoyl_ACPs_NAD__Trans_D3_cis_D5_dodecenoyl_ACPs_NADH_PROTON_89__R2L\n",
        "\n",
        "0.0475545489417  :   b_Keto_cis_D5_dodecenoyl_ACPs_c + NADPH_c + PROTON_c --> NADP_c + b_Hydroxy_cis_D5_dodecenoyl_ACPs_c\n",
        "RXN0_2142_CCO_CYTOSOL__b_Hydroxy_cis_D5_dodecenoyl_ACPs_NADP__b_Keto_cis_D5_dodecenoyl_ACPs_NADPH_PROTON_95__R2L\n",
        "\n",
        "0.0475545489417  :   3_oxo_cis_D7_tetradecenoyl_ACPs_c + NADPH_c + PROTON_c --> 3_hydroxy_cis_D7_tetraecenoyl_ACPs_c + NADP_c\n",
        "RXN_10655_CCO_CYTOSOL__3_hydroxy_cis_D7_tetraecenoyl_ACPs_NADP__3_oxo_cis_D7_tetradecenoyl_ACPs_NADPH_PROTON_99__R2L\n",
        "\n",
        "0.0475545489417  :   MALONYL_ACP_c + Cis_Delta5_dodecenoyl_ACPs_c + PROTON_c --> ACP_c + 3_oxo_cis_D7_tetradecenoyl_ACPs_c + CARBON_DIOXIDE_c\n",
        "RXN_10654_CCO_CYTOSOL__Cis_Delta5_dodecenoyl_ACPs_MALONYL_ACP_PROTON__3_oxo_cis_D7_tetradecenoyl_ACPs_ACP_CARBON_DIOXIDE_111__L2R\n",
        "\n",
        "0.0475545489417  :   b_Hydroxy_cis_D5_dodecenoyl_ACPs_c --> Trans_D3_cis_D5_dodecenoyl_ACPs_c + WATER_c\n",
        "RXN0_2144_CCO_CYTOSOL__b_Hydroxy_cis_D5_dodecenoyl_ACPs__Trans_D3_cis_D5_dodecenoyl_ACPs_WATER_85__L2R\n",
        "\n",
        "0.0475545489417  :   3_hydroxy_cis_D7_tetraecenoyl_ACPs_c --> WATER_c + Trans_D3_cis_D7_tetradecenoyl_ACPs_c\n",
        "RXN_10656_CCO_CYTOSOL__3_hydroxy_cis_D7_tetraecenoyl_ACPs__Trans_D3_cis_D7_tetradecenoyl_ACPs_WATER_90__L2R\n",
        "\n",
        "0.0475545489417  :   Cis_delta_3_decenoyl_ACPs_c + MALONYL_ACP_c + PROTON_c --> b_Keto_cis_D5_dodecenoyl_ACPs_c + ACP_c + CARBON_DIOXIDE_c\n",
        "RXN0_2141_CCO_CYTOSOL__Cis_delta_3_decenoyl_ACPs_MALONYL_ACP_PROTON__b_Keto_cis_D5_dodecenoyl_ACPs_ACP_CARBON_DIOXIDE_108__L2R\n",
        "\n",
        "0.0475545489417  :   Trans_D2_decenoyl_ACPs_c --> Cis_delta_3_decenoyl_ACPs_c\n",
        "5_3_3_14_RXN_CCO_CYTOSOL__Trans_D2_decenoyl_ACPs__Cis_delta_3_decenoyl_ACPs_63__L2R\n",
        "\n",
        "0.0475545489417  :   3_hydroxy_cis_D9_hexaecenoyl_ACPs_c --> WATER_c + Trans_D3_cis_D9_hexadecenoyl_ACPs_c\n",
        "RXN_10660_CCO_CYTOSOL__3_hydroxy_cis_D9_hexaecenoyl_ACPs__Trans_D3_cis_D9_hexadecenoyl_ACPs_WATER_88__L2R\n",
        "\n",
        "0.0475545489417  :   Trans_D3_cis_D7_tetradecenoyl_ACPs_c + NADH_c + PROTON_c --> Cis_Delta7_tetradecenoyl_ACPs_c + NAD_c\n",
        "RXN_10657_CCO_CYTOSOL__Cis_Delta7_tetradecenoyl_ACPs_NAD__Trans_D3_cis_D7_tetradecenoyl_ACPs_NADH_PROTON_95__R2L\n",
        "\n",
        "0.046452371791  :   L_CYSTATHIONINE_c --> PROTON_c + 2_AMINOACRYLATE_c + HOMO_CYS_c\n",
        "RXN_15131_L2R\n",
        "\n",
        "0.046452371791  :   PROTON_c + WATER_c + 2_AMINOACRYLATE_c --> AMMONIUM_c + PYRUVATE_c\n",
        "RXN_8899_L2R\n",
        "\n",
        "0.0450068870689  :   R_3_hydroxydodecanoyl_ACPs_c --> Dodec_2_enoyl_ACPs_c + WATER_c\n",
        "RXN_9533_CCO_CYTOSOL__R_3_hydroxydodecanoyl_ACPs__Dodec_2_enoyl_ACPs_WATER_66__L2R\n",
        "\n",
        "0.0450068870689  :   Trans_D2_decenoyl_ACPs_c + NADH_c + PROTON_c --> Decanoyl_ACPs_c + NAD_c\n",
        "ENOYL_ACP_REDUCT_NADH_RXN_CCO_CYTOSOL__Decanoyl_ACPs_NAD__Trans_D2_decenoyl_ACPs_NADH_PROTON_67__R2L\n",
        "\n",
        "0.0450068870689  :   Decanoyl_ACPs_c + MALONYL_ACP_c + PROTON_c --> ACP_c + 3_oxo_dodecanoyl_ACPs_c + CARBON_DIOXIDE_c\n",
        "3_OXOACYL_ACP_SYNTH_RXN_CCO_CYTOSOL__MALONYL_ACP_Decanoyl_ACPs_PROTON__ACP_3_oxo_dodecanoyl_ACPs_CARBON_DIOXIDE_88__L2R\n",
        "\n",
        "0.0450068870689  :   NADPH_c + PROTON_c + 3_oxo_dodecanoyl_ACPs_c --> NADP_c + R_3_hydroxydodecanoyl_ACPs_c\n",
        "3_OXOACYL_ACP_REDUCT_RXN_CCO_CYTOSOL__R_3_hydroxydodecanoyl_ACPs_NADP__3_oxo_dodecanoyl_ACPs_NADPH_PROTON_81__R2L\n",
        "\n",
        "0.0450068870689  :   Dodec_2_enoyl_ACPs_c + NADH_c + PROTON_c --> NAD_c + Dodecanoyl_ACPs_c\n",
        "RXN_9661_CCO_CYTOSOL__Dodecanoyl_ACPs_NAD__Dodec_2_enoyl_ACPs_NADH_PROTON_65__R2L\n",
        "\n",
        "0.0445198853503  :   MALONYL_ACP_c + Dodecanoyl_ACPs_c + PROTON_c --> CARBON_DIOXIDE_c + 3_oxo_myristoyl_ACPs_c + ACP_c\n",
        "3_OXOACYL_ACP_SYNTH_RXN_CCO_CYTOSOL__MALONYL_ACP_Dodecanoyl_ACPs_PROTON__ACP_3_oxo_myristoyl_ACPs_CARBON_DIOXIDE_89__L2R\n",
        "\n",
        "0.0445198853503  :   3_oxo_myristoyl_ACPs_c + NADPH_c + PROTON_c --> NADP_c + R_3_hydroxymyristoyl_ACPs_c\n",
        "3_OXOACYL_ACP_REDUCT_RXN_CCO_CYTOSOL__R_3_hydroxymyristoyl_ACPs_NADP__3_oxo_myristoyl_ACPs_NADPH_PROTON_79__R2L\n",
        "\n",
        "0.0425718784759  :   R_3_hydroxymyristoyl_ACPs_c --> Tetradec_2_enoyl_ACPs_c + WATER_c\n",
        "RXN_9537_CCO_CYTOSOL__R_3_hydroxymyristoyl_ACPs__Tetradec_2_enoyl_ACPs_WATER_68__L2R\n",
        "\n",
        "0.0425718784759  :   PROTON_c + NADH_c + Tetradec_2_enoyl_ACPs_c --> Myristoyl_ACPs_c + NAD_c\n",
        "ENOYL_ACP_REDUCT_NADH_RXN_CCO_CYTOSOL__Myristoyl_ACPs_NAD__Tetradec_2_enoyl_ACPs_NADH_PROTON_67__R2L\n",
        "\n",
        "0.0396207738914  :   2_Hexadecenoyl_ACPs_c + NADH_c + PROTON_c --> Palmitoyl_ACPs_c + NAD_c\n",
        "ENOYL_ACP_REDUCT_NADH_RXN_CCO_CYTOSOL__Palmitoyl_ACPs_NAD__2_Hexadecenoyl_ACPs_NADH_PROTON_65__R2L\n",
        "\n",
        "0.0396207738914  :   Myristoyl_ACPs_c + PROTON_c + MALONYL_ACP_c --> ACP_c + CARBON_DIOXIDE_c + 3_oxo_palmitoyl_ACPs_c\n",
        "3_OXOACYL_ACP_SYNTH_RXN_CCO_CYTOSOL__MALONYL_ACP_Myristoyl_ACPs_PROTON__ACP_3_oxo_palmitoyl_ACPs_CARBON_DIOXIDE_88__L2R\n",
        "\n",
        "0.0396207738914  :   3_oxo_palmitoyl_ACPs_c + PROTON_c + NADPH_c --> NADP_c + R_3_Hydroxypalmitoyl_ACPs_c\n",
        "3_OXOACYL_ACP_REDUCT_RXN_CCO_CYTOSOL__R_3_Hydroxypalmitoyl_ACPs_NADP__3_oxo_palmitoyl_ACPs_NADPH_PROTON_79__R2L\n",
        "\n",
        "0.0396207738914  :   R_3_Hydroxypalmitoyl_ACPs_c --> 2_Hexadecenoyl_ACPs_c + WATER_c\n",
        "4_2_1_61_RXN_CCO_CYTOSOL__R_3_Hydroxypalmitoyl_ACPs__2_Hexadecenoyl_ACPs_WATER_66__L2R\n",
        "\n",
        "0.03561543466  :   Palmitoyl_ACPs_c + GLYCEROL_3P_c --> 1_PALMITOYLGLYCEROL_3_PHOSPHATE_c + ACP_c\n",
        "RXN_17018_CCO_CYTOSOL__Palmitoyl_ACPs_GLYCEROL_3P__1_PALMITOYLGLYCEROL_3_PHOSPHATE_ACP_77__L2R\n",
        "\n",
        "0.0218287813612  :   CTP_c + PROTON_c + CPD_18350_c --> CPD_18358_c + PPI_c\n",
        "CDPDIGLYSYN_RXN_CCO_CYTOSOL__CTP_CPD_18350_PROTON__CPD_18358_PPI_49__L2R\n",
        "\n",
        "0.0218287813612  :   Palmitoleoyl_ACPs_c + 1_PALMITOYLGLYCEROL_3_PHOSPHATE_c --> ACP_c + CPD_18350_c\n",
        "RXN_17012_CCO_CYTOSOL__Palmitoleoyl_ACPs_1_PALMITOYLGLYCEROL_3_PHOSPHATE__CPD_18350_ACP_78__L2R\n",
        "\n",
        "0.0196228893678  :   R_3_hydroxy_cis_vaccenoyl_ACPs_c --> WATER_c + cis_vaccen_2_enoyl_ACPs_c\n",
        "RXN_9557_CCO_CYTOSOL__R_3_hydroxy_cis_vaccenoyl_ACPs__cis_vaccen_2_enoyl_ACPs_WATER_75__L2R\n",
        "\n",
        "0.0196228893678  :   MALONYL_ACP_c + PROTON_c + Palmitoleoyl_ACPs_c --> 3_oxo_cis_vaccenoyl_ACPs_c + ACP_c + CARBON_DIOXIDE_c\n",
        "2_3_1_179_RXN_CCO_CYTOSOL__Palmitoleoyl_ACPs_MALONYL_ACP_PROTON__3_oxo_cis_vaccenoyl_ACPs_CARBON_DIOXIDE_ACP_95__L2R\n",
        "\n",
        "0.0196228893678  :   NADH_c + PROTON_c + cis_vaccen_2_enoyl_ACPs_c --> Cis_vaccenoyl_ACPs_c + NAD_c\n",
        "RXN_9558_CCO_CYTOSOL__Cis_vaccenoyl_ACPs_NAD__cis_vaccen_2_enoyl_ACPs_NADH_PROTON_73__R2L\n",
        "\n",
        "0.0196228893678  :   PROTON_c + 3_oxo_cis_vaccenoyl_ACPs_c + NADPH_c --> R_3_hydroxy_cis_vaccenoyl_ACPs_c + NADP_c\n",
        "RXN_9556_CCO_CYTOSOL__R_3_hydroxy_cis_vaccenoyl_ACPs_NADP__3_oxo_cis_vaccenoyl_ACPs_NADPH_PROTON_88__R2L\n",
        "\n",
        "0.0164721297277  :   CPD_18363_c + PROTON_c --> CPD_18367_c + CARBON_DIOXIDE_c\n",
        "PHOSPHASERDECARB_RXN_CCO_CYTOSOL__CPD_18363_PROTON__CPD_18367_CARBON_DIOXIDE_56__L2R\n",
        "\n",
        "0.0164721297277  :   CPD_18358_c + SER_c --> CPD_18363_c + PROTON_c + CMP_c\n",
        "PHOSPHASERSYN_RXN_CCO_CYTOSOL__CPD_18358_SER__CMP_CPD_18363_PROTON_49__L2R\n",
        "\n",
        "0.0132232583554  :   Oxidized_flavodoxins_c + NADPH_c + PROTON_c --> NADP_c + Reduced_flavodoxins_c\n",
        "FLAVONADPREDUCT_RXN_CCO_CYTOSOL__Oxidized_flavodoxins_NADPH_PROTON__Reduced_flavodoxins_NADP_73__L2R\n",
        "\n",
        "0.0113382009801  :   CPD_18367_c + S_ADENOSYLMETHIONINE_c --> CPD_18371_c + ADENOSYL_HOMO_CYS_c + PROTON_c\n",
        "2_1_1_79_RXN_CCO_CYTOSOL__CPD_18367_S_ADENOSYLMETHIONINE__CPD_18371_ADENOSYL_HOMO_CYS_PROTON_80__L2R\n",
        "\n",
        "0.00936953110397  :   Cis_vaccenoyl_ACPs_c + 1_PALMITOYLGLYCEROL_3_PHOSPHATE_c --> CPD_18352_c + ACP_c\n",
        "RXN_17014_CCO_CYTOSOL__Cis_vaccenoyl_ACPs_1_PALMITOYLGLYCEROL_3_PHOSPHATE__CPD_18352_ACP_79__L2R\n",
        "\n",
        "0.00936953110397  :   CTP_c + CPD_18352_c + PROTON_c --> PPI_c + CPD_18356_c\n",
        "CDPDIGLYSYN_RXN_CCO_CYTOSOL__CTP_CPD_18352_PROTON__CPD_18356_PPI_49__L2R\n",
        "\n",
        "0.0087124567767  :   Reduced_flavodoxins_c + 2C_METH_D_ERYTHRITOL_CYCLODIPHOSPHATE_c --> Oxidized_flavodoxins_c + HYDROXY_METHYL_BUTENYL_DIP_c + PROTON_c + WATER_c\n",
        "RXN_15878_CCO_CYTOSOL__HYDROXY_METHYL_BUTENYL_DIP_Oxidized_flavodoxins_WATER_PROTON__2C_METH_D_ERYTHRITOL_CYCLODIPHOSPHATE_Reduced_flavodoxins_133__R2L\n",
        "\n",
        "0.00726646389151  :   GLYCEROL_3P_c + Cis_vaccenoyl_ACPs_c --> CPD_18348_c + ACP_c\n",
        "RXN_17016_CCO_CYTOSOL__Cis_vaccenoyl_ACPs_GLYCEROL_3P__CPD_18348_ACP_59__L2R\n",
        "\n",
        "0.00646277053461  :   CPD_18365_c + PROTON_c --> CARBON_DIOXIDE_c + CPD_18369_c\n",
        "PHOSPHASERDECARB_RXN_CCO_CYTOSOL__CPD_18365_PROTON__CPD_18369_CARBON_DIOXIDE_56__L2R\n",
        "\n",
        "0.00646277053461  :   CPD_18356_c + SER_c --> PROTON_c + CPD_18365_c + CMP_c\n",
        "PHOSPHASERSYN_RXN_CCO_CYTOSOL__CPD_18356_SER__CMP_CPD_18365_PROTON_49__L2R\n",
        "\n",
        "0.00535665163345  :   CPD_18358_c + GLYCEROL_3P_c --> CPD_18359_c + PROTON_c + CMP_c\n",
        "PHOSPHAGLYPSYN_RXN_CCO_CYTOSOL__CPD_18358_GLYCEROL_3P__CMP_CPD_18359_PROTON_57__L2R\n",
        "\n",
        "0.00535665163345  :   CPD_18359_c + WATER_c --> Pi_c + CPD_18361_c\n",
        "PGPPHOSPHA_RXN_CCO_CYTOSOL__CPD_18359_WATER__CPD_18361_Pi_43__L2R\n",
        "\n",
        "0.00465630875721  :   ATP_c + DGDP_c --> DGTP_c + ADP_c\n",
        "DGDPKIN_RXN_L2R\n",
        "\n",
        "0.00465630875721  :   Red_Thioredoxin_c + CDP_c --> Ox_Thioredoxin_c + DCDP_c + WATER_c\n",
        "RIBONUCLEOSIDE_DIP_REDUCTI_RXN_CCO_CYTOSOL__Ox_Thioredoxin_DCDP_WATER__Red_Thioredoxin_CDP_60__R2L\n",
        "\n",
        "0.00465630875721  :   GDP_c + Red_Thioredoxin_c --> Ox_Thioredoxin_c + DGDP_c + WATER_c\n",
        "GDPREDUCT_RXN_CCO_CYTOSOL__DGDP_Ox_Thioredoxin_WATER__GDP_Red_Thioredoxin_60__R2L\n",
        "\n",
        "0.00465630875721  :   ATP_c + DCDP_c --> ADP_c + DCTP_c\n",
        "DCDPKIN_RXN_L2R\n",
        "\n",
        "0.00462486098268  :   DIHYDROFOLATE_c + PROTON_c + NADPH_c --> THF_c + NADP_c\n",
        "DIHYDROFOLATEREDUCT_RXN_CCO_CYTOSOL__THF_NADP__DIHYDROFOLATE_NADPH_PROTON_50__R2L\n",
        "\n",
        "0.00451080157865  :   RIBOSE_1P_c --> CPD_16551_c\n",
        "PPENTOMUT_RXN_CCO_CYTOSOL__RIBOSE_1P__CPD_16551_34__L2R\n",
        "\n",
        "0.00451080157865  :   TDP_c + ATP_c --> TTP_c + ADP_c\n",
        "DTDPKIN_RXN_L2R\n",
        "\n",
        "0.00451080157865  :   Reduced_flavodoxins_c + ATP_c --> DATP_c + WATER_c + Oxidized_flavodoxins_c\n",
        "RXN0_745_CCO_CYTOSOL__DATP_Oxidized_flavodoxins_WATER__ATP_Reduced_flavodoxins_70__R2L\n",
        "\n",
        "0.00451080157865  :   METHYLENE_THF_c + DUMP_c --> DIHYDROFOLATE_c + TMP_c\n",
        "THYMIDYLATESYN_RXN_CCO_CYTOSOL__METHYLENE_THF_DUMP__TMP_DIHYDROFOLATE_51__L2R\n",
        "\n",
        "0.00427956951914  :   CPD_18348_c + Palmitoleoyl_ACPs_c --> CPD_18351_c + ACP_c\n",
        "RXN_17013_CCO_CYTOSOL__Palmitoleoyl_ACPs_CPD_18348__CPD_18351_ACP_56__L2R\n",
        "\n",
        "0.00427956951914  :   CTP_c + PROTON_c + CPD_18351_c --> CPD_18357_c + PPI_c\n",
        "CDPDIGLYSYN_RXN_CCO_CYTOSOL__CTP_CPD_18351_PROTON__CPD_18357_PPI_49__L2R\n",
        "\n",
        "0.00400533923143  :   CTP_c + PROTON_c + CPD0_1422_c --> CPD_12815_c + PPI_c\n",
        "CDPDIGLYSYN_RXN_CCO_CYTOSOL__CTP_CPD0_1422_PROTON__CPD_12815_PPI_49__L2R\n",
        "\n",
        "0.00400533923143  :   1_PALMITOYLGLYCEROL_3_PHOSPHATE_c + Palmitoyl_ACPs_c --> CPD0_1422_c + ACP_c\n",
        "RXN0_6705_CCO_CYTOSOL__1_PALMITOYLGLYCEROL_3_PHOSPHATE_Palmitoyl_ACPs__CPD0_1422_ACP_75__L2R\n",
        "\n",
        "0.00334590204956  :   PROTON_c + CPD_18364_c --> CPD_18368_c + CARBON_DIOXIDE_c\n",
        "PHOSPHASERDECARB_RXN_CCO_CYTOSOL__CPD_18364_PROTON__CPD_18368_CARBON_DIOXIDE_56__L2R\n",
        "\n",
        "0.00334590204956  :   CPD_18357_c + SER_c --> CPD_18364_c + PROTON_c + CMP_c\n",
        "PHOSPHASERSYN_RXN_CCO_CYTOSOL__CPD_18357_SER__CMP_CPD_18364_PROTON_49__L2R\n",
        "\n",
        "0.00331671972291  :   GLC_6_P_c --> GLC_1_P_c\n",
        "PHOSPHOGLUCMUT_RXN_CCO_CYTOSOL__GLC_1_P__GLC_6_P_30__R2L\n",
        "\n",
        "0.00331671972291  :   ALPHA_GLC_6_P_c --> GLC_6_P_c\n",
        "GLUCOSE_6_PHOSPHATE_1_EPIMERASE_RXN_L2R\n",
        "\n",
        "0.00298689437237  :   CTP_c + CPD_18353_c + PROTON_c --> PPI_c + CPD_18355_c\n",
        "CDPDIGLYSYN_RXN_CCO_CYTOSOL__CTP_CPD_18353_PROTON__CPD_18355_PPI_49__L2R\n",
        "\n",
        "0.00298689437237  :   Cis_vaccenoyl_ACPs_c + CPD_18348_c --> CPD_18353_c + ACP_c\n",
        "RXN_17015_CCO_CYTOSOL__Cis_vaccenoyl_ACPs_CPD_18348__CPD_18353_ACP_57__L2R\n",
        "\n",
        "0.00290676056935  :   GLYCEROL_3P_c + CPD_18356_c --> CPD_18360_c + PROTON_c + CMP_c\n",
        "PHOSPHAGLYPSYN_RXN_CCO_CYTOSOL__CPD_18356_GLYCEROL_3P__CMP_CPD_18360_PROTON_57__L2R\n",
        "\n",
        "0.00290676056935  :   WATER_c + CPD_18360_c --> CPD_18362_c + Pi_c\n",
        "PGPPHOSPHA_RXN_CCO_CYTOSOL__CPD_18360_WATER__CPD_18362_Pi_43__L2R\n",
        "\n",
        "0.00280272698693  :   CPD_18361_c + S_ADENOSYLMETHIONINE_c --> PROTON_c + CPD_18373_c + ADENOSYL_HOMO_CYS_c\n",
        "2_1_1_79_RXN_CCO_CYTOSOL__CPD_18361_S_ADENOSYLMETHIONINE__CPD_18373_ADENOSYL_HOMO_CYS_PROTON_80__L2R\n",
        "\n",
        "0.00240255093657  :   CPD_13469_c --> GLUCOSAMINE_1P_c\n",
        "5_4_2_10_RXN_CCO_CYTOSOL__CPD_13469__GLUCOSAMINE_1P_39__L2R\n",
        "\n",
        "0.00236244536892  :   CPD_12815_c + GLYCEROL_3P_c --> PROTON_c + CPD_12821_c + CMP_c\n",
        "PHOSPHAGLYPSYN_RXN_CCO_CYTOSOL__CPD_12815_GLYCEROL_3P__CMP_CPD_12821_PROTON_57__L2R\n",
        "\n",
        "0.00236244536892  :   CPD_12821_c + WATER_c --> Pi_c + CPD_8260_c\n",
        "PGPPHOSPHA_RXN_CCO_CYTOSOL__CPD_12821_WATER__CPD_8260_Pi_42__L2R\n",
        "\n",
        "0.00219279797373  :   CPD_18366_c + PROTON_c --> CPD_18370_c + CARBON_DIOXIDE_c\n",
        "PHOSPHASERDECARB_RXN_CCO_CYTOSOL__CPD_18366_PROTON__CPD_18370_CARBON_DIOXIDE_56__L2R\n",
        "\n",
        "0.00219279797373  :   CPD_18355_c + SER_c --> CPD_18366_c + PROTON_c + CMP_c\n",
        "PHOSPHASERSYN_RXN_CCO_CYTOSOL__CPD_18355_SER__CMP_CPD_18366_PROTON_49__L2R\n",
        "\n",
        "0.00193781429799  :   GLYCEROL_3P_c + Myristoyl_ACPs_c --> CPD_18379_c + ACP_c\n",
        "RXN_17017_CCO_CYTOSOL__Myristoyl_ACPs_GLYCEROL_3P__CPD_18379_ACP_55__L2R\n",
        "\n",
        "0.00182330869356  :   CPD_18379_c + Palmitoleoyl_ACPs_c --> ACP_c + CPD_18380_c\n",
        "RXN_17020_CCO_CYTOSOL__Palmitoleoyl_ACPs_CPD_18379__CPD_18380_ACP_56__L2R\n",
        "\n",
        "0.00182330869356  :   CTP_c + PROTON_c + CPD_18380_c --> PPI_c + CPD_18387_c\n",
        "CDPDIGLYSYN_RXN_CCO_CYTOSOL__CTP_CPD_18380_PROTON__CPD_18387_PPI_49__L2R\n",
        "\n",
        "0.00181977171144  :   CPD_18369_c + S_ADENOSYLMETHIONINE_c --> PROTON_c + CPD_18372_c + ADENOSYL_HOMO_CYS_c\n",
        "2_1_1_79_RXN_CCO_CYTOSOL__CPD_18369_S_ADENOSYLMETHIONINE__CPD_18372_ADENOSYL_HOMO_CYS_PROTON_80__L2R\n",
        "\n",
        "0.00164289386251  :   CPD_12815_c + SER_c --> PROTON_c + CPD_12817_c + CMP_c\n",
        "PHOSPHASERSYN_RXN_CCO_CYTOSOL__CPD_12815_SER__CMP_CPD_12817_PROTON_49__L2R\n",
        "\n",
        "0.00164289386251  :   PROTON_c + CPD_12817_c --> CARBON_DIOXIDE_c + CPD_12819_c\n",
        "PHOSPHASERDECARB_RXN_CCO_CYTOSOL__CPD_12817_PROTON__CPD_12819_CARBON_DIOXIDE_56__L2R\n",
        "\n",
        "0.00138551334244  :   PROTON_c + CPD_18402_c --> CPD_18403_c + CARBON_DIOXIDE_c\n",
        "PHOSPHASERDECARB_RXN_CCO_CYTOSOL__CPD_18402_PROTON__CPD_18403_CARBON_DIOXIDE_56__L2R\n",
        "\n",
        "0.00138551334244  :   CPD_18387_c + SER_c --> CPD_18402_c + PROTON_c + CMP_c\n",
        "PHOSPHASERSYN_RXN_CCO_CYTOSOL__CPD_18387_SER__CMP_CPD_18402_PROTON_49__L2R\n",
        "\n",
        "0.00118122268446  :   2.0 CPD_8260_c --> GLYCEROL_c + CPD_12824_c\n",
        "CARDIOLIPSYN_RXN_CCO_CYTOSOL__CPD_8260__CPD_12824_GLYCEROL_42__L2R\n",
        "\n",
        "0.000974003437224  :   R_3_hydroxymyristoyl_ACPs_c + UDP_N_ACETYL_D_GLUCOSAMINE_c --> UDP_OHMYR_ACETYLGLUCOSAMINE_c + ACP_c\n",
        "UDPNACETYLGLUCOSAMACYLTRANS_RXN_CCO_CYTOSOL__R_3_hydroxymyristoyl_ACPs_UDP_N_ACETYL_D_GLUCOSAMINE__UDP_OHMYR_ACETYLGLUCOSAMINE_ACP_99__L2R\n",
        "\n",
        "0.000974003437224  :   UDP_OHMYR_GLUCOSAMINE_c + R_3_hydroxymyristoyl_ACPs_c --> ACP_c + PROTON_c + OH_MYRISTOYL_c\n",
        "UDPHYDROXYMYRGLUCOSAMNACETYLTRANS_RXN_CCO_CYTOSOL__R_3_hydroxymyristoyl_ACPs_UDP_OHMYR_GLUCOSAMINE__OH_MYRISTOYL_ACP_PROTON_86__L2R\n",
        "\n",
        "0.00093366746958  :   GLYCEROL_3P_c + CPD_18357_c --> PROTON_c + CPD_18399_c + CMP_c\n",
        "PHOSPHAGLYPSYN_RXN_CCO_CYTOSOL__CPD_18357_GLYCEROL_3P__CMP_CPD_18399_PROTON_57__L2R\n",
        "\n",
        "0.00093366746958  :   CPD_18399_c + WATER_c --> Pi_c + CPD_18394_c\n",
        "PGPPHOSPHA_RXN_CCO_CYTOSOL__CPD_18399_WATER__CPD_18394_Pi_43__L2R\n",
        "\n",
        "0.000849223817919  :   S_ADENOSYLMETHIONINE_c + CPD_18403_c --> PROTON_c + CPD_18404_c + ADENOSYL_HOMO_CYS_c\n",
        "2_1_1_79_RXN_CCO_CYTOSOL__CPD_18403_S_ADENOSYLMETHIONINE__CPD_18404_ADENOSYL_HOMO_CYS_PROTON_80__L2R\n",
        "\n",
        "0.000828333153713  :   DELTA3_ISOPENTENYL_PP_c --> CPD_4211_c\n",
        "IPPISOM_RXN_L2R\n",
        "\n",
        "0.00079409639864  :   CPD_18400_c + WATER_c --> Pi_c + CPD_18396_c\n",
        "PGPPHOSPHA_RXN_CCO_CYTOSOL__CPD_18400_WATER__CPD_18396_Pi_43__L2R\n",
        "\n",
        "0.00079409639864  :   GLYCEROL_3P_c + CPD_18355_c --> PROTON_c + CPD_18400_c + CMP_c\n",
        "PHOSPHAGLYPSYN_RXN_CCO_CYTOSOL__CPD_18355_GLYCEROL_3P__CMP_CPD_18400_PROTON_57__L2R\n",
        "\n",
        "0.00075941321506  :   CPD_18362_c + S_ADENOSYLMETHIONINE_c --> CPD_18406_c + ADENOSYL_HOMO_CYS_c + PROTON_c\n",
        "2_1_1_79_RXN_CCO_CYTOSOL__CPD_18362_S_ADENOSYLMETHIONINE__CPD_18406_ADENOSYL_HOMO_CYS_PROTON_80__L2R\n",
        "\n",
        "0.000684356424232  :   Charged_GLT_tRNAs_c + NADPH_c --> NADP_c + GLT_tRNAs_c + GLUTAMATE_1_SEMIALDEHYDE_c\n",
        "GLUTRNAREDUCT_RXN_CCO_CYTOSOL__GLUTAMATE_1_SEMIALDEHYDE_GLT_tRNAs_NADP__Charged_GLT_tRNAs_NADPH_78__R2L\n",
        "\n",
        "0.000684356424232  :   GLT_c + GLT_tRNAs_c + PROTON_c + ATP_c --> AMP_c + Charged_GLT_tRNAs_c + PPI_c\n",
        "GLURS_RXN_CCO_CYTOSOL__GLT_tRNAs_GLT_ATP_PROTON__Charged_GLT_tRNAs_AMP_PPI_65__L2R\n",
        "\n",
        "0.000487001718612  :   KDO2_LIPID_IVA_c + Dodecanoyl_ACPs_c --> KDO2_LAUROYL_LIPID_IVA_c + ACP_c\n",
        "LAUROYLACYLTRAN_RXN_CCO_CYTOSOL__Dodecanoyl_ACPs_KDO2_LIPID_IVA__KDO2_LAUROYL_LIPID_IVA_ACP_72__L2R\n",
        "\n",
        "0.000487001718612  :   Myristoyl_ACPs_c + KDO2_LAUROYL_LIPID_IVA_c --> ACP_c + KDO2_LIPID_A_c\n",
        "MYRISTOYLACYLTRAN_RXN_CCO_CYTOSOL__Myristoyl_ACPs_KDO2_LAUROYL_LIPID_IVA__KDO2_LIPID_A_ACP_69__L2R\n",
        "\n",
        "0.000437795351116  :   CPD_18397_c + WATER_c --> CPD_18392_c + Pi_c\n",
        "PGPPHOSPHA_RXN_CCO_CYTOSOL__CPD_18397_WATER__CPD_18392_Pi_43__L2R\n",
        "\n",
        "0.000437795351116  :   CPD_18387_c + GLYCEROL_3P_c --> CPD_18397_c + PROTON_c + CMP_c\n",
        "PHOSPHAGLYPSYN_RXN_CCO_CYTOSOL__CPD_18387_GLYCEROL_3P__CMP_CPD_18397_PROTON_57__L2R\n",
        "\n",
        "0.000411782963431  :   WATER_c + CPD_18398_c --> CPD_18393_c + Pi_c\n",
        "PGPPHOSPHA_RXN_CCO_CYTOSOL__CPD_18398_WATER__CPD_18393_Pi_43__L2R\n",
        "\n",
        "0.000411782963431  :   CPD_18390_c + CTP_c + PROTON_c --> CPD_18391_c + PPI_c\n",
        "CDPDIGLYSYN_RXN_CCO_CYTOSOL__CTP_CPD_18390_PROTON__CPD_18391_PPI_49__L2R\n",
        "\n",
        "0.000411782963431  :   GLYCEROL_3P_c + CPD_18391_c --> PROTON_c + CMP_c + CPD_18398_c\n",
        "PHOSPHAGLYPSYN_RXN_CCO_CYTOSOL__CPD_18391_GLYCEROL_3P__CMP_CPD_18398_PROTON_57__L2R\n",
        "\n",
        "0.000411782963431  :   Myristoyl_ACPs_c + 1_PALMITOYLGLYCEROL_3_PHOSPHATE_c --> CPD_18390_c + ACP_c\n",
        "RXN_17024_CCO_CYTOSOL__1_PALMITOYLGLYCEROL_3_PHOSPHATE_Myristoyl_ACPs__CPD_18390_ACP_75__L2R\n",
        "\n",
        "0.000252275449259  :   CPD_18392_c + S_ADENOSYLMETHIONINE_c --> ADENOSYL_HOMO_CYS_c + PROTON_c + CPD_18405_c\n",
        "2_1_1_79_RXN_CCO_CYTOSOL__CPD_18392_S_ADENOSYLMETHIONINE__CPD_18405_ADENOSYL_HOMO_CYS_PROTON_80__L2R\n",
        "\n",
        "0.000114505604427  :   CPD_18388_c + SER_c --> CPD_18401_c + PROTON_c + CMP_c\n",
        "PHOSPHASERSYN_RXN_CCO_CYTOSOL__CPD_18388_SER__CMP_CPD_18401_PROTON_49__L2R\n",
        "\n",
        "0.000114505604427  :   CPD0_1425_c + PROTON_c + CTP_c --> PPI_c + CPD_18388_c\n",
        "CDPDIGLYSYN_RXN_CCO_CYTOSOL__CTP_CPD0_1425_PROTON__CPD_18388_PPI_49__L2R\n",
        "\n",
        "0.000114505604427  :   CPD_18379_c + Myristoyl_ACPs_c --> CPD0_1425_c + ACP_c\n",
        "RXN_17022_CCO_CYTOSOL__Myristoyl_ACPs_CPD_18379__CPD0_1425_ACP_53__L2R\n",
        "\n",
        "0.000114505604427  :   CPD_18401_c + PROTON_c --> CARBON_DIOXIDE_c + CPD_17087_c\n",
        "PHOSPHASERDECARB_RXN_CCO_CYTOSOL__CPD_18401_PROTON__CPD_17087_CARBON_DIOXIDE_56__L2R\n",
        "\n",
        "0.000114059404039  :   DIHYDRONEOPTERIN_P_c + WATER_c --> Pi_c + DIHYDRO_NEO_PTERIN_c\n",
        "DIHYDRONEOPTERIN_MONO_P_DEPHOS_RXN_L2R\n",
        "\n",
        "0.000114059404039  :   DIHYDRONEOPTERIN_P3_c + WATER_c --> PPI_c + PROTON_c + DIHYDRONEOPTERIN_P_c\n",
        "H2NEOPTERINP3PYROPHOSPHOHYDRO_RXN_L2R\n",
        "\n",
        "0.000114059404038  :   METHYLENE_THF_c + 2_KETO_ISOVALERATE_c + WATER_c --> THF_c + 2_DEHYDROPANTOATE_c\n",
        "3_CH3_2_OXOBUTANOATE_OH_CH3_XFER_RXN_CCO_CYTOSOL__METHYLENE_THF_2_KETO_ISOVALERATE_WATER__2_DEHYDROPANTOATE_THF_75__L2R\n",
        "\n",
        "8.5544553029e-05  :   FE_2_e --> FE_2_p\n",
        "TRANS_RXN0_601_CCO_OUTER_MEM__FE_2__FE_2_26__R2L\n",
        "\n",
        "5.70297020194e-05  :   3.0 CPD_9728_i + PROTOPORPHYRINOGEN_c --> 3.0 REDUCED_MENAQUINONE_i + PROTOPORPHYRIN_IX_c\n",
        "RXN0_6259_CCO_PM_BAC_NEG__PROTOPORPHYRIN_IX_REDUCED_MENAQUINONE__PROTOPORPHYRINOGEN_CPD_9728_83__R2L\n",
        "\n",
        "5.70297020194e-05  :   ATP_c + PROTON_c + MPT_Synthases_c --> Carboxyadenylated_MPT_synthases_c + PPI_c\n",
        "RXN_11361_CCO_CYTOSOL__MPT_Synthases_ATP_PROTON__Carboxyadenylated_MPT_synthases_PPI_75__L2R\n",
        "\n",
        "5.70297020194e-05  :   GLYCOLLATE_c + CPD_9728_i --> REDUCED_MENAQUINONE_i + GLYOX_c\n",
        "RXN0_7229_CCO_PM_BAC_NEG__GLYCOLLATE_CPD_9728__GLYOX_REDUCED_MENAQUINONE_63__L2R\n",
        "\n",
        "2.85148510098e-05  :   MALONYL_ACP_c + Glutaryl_ACP_methyl_esters_c + PROTON_c --> 3_Ketopimeloyl_ACP_methyl_esters_c + ACP_c + CARBON_DIOXIDE_c\n",
        "RXN_11479_CCO_CYTOSOL__Glutaryl_ACP_methyl_esters_MALONYL_ACP_PROTON__3_Ketopimeloyl_ACP_methyl_esters_CARBON_DIOXIDE_ACP_112__L2R\n",
        "\n",
        "2.85148510098e-05  :   MALONYL_ACP_c + Malonyl_acp_methyl_ester_c + PROTON_c --> ACP_c + CARBON_DIOXIDE_c + 3_Ketoglutaryl_ACP_methyl_ester_c\n",
        "RXN_11474_CCO_CYTOSOL__Malonyl_acp_methyl_ester_MALONYL_ACP_PROTON__3_Ketoglutaryl_ACP_methyl_ester_CARBON_DIOXIDE_ACP_109__L2R\n",
        "\n",
        "2.85148510098e-05  :   NADPH_c + PROTON_c + 3_Ketoglutaryl_ACP_methyl_ester_c --> 3_Hydroxyglutaryl_ACP_methyl_ester_c + NADP_c\n",
        "RXN_11476_CCO_CYTOSOL__3_Hydroxyglutaryl_ACP_methyl_ester_NADP__3_Ketoglutaryl_ACP_methyl_ester_NADPH_PROTON_99__R2L\n",
        "\n",
        "2.85148510098e-05  :   Enoylglutaryl_ACP_methyl_esters_c + NADH_c + PROTON_c --> Glutaryl_ACP_methyl_esters_c + NAD_c\n",
        "RXN_11478_CCO_CYTOSOL__Glutaryl_ACP_methyl_esters_NAD__Enoylglutaryl_ACP_methyl_esters_NADH_PROTON_89__R2L\n",
        "\n",
        "2.85148510098e-05  :   MALONYL_ACP_c + S_ADENOSYLMETHIONINE_c --> Malonyl_acp_methyl_ester_c + ADENOSYL_HOMO_CYS_c\n",
        "RXN_11475_CCO_CYTOSOL__MALONYL_ACP_S_ADENOSYLMETHIONINE__Malonyl_acp_methyl_ester_ADENOSYL_HOMO_CYS_90__L2R\n",
        "\n",
        "2.85148510098e-05  :   3_Hydroxyglutaryl_ACP_methyl_ester_c --> Enoylglutaryl_ACP_methyl_esters_c + WATER_c\n",
        "RXN_11477_CCO_CYTOSOL__3_Hydroxyglutaryl_ACP_methyl_ester__Enoylglutaryl_ACP_methyl_esters_WATER_87__L2R\n",
        "\n",
        "2.85148510098e-05  :   NADPH_c + PROTON_c + 3_Ketopimeloyl_ACP_methyl_esters_c --> NADP_c + 3_hydroxypimeloyl_ACP_methyl_esters_c\n",
        "RXN_11480_CCO_CYTOSOL__3_hydroxypimeloyl_ACP_methyl_esters_NADP__3_Ketopimeloyl_ACP_methyl_esters_NADPH_PROTON_101__R2L\n",
        "\n",
        "2.85148510097e-05  :   NADH_c + PROTON_c + Enoylpimeloyl_ACP_methyl_esters_c --> NAD_c + Pimeloyl_ACP_methyl_esters_c\n",
        "RXN_11482_CCO_CYTOSOL__Pimeloyl_ACP_methyl_esters_NAD__Enoylpimeloyl_ACP_methyl_esters_NADH_PROTON_89__R2L\n",
        "\n",
        "2.85148510097e-05  :   Pimeloyl_ACP_methyl_esters_c + WATER_c --> Pimeloyl_ACPs_c + PROTON_c + METOH_c\n",
        "RXN_11483_CCO_CYTOSOL__Pimeloyl_ACP_methyl_esters_WATER__Pimeloyl_ACPs_METOH_PROTON_74__L2R\n",
        "\n",
        "2.85148510097e-05  :   METOH_p --> METOH_e\n",
        "TRANS_RXN0_607_CCO_OUTER_MEM__METOH__METOH_28__L2R\n",
        "\n",
        "2.85148510097e-05  :   Sulfur_Carrier_Proteins_ThiI_c + L_Cysteine_Desulfurase_persulfide_c --> Sulfurylated_ThiI_c + Cysteine_Desulfurase_L_cysteine_c\n",
        "RXN_14382_L2R\n",
        "\n",
        "2.85148510097e-05  :   3_hydroxypimeloyl_ACP_methyl_esters_c --> Enoylpimeloyl_ACP_methyl_esters_c + WATER_c\n",
        "RXN_11481_CCO_CYTOSOL__3_hydroxypimeloyl_ACP_methyl_esters__Enoylpimeloyl_ACP_methyl_esters_WATER_88__L2R\n",
        "\n",
        "2.85148510097e-05  :   ATP_c + PROTON_c + Thi_S_c --> PPI_c + Adenylated_ThiS_Proteins_c\n",
        "RXN_9789_CCO_CYTOSOL__Thi_S_ATP_PROTON__Adenylated_ThiS_Proteins_PPI_60__L2R\n",
        "\n",
        "2.85148510097e-05  :   PRECURSOR_Z_c + 2.0 Thiocarboxylated_MPT_synthases_c + WATER_c --> CPD_4_c + 4.0 PROTON_c + 2.0 MPT_Synthases_c\n",
        "RXN_8342_CCO_CYTOSOL__PRECURSOR_Z_Thiocarboxylated_MPT_synthases_WATER__MPT_Synthases_CPD_4_PROTON_90__L2R\n",
        "\n",
        "2.85148510097e-05  :   L_ALPHA_ALANINE_c + Pimeloyl_ACPs_c + PROTON_c --> 8_AMINO_7_OXONONANOATE_c + ACP_c + CARBON_DIOXIDE_c\n",
        "RXN_11484_CCO_CYTOSOL__Pimeloyl_ACPs_L_ALPHA_ALANINE_PROTON__8_AMINO_7_OXONONANOATE_CARBON_DIOXIDE_ACP_93__L2R\n",
        "\n",
        "2.85148510097e-05  :   Unsulfurated_Sulfur_Acceptors_c + CYS_c --> L_ALPHA_ALANINE_c + Sulfurated_Sulfur_Acceptors_c\n",
        "RXN_12588_CCO_CYTOSOL__CYS_Unsulfurated_Sulfur_Acceptors__L_ALPHA_ALANINE_Sulfurated_Sulfur_Acceptors_92__L2R\n",
        "\n",
        "2.85148510097e-05  :   FARNESYL_PP_c + WATER_c + PROTOHEME_c --> PPI_c + CPD_17063_c\n",
        "HEMEOSYN_RXN_CCO_CYTOSOL__PROTOHEME_FARNESYL_PP_WATER__CPD_17063_PPI_56__L2R\n",
        "\n",
        "2.85148510097e-05  :   DEOXYXYLULOSE_5P_c + CPD_12279_c + Thiocarboxyadenylated_ThiS_Proteins_c --> CPD_13575_c + 2.0 WATER_c + Thi_S_c\n",
        "THIAZOLSYN2_RXN_CCO_CYTOSOL__DEOXYXYLULOSE_5P_CPD_12279_Thiocarboxyadenylated_ThiS_Proteins__CPD_13575_Thi_S_WATER_99__L2R\n",
        "\n"
       ]
      }
     ],
     "prompt_number": 144
    },
    {
     "cell_type": "code",
     "collapsed": false,
     "input": [
      "snzd"
     ],
     "language": "python",
     "metadata": {},
     "outputs": [
      {
       "metadata": {},
       "output_type": "pyout",
       "prompt_number": 115,
       "text": [
        "['UROGENIIISYN_RXN_L2R',\n",
        " 'ACETYL_COA_CARBOXYLTRANSFER_RXN_L2R',\n",
        " 'KDOTRANS_RXN_L2R',\n",
        " 'RXN_11482_CCO_CYTOSOL__Pimeloyl_ACP_methyl_esters_NAD__Enoylpimeloyl_ACP_methyl_esters_NADH_PROTON_89__R2L',\n",
        " '5_1_3_20_RXN_L2R',\n",
        " 'CDPKIN_RXN_L2R',\n",
        " 'ABC_70_RXN_L2R',\n",
        " 'GLYCOLALD_DEHYDROG_RXN_L2R',\n",
        " 'PHOSPHASERDECARB_RXN_CCO_CYTOSOL__CPD_18364_PROTON__CPD_18368_CARBON_DIOXIDE_56__L2R',\n",
        " 'RXN_11483_CCO_CYTOSOL__Pimeloyl_ACP_methyl_esters_WATER__Pimeloyl_ACPs_METOH_PROTON_74__L2R',\n",
        " 'RXN0_6259_CCO_PM_BAC_NEG__PROTOPORPHYRIN_IX_REDUCED_MENAQUINONE__PROTOPORPHYRINOGEN_CPD_9728_83__R2L',\n",
        " 'ACP_S_ACETYLTRANSFER_RXN_CCO_CYTOSOL__ACP_ACETYL_COA__ACETYL_ACP_CO_A_45__L2R',\n",
        " 'RXN_9557_CCO_CYTOSOL__R_3_hydroxy_cis_vaccenoyl_ACPs__cis_vaccen_2_enoyl_ACPs_WATER_75__L2R',\n",
        " 'GLYC3PDEHYDROGBIOSYN_RXN_CCO_CYTOSOL__GLYCEROL_3P_NAD__DIHYDROXY_ACETONE_PHOSPHATE_NADH_PROTON_70__R2L',\n",
        " '5_4_2_10_RXN_CCO_CYTOSOL__CPD_13469__GLUCOSAMINE_1P_39__L2R',\n",
        " 'SIROHEME_FERROCHELAT_RXN_L2R',\n",
        " 'UDPNACETYLGLUCOSAMACYLTRANS_RXN_CCO_CYTOSOL__R_3_hydroxymyristoyl_ACPs_UDP_N_ACETYL_D_GLUCOSAMINE__UDP_OHMYR_ACETYLGLUCOSAMINE_ACP_99__L2R',\n",
        " 'HISTAMINOTRANS_RXN_L2R',\n",
        " 'SAMDECARB_RXN_L2R',\n",
        " 'PRPPAMIDOTRANS_RXN_R2L',\n",
        " 'RXN_9516_CCO_CYTOSOL__Butanoyl_ACPs_MALONYL_ACP_PROTON__3_oxo_hexanoyl_ACPs_CARBON_DIOXIDE_ACP_86__L2R',\n",
        " 'GTP_CYCLOHYDRO_II_RXN_L2R',\n",
        " 'RXN0_6554_CCO_PM_BAC_NEG__DI_H_OROTATE_CPD_9728__OROTATE_REDUCED_MENAQUINONE_67__L2R',\n",
        " 'NACGLCTRANS_RXN_L2R',\n",
        " 'RXN_17016_CCO_CYTOSOL__Cis_vaccenoyl_ACPs_GLYCEROL_3P__CPD_18348_ACP_59__L2R',\n",
        " 'RXN_10659_CCO_CYTOSOL__3_hydroxy_cis_D9_hexaecenoyl_ACPs_NADP__3_oxo_cis_D9_hexadecenoyl_ACPs_NADPH_PROTON_97__R2L',\n",
        " 'RXN0_2145_CCO_CYTOSOL__Cis_Delta5_dodecenoyl_ACPs_NAD__Trans_D3_cis_D5_dodecenoyl_ACPs_NADH_PROTON_89__R2L',\n",
        " 'ADENYLYLSULFKIN_RXN_L2R',\n",
        " 'GARTRANSFORMYL2_RXN_L2R',\n",
        " 'HOMOSERDEHYDROG_RXN_CCO_CYTOSOL__HOMO_SER_NAD__L_ASPARTATE_SEMIALDEHYDE_NADH_PROTON_64__R2L',\n",
        " 'ISOCITDEH_RXN_L2R',\n",
        " 'ACETOOHBUTREDUCTOISOM_RXN_R2L',\n",
        " 'RXN_11476_CCO_CYTOSOL__3_Hydroxyglutaryl_ACP_methyl_ester_NADP__3_Ketoglutaryl_ACP_methyl_ester_NADPH_PROTON_99__R2L',\n",
        " 'RXN0_743_L2R',\n",
        " 'ASPAMINOTRANS_RXN_R2L',\n",
        " '__SEC_EX_CPD0_2167_c',\n",
        " 'RXN_8899_L2R',\n",
        " 'RXN0_745_CCO_CYTOSOL__DATP_Oxidized_flavodoxins_WATER__ATP_Reduced_flavodoxins_70__R2L',\n",
        " 'PRIBFAICARPISOM_RXN_L2R',\n",
        " 'RXN_12588_CCO_CYTOSOL__CYS_Unsulfurated_Sulfur_Acceptors__L_ALPHA_ALANINE_Sulfurated_Sulfur_Acceptors_92__L2R',\n",
        " 'PYRUFLAVREDUCT_RXN_L2R',\n",
        " 'PHOSPHAGLYPSYN_RXN_CCO_CYTOSOL__CPD_18355_GLYCEROL_3P__CMP_CPD_18400_PROTON_57__L2R',\n",
        " 'RXN_8340_L2R',\n",
        " 'TRANS_RXN0_601_CCO_OUTER_MEM__FE_2__FE_2_26__R2L',\n",
        " 'HEMEOSYN_RXN_CCO_CYTOSOL__PROTOHEME_FARNESYL_PP_WATER__CPD_17063_PPI_56__L2R',\n",
        " 'RXN0_5120_L2R',\n",
        " 'PHOSPHASERSYN_RXN_CCO_CYTOSOL__CPD_18358_SER__CMP_CPD_18363_PROTON_49__L2R',\n",
        " 'DTMPKI_RXN_L2R',\n",
        " 'PSERTRANSAM_RXN_R2L',\n",
        " '3_OXOACYL_ACP_SYNTH_RXN_CCO_CYTOSOL__MALONYL_ACP_Decanoyl_ACPs_PROTON__ACP_3_oxo_dodecanoyl_ACPs_CARBON_DIOXIDE_88__L2R',\n",
        " 'QUINOPRIBOTRANS_RXN_R2L',\n",
        " 'METHYLTHIOADENOSINE_NUCLEOSIDASE_RXN_L2R',\n",
        " 'CDPDIGLYSYN_RXN_CCO_CYTOSOL__CTP_CPD0_1422_PROTON__CPD_12815_PPI_49__L2R',\n",
        " '__OBJ__SOLUBLES_c',\n",
        " 'RXN_17015_CCO_CYTOSOL__Cis_vaccenoyl_ACPs_CPD_18348__CPD_18353_ACP_57__L2R',\n",
        " '2_1_1_79_RXN_CCO_CYTOSOL__CPD_18369_S_ADENOSYLMETHIONINE__CPD_18372_ADENOSYL_HOMO_CYS_PROTON_80__L2R',\n",
        " '__OBJ__FLAVINS_c',\n",
        " 'RIBOFLAVINSYNREDUC_RXN_R2L',\n",
        " 'GLUTRACE_RXN_L2R',\n",
        " 'ENTMULTI_RXN_L2R',\n",
        " 'RXN_17013_CCO_CYTOSOL__Palmitoleoyl_ACPs_CPD_18348__CPD_18351_ACP_56__L2R',\n",
        " 'RXN0_5125_L2R',\n",
        " 'SULFATE_ADENYLYLTRANS_RXN_L2R',\n",
        " 'GDPREDUCT_RXN_CCO_CYTOSOL__DGDP_Ox_Thioredoxin_WATER__GDP_Red_Thioredoxin_60__R2L',\n",
        " 'HOMSUCTRAN_RXN_L2R',\n",
        " 'ADENOSYLHOMOCYSTEINE_NUCLEOSIDASE_RXN_L2R',\n",
        " 'ACETOOHBUTSYN_RXN_L2R',\n",
        " '3_OXOACYL_ACP_SYNTH_RXN_CCO_CYTOSOL__MALONYL_ACP_Hexanoyl_ACPs_PROTON__ACP_3_Oxo_octanoyl_ACPs_CARBON_DIOXIDE_86__L2R',\n",
        " '__NUT_EX_GLC_e',\n",
        " 'NAD_SYNTH_NH3_RXN_L2R',\n",
        " 'MALONYL_COA_ACP_TRANSACYL_RXN_CCO_CYTOSOL__ACP_MALONYL_COA__MALONYL_ACP_CO_A_47__L2R',\n",
        " 'RXN0_742_L2R',\n",
        " 'TRANS_RXN0_606_CCO_OUTER_MEM__ACET__ACET_26__L2R',\n",
        " '5_3_3_14_RXN_CCO_CYTOSOL__Trans_D2_decenoyl_ACPs__Cis_delta_3_decenoyl_ACPs_63__L2R',\n",
        " 'UNDECAPRENYL_DIPHOSPHATASE_RXN_CCO_CYTOSOL__UNDECAPRENYL_DIPHOSPHATE_WATER__CPD_9646_Pi_PROTON_64__L2R',\n",
        " 'DETHIOBIOTIN_SYN_RXN_L2R',\n",
        " 'ALARACECAT_RXN_L2R',\n",
        " 'P_PANTOCYSDECARB_RXN_L2R',\n",
        " 'TRANSALDOL_RXN_R2L',\n",
        " 'RXN0_5123_L2R',\n",
        " 'PGPPHOSPHA_RXN_CCO_CYTOSOL__CPD_18360_WATER__CPD_18362_Pi_43__L2R',\n",
        " 'BRANCHED_CHAINAMINOTRANSFERLEU_RXN_R2L',\n",
        " 'ISOCIT_CLEAV_RXN_R2L',\n",
        " 'TRANS_RXN0_601_CCO_OUTER_MEM__SULFATE__SULFATE_32__R2L',\n",
        " 'RXN_11832_L2R',\n",
        " 'RXN_9528_CCO_CYTOSOL__Beta_hydroxydecanoyl_ACPs_NADP__3_oxo_decanoyl_ACPs_NADPH_PROTON_78__R2L',\n",
        " 'TRANS_RXN_145_R2L',\n",
        " 'RXN_10660_CCO_CYTOSOL__3_hydroxy_cis_D9_hexaecenoyl_ACPs__Trans_D3_cis_D9_hexadecenoyl_ACPs_WATER_88__L2R',\n",
        " 'PROTOHEMEFERROCHELAT_RXN_CCO_CYTOSOL__PROTOHEME_PROTON__PROTOPORPHYRIN_IX_FE_2_54__R2L',\n",
        " 'UDPHYDROXYMYRGLUCOSAMNACETYLTRANS_RXN_CCO_CYTOSOL__R_3_hydroxymyristoyl_ACPs_UDP_OHMYR_GLUCOSAMINE__OH_MYRISTOYL_ACP_PROTON_86__L2R',\n",
        " 'ADENYLOSUCCINATE_SYNTHASE_RXN_L2R',\n",
        " 'RXN_10657_CCO_CYTOSOL__Cis_Delta7_tetradecenoyl_ACPs_NAD__Trans_D3_cis_D7_tetradecenoyl_ACPs_NADH_PROTON_95__R2L',\n",
        " 'RXN_13163_R2L',\n",
        " '3_OXOACYL_ACP_SYNTH_BASE_RXN_CCO_CYTOSOL__MALONYL_ACP_ACETYL_ACP_PROTON__ACP_Acetoacetyl_ACPs_CARBON_DIOXIDE_80__L2R',\n",
        " '3_DEHYDROQUINATE_SYNTHASE_RXN_L2R',\n",
        " 'ALANINE_AMINOTRANSFERASE_RXN_R2L',\n",
        " 'RIBOFLAVINSYNDEAM_RXN_L2R',\n",
        " 'RXN0_6550_L2R',\n",
        " 'GLUTCYSLIG_RXN_L2R',\n",
        " '2_1_1_79_RXN_CCO_CYTOSOL__CPD_18392_S_ADENOSYLMETHIONINE__CPD_18405_ADENOSYL_HOMO_CYS_PROTON_80__L2R',\n",
        " 'PGPPHOSPHA_RXN_CCO_CYTOSOL__CPD_18400_WATER__CPD_18396_Pi_43__L2R',\n",
        " '3_CH3_2_OXOBUTANOATE_OH_CH3_XFER_RXN_CCO_CYTOSOL__METHYLENE_THF_2_KETO_ISOVALERATE_WATER__2_DEHYDROPANTOATE_THF_75__L2R',\n",
        " 'RXN_8001_L2R',\n",
        " 'DEPHOSPHOCOAKIN_RXN_L2R',\n",
        " 'DGDPKIN_RXN_L2R',\n",
        " 'PHOSPHASERDECARB_RXN_CCO_CYTOSOL__CPD_18402_PROTON__CPD_18403_CARBON_DIOXIDE_56__L2R',\n",
        " 'TRANS_RXN0_500_L2R',\n",
        " 'CHORISMATE_SYNTHASE_RXN_L2R',\n",
        " 'ASNSYNA_RXN_L2R',\n",
        " '2_5_1_64_RXN_L2R',\n",
        " 'DIHYDROXYMETVALDEHYDRAT_RXN_L2R',\n",
        " 'GAPOXNPHOSPHN_RXN_L2R',\n",
        " 'GLUTDEHYD_RXN_R2L',\n",
        " 'PANTOTHENATE_KIN_RXN_L2R',\n",
        " 'SHIKIMATE_KINASE_RXN_L2R',\n",
        " 'ANTHRANSYN_RXN_L2R',\n",
        " 'RXN_9514_CCO_CYTOSOL__Beta_3_hydroxybutyryl_ACPs_NADP__Acetoacetyl_ACPs_NADPH_PROTON_76__R2L',\n",
        " 'KDO_8PPHOSPHAT_RXN_L2R',\n",
        " '3_HYDROXYDECANOYL_ACP_DEHYDR_RXN_CCO_CYTOSOL__Beta_hydroxydecanoyl_ACPs__Trans_D2_decenoyl_ACPs_WATER_69__L2R',\n",
        " 'KDO_8PSYNTH_RXN_L2R',\n",
        " '325_BISPHOSPHATE_NUCLEOTIDASE_RXN_L2R',\n",
        " 'TRYPSYN_RXN_L2R',\n",
        " 'RXN_15216_L2R',\n",
        " '__SEC_EX_S_ADENOSYL_4_METHYLTHIO_2_OXOBUTANOATE_c',\n",
        " 'PREPHENATEDEHYDRAT_RXN_L2R',\n",
        " 'DARAB5PISOM_RXN_R2L',\n",
        " 'D_PPENTOMUT_RXN_R2L',\n",
        " 'ENOYL_ACP_REDUCT_NADH_RXN_CCO_CYTOSOL__Palmitoyl_ACPs_NAD__2_Hexadecenoyl_ACPs_NADH_PROTON_65__R2L',\n",
        " 'TETRAACYLDISACC4KIN_RXN_L2R',\n",
        " 'RXN_11481_CCO_CYTOSOL__3_hydroxypimeloyl_ACP_methyl_esters__Enoylpimeloyl_ACP_methyl_esters_WATER_88__L2R',\n",
        " 'DAPASYN_RXN_L2R',\n",
        " '__OBJ__PK_PROT_0_3_c',\n",
        " 'SULFITE_REDUCT_RXN_R2L',\n",
        " '__NUT_EX_PROTON_c',\n",
        " 'RXN0_4341_L2R',\n",
        " 'PHOSPHASERDECARB_RXN_CCO_CYTOSOL__CPD_12817_PROTON__CPD_12819_CARBON_DIOXIDE_56__L2R',\n",
        " 'RXN_14014_R2L',\n",
        " 'F16ALDOLASE_RXN_L2R',\n",
        " 'BRANCHED_CHAINAMINOTRANSFERVAL_RXN_R2L',\n",
        " 'AICARSYN_RXN_L2R',\n",
        " 'L_GLN_FRUCT_6_P_AMINOTRANS_RXN_CCO_CYTOSOL__FRUCTOSE_6P_GLN__CPD_13469_GLT_44__R2L',\n",
        " 'RXN_17809_L2R',\n",
        " 'PREPHENATEDEHYDROG_RXN_L2R',\n",
        " 'TRANS_RXN_8_L2R',\n",
        " 'RIBULP3EPIM_RXN_R2L',\n",
        " 'BRANCHED_CHAINAMINOTRANSFERILEU_RXN_R2L',\n",
        " 'RXN_11479_CCO_CYTOSOL__Glutaryl_ACP_methyl_esters_MALONYL_ACP_PROTON__3_Ketopimeloyl_ACP_methyl_esters_CARBON_DIOXIDE_ACP_112__L2R',\n",
        " 'RXN_9310_L2R',\n",
        " 'RXN0_7229_CCO_PM_BAC_NEG__GLYCOLLATE_CPD_9728__GLYOX_REDUCED_MENAQUINONE_63__L2R',\n",
        " 'GLUC1PADENYLTRANS_RXN_L2R',\n",
        " 'URPHOS_RXN_L2R',\n",
        " '3_OXOACYL_ACP_SYNTH_RXN_CCO_CYTOSOL__MALONYL_ACP_Myristoyl_ACPs_PROTON__ACP_3_oxo_palmitoyl_ACPs_CARBON_DIOXIDE_88__L2R',\n",
        " '3_OXOACYL_ACP_REDUCT_RXN_CCO_CYTOSOL__R_3_hydroxymyristoyl_ACPs_NADP__3_oxo_myristoyl_ACPs_NADPH_PROTON_79__R2L',\n",
        " 'PHOSPHASERSYN_RXN_CCO_CYTOSOL__CPD_12815_SER__CMP_CPD_12817_PROTON_49__L2R',\n",
        " 'RXN_11811_CCO_CYTOSOL__AMMONIA_PROTON__AMMONIUM_38__L2R',\n",
        " 'ACETOLACTSYN_RXN_L2R',\n",
        " 'UDP_NACMURALGLDAPLIG_RXN_L2R',\n",
        " 'RXN_17012_CCO_CYTOSOL__Palmitoleoyl_ACPs_1_PALMITOYLGLYCEROL_3_PHOSPHATE__CPD_18350_ACP_78__L2R',\n",
        " 'DIHYDRODIPICSYN_RXN_L2R',\n",
        " '__SEC_EX_PROTON_e',\n",
        " 'RIBOPHOSPHAT_RXN_L2R',\n",
        " '__SEC_EX__TOP_LEVEL_c',\n",
        " 'PYRIMSYN3_RXN_L2R',\n",
        " '__SEC_EX_CARBON_MONOXIDE_e',\n",
        " 'RXN_10655_CCO_CYTOSOL__3_hydroxy_cis_D7_tetraecenoyl_ACPs_NADP__3_oxo_cis_D7_tetradecenoyl_ACPs_NADPH_PROTON_99__R2L',\n",
        " '__SEC_EX_ATP_c',\n",
        " 'RXN_10654_CCO_CYTOSOL__Cis_Delta5_dodecenoyl_ACPs_MALONYL_ACP_PROTON__3_oxo_cis_D7_tetradecenoyl_ACPs_ACP_CARBON_DIOXIDE_111__L2R',\n",
        " 'H2PTEROATESYNTH_RXN_L2R',\n",
        " 'NAG1P_URIDYLTRANS_RXN_L2R',\n",
        " 'THRESYN_RXN_L2R',\n",
        " 'NICONUCADENYLYLTRAN_RXN_L2R',\n",
        " '__OBJ__RNA_c',\n",
        " 'HISTCYCLOHYD_RXN_L2R',\n",
        " '__NUT_EX_FE_2_e',\n",
        " '3_OXOACYL_ACP_REDUCT_RXN_CCO_CYTOSOL__R_3_hydroxyhexanoyl_ACPs_NADP__3_oxo_hexanoyl_ACPs_NADPH_PROTON_77__R2L',\n",
        " 'OROPRIBTRANS_RXN_R2L',\n",
        " 'PHOSPHASERDECARB_RXN_CCO_CYTOSOL__CPD_18365_PROTON__CPD_18369_CARBON_DIOXIDE_56__L2R',\n",
        " 'R601_RXN_CCO_PM_BAC_NEG__FUM_REDUCED_MENAQUINONE__SUC_CPD_9728_54__L2R',\n",
        " 'MALATE_DEH_RXN_R2L',\n",
        " 'GLYRIBONUCSYN_RXN_L2R',\n",
        " 'LIPIDADISACCHARIDESYNTH_RXN_L2R',\n",
        " 'INORGPYROPHOSPHAT_RXN_CCO_CYTOSOL__PPI_WATER__Pi_PROTON_34__L2R',\n",
        " 'RXN0_2141_CCO_CYTOSOL__Cis_delta_3_decenoyl_ACPs_MALONYL_ACP_PROTON__b_Keto_cis_D5_dodecenoyl_ACPs_ACP_CARBON_DIOXIDE_108__L2R',\n",
        " '3_DEHYDROQUINATE_DEHYDRATASE_RXN_L2R',\n",
        " 'SUCCDIAMINOPIMDESUCC_RXN_L2R',\n",
        " 'TRANS_RXN0_544_L2R',\n",
        " 'HISTIDPHOS_RXN_CCO_CYTOSOL__L_HISTIDINOL_P_WATER__HISTIDINOL_Pi_49__L2R',\n",
        " 'RXN_11811_CCO_PERI_BAC__AMMONIA_PROTON__AMMONIUM_39__R2L',\n",
        " 'CDPDIGLYSYN_RXN_CCO_CYTOSOL__CTP_CPD_18352_PROTON__CPD_18356_PPI_49__L2R',\n",
        " 'TRANS_RXN0_459_L2R',\n",
        " 'SPONTPRO_RXN_R2L',\n",
        " 'URA_PHOSPH_RXN_R2L',\n",
        " 'DEOXYRIBOSE_P_ALD_RXN_R2L',\n",
        " '3_OXOACYL_ACP_REDUCT_RXN_CCO_CYTOSOL__R_3_hydroxydodecanoyl_ACPs_NADP__3_oxo_dodecanoyl_ACPs_NADPH_PROTON_81__R2L',\n",
        " '__OBJ__LIPOPOLYSACCHARIDE_c',\n",
        " 'UDP_NACMURALA_GLU_LIG_RXN_L2R',\n",
        " 'ADENPRIBOSYLTRAN_RXN_R2L',\n",
        " 'LUMAZINESYN_RXN_L2R',\n",
        " 'ARGSUCCINLYA_RXN_L2R',\n",
        " 'TRANS_RXN0_601_CCO_OUTER_MEM__PROTON__PROTON_30__L2R',\n",
        " 'GLUC1PURIDYLTRANS_RXN_L2R',\n",
        " 'RXN_12473_L2R',\n",
        " '2_1_1_79_RXN_CCO_CYTOSOL__CPD_18403_S_ADENOSYLMETHIONINE__CPD_18404_ADENOSYL_HOMO_CYS_PROTON_80__L2R',\n",
        " 'RXN_16804_L2R',\n",
        " '__OBJ__COA_AND_FRIENDS_c',\n",
        " 'RIBOSYLHOMOCYSTEINASE_RXN_L2R',\n",
        " 'PGPPHOSPHA_RXN_CCO_CYTOSOL__CPD_18359_WATER__CPD_18361_Pi_43__L2R',\n",
        " '2_5_1_19_RXN_L2R',\n",
        " 'RXN_17022_CCO_CYTOSOL__Myristoyl_ACPs_CPD_18379__CPD0_1425_ACP_53__L2R',\n",
        " 'FADSYN_RXN_L2R',\n",
        " 'HEMN_RXN_L2R',\n",
        " 'PGLUCISOM_RXN_CCO_CYTOSOL__ALPHA_GLC_6_P__FRUCTOSE_6P_40__L2R',\n",
        " 'UDPNACETYLGLUCOSAMENOLPYRTRANS_RXN_L2R',\n",
        " 'PHOSPHASERSYN_RXN_CCO_CYTOSOL__CPD_18355_SER__CMP_CPD_18366_PROTON_49__L2R',\n",
        " 'O_SUCCINYLBENZOATE_COA_LIG_RXN_L2R',\n",
        " 'RIBONUCLEOSIDE_DIP_REDUCTI_RXN_CCO_CYTOSOL__Ox_Thioredoxin_DCDP_WATER__Red_Thioredoxin_CDP_60__R2L',\n",
        " 'METHENYLTHFCYCLOHYDRO_RXN_CCO_CYTOSOL__5_10_METHENYL_THF_WATER__10_FORMYL_THF_PROTON_59__L2R',\n",
        " 'PGPPHOSPHA_RXN_CCO_CYTOSOL__CPD_18399_WATER__CPD_18394_Pi_43__L2R',\n",
        " 'S_ADENMETSYN_RXN_L2R',\n",
        " 'UDPGLUCEPIM_RXN_L2R',\n",
        " 'CITSYN_RXN_L2R',\n",
        " 'GDPKIN_RXN_L2R',\n",
        " 'TYROSINE_AMINOTRANSFERASE_RXN_R2L',\n",
        " 'TRANS_RXN0_615_L2R',\n",
        " 'HOMOSERKIN_RXN_L2R',\n",
        " 'RXN0_7166_L2R',\n",
        " 'GPPSYN_RXN_L2R',\n",
        " 'DHBDEHYD_RXN_L2R',\n",
        " '3_ISOPROPYLMALDEHYDROG_RXN_L2R',\n",
        " '2_DEHYDROPANTOATE_REDUCT_RXN_R2L',\n",
        " 'RXN0_4301_L2R',\n",
        " 'RXN_8342_CCO_CYTOSOL__PRECURSOR_Z_Thiocarboxylated_MPT_synthases_WATER__MPT_Synthases_CPD_4_PROTON_90__L2R',\n",
        " 'CDPDIGLYSYN_RXN_CCO_CYTOSOL__CTP_CPD_18380_PROTON__CPD_18387_PPI_49__L2R',\n",
        " 'PHOSPHASERSYN_RXN_CCO_CYTOSOL__CPD_18356_SER__CMP_CPD_18365_PROTON_49__L2R',\n",
        " '__OBJ__HEMES_c',\n",
        " 'DIHYDRONEOPTERIN_MONO_P_DEPHOS_RXN_L2R',\n",
        " 'ADCLY_RXN_L2R',\n",
        " 'RXN_9537_CCO_CYTOSOL__R_3_hydroxymyristoyl_ACPs__Tetradec_2_enoyl_ACPs_WATER_68__L2R',\n",
        " '__NUT_EX_Pi_c',\n",
        " '2PGADEHYDRAT_RXN_L2R',\n",
        " '__NUT_EX_Pi_e',\n",
        " '2_8_1_6_RXN_L2R',\n",
        " 'PHOSGLYPHOS_RXN_R2L',\n",
        " 'GTP_CYCLOHYDRO_I_RXN_L2R',\n",
        " 'RXN0_5461_L2R',\n",
        " 'RXN_10661_CCO_CYTOSOL__Palmitoleoyl_ACPs_NAD__Trans_D3_cis_D9_hexadecenoyl_ACPs_NADH_PROTON_82__R2L',\n",
        " 'UDP_NACMURALGLDAPAALIG_RXN_L2R',\n",
        " 'PGPPHOSPHA_RXN_CCO_CYTOSOL__CPD_18398_WATER__CPD_18393_Pi_43__L2R',\n",
        " '__OBJ__IRON_UPTAKE_c',\n",
        " 'GART_RXN_CCO_CYTOSOL__10_FORMYL_THF_5_PHOSPHO_RIBOSYL_GLYCINEAMIDE__THF_5_P_RIBOSYL_N_FORMYLGLYCINEAMIDE_PROTON_103__L2R',\n",
        " 'GLYOHMETRANS_RXN_CCO_CYTOSOL__SER_THF__GLY_METHYLENE_THF_WATER_46__L2R',\n",
        " 'UDPKIN_RXN_L2R',\n",
        " 'CDPDIGLYSYN_RXN_CCO_CYTOSOL__CTP_CPD_18390_PROTON__CPD_18391_PPI_49__L2R',\n",
        " 'ASPCARBTRANS_RXN_L2R',\n",
        " 'RXN_7800_L2R',\n",
        " '__OBJ__LIPID_PE_c',\n",
        " 'PEPCARBOX_RXN_R2L',\n",
        " 'RXN0_2142_CCO_CYTOSOL__b_Hydroxy_cis_D5_dodecenoyl_ACPs_NADP__b_Keto_cis_D5_dodecenoyl_ACPs_NADPH_PROTON_95__R2L',\n",
        " 'TRANS_RXN0_607_CCO_OUTER_MEM__METOH__METOH_28__L2R',\n",
        " 'TRANS_RXN0_556_CCO_OUTER_MEM__CARBON_MONOXIDE__CARBON_MONOXIDE_48__R2L',\n",
        " '__OBJ__LIPID_PG_c',\n",
        " 'O_SUCCHOMOSERLYASE_RXN_L2R',\n",
        " 'DIAMINOPIMEPIM_RXN_L2R',\n",
        " 'CDPDIGLYSYN_RXN_CCO_CYTOSOL__CTP_CPD_18350_PROTON__CPD_18358_PPI_49__L2R',\n",
        " '3_HYDROXYDECANOYL_ACP_DEHYDR_RXN_CCO_CYTOSOL__Beta_3_hydroxybutyryl_ACPs__Crotonyl_ACPs_WATER_61__L2R',\n",
        " 'DIHYDROXYISOVALDEHYDRAT_RXN_L2R',\n",
        " 'TRANS_RXN0_610_CCO_OUTER_MEM__HYDROGEN_MOLECULE__HYDROGEN_MOLECULE_52__L2R',\n",
        " 'RXN_15943_R2L',\n",
        " 'RXN_15131_L2R',\n",
        " 'RXN_14382_L2R',\n",
        " 'FLAVONADPREDUCT_RXN_CCO_CYTOSOL__Oxidized_flavodoxins_NADPH_PROTON__Reduced_flavodoxins_NADP_73__L2R',\n",
        " 'PYRUVFORMLY_RXN_R2L',\n",
        " 'ASPARTATE_SEMIALDEHYDE_DEHYDROGENASE_RXN_R2L',\n",
        " 'PHOSPHAGLYPSYN_RXN_CCO_CYTOSOL__CPD_18391_GLYCEROL_3P__CMP_CPD_18398_PROTON_57__L2R',\n",
        " 'PHOSPHAGLYPSYN_RXN_CCO_CYTOSOL__CPD_18357_GLYCEROL_3P__CMP_CPD_18399_PROTON_57__L2R',\n",
        " '__SEC_EX_WATER_c',\n",
        " 'PRTRANS_RXN_R2L',\n",
        " 'PANTOATE_BETA_ALANINE_LIG_RXN_L2R',\n",
        " '__SEC_EX_WATER_e',\n",
        " 'RXN_9658_CCO_CYTOSOL__Hexanoyl_ACPs_NAD__Hex_2_enoyl_ACPs_NADH_PROTON_61__R2L',\n",
        " 'TRANS_RXN_157_CCO_PM_BAC_NEG__PTSH_PHOSPHORYLATED_GLC__ALPHA_GLC_6_P_PTSH_MONOMER_68__L2R',\n",
        " 'TRANS_RXN0_571_R2L',\n",
        " 'RXN_9789_CCO_CYTOSOL__Thi_S_ATP_PROTON__Adenylated_ThiS_Proteins_PPI_60__L2R',\n",
        " 'RXN_9772_L2R',\n",
        " 'DCDPKIN_RXN_L2R',\n",
        " 'RXN_8999_L2R',\n",
        " 'RXN_17020_CCO_CYTOSOL__Palmitoleoyl_ACPs_CPD_18379__CPD_18380_ACP_56__L2R',\n",
        " 'OHMETHYLBILANESYN_RXN_L2R',\n",
        " 'TRANS_RXN0_601_CCO_OUTER_MEM__AMMONIUM__AMMONIUM_34__R2L',\n",
        " 'RXN_11474_CCO_CYTOSOL__Malonyl_acp_methyl_ester_MALONYL_ACP_PROTON__3_Ketoglutaryl_ACP_methyl_ester_CARBON_DIOXIDE_ACP_109__L2R',\n",
        " '1_5_1_20_RXN_CCO_CYTOSOL__5_METHYL_THF_NAD__METHYLENE_THF_NADH_PROTON_57__R2L',\n",
        " 'TRANS_RXN0_461_L2R',\n",
        " 'AIRS_RXN_L2R',\n",
        " '1_8_4_8_RXN_CCO_CYTOSOL__3_5_ADP_SO3_Ox_Thioredoxin_PROTON__PAPS_Red_Thioredoxin_69__R2L',\n",
        " 'PHOSPHASERDECARB_RXN_CCO_CYTOSOL__CPD_18366_PROTON__CPD_18370_CARBON_DIOXIDE_56__L2R',\n",
        " 'ACETYLORNTRANSAM_RXN_R2L',\n",
        " 'TRANS_RXN0_556_CCO_PM_BAC_NEG__CARBON_MONOXIDE__CARBON_MONOXIDE_49__R2L',\n",
        " 'FPPSYN_RXN_L2R',\n",
        " 'PHOSPHASERSYN_RXN_CCO_CYTOSOL__CPD_18387_SER__CMP_CPD_18402_PROTON_49__L2R',\n",
        " 'PHEAMINOTRANS_RXN_L2R',\n",
        " 'RXN_17017_CCO_CYTOSOL__Myristoyl_ACPs_GLYCEROL_3P__CPD_18379_ACP_55__L2R',\n",
        " 'PGPPHOSPHA_RXN_CCO_CYTOSOL__CPD_18397_WATER__CPD_18392_Pi_43__L2R',\n",
        " 'DIAMINOPIMDECARB_RXN_L2R',\n",
        " '2TRANSKETO_RXN_R2L',\n",
        " 'RXN0_7141_R2L',\n",
        " 'QUINOLINATE_SYNTHA_RXN_L2R',\n",
        " '__SEC_EX_CPD_108_p',\n",
        " 'GUANYL_KIN_RXN_L2R',\n",
        " 'RXN_9661_CCO_CYTOSOL__Dodecanoyl_ACPs_NAD__Dodec_2_enoyl_ACPs_NADH_PROTON_65__R2L',\n",
        " 'PGLYCDEHYDROG_RXN_L2R',\n",
        " 'PHOSPHAGLYPSYN_RXN_CCO_CYTOSOL__CPD_18358_GLYCEROL_3P__CMP_CPD_18359_PROTON_57__L2R',\n",
        " '__OBJ__GAM_c',\n",
        " 'H2PTERIDINEPYROPHOSPHOKIN_RXN_L2R',\n",
        " 'MYRISTOYLACYLTRAN_RXN_CCO_CYTOSOL__Myristoyl_ACPs_KDO2_LAUROYL_LIPID_IVA__KDO2_LIPID_A_ACP_69__L2R',\n",
        " 'TRANS_RXN_121_R2L',\n",
        " 'GLUTKIN_RXN_L2R',\n",
        " 'GLUTRNAREDUCT_RXN_CCO_CYTOSOL__GLUTAMATE_1_SEMIALDEHYDE_GLT_tRNAs_NADP__Charged_GLT_tRNAs_NADPH_78__R2L',\n",
        " 'RXN0_3542_R2L',\n",
        " 'DIHYDROOROT_RXN_R2L',\n",
        " 'PHOSNACMURPENTATRANS_RXN_L2R',\n",
        " 'CDPDIGLYSYN_RXN_CCO_CYTOSOL__CTP_CPD0_1425_PROTON__CPD_18388_PPI_49__L2R',\n",
        " 'GLUTAMIDOTRANS_RXN_L2R',\n",
        " '__OBJ__LIPID_CL_c',\n",
        " 'RXN0_5061_L2R',\n",
        " '2_7_1_148_RXN_L2R',\n",
        " 'SPERMIDINESYN_RXN_L2R',\n",
        " 'RXN_10656_CCO_CYTOSOL__3_hydroxy_cis_D7_tetraecenoyl_ACPs__Trans_D3_cis_D7_tetradecenoyl_ACPs_WATER_90__L2R',\n",
        " 'CARDIOLIPSYN_RXN_CCO_CYTOSOL__CPD_8260__CPD_12824_GLYCEROL_42__L2R',\n",
        " '6PFRUCTPHOS_RXN_L2R',\n",
        " 'GMP_SYN_NH3_RXN_L2R',\n",
        " 'TRANS_RXN0_601_CCO_OUTER_MEM__Pi__Pi_22__R2L',\n",
        " '__OBJ__TOP_LEVEL_c',\n",
        " 'P_PANTOCYSLIG_RXN_L2R',\n",
        " '4_2_1_61_RXN_CCO_CYTOSOL__R_3_Hydroxypalmitoyl_ACPs__2_Hexadecenoyl_ACPs_WATER_66__L2R',\n",
        " 'ISOCHORMAT_RXN_L2R',\n",
        " 'RXN_12002_L2R',\n",
        " '2_1_1_79_RXN_CCO_CYTOSOL__CPD_18362_S_ADENOSYLMETHIONINE__CPD_18406_ADENOSYL_HOMO_CYS_PROTON_80__L2R',\n",
        " 'CPM_KDOSYNTH_RXN_L2R',\n",
        " '__OBJ__PEPTIDOGLYCAN_c',\n",
        " 'RXN_14047_L2R',\n",
        " 'ORNDECARBOX_RXN_L2R',\n",
        " 'RXN_11478_CCO_CYTOSOL__Glutaryl_ACP_methyl_esters_NAD__Enoylglutaryl_ACP_methyl_esters_NADH_PROTON_89__R2L',\n",
        " 'ISPH2_RXN_R2L',\n",
        " 'IMPCYCLOHYDROLASE_RXN_R2L',\n",
        " 'RXN_11475_CCO_CYTOSOL__MALONYL_ACP_S_ADENOSYLMETHIONINE__Malonyl_acp_methyl_ester_ADENOSYL_HOMO_CYS_90__L2R',\n",
        " 'RXN_9527_CCO_CYTOSOL__Octanoyl_ACPs_MALONYL_ACP_PROTON__3_oxo_decanoyl_ACPs_CARBON_DIOXIDE_ACP_86__L2R',\n",
        " 'H2NEOPTERINALDOL_RXN_L2R',\n",
        " 'RXN0_5388_CCO_PM_BAC_NEG__NADH_CPD_9728_PROTON__NAD_REDUCED_MENAQUINONE_PROTON_69__L2R',\n",
        " '2_ISOPROPYLMALATESYN_RXN_L2R',\n",
        " 'O_SUCCINYLBENZOATE_COA_SYN_RXN_L2R',\n",
        " 'RXN0_6705_CCO_CYTOSOL__1_PALMITOYLGLYCEROL_3_PHOSPHATE_Palmitoyl_ACPs__CPD0_1422_ACP_75__L2R',\n",
        " '2_1_1_79_RXN_CCO_CYTOSOL__CPD_18361_S_ADENOSYLMETHIONINE__CPD_18373_ADENOSYL_HOMO_CYS_PROTON_80__L2R',\n",
        " 'GLUCOSAMINE_6_P_DEAMIN_RXN_R2L',\n",
        " 'ARGSUCCINSYN_RXN_L2R',\n",
        " 'FGAMSYN_RXN_L2R',\n",
        " 'RXN0_5114_CCO_CYTOSOL__3_P_SERINE_WATER__SER_Pi_38__L2R',\n",
        " 'SUCCCOASYN_RXN_L2R',\n",
        " 'RXN_9556_CCO_CYTOSOL__R_3_hydroxy_cis_vaccenoyl_ACPs_NADP__3_oxo_cis_vaccenoyl_ACPs_NADPH_PROTON_88__R2L',\n",
        " 'GLURS_RXN_CCO_CYTOSOL__GLT_tRNAs_GLT_ATP_PROTON__Charged_GLT_tRNAs_AMP_PPI_65__L2R',\n",
        " 'GSAAMINOTRANS_RXN_L2R',\n",
        " 'RXN_11361_CCO_CYTOSOL__MPT_Synthases_ATP_PROTON__Carboxyadenylated_MPT_synthases_PPI_75__L2R',\n",
        " '__OBJ__POLYAMINE_c',\n",
        " 'CHORISMATEMUT_RXN_L2R',\n",
        " 'OROTPDECARB_RXN_L2R',\n",
        " 'TRIOSEPISOMERIZATION_RXN_R2L',\n",
        " 'PHOSPHASERSYN_RXN_CCO_CYTOSOL__CPD_18357_SER__CMP_CPD_18364_PROTON_49__L2R',\n",
        " 'UDPNACETYLMURAMATEDEHYDROG_RXN_R2L',\n",
        " '3_HYDROXYDECANOYL_ACP_DEHYDR_RXN_CCO_CYTOSOL__3_Hydroxy_octanoyl_ACPs__2_Octenoyl_ACPs_WATER_60__L2R',\n",
        " 'RXN_15878_CCO_CYTOSOL__HYDROXY_METHYL_BUTENYL_DIP_Oxidized_flavodoxins_WATER_PROTON__2C_METH_D_ERYTHRITOL_CYCLODIPHOSPHATE_Reduced_flavodoxins_133__R2L',\n",
        " 'CDPDIGLYSYN_RXN_CCO_CYTOSOL__CTP_CPD_18351_PROTON__CPD_18357_PPI_49__L2R',\n",
        " 'THIAZOLSYN2_RXN_CCO_CYTOSOL__DEOXYXYLULOSE_5P_CPD_12279_Thiocarboxyadenylated_ThiS_Proteins__CPD_13575_Thi_S_WATER_99__L2R',\n",
        " 'LIPIDXSYNTHESIS_RXN_L2R',\n",
        " '__SEC_EX_CPD_560_e',\n",
        " 'TRANS_RXN0_545_CCO_OUTER_MEM__CARBON_DIOXIDE__CARBON_DIOXIDE_46__R2L',\n",
        " 'GLUTATHIONE_SYN_RXN_L2R',\n",
        " 'N_ACETYLGLUTPREDUCT_RXN_R2L',\n",
        " '__OBJ__FOLATES_c',\n",
        " '1TRANSKETO_RXN_CCO_CYTOSOL__D_SEDOHEPTULOSE_7_P_GAP__CPD_15318_XYLULOSE_5_PHOSPHATE_69__L2R',\n",
        " 'SUCCINYLDIAMINOPIMTRANS_RXN_R2L',\n",
        " '1TRANSKETO_RXN_CCO_CYTOSOL__D_SEDOHEPTULOSE_7_P_GAP__CPD_16551_XYLULOSE_5_PHOSPHATE_69__R2L',\n",
        " 'TRANS_RXN0_277_R2L',\n",
        " 'RXN0_5122_L2R',\n",
        " 'PRPPSYN_RXN_CCO_CYTOSOL__CPD_15318_ATP__PRPP_AMP_PROTON_44__L2R',\n",
        " 'GLYCOLATEDEHYDRO_RXN_L2R',\n",
        " 'LAUROYLACYLTRAN_RXN_CCO_CYTOSOL__Dodecanoyl_ACPs_KDO2_LIPID_IVA__KDO2_LAUROYL_LIPID_IVA_ACP_72__L2R',\n",
        " 'PABASYN_RXN_L2R',\n",
        " 'NAD_KIN_RXN_L2R',\n",
        " 'PHOSPHAGLYPSYN_RXN_CCO_CYTOSOL__CPD_12815_GLYCEROL_3P__CMP_CPD_12821_PROTON_57__L2R',\n",
        " '3_OXOACYL_ACP_SYNTH_RXN_CCO_CYTOSOL__MALONYL_ACP_Dodecanoyl_ACPs_PROTON__ACP_3_oxo_myristoyl_ACPs_CARBON_DIOXIDE_89__L2R',\n",
        " 'RXN_13202_L2R',\n",
        " '5_NUCLEOTID_RXN_CCO_CYTOSOL__UMP_WATER__URIDINE_Pi_35__L2R',\n",
        " '2_3_1_157_RXN_L2R',\n",
        " 'RXN_13403_L2R',\n",
        " 'RXN_9657_CCO_CYTOSOL__Butanoyl_ACPs_NAD__Crotonyl_ACPs_NADH_PROTON_58__R2L',\n",
        " 'RXN0_5121_L2R',\n",
        " 'IMP_DEHYDROG_RXN_L2R',\n",
        " 'PPENTOMUT_RXN_CCO_CYTOSOL__RIBOSE_1P__CPD_16551_34__L2R',\n",
        " 'ACETYLORNDEACET_RXN_L2R',\n",
        " 'ADOMET_DMK_METHYLTRANSFER_RXN_L2R',\n",
        " 'ACETOLACTREDUCTOISOM_RXN_R2L',\n",
        " '__SEC_EX_SUC_e',\n",
        " 'TRANS_RXN0_609_CCO_OUTER_MEM__SUC__SUC_24__L2R',\n",
        " 'RXN_9533_CCO_CYTOSOL__R_3_hydroxydodecanoyl_ACPs__Dodec_2_enoyl_ACPs_WATER_66__L2R',\n",
        " 'RIB5PISOM_RXN_CCO_CYTOSOL__CPD_16551__RIBULOSE_5P_36__R2L',\n",
        " 'HISTPRATPHYD_RXN_L2R',\n",
        " 'DALADALALIG_RXN_L2R',\n",
        " 'RXN0_5224_R2L',\n",
        " 'RXN_9524_CCO_CYTOSOL__3_Hydroxy_octanoyl_ACPs_NADP__3_Oxo_octanoyl_ACPs_NADPH_PROTON_76__R2L',\n",
        " '__OBJ__DNA_c',\n",
        " '__SEC_EX_CARBON_DIOXIDE_e',\n",
        " 'RXN0_4342_L2R',\n",
        " 'ISOCHORSYN_RXN_L2R',\n",
        " 'RXN0_5127_L2R',\n",
        " 'UDPACYLGLCNACDEACETYL_RXN_L2R',\n",
        " 'PANTEPADENYLYLTRAN_RXN_L2R',\n",
        " 'TRANS_RXN0_545_CCO_PM_BAC_NEG__CARBON_DIOXIDE__CARBON_DIOXIDE_47__R2L',\n",
        " 'RXN_17024_CCO_CYTOSOL__1_PALMITOYLGLYCEROL_3_PHOSPHATE_Myristoyl_ACPs__CPD_18390_ACP_75__L2R',\n",
        " '2_1_1_79_RXN_CCO_CYTOSOL__CPD_18367_S_ADENOSYLMETHIONINE__CPD_18371_ADENOSYL_HOMO_CYS_PROTON_80__L2R',\n",
        " 'SAICARSYN_RXN_L2R',\n",
        " 'GLUTSEMIALDEHYDROG_RXN_R2L',\n",
        " 'PYRROLINECARBREDUCT_RXN_CCO_CYTOSOL__PRO_NAD__L_DELTA1_PYRROLINE_5_CARBOXYLATE_NADH_PROTON_67__R2L',\n",
        " 'PHOSPHASERSYN_RXN_CCO_CYTOSOL__CPD_18388_SER__CMP_CPD_18401_PROTON_49__L2R',\n",
        " 'METHYLENETHFDEHYDROG_NADP_RXN_CCO_CYTOSOL__METHYLENE_THF_NADP__5_10_METHENYL_THF_NADPH_57__L2R',\n",
        " 'NAPHTHOATE_SYN_RXN_L2R',\n",
        " 'RXN_12611_L2R',\n",
        " 'GLUCOSE_6_PHOSPHATE_1_EPIMERASE_RXN_L2R',\n",
        " 'PHOSPHASERDECARB_RXN_CCO_CYTOSOL__CPD_18363_PROTON__CPD_18367_CARBON_DIOXIDE_56__L2R',\n",
        " 'DIOHBUTANONEPSYN_RXN_L2R',\n",
        " '__NUT_EX_ADP_c',\n",
        " 'ATPPHOSPHORIBOSYLTRANS_RXN_R2L',\n",
        " '2_7_1_121_RXN_L2R',\n",
        " '__OBJ__MENAQUINOLS_c',\n",
        " 'ENOYL_ACP_REDUCT_NADH_RXN_CCO_CYTOSOL__Myristoyl_ACPs_NAD__Tetradec_2_enoyl_ACPs_NADH_PROTON_67__R2L',\n",
        " '2_7_7_60_RXN_L2R',\n",
        " '__NUT_EX_SULFATE_e',\n",
        " '__SEC_EX_METOH_e',\n",
        " 'DIHYDROFOLATEREDUCT_RXN_CCO_CYTOSOL__THF_NADP__DIHYDROFOLATE_NADPH_PROTON_50__R2L',\n",
        " 'PYRIMSYN1_RXN_L2R',\n",
        " '__OBJ__POLYSACCHARIDE_c',\n",
        " 'DAHPSYN_RXN_L2R',\n",
        " '__NUT_EX_AMMONIUM_e',\n",
        " 'H2NEOPTERINP3PYROPHOSPHOHYDRO_RXN_L2R',\n",
        " 'DIMETHUROPORDEHYDROG_RXN_L2R',\n",
        " 'DTDPKIN_RXN_L2R',\n",
        " 'AMPSYN_RXN_L2R',\n",
        " '__SEC_EX_HYDROGEN_MOLECULE_e',\n",
        " 'SERINE_O_ACETTRAN_RXN_L2R',\n",
        " 'RXN_11484_CCO_CYTOSOL__Pimeloyl_ACPs_L_ALPHA_ALANINE_PROTON__8_AMINO_7_OXONONANOATE_CARBON_DIOXIDE_ACP_93__L2R',\n",
        " 'RXN_17014_CCO_CYTOSOL__Cis_vaccenoyl_ACPs_1_PALMITOYLGLYCEROL_3_PHOSPHATE__CPD_18352_ACP_79__L2R',\n",
        " 'RXN0_2144_CCO_CYTOSOL__b_Hydroxy_cis_D5_dodecenoyl_ACPs__Trans_D3_cis_D5_dodecenoyl_ACPs_WATER_85__L2R',\n",
        " 'TETHYDPICSUCC_RXN_L2R',\n",
        " '3_OXOACYL_ACP_REDUCT_RXN_CCO_CYTOSOL__R_3_Hydroxypalmitoyl_ACPs_NADP__3_oxo_palmitoyl_ACPs_NADPH_PROTON_79__R2L',\n",
        " 'CDPDIGLYSYN_RXN_CCO_CYTOSOL__CTP_CPD_18353_PROTON__CPD_18355_PPI_49__L2R',\n",
        " 'FUMHYDR_RXN_L2R',\n",
        " 'GLYCEROL_KIN_RXN_L2R',\n",
        " 'RXN0_7209_CCO_OUTER_MEM__GLC__GLC_24__R2L',\n",
        " 'PRAISOM_RXN_L2R',\n",
        " 'KDOTRANS2_RXN_L2R',\n",
        " 'PORPHOBILSYNTH_RXN_L2R',\n",
        " 'RIBOFLAVINKIN_RXN_L2R',\n",
        " 'SHIKIMATE_5_DEHYDROGENASE_RXN_R2L',\n",
        " 'ACETYLGLUTKIN_RXN_L2R',\n",
        " 'RXN_9311_L2R',\n",
        " 'UDP_NACMUR_ALA_LIG_RXN_L2R',\n",
        " 'RXN_8992_L2R',\n",
        " 'THYMIDYLATESYN_RXN_CCO_CYTOSOL__METHYLENE_THF_DUMP__TMP_DIHYDROFOLATE_51__L2R',\n",
        " 'FHLMULTI_RXN_L2R',\n",
        " 'RXN_10658_CCO_CYTOSOL__Cis_Delta7_tetradecenoyl_ACPs_MALONYL_ACP_PROTON__3_oxo_cis_D9_hexadecenoyl_ACPs_ACP_CARBON_DIOXIDE_113__L2R',\n",
        " 'PHOSPHAGLYPSYN_RXN_CCO_CYTOSOL__CPD_18387_GLYCEROL_3P__CMP_CPD_18397_PROTON_57__L2R',\n",
        " 'RXN0_302_L2R',\n",
        " '__SEC_EX_ACET_e',\n",
        " 'RXN_9520_CCO_CYTOSOL__R_3_hydroxyhexanoyl_ACPs__Hex_2_enoyl_ACPs_WATER_62__L2R',\n",
        " 'DIHYDROFOLATESYNTH_RXN_L2R',\n",
        " 'RXN_11319_L2R',\n",
        " 'TRANS_RXN_114_L2R',\n",
        " 'PHOSACETYLTRANS_RXN_L2R',\n",
        " 'RXN0_5118_L2R',\n",
        " 'ENOYL_ACP_REDUCT_NADH_RXN_CCO_CYTOSOL__Decanoyl_ACPs_NAD__Trans_D2_decenoyl_ACPs_NADH_PROTON_67__R2L',\n",
        " 'ACETATEKIN_RXN_R2L',\n",
        " 'ADENYL_KIN_RXN_L2R',\n",
        " 'RXN_9558_CCO_CYTOSOL__Cis_vaccenoyl_ACPs_NAD__cis_vaccen_2_enoyl_ACPs_NADH_PROTON_73__R2L',\n",
        " 'RXN_15513_R2L',\n",
        " '2_3_1_179_RXN_CCO_CYTOSOL__Palmitoleoyl_ACPs_MALONYL_ACP_PROTON__3_oxo_cis_vaccenoyl_ACPs_CARBON_DIOXIDE_ACP_95__L2R',\n",
        " 'DXPREDISOM_RXN_R2L',\n",
        " 'IGPSYN_RXN_L2R',\n",
        " 'PGPPHOSPHA_RXN_CCO_CYTOSOL__CPD_12821_WATER__CPD_8260_Pi_42__L2R',\n",
        " 'RXN0_5126_L2R',\n",
        " 'IPPISOM_RXN_L2R',\n",
        " 'ATPSYN_RXN_L2R',\n",
        " 'DMK_RXN_L2R',\n",
        " 'RIBOFLAVIN_SYN_RXN_L2R',\n",
        " 'ACSERLY_RXN_L2R',\n",
        " 'PHOSPHOGLUCMUT_RXN_CCO_CYTOSOL__GLC_1_P__GLC_6_P_30__R2L',\n",
        " 'PHOSPHAGLYPSYN_RXN_CCO_CYTOSOL__CPD_18356_GLYCEROL_3P__CMP_CPD_18360_PROTON_57__L2R',\n",
        " 'RXN_9788_L2R',\n",
        " 'THIOREDOXIN_REDUCT_NADPH_RXN_CCO_CYTOSOL__Red_Thioredoxin_NADP__Ox_Thioredoxin_NADPH_PROTON_63__R2L',\n",
        " 'UROGENDECARBOX_RXN_L2R',\n",
        " 'RXN0_308_L2R',\n",
        " 'DURIDKI_RXN_L2R',\n",
        " 'TRANS_RXN0_603_L2R',\n",
        " 'RXN0_313_L2R',\n",
        " '__OBJ__NAD_NADPS_c',\n",
        " 'METBALT_RXN_L2R',\n",
        " 'ENOYL_ACP_REDUCT_NADH_RXN_CCO_CYTOSOL__Octanoyl_ACPs_NAD__2_Octenoyl_ACPs_NADH_PROTON_60__R2L',\n",
        " 'RXN_11477_CCO_CYTOSOL__3_Hydroxyglutaryl_ACP_methyl_ester__Enoylglutaryl_ACP_methyl_esters_WATER_87__L2R',\n",
        " 'RXN_17018_CCO_CYTOSOL__Palmitoyl_ACPs_GLYCEROL_3P__1_PALMITOYLGLYCEROL_3_PHOSPHATE_ACP_77__L2R',\n",
        " '__OBJ__ENZYME_COFACTORS_c',\n",
        " 'RXN_11480_CCO_CYTOSOL__3_hydroxypimeloyl_ACP_methyl_esters_NADP__3_Ketopimeloyl_ACP_methyl_esters_NADPH_PROTON_101__R2L',\n",
        " 'IMIDPHOSDEHYD_RXN_L2R',\n",
        " 'FERREDOXIN__NAD__REDUCTASE_RXN_R2L',\n",
        " 'RXN0_5124_L2R',\n",
        " 'HOMOCYSMETB12_RXN_CCO_CYTOSOL__HOMO_CYS_5_METHYL_THF__MET_THF_44__L2R',\n",
        " 'ASPDECARBOX_RXN_L2R',\n",
        " 'TRANS_RXN0_610_CCO_PM_BAC_NEG__HYDROGEN_MOLECULE__HYDROGEN_MOLECULE_53__L2R',\n",
        " 'RXN_14325_L2R',\n",
        " 'ASPARTATEKIN_RXN_L2R',\n",
        " 'N_ACETYLTRANSFER_RXN_L2R',\n",
        " 'RXN0_4361_L2R',\n",
        " 'ORNCARBAMTRANSFER_RXN_L2R',\n",
        " 'PHOSPHASERDECARB_RXN_CCO_CYTOSOL__CPD_18401_PROTON__CPD_17087_CARBON_DIOXIDE_56__L2R',\n",
        " 'ACETALD_DEHYDROG_RXN_R2L',\n",
        " 'AICARTRANSFORM_RXN_CCO_CYTOSOL__10_FORMYL_THF_AICAR__THF_PHOSPHORIBOSYL_FORMAMIDO_CARBOXAMIDE_75__L2R']"
       ]
      }
     ],
     "prompt_number": 115
    },
    {
     "cell_type": "code",
     "collapsed": false,
     "input": [
      "KO_dict = {}\n",
      "for g in wc.genes[0:20]:\n",
      "    cobra.manipulation.delete_model_genes(wc,g,cumulative_deletions=False)\n",
      "    tmp = wc.optimize()\n",
      "    print \"{}: {}\".format(g.name,tmp)\n",
      "    KO_dict[g.name] = tmp\n",
      "cobra.manipulation.undelete_model_genes(wc)"
     ],
     "language": "python",
     "metadata": {},
     "outputs": [
      {
       "output_type": "stream",
       "stream": "stdout",
       "text": [
        "caiB: <Solution 0.29 at 0x11de001d0>\n",
        "map: <Solution 0.29 at 0x115c27110>"
       ]
      },
      {
       "output_type": "stream",
       "stream": "stdout",
       "text": [
        "\n",
        "gdhA: <Solution 0.29 at 0x11de00350>"
       ]
      },
      {
       "output_type": "stream",
       "stream": "stdout",
       "text": [
        "\n",
        "scpC: <Solution 0.29 at 0x11de00d10>"
       ]
      },
      {
       "output_type": "stream",
       "stream": "stdout",
       "text": [
        "\n",
        "mpaA: <Solution 0.29 at 0x11d1d6090>"
       ]
      },
      {
       "output_type": "stream",
       "stream": "stdout",
       "text": [
        "\n",
        "arnB: <Solution 0.29 at 0x11de00b10>"
       ]
      },
      {
       "output_type": "stream",
       "stream": "stdout",
       "text": [
        "\n",
        "truC: <Solution 0.29 at 0x11de00050>"
       ]
      },
      {
       "output_type": "stream",
       "stream": "stdout",
       "text": [
        "\n",
        "cmoM: <Solution 0.29 at 0x11de00210>"
       ]
      },
      {
       "output_type": "stream",
       "stream": "stdout",
       "text": [
        "\n",
        "sgbH: <Solution 0.29 at 0x11de00bd0>"
       ]
      },
      {
       "output_type": "stream",
       "stream": "stdout",
       "text": [
        "\n",
        "ulaD: <Solution 0.29 at 0x11de00d50>"
       ]
      },
      {
       "output_type": "stream",
       "stream": "stdout",
       "text": [
        "\n",
        "dapA: <Solution 0.00 at 0x11de00250>"
       ]
      },
      {
       "output_type": "stream",
       "stream": "stdout",
       "text": [
        "\n",
        "rbsK: <Solution 0.29 at 0x11de004d0>"
       ]
      },
      {
       "output_type": "stream",
       "stream": "stdout",
       "text": [
        "\n",
        "deoC: <Solution 0.29 at 0x11de00dd0>"
       ]
      },
      {
       "output_type": "stream",
       "stream": "stdout",
       "text": [
        "\n",
        "bioA: <Solution 0.00 at 0x11de00610>"
       ]
      },
      {
       "output_type": "stream",
       "stream": "stdout",
       "text": [
        "\n",
        "pdxY: <Solution 0.29 at 0x11de000d0>"
       ]
      },
      {
       "output_type": "stream",
       "stream": "stdout",
       "text": [
        "\n",
        "phnM: <Solution 0.29 at 0x11de00a10>"
       ]
      },
      {
       "output_type": "stream",
       "stream": "stdout",
       "text": [
        "\n",
        "caiA: <Solution 0.29 at 0x11de006d0>"
       ]
      },
      {
       "output_type": "stream",
       "stream": "stdout",
       "text": [
        "\n",
        "hisA: <Solution -0.00 at 0x11de00810>"
       ]
      },
      {
       "output_type": "stream",
       "stream": "stdout",
       "text": [
        "\n",
        "cdh: <Solution 0.29 at 0x11de00b50>"
       ]
      },
      {
       "output_type": "stream",
       "stream": "stdout",
       "text": [
        "\n",
        "betB: <Solution 0.29 at 0x11de00cd0>"
       ]
      },
      {
       "output_type": "stream",
       "stream": "stdout",
       "text": [
        "\n"
       ]
      }
     ],
     "prompt_number": 36
    },
    {
     "cell_type": "code",
     "collapsed": false,
     "input": [
      "print_rxn_info([wc.reactions.get_by_id(\"__OBJ__TOP_LEVEL_c\")])"
     ],
     "language": "python",
     "metadata": {},
     "outputs": [
      {
       "output_type": "stream",
       "stream": "stdout",
       "text": [
        "rxn cobra id:        __OBJ__TOP_LEVEL_c\n",
        "rxn ptools id:       _TOP_LEVEL_c objective reaction\n",
        "genes of reaction:    ()\n",
        "reaction string:     0.0001 _HEMES_c + 0.0001 _IRON_UPTAKE_c + 0.0056 _LIPID_CL_c + 0.0065 _LIPOPOLYSACCHARIDE_c + 60.0 _GAM_c + 0.0001 _FLAVINS_c + 0.0784 _LIPID_PE_c + 0.0001 _MENAQUINOLS_c + 0.0048 _PEPTIDOGLYCAN_c + 0.0001 _ENZYME_COFACTORS_c + 0.0048 _POLYSACCHARIDE_c + 0.0001 _COA_AND_FRIENDS_c + 0.0001 _NAD_NADPS_c + 0.0001 _SOLUBLES_c + 0.0001 _FOLATES_c + 0.0198 _DNA_c + 0.6543 _PK_PROT_0_3_c + 0.1306 _RNA_c + 0.028 _LIPID_PG_c + 0.0029 _POLYAMINE_c --> _TOP_LEVEL_c\n",
        "\n"
       ]
      }
     ],
     "prompt_number": 37
    },
    {
     "cell_type": "code",
     "collapsed": false,
     "input": [
      "#print get_boundaries(wc)\n",
      "get_boundaries(wc)"
     ],
     "language": "python",
     "metadata": {},
     "outputs": [
      {
       "metadata": {},
       "output_type": "pyout",
       "prompt_number": 350,
       "text": [
        "{}"
       ]
      }
     ],
     "prompt_number": 350
    },
    {
     "cell_type": "code",
     "collapsed": false,
     "input": [
      "for met in wc.reactions.get_by_id(\"__OBJ__TOP_LEVEL_c\").reactants:\n",
      "    wc.change_objective(\"__OBJ_\"+met.id)\n",
      "    print met.id, wc.optimize()"
     ],
     "language": "python",
     "metadata": {},
     "outputs": [
      {
       "output_type": "stream",
       "stream": "stdout",
       "text": [
        "_HEMES_c "
       ]
      },
      {
       "output_type": "stream",
       "stream": "stdout",
       "text": [
        "<Solution 0.15 at 0x1195dbf50>\n",
        "_IRON_UPTAKE_c "
       ]
      },
      {
       "output_type": "stream",
       "stream": "stdout",
       "text": [
        "<Solution 0.66 at 0x1195dbd10>\n",
        "_LIPID_CL_c "
       ]
      },
      {
       "output_type": "stream",
       "stream": "stdout",
       "text": [
        "<Solution 0.62 at 0x1195dbe50>\n",
        "_LIPOPOLYSACCHARIDE_c "
       ]
      },
      {
       "output_type": "stream",
       "stream": "stdout",
       "text": [
        "<Solution 0.78 at 0x11428dd10>\n",
        "_GAM_c "
       ]
      },
      {
       "output_type": "stream",
       "stream": "stdout",
       "text": [
        "<Solution 26.85 at 0x1195dbe50>\n",
        "_FLAVINS_c "
       ]
      },
      {
       "output_type": "stream",
       "stream": "stdout",
       "text": [
        "<Solution 0.28 at 0x11428dd10>\n",
        "_LIPID_PE_c "
       ]
      },
      {
       "output_type": "stream",
       "stream": "stdout",
       "text": [
        "<Solution 0.59 at 0x1195dbe50>\n",
        "_MENAQUINOLS_c "
       ]
      },
      {
       "output_type": "stream",
       "stream": "stdout",
       "text": [
        "<Solution 0.23 at 0x11428dd10>\n",
        "_PEPTIDOGLYCAN_c "
       ]
      },
      {
       "output_type": "stream",
       "stream": "stdout",
       "text": [
        "<Solution 0.57 at 0x1195dbe50>\n",
        "_ENZYME_COFACTORS_c "
       ]
      },
      {
       "output_type": "stream",
       "stream": "stdout",
       "text": [
        "<Solution 0.17 at 0x11428dd10>\n",
        "_POLYSACCHARIDE_c "
       ]
      },
      {
       "output_type": "stream",
       "stream": "stdout",
       "text": [
        "<Solution 5.59 at 0x1195dbe50>\n",
        "_COA_AND_FRIENDS_c "
       ]
      },
      {
       "output_type": "stream",
       "stream": "stdout",
       "text": [
        "<Solution 0.19 at 0x11428dd10>\n",
        "_NAD_NADPS_c "
       ]
      },
      {
       "output_type": "stream",
       "stream": "stdout",
       "text": [
        "<Solution 0.22 at 0x1195dbe50>\n",
        "_SOLUBLES_c "
       ]
      },
      {
       "output_type": "stream",
       "stream": "stdout",
       "text": [
        "<Solution 0.33 at 0x11428dd10>\n",
        "_FOLATES_c "
       ]
      },
      {
       "output_type": "stream",
       "stream": "stdout",
       "text": [
        "<Solution 0.21 at 0x1195dbe50>\n",
        "_DNA_c "
       ]
      },
      {
       "output_type": "stream",
       "stream": "stdout",
       "text": [
        "<Solution 0.52 at 0x11428dd10>\n",
        "_PK_PROT_0_3_c "
       ]
      },
      {
       "output_type": "stream",
       "stream": "stdout",
       "text": [
        "<Solution 0.82 at 0x1195dbe50>\n",
        "_RNA_c "
       ]
      },
      {
       "output_type": "stream",
       "stream": "stdout",
       "text": [
        "<Solution 0.53 at 0x11428dd10>\n",
        "_LIPID_PG_c "
       ]
      },
      {
       "output_type": "stream",
       "stream": "stdout",
       "text": [
        "<Solution 0.61 at 0x1195dbe50>\n",
        "_POLYAMINE_c "
       ]
      },
      {
       "output_type": "stream",
       "stream": "stdout",
       "text": [
        "<Solution 0.36 at 0x11428dd10>\n"
       ]
      }
     ],
     "prompt_number": 39
    },
    {
     "cell_type": "code",
     "collapsed": false,
     "input": [
      "bounds_sets = [{'__NUT_EX_OXYGEN_MOLECULE_e': [-N,0]} for N in np.linspace(0,20,101)]\n",
      "\n",
      "init_bounds = {'__NUT_EX_GLC_e':[-10,0]\n",
      "               }\n",
      "start_point = './ecocyc_20_1_gem.json'\n",
      "objective = '__OBJ__TOP_LEVEL_c'\n",
      "\n",
      "bounds_sets\n",
      "\n",
      "rslt,rslt_v,f1,f2,f3 = make_happen(bounds_sets,\n",
      "                                   init_bounds=init_bounds,\n",
      "                                   start_point=start_point,\n",
      "                                   objective=objective)\n",
      "plt.sca(f1)\n",
      "plt.savefig(\"./growth.png\",dpi=300,format='png',transparent=True)\n",
      "plt.sca(f2)\n",
      "plt.savefig(\"./products.png\",dpi=300,format='png',transparent=True)\n",
      "plt.sca(f3)\n",
      "plt.savefig(\"./protons.png\",dpi=300,format='png',transparent=True)\n"
     ],
     "language": "python",
     "metadata": {},
     "outputs": [
      {
       "output_type": "stream",
       "stream": "stdout",
       "text": [
        "<Solution 0.29 at 0x11b967050>\n",
        "<Solution 0.29 at 0x11b967750>"
       ]
      },
      {
       "output_type": "stream",
       "stream": "stdout",
       "text": [
        "\n",
        "<Solution 0.30 at 0x11b967050>"
       ]
      },
      {
       "output_type": "stream",
       "stream": "stdout",
       "text": [
        "\n",
        "<Solution 0.31 at 0x11b967d10>"
       ]
      },
      {
       "output_type": "stream",
       "stream": "stdout",
       "text": [
        "\n",
        "<Solution 0.32 at 0x11b967a50>"
       ]
      },
      {
       "output_type": "stream",
       "stream": "stdout",
       "text": [
        "\n",
        "<Solution 0.33 at 0x11b967610>"
       ]
      },
      {
       "output_type": "stream",
       "stream": "stdout",
       "text": [
        "\n",
        "<Solution 0.34 at 0x11b967c50>"
       ]
      },
      {
       "output_type": "stream",
       "stream": "stdout",
       "text": [
        "\n",
        "<Solution 0.35 at 0x11b967310>"
       ]
      },
      {
       "output_type": "stream",
       "stream": "stdout",
       "text": [
        "\n",
        "<Solution 0.36 at 0x11b967850>"
       ]
      },
      {
       "output_type": "stream",
       "stream": "stdout",
       "text": [
        "\n",
        "<Solution 0.37 at 0x11b9676d0>"
       ]
      },
      {
       "output_type": "stream",
       "stream": "stdout",
       "text": [
        "\n",
        "<Solution 0.38 at 0x11b9678d0>"
       ]
      },
      {
       "output_type": "stream",
       "stream": "stdout",
       "text": [
        "\n",
        "<Solution 0.39 at 0x11b967290>"
       ]
      },
      {
       "output_type": "stream",
       "stream": "stdout",
       "text": [
        "\n",
        "<Solution 0.40 at 0x11b967110>"
       ]
      },
      {
       "output_type": "stream",
       "stream": "stdout",
       "text": [
        "\n",
        "<Solution 0.41 at 0x11b967a90>"
       ]
      },
      {
       "output_type": "stream",
       "stream": "stdout",
       "text": [
        "\n",
        "<Solution 0.42 at 0x11b967e10>"
       ]
      },
      {
       "output_type": "stream",
       "stream": "stdout",
       "text": [
        "\n",
        "<Solution 0.43 at 0x11b967c10>"
       ]
      },
      {
       "output_type": "stream",
       "stream": "stdout",
       "text": [
        "\n",
        "<Solution 0.44 at 0x11b967250>"
       ]
      },
      {
       "output_type": "stream",
       "stream": "stdout",
       "text": [
        "\n",
        "<Solution 0.46 at 0x11b9679d0>"
       ]
      },
      {
       "output_type": "stream",
       "stream": "stdout",
       "text": [
        "\n",
        "<Solution 0.47 at 0x11b967590>"
       ]
      },
      {
       "output_type": "stream",
       "stream": "stdout",
       "text": [
        "\n",
        "<Solution 0.48 at 0x11b967e50>"
       ]
      },
      {
       "output_type": "stream",
       "stream": "stdout",
       "text": [
        "\n",
        "<Solution 0.49 at 0x11b967bd0>"
       ]
      },
      {
       "output_type": "stream",
       "stream": "stdout",
       "text": [
        "\n",
        "<Solution 0.50 at 0x11b967350>"
       ]
      },
      {
       "output_type": "stream",
       "stream": "stdout",
       "text": [
        "\n",
        "<Solution 0.51 at 0x11b967b90>"
       ]
      },
      {
       "output_type": "stream",
       "stream": "stdout",
       "text": [
        "\n",
        "<Solution 0.52 at 0x11b9671d0>"
       ]
      },
      {
       "output_type": "stream",
       "stream": "stdout",
       "text": [
        "\n",
        "<Solution 0.53 at 0x11b967790>"
       ]
      },
      {
       "output_type": "stream",
       "stream": "stdout",
       "text": [
        "\n",
        "<Solution 0.54 at 0x11b967fd0>"
       ]
      },
      {
       "output_type": "stream",
       "stream": "stdout",
       "text": [
        "\n",
        "<Solution 0.55 at 0x11b967710>"
       ]
      },
      {
       "output_type": "stream",
       "stream": "stdout",
       "text": [
        "\n",
        "<Solution 0.56 at 0x11b9672d0>"
       ]
      },
      {
       "output_type": "stream",
       "stream": "stdout",
       "text": [
        "\n",
        "<Solution 0.57 at 0x11b967950>"
       ]
      },
      {
       "output_type": "stream",
       "stream": "stdout",
       "text": [
        "\n",
        "<Solution 0.58 at 0x11b967ed0>"
       ]
      },
      {
       "output_type": "stream",
       "stream": "stdout",
       "text": [
        "\n",
        "<Solution 0.59 at 0x11b967f10>"
       ]
      },
      {
       "output_type": "stream",
       "stream": "stdout",
       "text": [
        "\n",
        "<Solution 0.60 at 0x11b967510>"
       ]
      },
      {
       "output_type": "stream",
       "stream": "stdout",
       "text": [
        "\n",
        "<Solution 0.60 at 0x11b9673d0>"
       ]
      },
      {
       "output_type": "stream",
       "stream": "stdout",
       "text": [
        "\n",
        "<Solution 0.61 at 0x11b967b10>"
       ]
      },
      {
       "output_type": "stream",
       "stream": "stdout",
       "text": [
        "\n",
        "<Solution 0.62 at 0x11b967650>"
       ]
      },
      {
       "output_type": "stream",
       "stream": "stdout",
       "text": [
        "\n",
        "<Solution 0.63 at 0x11b967a10>"
       ]
      },
      {
       "output_type": "stream",
       "stream": "stdout",
       "text": [
        "\n",
        "<Solution 0.63 at 0x11b967dd0>"
       ]
      },
      {
       "output_type": "stream",
       "stream": "stdout",
       "text": [
        "\n",
        "<Solution 0.64 at 0x11b967450>"
       ]
      },
      {
       "output_type": "stream",
       "stream": "stdout",
       "text": [
        "\n",
        "<Solution 0.65 at 0x11b967490>"
       ]
      },
      {
       "output_type": "stream",
       "stream": "stdout",
       "text": [
        "\n",
        "<Solution 0.66 at 0x11b9670d0>"
       ]
      },
      {
       "output_type": "stream",
       "stream": "stdout",
       "text": [
        "\n",
        "<Solution 0.67 at 0x11b967910>"
       ]
      },
      {
       "output_type": "stream",
       "stream": "stdout",
       "text": [
        "\n",
        "<Solution 0.67 at 0x11b967690>"
       ]
      },
      {
       "output_type": "stream",
       "stream": "stdout",
       "text": [
        "\n",
        "<Solution 0.68 at 0x11b967f50>"
       ]
      },
      {
       "output_type": "stream",
       "stream": "stdout",
       "text": [
        "\n",
        "<Solution 0.69 at 0x11b967d90>"
       ]
      },
      {
       "output_type": "stream",
       "stream": "stdout",
       "text": [
        "\n",
        "<Solution 0.70 at 0x11b967cd0>"
       ]
      },
      {
       "output_type": "stream",
       "stream": "stdout",
       "text": [
        "\n",
        "<Solution 0.71 at 0x11b967c90>"
       ]
      },
      {
       "output_type": "stream",
       "stream": "stdout",
       "text": [
        "\n",
        "<Solution 0.71 at 0x11b967090>"
       ]
      },
      {
       "output_type": "stream",
       "stream": "stdout",
       "text": [
        "\n",
        "<Solution 0.72 at 0x11b967410>"
       ]
      },
      {
       "output_type": "stream",
       "stream": "stdout",
       "text": [
        "\n",
        "<Solution 0.73 at 0x11c852850>"
       ]
      },
      {
       "output_type": "stream",
       "stream": "stdout",
       "text": [
        "\n",
        "<Solution 0.74 at 0x11c852110>"
       ]
      },
      {
       "output_type": "stream",
       "stream": "stdout",
       "text": [
        "\n",
        "<Solution 0.74 at 0x11c852890>"
       ]
      },
      {
       "output_type": "stream",
       "stream": "stdout",
       "text": [
        "\n",
        "<Solution 0.75 at 0x11c852cd0>"
       ]
      },
      {
       "output_type": "stream",
       "stream": "stdout",
       "text": [
        "\n",
        "<Solution 0.76 at 0x11c852610>"
       ]
      },
      {
       "output_type": "stream",
       "stream": "stdout",
       "text": [
        "\n",
        "<Solution 0.77 at 0x11c852e50>"
       ]
      },
      {
       "output_type": "stream",
       "stream": "stdout",
       "text": [
        "\n",
        "<Solution 0.77 at 0x11c8525d0>"
       ]
      },
      {
       "output_type": "stream",
       "stream": "stdout",
       "text": [
        "\n",
        "<Solution 0.78 at 0x11c8521d0>"
       ]
      },
      {
       "output_type": "stream",
       "stream": "stdout",
       "text": [
        "\n",
        "<Solution 0.79 at 0x11c852a10>"
       ]
      },
      {
       "output_type": "stream",
       "stream": "stdout",
       "text": [
        "\n",
        "<Solution 0.80 at 0x11c852150>"
       ]
      },
      {
       "output_type": "stream",
       "stream": "stdout",
       "text": [
        "\n",
        "<Solution 0.80 at 0x11c8523d0>"
       ]
      },
      {
       "output_type": "stream",
       "stream": "stdout",
       "text": [
        "\n",
        "<Solution 0.81 at 0x11c852510>"
       ]
      },
      {
       "output_type": "stream",
       "stream": "stdout",
       "text": [
        "\n",
        "<Solution 0.82 at 0x11d35ef50>"
       ]
      },
      {
       "output_type": "stream",
       "stream": "stdout",
       "text": [
        "\n",
        "<Solution 0.82 at 0x11ecd4d90>"
       ]
      },
      {
       "output_type": "stream",
       "stream": "stdout",
       "text": [
        "\n",
        "<Solution 0.83 at 0x11ecd4710>"
       ]
      },
      {
       "output_type": "stream",
       "stream": "stdout",
       "text": [
        "\n",
        "<Solution 0.84 at 0x11ecd4f90>"
       ]
      },
      {
       "output_type": "stream",
       "stream": "stdout",
       "text": [
        "\n",
        "<Solution 0.84 at 0x11ecd4e10>"
       ]
      },
      {
       "output_type": "stream",
       "stream": "stdout",
       "text": [
        "\n",
        "<Solution 0.85 at 0x11ecd4210>"
       ]
      },
      {
       "output_type": "stream",
       "stream": "stdout",
       "text": [
        "\n",
        "<Solution 0.86 at 0x11ecd4b50>"
       ]
      },
      {
       "output_type": "stream",
       "stream": "stdout",
       "text": [
        "\n",
        "<Solution 0.87 at 0x11ecd4d50>"
       ]
      },
      {
       "output_type": "stream",
       "stream": "stdout",
       "text": [
        "\n",
        "<Solution 0.87 at 0x11ecd49d0>"
       ]
      },
      {
       "output_type": "stream",
       "stream": "stdout",
       "text": [
        "\n",
        "<Solution 0.88 at 0x11ecd4450>"
       ]
      },
      {
       "output_type": "stream",
       "stream": "stdout",
       "text": [
        "\n",
        "<Solution 0.89 at 0x11ecd47d0>"
       ]
      },
      {
       "output_type": "stream",
       "stream": "stdout",
       "text": [
        "\n",
        "<Solution 0.89 at 0x11ecd4f50>"
       ]
      },
      {
       "output_type": "stream",
       "stream": "stdout",
       "text": [
        "\n",
        "<Solution 0.90 at 0x11ecd4b90>"
       ]
      },
      {
       "output_type": "stream",
       "stream": "stdout",
       "text": [
        "\n",
        "<Solution 0.91 at 0x11ecd4050>"
       ]
      },
      {
       "output_type": "stream",
       "stream": "stdout",
       "text": [
        "\n",
        "<Solution 0.91 at 0x11ecd41d0>"
       ]
      },
      {
       "output_type": "stream",
       "stream": "stdout",
       "text": [
        "\n",
        "<Solution 0.92 at 0x11ecd4a50>"
       ]
      },
      {
       "output_type": "stream",
       "stream": "stdout",
       "text": [
        "\n",
        "<Solution 0.93 at 0x11ecd4310>"
       ]
      },
      {
       "output_type": "stream",
       "stream": "stdout",
       "text": [
        "\n",
        "<Solution 0.93 at 0x11ecd4a10>"
       ]
      },
      {
       "output_type": "stream",
       "stream": "stdout",
       "text": [
        "\n",
        "<Solution 0.94 at 0x11ecd4e90>"
       ]
      },
      {
       "output_type": "stream",
       "stream": "stdout",
       "text": [
        "\n",
        "<Solution 0.95 at 0x11ecd4410>"
       ]
      },
      {
       "output_type": "stream",
       "stream": "stdout",
       "text": [
        "\n",
        "<Solution 0.95 at 0x11ecd4ed0>"
       ]
      },
      {
       "output_type": "stream",
       "stream": "stdout",
       "text": [
        "\n",
        "<Solution 0.96 at 0x11ecd4a90>"
       ]
      },
      {
       "output_type": "stream",
       "stream": "stdout",
       "text": [
        "\n",
        "<Solution 0.97 at 0x11ecd4fd0>"
       ]
      },
      {
       "output_type": "stream",
       "stream": "stdout",
       "text": [
        "\n",
        "<Solution 0.97 at 0x11ecd4790>"
       ]
      },
      {
       "output_type": "stream",
       "stream": "stdout",
       "text": [
        "\n",
        "<Solution 0.98 at 0x11ecd4dd0>"
       ]
      },
      {
       "output_type": "stream",
       "stream": "stdout",
       "text": [
        "\n",
        "<Solution 0.99 at 0x11ecd4490>"
       ]
      },
      {
       "output_type": "stream",
       "stream": "stdout",
       "text": [
        "\n",
        "<Solution 0.99 at 0x11ecd4750>"
       ]
      },
      {
       "output_type": "stream",
       "stream": "stdout",
       "text": [
        "\n",
        "<Solution 1.00 at 0x11ecd43d0>"
       ]
      },
      {
       "output_type": "stream",
       "stream": "stdout",
       "text": [
        "\n",
        "<Solution 1.00 at 0x11ecd4d10>"
       ]
      },
      {
       "output_type": "stream",
       "stream": "stdout",
       "text": [
        "\n",
        "<Solution 1.00 at 0x11ecd4110>"
       ]
      },
      {
       "output_type": "stream",
       "stream": "stdout",
       "text": [
        "\n",
        "<Solution 1.00 at 0x11ecd4e50>"
       ]
      },
      {
       "output_type": "stream",
       "stream": "stdout",
       "text": [
        "\n",
        "<Solution 1.00 at 0x11ecd4090>"
       ]
      },
      {
       "output_type": "stream",
       "stream": "stdout",
       "text": [
        "\n",
        "<Solution 1.00 at 0x11ecd4650>"
       ]
      },
      {
       "output_type": "stream",
       "stream": "stdout",
       "text": [
        "\n",
        "<Solution 1.00 at 0x11ecd4bd0>"
       ]
      },
      {
       "output_type": "stream",
       "stream": "stdout",
       "text": [
        "\n",
        "<Solution 1.00 at 0x11ecd4590>"
       ]
      },
      {
       "output_type": "stream",
       "stream": "stdout",
       "text": [
        "\n",
        "<Solution 1.00 at 0x11ecd4390>"
       ]
      },
      {
       "output_type": "stream",
       "stream": "stdout",
       "text": [
        "\n",
        "<Solution 1.00 at 0x11b94d610>"
       ]
      },
      {
       "output_type": "stream",
       "stream": "stdout",
       "text": [
        "\n",
        "<Solution 1.00 at 0x11b94da50>"
       ]
      },
      {
       "output_type": "stream",
       "stream": "stdout",
       "text": [
        "\n",
        "<Solution 1.00 at 0x11b94d4d0>"
       ]
      },
      {
       "output_type": "stream",
       "stream": "stdout",
       "text": [
        "\n",
        "<Solution 1.00 at 0x11b94d990>"
       ]
      },
      {
       "output_type": "stream",
       "stream": "stdout",
       "text": [
        "\n",
        "<Solution 1.00 at 0x11b94d790>"
       ]
      },
      {
       "output_type": "stream",
       "stream": "stdout",
       "text": [
        "\n",
        "<Solution 1.00 at 0x11b94d7d0>"
       ]
      },
      {
       "output_type": "stream",
       "stream": "stdout",
       "text": [
        "\n"
       ]
      },
      {
       "metadata": {},
       "output_type": "display_data",
       "png": "[encoded data removed]",
       "text": [
        "<matplotlib.figure.Figure at 0x11b967810>"
       ]
      },
      {
       "metadata": {},
       "output_type": "display_data",
       "png": "[encoded data removed]",
       "text": [
        "<matplotlib.figure.Figure at 0x1142ad710>"
       ]
      },
      {
       "metadata": {},
       "output_type": "display_data",
       "png": "[encoded data removed]",
       "text": [
        "<matplotlib.figure.Figure at 0x11b8fb890>"
       ]
      }
     ],
     "prompt_number": 52
    },
    {
     "cell_type": "code",
     "collapsed": false,
     "input": [
      "build_rslt_v_data(rslt_v)\n"
     ],
     "language": "python",
     "metadata": {},
     "outputs": [],
     "prompt_number": 23
    },
    {
     "cell_type": "code",
     "collapsed": false,
     "input": [
      "rslt_v['__SEC_EX_ETOH_e']\n"
     ],
     "language": "python",
     "metadata": {},
     "outputs": [
      {
       "metadata": {},
       "output_type": "pyout",
       "prompt_number": 51,
       "text": [
        "[0.0,\n",
        " 0.0,\n",
        " 0.0,\n",
        " 0.0,\n",
        " 0.0,\n",
        " 0.0,\n",
        " 0.0,\n",
        " 0.0,\n",
        " 0.0,\n",
        " 0.0,\n",
        " 0.0,\n",
        " 0.0,\n",
        " 0.0,\n",
        " 0.0,\n",
        " 0.0,\n",
        " 0.0,\n",
        " 0.0,\n",
        " 0.0,\n",
        " 0.0,\n",
        " 0.0,\n",
        " 0.0,\n",
        " 0.0,\n",
        " 0.0,\n",
        " 0.0,\n",
        " 0.0,\n",
        " 0.0,\n",
        " 0.0,\n",
        " 0.0,\n",
        " 0.0,\n",
        " 0.0,\n",
        " 0.0,\n",
        " 0.0,\n",
        " 0.0,\n",
        " 0.0,\n",
        " 0.0,\n",
        " 0.0,\n",
        " 0.0,\n",
        " 0.0,\n",
        " 0.0,\n",
        " 0.0,\n",
        " 0.0,\n",
        " 0.0,\n",
        " 0.0,\n",
        " 0.0,\n",
        " 0.0,\n",
        " 0.0,\n",
        " 0.0,\n",
        " 0.0,\n",
        " 0.0,\n",
        " 0.0,\n",
        " 0.0]"
       ]
      }
     ],
     "prompt_number": 51
    },
    {
     "cell_type": "code",
     "collapsed": false,
     "input": [
      "result_dict = {}\n",
      "for met in wc.reactions.get_by_id(\"__OBJ__TOP_LEVEL_c\").reactants:\n",
      "    wc.change_objective(\"__OBJ_\"+met.id)\n",
      "    result_dict[met.id]=wc.optimize()"
     ],
     "language": "python",
     "metadata": {},
     "outputs": [],
     "prompt_number": 222
    },
    {
     "cell_type": "code",
     "collapsed": false,
     "input": [
      "result_dict.keys()"
     ],
     "language": "python",
     "metadata": {},
     "outputs": [
      {
       "metadata": {},
       "output_type": "pyout",
       "prompt_number": 175,
       "text": [
        "[u'_LIPID_PE_c',\n",
        " u'_PK_PROT_0_3_c',\n",
        " u'_HEMES_c',\n",
        " u'_SOLUBLES_c',\n",
        " u'_DNA_c',\n",
        " u'_LIPID_PG_c',\n",
        " u'_ENZYME_COFACTORS_c',\n",
        " u'_LIPID_CL_c',\n",
        " u'_IRON_UPTAKE_c',\n",
        " u'_MENAQUINOLS_c',\n",
        " u'_FLAVINS_c',\n",
        " u'_POLYAMINE_c',\n",
        " u'_COA_AND_FRIENDS_c',\n",
        " u'_POLYSACCHARIDE_c',\n",
        " u'_GAM_c',\n",
        " u'_FOLATES_c',\n",
        " u'_PEPTIDOGLYCAN_c',\n",
        " u'_NAD_NADPS_c',\n",
        " u'_RNA_c',\n",
        " u'_LIPOPOLYSACCHARIDE_c']"
       ]
      }
     ],
     "prompt_number": 175
    },
    {
     "cell_type": "code",
     "collapsed": false,
     "input": [
      "new_nonzeros(result_dict['_PK_PROT_0_3_c'])\n",
      "#sorted(get_sol_nonzeros(result_dict['_PK_PROT_0_3_c']),key=lambda x : x[1])\n",
      "\n",
      "# storage for below cell...\n",
      "# wcd.reactions.get_by_id('__NUT_EX_ADP_c').lower_bound = 0\n",
      "# wcd.reactions.get_by_id('__NUT_EX_ADP_c').upper_bound = 0\n",
      "# wcd.reactions.get_by_id('__NUT_EX_Pi_c').lower_bound = 0\n",
      "# wcd.reactions.get_by_id('__NUT_EX_Pi_c').upper_bound = 0\n",
      "# wcd.reactions.get_by_id('__NUT_EX_PROTON_c').lower_bound = 0\n",
      "# wcd.reactions.get_by_id('__NUT_EX_PROTON_c').upper_bound = 0\n",
      "# wcd.reactions.get_by_id('__SEC_EX_ATP_c').lower_bound = 0\n",
      "# wcd.reactions.get_by_id('__SEC_EX_ATP_c').upper_bound = 0\n",
      "# wcd.reactions.get_by_id('__SEC_EX_WATER_c').lower_bound = 0\n",
      "# wcd.reactions.get_by_id('__SEC_EX_WATER_c').upper_bound = 0\n"
     ],
     "language": "python",
     "metadata": {},
     "outputs": [
      {
       "metadata": {},
       "output_type": "pyout",
       "prompt_number": 223,
       "text": [
        "[('__NUT_EX_AMMONIUM_e', -10.260850090165434),\n",
        " ('__NUT_EX_GLC_e', -10.0),\n",
        " ('__NUT_EX_ADP_c', -3.15),\n",
        " ('__NUT_EX_PROTON_c', -3.15),\n",
        " ('__NUT_EX_Pi_c', -3.15),\n",
        " ('__NUT_EX_SULFATE_e', -0.32722478698793966),\n",
        " ('IGPSYN_RXN_L2R', 0.08570147704260721),\n",
        " ('PRAISOM_RXN_L2R', 0.08570147704260721),\n",
        " ('ANTHRANSYN_RXN_L2R', 0.08570147704260721),\n",
        " ('TRYPSYN_RXN_L2R', 0.08570147704260721),\n",
        " ('PRTRANS_RXN_R2L', 0.08570147704260721),\n",
        " ('RIB5PISOM_RXN_CCO_CYTOSOL__CPD_15318__RIBULOSE_5P_36__R2L',\n",
        "  0.11686644276087604),\n",
        " ('1TRANSKETO_RXN_CCO_CYTOSOL__D_SEDOHEPTULOSE_7_P_GAP__CPD_15318_XYLULOSE_5_PHOSPHATE_69__R2L',\n",
        "  0.11686644276087604),\n",
        " ('IMPCYCLOHYDROLASE_RXN_R2L', 0.1324481086140235),\n",
        " ('HISTOLDEHYD_RXN_L2R', 0.1324481086140235),\n",
        " ('HISTCYCLOHYD_RXN_L2R', 0.1324481086140235),\n",
        " ('METHENYLTHFCYCLOHYDRO_RXN_CCO_CYTOSOL__5_10_METHENYL_THF_WATER__10_FORMYL_THF_PROTON_59__L2R',\n",
        "  0.1324481086140235),\n",
        " ('HISTAMINOTRANS_RXN_L2R', 0.1324481086140235),\n",
        " ('HISTPRATPHYD_RXN_L2R', 0.1324481086140235),\n",
        " ('GLUTAMIDOTRANS_RXN_L2R', 0.1324481086140235),\n",
        " ('IMIDPHOSDEHYD_RXN_L2R', 0.1324481086140235),\n",
        " ('AICARTRANSFORM_RXN_CCO_CYTOSOL__10_FORMYL_THF_AICAR__THF_PHOSPHORIBOSYL_FORMAMIDO_CARBOXAMIDE_75__L2R',\n",
        "  0.1324481086140235),\n",
        " ('HISTALDEHYD_RXN_L2R', 0.1324481086140235),\n",
        " ('PRIBFAICARPISOM_RXN_L2R', 0.1324481086140235),\n",
        " ('HISTIDPHOS_RXN_CCO_CYTOSOL__L_HISTIDINOL_P_WATER__HISTIDINOL_Pi_49__L2R',\n",
        "  0.1324481086140235),\n",
        " ('ATPPHOSPHORIBOSYLTRANS_RXN_R2L', 0.1324481086140235),\n",
        " ('METHYLENETHFDEHYDROG_NADP_RXN_CCO_CYTOSOL__METHYLENE_THF_NADP__5_10_METHENYL_THF_NADPH_57__L2R',\n",
        "  0.1324481086140235),\n",
        " ('AMPSYN_RXN_L2R', 0.13244810861402445),\n",
        " ('ADENYLOSUCCINATE_SYNTHASE_RXN_L2R', 0.13244810861402445),\n",
        " ('1_5_1_20_RXN_CCO_CYTOSOL__5_METHYL_THF_NAD__METHYLENE_THF_NADH_PROTON_57__R2L',\n",
        "  0.19477667837391616),\n",
        " ('CYSTATHIONINE_BETA_LYASE_RXN_L2R', 0.19477667837391616),\n",
        " ('O_SUCCHOMOSERLYASE_RXN_L2R', 0.19477667837391616),\n",
        " ('HOMSUCTRAN_RXN_L2R', 0.19477667837391616),\n",
        " ('HOMOCYSMETB12_RXN_CCO_CYTOSOL__HOMO_CYS_5_METHYL_THF__MET_THF_44__L2R',\n",
        "  0.19477667837391616),\n",
        " ('RXN0_1401_L2R', 0.2181495856566307),\n",
        " ('RXN0_1402_L2R', 0.2181495856566307),\n",
        " ('RIB5PISOM_RXN_CCO_CYTOSOL__CPD_16551__RIBULOSE_5P_36__R2L',\n",
        "  0.21814958565663164),\n",
        " ('PPENTOMUT_RXN_CCO_CYTOSOL__RIBOSE_1P__CPD_16551_34__R2L',\n",
        "  0.21814958565663164),\n",
        " ('TYROSINE_AMINOTRANSFERASE_RXN_R2L', 0.21815040266261795),\n",
        " ('PREPHENATEDEHYDROG_RXN_L2R', 0.21815040266261795),\n",
        " ('PHEAMINOTRANS_RXN_L2R', 0.2648970342340342),\n",
        " ('PREPHENATEDEHYDRAT_RXN_L2R', 0.2648970342340342),\n",
        " ('GLUTKIN_RXN_L2R', 0.3194346348996887),\n",
        " ('SPONTPRO_RXN_R2L', 0.3194346348996887),\n",
        " ('GLUTSEMIALDEHYDROG_RXN_R2L', 0.3194346348996887),\n",
        " ('PYRROLINECARBREDUCT_RXN_CCO_CYTOSOL__PRO_NAD__L_DELTA1_PYRROLINE_5_CARBOXYLATE_NADH_PROTON_67__R2L',\n",
        "  0.3194346348996887),\n",
        " ('ABC_70_RXN_L2R', 0.32722478698793966),\n",
        " ('SERINE_O_ACETTRAN_RXN_L2R', 0.32722478698793966),\n",
        " ('325_BISPHOSPHATE_NUCLEOTIDASE_RXN_L2R', 0.32722478698793966),\n",
        " ('TRANS_RXN0_601_CCO_OUTER_MEM__SULFATE__SULFATE_32__R2L',\n",
        "  0.32722478698793966),\n",
        " ('THIOREDOXIN_REDUCT_NADPH_RXN_CCO_CYTOSOL__Red_Thioredoxin_NADP__Ox_Thioredoxin_NADPH_PROTON_63__R2L',\n",
        "  0.32722478698793966),\n",
        " ('ADENYLYLSULFKIN_RXN_L2R', 0.32722478698793966),\n",
        " ('GLYOHMETRANS_RXN_CCO_CYTOSOL__SER_THF__GLY_METHYLENE_THF_WATER_46__L2R',\n",
        "  0.32722478698793966),\n",
        " ('SULFATE_ADENYLYLTRANS_RXN_L2R', 0.32722478698793966),\n",
        " ('1_8_4_8_RXN_CCO_CYTOSOL__3_5_ADP_SO3_Ox_Thioredoxin_PROTON__PAPS_Red_Thioredoxin_69__R2L',\n",
        "  0.32722478698793966),\n",
        " ('ACSERLY_RXN_L2R', 0.32722478698793966),\n",
        " ('SULFITE_REDUCT_RXN_R2L', 0.32722478698793966),\n",
        " ('THREONINE_ALDOLASE_RXN_L2R', 0.3272256039939269),\n",
        " ('RIBULP3EPIM_RXN_R2L', 0.33501602841750766),\n",
        " ('BRANCHED_CHAINAMINOTRANSFERILEU_RXN_R2L', 0.3661804494651178),\n",
        " ('DIHYDROXYMETVALDEHYDRAT_RXN_L2R', 0.3661804494651178),\n",
        " ('ACETOOHBUTSYN_RXN_L2R', 0.3661804494651178),\n",
        " ('THREDEHYD_RXN_L2R', 0.3661804494651178),\n",
        " ('ACETOOHBUTREDUCTOISOM_RXN_R2L', 0.3661804494651178),\n",
        " ('ORNCARBAMTRANSFER_RXN_L2R', 0.37397141855935595),\n",
        " ('RXN_13202_L2R', 0.37397141855935595),\n",
        " ('ARGSUCCINLYA_RXN_L2R', 0.37397141855935595),\n",
        " ('N_ACETYLGLUTPREDUCT_RXN_R2L', 0.37397141855935595),\n",
        " ('ARGSUCCINSYN_RXN_L2R', 0.37397141855935595),\n",
        " ('ACETYLORNDEACET_RXN_L2R', 0.37397141855935595),\n",
        " ('N_ACETYLTRANSFER_RXN_L2R', 0.37397141855935595),\n",
        " ('ACETYLGLUTKIN_RXN_L2R', 0.37397141855935595),\n",
        " ('ACETYLORNTRANSAM_RXN_R2L', 0.37397141855935595),\n",
        " ('ASNSYNA_RXN_L2R', 0.3973451428480578),\n",
        " ('BRANCHED_CHAINAMINOTRANSFERLEU_RXN_R2L', 0.4129270810365341),\n",
        " ('RXN_13158_L2R', 0.4129270810365341),\n",
        " ('2_ISOPROPYLMALATESYN_RXN_L2R', 0.4129270810365341),\n",
        " ('RXN_13163_R2L', 0.4129270810365341),\n",
        " ('2TRANSKETO_RXN_R2L', 0.4518824711783837),\n",
        " ('SUCCDIAMINOPIMDESUCC_RXN_L2R', 0.45188274351371227),\n",
        " ('SUCCINYLDIAMINOPIMTRANS_RXN_R2L', 0.45188274351371227),\n",
        " ('DIAMINOPIMEPIM_RXN_L2R', 0.45188274351371227),\n",
        " ('DIAMINOPIMDECARB_RXN_L2R', 0.45188274351371227),\n",
        " ('RXN_14014_R2L', 0.45188274351371227),\n",
        " ('TETHYDPICSUCC_RXN_L2R', 0.45188274351371227),\n",
        " ('DIHYDRODIPICSYN_RXN_L2R', 0.45188274351371227),\n",
        " ('CHORISMATEMUT_RXN_L2R', 0.48304743689665214),\n",
        " ('MALATE_DEH_RXN_L2R', 0.5064195271733805),\n",
        " ('FUMHYDR_RXN_R2L', 0.5064195271733805),\n",
        " ('BRANCHED_CHAINAMINOTRANSFERVAL_RXN_R2L', 0.5609579448450213),\n",
        " ('SHIKIMATE_KINASE_RXN_L2R', 0.5687489139392593),\n",
        " ('DAHPSYN_RXN_L2R', 0.5687489139392593),\n",
        " ('3_DEHYDROQUINATE_DEHYDRATASE_RXN_L2R', 0.5687489139392593),\n",
        " ('CHORISMATE_SYNTHASE_RXN_L2R', 0.5687489139392593),\n",
        " ('3_DEHYDROQUINATE_SYNTHASE_RXN_L2R', 0.5687489139392593),\n",
        " ('2_5_1_19_RXN_L2R', 0.5687489139392593),\n",
        " ('SHIKIMATE_5_DEHYDROGENASE_RXN_R2L', 0.5687489139392593),\n",
        " ('SUCCCOASYN_RXN_L2R', 0.6466594218876284),\n",
        " ('GLUCOSAMINE_6_P_DEAMIN_RXN_R2L', 0.6700323291703429),\n",
        " ('L_GLN_FRUCT_6_P_AMINOTRANS_RXN_CCO_CYTOSOL__FRUCTOSE_6P_GLN__CPD_13469_GLT_44__R2L',\n",
        "  0.6700323291703429),\n",
        " ('__OBJ__PK_PROT_0_3_c', 0.8170059872313526),\n",
        " ('__SEC_EX__PK_PROT_0_3_c', 0.8170059872313526),\n",
        " ('ALANINE_AMINOTRANSFERASE_RXN_R2L', 0.8414369172675318),\n",
        " ('DIHYDROXYISOVALDEHYDRAT_RXN_L2R', 0.9738850258815553),\n",
        " ('ACETOLACTREDUCTOISOM_RXN_R2L', 0.9738850258815553),\n",
        " ('ACETOLACTSYN_RXN_L2R', 0.9738850258815553),\n",
        " ('THRESYN_RXN_L2R', 1.0985421654013408),\n",
        " ('HOMOSERKIN_RXN_L2R', 1.0985421654013408),\n",
        " ('PSERTRANSAM_RXN_R2L', 1.1141232865838298),\n",
        " ('RXN0_5114_CCO_CYTOSOL__3_P_SERINE_WATER__SER_Pi_38__L2R',\n",
        "  1.1141232865838298),\n",
        " ('PGLYCDEHYDROG_RXN_L2R', 1.1141232865838298),\n",
        " ('RXN_14074_L2R', 1.2309894570093778),\n",
        " ('HOMOSERDEHYDROG_RXN_CCO_CYTOSOL__HOMO_SER_NAD__L_ASPARTATE_SEMIALDEHYDE_NADH_PROTON_64__R2L',\n",
        "  1.2933188437752567),\n",
        " ('GDPKIN_RXN_L2R', 1.3634375656234021),\n",
        " ('INORGPYROPHOSPHAT_RXN_CCO_CYTOSOL__PPI_WATER__Pi_PROTON_34__L2R',\n",
        "  1.4491390426660076),\n",
        " ('CITSYN_RXN_L2R', 1.5971715404864686),\n",
        " ('ISOCITDEH_RXN_L2R', 1.5971715404864686),\n",
        " ('RXN_14047_L2R', 1.5971715404864686),\n",
        " ('ASPARTATE_SEMIALDEHYDE_DEHYDROGENASE_RXN_R2L', 1.745201587288969),\n",
        " ('ASPARTATEKIN_RXN_L2R', 1.745201587288969),\n",
        " ('RXN0_7169_L2R', 2.5751024210953073),\n",
        " ('RXN0_313_L2R', 2.5751024210953073),\n",
        " ('ACETALD_DEHYDROG_RXN_R2L', 2.7932525514225963),\n",
        " ('ASPAMINOTRANS_RXN_R2L', 3.046311400158465),\n",
        " ('TRANS_RXN0_607_CCO_OUTER_MEM__ETOH__ETOH_26__L2R', 3.1204781554165235),\n",
        " ('__SEC_EX_ETOH_e', 3.1204781554165235),\n",
        " ('TRANS_RXN0_546_R2L', 3.1204781554165235),\n",
        " ('ALCOHOL_DEHYDROG_GENERIC_RXN_CCO_CYTOSOL__ETOH_NAD__ACETALD_NADH_PROTON_43__R2L',\n",
        "  3.1204781554165235),\n",
        " ('__SEC_EX_ATP_c', 3.15),\n",
        " ('__SEC_EX_WATER_c', 3.15),\n",
        " ('ATPSYN_RXN_R2L', 3.281991687534613),\n",
        " ('PHOSACETYLTRANS_RXN_L2R', 3.7437630360094634),\n",
        " ('ACETATEKIN_RXN_R2L', 3.7437630360094634),\n",
        " ('PEPCARBOX_RXN_R2L', 4.137063413471553),\n",
        " ('RXN0_7207_CCO_OUTER_MEM__ACET__ACET_26__L2R', 4.4449592415567585),\n",
        " ('__SEC_EX_ACET_e', 4.4449592415567585),\n",
        " ('TRANS_RXN0_571_R2L', 4.4449592415567585),\n",
        " ('RXN0_5224_R2L', 4.5110348320309095),\n",
        " ('TRANSALDOL_RXN_R2L', 6.97301510772631),\n",
        " ('RXN0_6541_L2R', 7.089881550487186),\n",
        " ('SEDOBISALDOL_RXN_R2L', 7.089881550487186),\n",
        " ('TRANS_RXN0_545_CCO_OUTER_MEM__CARBON_DIOXIDE__CARBON_DIOXIDE_46__R2L',\n",
        "  9.108071336794096),\n",
        " ('__SEC_EX_CARBON_DIOXIDE_e', 9.108071336794096),\n",
        " ('TRANS_RXN0_545_CCO_PM_BAC_NEG__CARBON_DIOXIDE__CARBON_DIOXIDE_47__R2L',\n",
        "  9.108071336794096),\n",
        " ('TRANS_RXN0_610_CCO_PM_BAC_NEG__HYDROGEN_MOLECULE__HYDROGEN_MOLECULE_53__L2R',\n",
        "  9.248310414502358),\n",
        " ('PYRUVFORMLY_RXN_R2L', 9.248310414502358),\n",
        " ('__SEC_EX_HYDROGEN_MOLECULE_e', 9.248310414502358),\n",
        " ('TRANS_RXN0_610_CCO_OUTER_MEM__HYDROGEN_MOLECULE__HYDROGEN_MOLECULE_52__L2R',\n",
        "  9.248310414502358),\n",
        " ('FHLMULTI_RXN_L2R', 9.248310414502358),\n",
        " ('GLUTDEHYD_RXN_R2L', 9.38045832742671),\n",
        " ('TRIOSEPISOMERIZATION_RXN_R2L', 9.664983971582492),\n",
        " ('PGLUCISOM_RXN_CCO_CYTOSOL__ALPHA_GLC_6_P__FRUCTOSE_6P_40__L2R', 10.0),\n",
        " ('RXN0_7247_CCO_OUTER_MEM__GLC__GLC_24__R2L', 10.0),\n",
        " ('TRANS_RXN_157_CCO_PM_BAC_NEG__PTSH_PHOSPHORYLATED_GLC__ALPHA_GLC_6_P_PTSH_MONOMER_68__L2R',\n",
        "  10.0),\n",
        " ('RXN_11811_CCO_CYTOSOL__AMMONIA_PROTON__AMMONIUM_38__L2R',\n",
        "  10.260850090165434),\n",
        " ('RXN_11811_CCO_PERI_BAC__AMMONIA_PROTON__AMMONIUM_39__R2L',\n",
        "  10.260850090165434),\n",
        " ('TRANS_RXN0_544_L2R', 10.260850090165434),\n",
        " ('TRANS_RXN0_601_CCO_OUTER_MEM__AMMONIUM__AMMONIUM_34__R2L',\n",
        "  10.260850090165434),\n",
        " ('TRANS_RXN_145_R2L', 12.562962405895497),\n",
        " ('TRANS_RXN0_603_L2R', 12.562962405895497),\n",
        " ('__SEC_EX_WATER_e', 12.562962405895497),\n",
        " ('RXN0_7166_L2R', 12.575102421095307),\n",
        " ('TRANS_RXN0_277_R2L', 13.759042599825637),\n",
        " ('TRANS_RXN0_601_CCO_OUTER_MEM__PROTON__PROTON_30__L2R', 14.07473348203501),\n",
        " ('__SEC_EX_PROTON_e', 14.07473348203501),\n",
        " ('2PGADEHYDRAT_RXN_L2R', 17.84966366244538),\n",
        " ('3PGAREARR_RXN_R2L', 17.84966366244538),\n",
        " ('GAPOXNPHOSPHN_RXN_L2R', 18.96378694902921),\n",
        " ('PHOSGLYPHOS_RXN_R2L', 18.96378694902921)]"
       ]
      }
     ],
     "prompt_number": 223
    },
    {
     "cell_type": "code",
     "collapsed": false,
     "input": [
      "# weaver 041015 demonstration of minflux effects\n",
      "#minflux_opt(model,true_obj='__OBJ__TOP_LEVEL_c',minflux_coeff=1.0e-6)\n",
      "wc = cobra.io.load_json_model(\"./ecocyc_20_1_gem.json\")\n",
      "\n",
      "mfr =  minflux_opt(wc)\n",
      "print \"boundary fluxes with default (1.0e-6) flux minimization:\"\n",
      "print mfr\n",
      "pprint.pprint(get_sol_boundaries(wc,mfr[0]))\n",
      "print\n",
      "\n",
      "smallmfr =  minflux_opt(wc,minflux_coeff=2.0e-8)\n",
      "print \"boundary fluxes with weak flux minimization:\"\n",
      "print smallmfr\n",
      "pprint.pprint(get_sol_boundaries(wc,smallmfr[0]))\n",
      "print\n",
      "\n",
      "nomfr =  minflux_opt(wc,minflux_coeff=0)\n",
      "print \"boundary fluxes with no flux minimization:\"\n",
      "print nomfr\n",
      "pprint.pprint(get_sol_boundaries(wc,nomfr[0]))\n",
      "\n",
      "print\n",
      "mfrng =  minflux_opt(wc,genes_only=False)\n",
      "print \"boundary fluxes with all minimized:\"\n",
      "print mfr\n",
      "pprint.pprint(get_sol_boundaries(wc,mfrng[0]))\n",
      "print\n"
     ],
     "language": "python",
     "metadata": {},
     "outputs": [
      {
       "output_type": "stream",
       "stream": "stdout",
       "text": [
        "boundary fluxes with default (1.0e-6) flux minimization:\n",
        "(<Solution 0.28 at 0x13abae9d0>, 0.0004349555076992028)\n",
        "{'__NUT_EX_ADP_c': -3.15,\n",
        " '__NUT_EX_AMMONIUM_e': -2.9269657701314507,\n",
        " '__NUT_EX_FE_2_e': -8.554455302903608e-05,\n",
        " '__NUT_EX_GLC_e': -10.0,\n",
        " '__NUT_EX_PROTON_c': -3.15,\n",
        " '__NUT_EX_Pi_c': -3.15,\n",
        " '__NUT_EX_Pi_e': -0.44932992982567865,\n",
        " '__NUT_EX_SULFATE_e': -0.07695504729978735,\n",
        " '__NUT_EX_WATER_e': -2.0657862590662575,\n",
        " '__SEC_EX_ACET_e': 8.117957981322634,\n",
        " '__SEC_EX_ATP_c': 3.15,\n",
        " '__SEC_EX_CARBON_DIOXIDE_e': 16.502304336833078,\n",
        " '__SEC_EX_CARBON_MONOXIDE_e': 2.851485100967869e-05,\n",
        " '__SEC_EX_CPD0_2167_c': 0.00022811880807742954,\n",
        " '__SEC_EX_CPD_108_p': 2.851485100967869e-05,\n",
        " '__SEC_EX_CPD_560_e': 0.0019158578056778625,\n",
        " '__SEC_EX_ETOH_e': 7.479132327784603,\n",
        " '__SEC_EX_HYDROGEN_MOLECULE_e': 16.772798420132634,\n",
        " '__SEC_EX_METOH_e': 2.851485100967869e-05,\n",
        " '__SEC_EX_PROTON_e': 10.990032085692114,\n",
        " '__SEC_EX_SUC_e': 0.22740521201170336,\n",
        " '__SEC_EX_S_ADENOSYL_4_METHYLTHIO_2_OXOBUTANOATE_c': 2.851485100967869e-05,\n",
        " '__SEC_EX_WATER_c': 3.15,\n",
        " '__SEC_EX__TOP_LEVEL_c': 0.2851485100967869}\n",
        "\n",
        "boundary fluxes with weak flux minimization:"
       ]
      },
      {
       "output_type": "stream",
       "stream": "stdout",
       "text": [
        "\n",
        "(<Solution 0.29 at 0x13abae910>, 8.604027791778645e-06)\n",
        "{'__NUT_EX_ADP_c': -3.15,\n",
        " '__NUT_EX_AMMONIUM_e': -2.9269657701314418,\n",
        " '__NUT_EX_FE_2_e': -8.554455302903624e-05,\n",
        " '__NUT_EX_GLC_e': -10.0,\n",
        " '__NUT_EX_PROTON_c': -3.15,\n",
        " '__NUT_EX_Pi_c': -3.15,\n",
        " '__NUT_EX_Pi_e': -0.4493299298256855,\n",
        " '__NUT_EX_SULFATE_e': -0.07695504729978447,\n",
        " '__NUT_EX_WATER_e': -1.2626406963466184,\n",
        " '__SEC_EX_ACET_e': 8.117957981322627,\n",
        " '__SEC_EX_ATP_c': 3.15,\n",
        " '__SEC_EX_CARBON_DIOXIDE_e': 14.896013211393768,\n",
        " '__SEC_EX_CARBON_MONOXIDE_e': 2.8514851009678747e-05,\n",
        " '__SEC_EX_CPD0_2167_c': 0.00022811880807742998,\n",
        " '__SEC_EX_CPD_108_p': 2.8514851009678747e-05,\n",
        " '__SEC_EX_CPD_560_e': 0.001915857805677866,\n",
        " '__SEC_EX_ETOH_e': 6.675986765064952,\n",
        " '__SEC_EX_HYDROGEN_MOLECULE_e': 15.969652857412985,\n",
        " '__SEC_EX_METOH_e': 2.8514851009678747e-05,\n",
        " '__SEC_EX_PROTON_e': 12.596323211131452,\n",
        " '__SEC_EX_SUC_e': 1.0305507747313651,\n",
        " '__SEC_EX_S_ADENOSYL_4_METHYLTHIO_2_OXOBUTANOATE_c': 2.8514851009678747e-05,\n",
        " '__SEC_EX_WATER_c': 3.15,\n",
        " '__SEC_EX__TOP_LEVEL_c': 0.2851485100967875}\n",
        "\n",
        "boundary fluxes with no flux minimization:"
       ]
      },
      {
       "output_type": "stream",
       "stream": "stdout",
       "text": [
        "\n",
        "(<Solution 0.29 at 0x13abaec10>, 0.0)\n",
        "{'__NUT_EX_ADP_c': -3.15,\n",
        " '__NUT_EX_AMMONIUM_e': -2.926965770131441,\n",
        " '__NUT_EX_FE_2_e': -8.554455302903631e-05,\n",
        " '__NUT_EX_GLC_e': -10.0,\n",
        " '__NUT_EX_PROTON_c': -3.15,\n",
        " '__NUT_EX_Pi_c': -3.15,\n",
        " '__NUT_EX_Pi_e': -0.4493299298256782,\n",
        " '__NUT_EX_SULFATE_e': -0.07695504729978739,\n",
        " '__SEC_EX_ACET_e': 8.117957981322636,\n",
        " '__SEC_EX_ATP_c': 3.15,\n",
        " '__SEC_EX_CARBON_DIOXIDE_e': 1.5440396812638917,\n",
        " '__SEC_EX_CARBON_MONOXIDE_e': 2.851485100967877e-05,\n",
        " '__SEC_EX_CPD0_2167_c': 0.00022811880807743017,\n",
        " '__SEC_EX_CPD_108_p': 2.851485100967877e-05,\n",
        " '__SEC_EX_CPD_560_e': 0.0019158578056778675,\n",
        " '__SEC_EX_HYDROGEN_MOLECULE_e': 9.293666092348044,\n",
        " '__SEC_EX_METOH_e': 2.851485100967877e-05,\n",
        " '__SEC_EX_PROTON_e': 25.948296741261334,\n",
        " '__SEC_EX_SUC_e': 7.706537539796307,\n",
        " '__SEC_EX_S_ADENOSYL_4_METHYLTHIO_2_OXOBUTANOATE_c': 2.851485100967877e-05,\n",
        " '__SEC_EX_WATER_c': 3.15,\n",
        " '__SEC_EX_WATER_e': 5.4133460687183135,\n",
        " '__SEC_EX__TOP_LEVEL_c': 0.2851485100967877}\n",
        "boundary fluxes with all minimized:"
       ]
      },
      {
       "output_type": "stream",
       "stream": "stdout",
       "text": [
        "\n",
        "(<Solution 0.28 at 0x13abae9d0>, 0.0004349555076992028)\n",
        "{'__NUT_EX_ADP_c': -3.15,\n",
        " '__NUT_EX_AMMONIUM_e': -2.926965770131441,\n",
        " '__NUT_EX_FE_2_e': -8.554455302903627e-05,\n",
        " '__NUT_EX_GLC_e': -10.0,\n",
        " '__NUT_EX_PROTON_c': -3.15,\n",
        " '__NUT_EX_Pi_c': -3.15,\n",
        " '__NUT_EX_Pi_e': -0.4493299298256844,\n",
        " '__NUT_EX_SULFATE_e': -0.07695504729978628,\n",
        " '__SEC_EX_ACET_e': 8.117957981322633,\n",
        " '__SEC_EX_ATP_c': 3.15,\n",
        " '__SEC_EX_CARBON_DIOXIDE_e': 12.370731818700515,\n",
        " '__SEC_EX_CARBON_MONOXIDE_e': 2.8514851009678754e-05,\n",
        " '__SEC_EX_CPD0_2167_c': 0.00022811880807743003,\n",
        " '__SEC_EX_CPD_108_p': 2.8514851009678754e-05,\n",
        " '__SEC_EX_CPD_560_e': 0.0019158578056778666,\n",
        " '__SEC_EX_ETOH_e': 5.413346068718317,\n",
        " '__SEC_EX_HYDROGEN_MOLECULE_e': 14.707012161066357,\n",
        " '__SEC_EX_METOH_e': 2.8514851009678754e-05,\n",
        " '__SEC_EX_PROTON_e': 15.121604603824705,\n",
        " '__SEC_EX_SUC_e': 2.2931914710779924,\n",
        " '__SEC_EX_S_ADENOSYL_4_METHYLTHIO_2_OXOBUTANOATE_c': 2.8514851009678754e-05,\n",
        " '__SEC_EX_WATER_c': 3.15,\n",
        " '__SEC_EX__TOP_LEVEL_c': 0.28514851009678754}\n",
        "\n"
       ]
      }
     ],
     "prompt_number": 468
    }
   ],
   "metadata": {}
  }
 ]
}