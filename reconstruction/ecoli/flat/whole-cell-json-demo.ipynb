{
 "metadata": {
  "name": "",
  "signature": "sha256:8622ee3a4da96ef102d2645ecb3432381e09f210153ef4f3f07d944c42c79611"
 },
 "nbformat": 3,
 "nbformat_minor": 0,
 "worksheets": [
  {
   "cells": [
    {
     "cell_type": "code",
     "collapsed": true,
     "input": [
      "%matplotlib inline\n",
      "import cobra\n",
      "import numpy as np\n",
      "import matplotlib.pyplot as plt"
     ],
     "language": "python",
     "metadata": {},
     "outputs": [],
     "prompt_number": 1
    },
    {
     "cell_type": "code",
     "collapsed": false,
     "input": [
      "## Load the EcoCyc-19.5-GEM model in JSON format\n",
      "eco_json = cobra.io.load_json_model(\"/Users/weaver/git/covert/eco_wc_test_fun.json\")\n",
      "\n",
      "## Select the MetaFlux objective function for maximization\n",
      "eco_json.change_objective(\"MetaFlux_obj\")\n",
      "\n",
      "## Optimize!\n",
      "eco_json.optimize()"
     ],
     "language": "python",
     "metadata": {},
     "outputs": [
      {
       "metadata": {},
       "output_type": "pyout",
       "prompt_number": 2,
       "text": [
        "<Solution 0.03 at 0x10b951ad0>"
       ]
      }
     ],
     "prompt_number": 2
    },
    {
     "cell_type": "code",
     "collapsed": false,
     "input": [
      "## Define some cobrapy functions for pretty printing...\n",
      "def get_boundaries(model):\n",
      "\treturn {k.id: v for k,v in zip(model.reactions,model.solution.x) if k.boundary}\n",
      "\n",
      "def get_nonzeros(model,pretty=False,limit=None):\n",
      "    tmp = sorted([(k.id, np.abs(v)) for k,v in zip(model.reactions,model.solution.x) if not np.isclose(v,0)],key=lambda x: x[1],reverse=True)\n",
      "    if pretty: \t\n",
      "        print \"{:18}\\t{:40}{}\\t{}{}\".format(\"FLUXES\",\"REACTION NAMES\",\"\",\"REACTION EQUATIONS\",\"\")\n",
      "        print \"{:-<100}\".format(\"\")\n",
      "        for k,v in tmp[:limit]:\n",
      "            rxn_string = model.reactions.get_by_id(k).build_reaction_string()\n",
      "            print \"Flux: {:12.6f}\\t{:25}{}\\t{}{}\".format(v,k[:min(len(k),25)],\"...\" if len(k)>25 else \"\",rxn_string[:40],\"...\" if len(rxn_string)>40 else \"\")\n",
      "    else:\n",
      "        return tmp\n",
      "    \n",
      "\n",
      "## Print out some information about reactions\n",
      "def print_rxn_info(arg):\n",
      "    for rxn in arg:\n",
      "        gene_names = [x.name for x in rxn.genes]\n",
      "        print \"rxn cobra id:        {}\".format(rxn.id)\n",
      "        print \"rxn ptools id:       {}\".format(rxn.name)\n",
      "        print \"genes of reaction:   {} ({})\".format(\"; \".join([x.name for x in rxn.genes]),\n",
      "                                                    \"; \".join([x.annotation[1]['blattner'] for x in rxn.genes]))\n",
      "        print \"reaction string:     {}\\n\".format(rxn.build_reaction_string())\n"
     ],
     "language": "python",
     "metadata": {},
     "outputs": [],
     "prompt_number": 4
    },
    {
     "cell_type": "code",
     "collapsed": false,
     "input": [
      "print \"EcoCyc-GEM-19.5 -- now available in cobra flavor! \\n\"\n",
      "print \"number of genes:             {}\".format(len(eco_json.genes))\n",
      "print \"number of reactions:         {}\".format(len(eco_json.reactions))\n",
      "print \"number of metabolites:       {}\".format(len(eco_json.metabolites))\n",
      "print \"\\nSelected reactions...\\n\"\n",
      "map(print_rxn_info, [eco_json.reactions[2305:2310]])"
     ],
     "language": "python",
     "metadata": {},
     "outputs": [
      {
       "output_type": "stream",
       "stream": "stdout",
       "text": [
        "EcoCyc-GEM-19.5 -- now available in cobra flavor! \n",
        "\n",
        "number of genes:             1565\n",
        "number of reactions:         3890\n",
        "number of metabolites:       2907\n",
        "\n",
        "Selected reactions...\n",
        "\n",
        "rxn cobra id:        ALDOSE1EPIM_RXN_L2R\n",
        "rxn ptools id:       ALDOSE1EPIM-RXN\n",
        "genes of reaction:   galM (b0756)\n",
        "reaction string:     GALACTOSE_c --> ALPHA_D_GALACTOSE_c\n",
        "\n",
        "rxn cobra id:        ALDOSE1EPIM_RXN_R2L\n",
        "rxn ptools id:       ALDOSE1EPIM-RXN\n",
        "genes of reaction:   galM (b0756)\n",
        "reaction string:     ALPHA_D_GALACTOSE_c --> GALACTOSE_c\n",
        "\n",
        "rxn cobra id:        LAUROYLACYLTRAN_RXN_Dodecanoyl_ACPs_KDO2_LIPID_IVA__KDO2_LAUROYL_LIPID_IVA_ACP_59__L2R\n",
        "rxn ptools id:       LAUROYLACYLTRAN-RXN-Dodecanoyl-ACPs/KDO2-LIPID-IVA//KDO2-LAUROYL-LIPID-IVA/ACP.59.\n",
        "genes of reaction:   lpxL (b1054)\n",
        "reaction string:     KDO2_LIPID_IVA_c + Dodecanoyl_ACPs_c --> ACP_c + KDO2_LAUROYL_LIPID_IVA_c\n",
        "\n",
        "rxn cobra id:        ALKAPHOSPHA_RXN_L2R\n",
        "rxn ptools id:       ALKAPHOSPHA-RXN\n",
        "genes of reaction:   phoA (b0383)\n",
        "reaction string:     Orthophosphoric_Monoesters_c + WATER_c --> Alcohols_c + Pi_c\n",
        "\n",
        "rxn cobra id:        MALONYL_ACPDECARBOX_RXN_MALONYL_ACP_PROTON__ACETYL_ACP_CARBON_DIOXIDE_46__L2R\n",
        "rxn ptools id:       MALONYL-ACPDECARBOX-RXN-MALONYL-ACP/PROTON//ACETYL-ACP/CARBON-DIOXIDE.46.\n",
        "genes of reaction:   fabB (b2323)\n",
        "reaction string:     MALONYL_ACP_c + PROTON_c --> ACETYL_ACP_c + CARBON_DIOXIDE_c\n",
        "\n"
       ]
      },
      {
       "metadata": {},
       "output_type": "pyout",
       "prompt_number": 5,
       "text": [
        "[None]"
       ]
      }
     ],
     "prompt_number": 5
    },
    {
     "cell_type": "code",
     "collapsed": false,
     "input": [
      "## MetaFlux/cobrapy Demo #4: More cobrapy Operations\n",
      "\n",
      "print \"MetaFlux/cobrapy Demo #4: More cobrapy Operations\\n\"\n",
      "\n",
      "get_nonzeros(eco_json,pretty=True,limit=10)"
     ],
     "language": "python",
     "metadata": {},
     "outputs": [
      {
       "output_type": "stream",
       "stream": "stdout",
       "text": [
        "MetaFlux/cobrapy Demo #4: More cobrapy Operations\n",
        "\n",
        "FLUXES            \tREACTION NAMES                          \tREACTION EQUATIONS"
       ]
      },
      {
       "output_type": "stream",
       "stream": "stdout",
       "text": [
        "\n",
        "----------------------------------------------------------------------------------------------------\n",
        "Flux:    11.292763\tTRANS_RXN0_603_L2R       \tWATER_p --> WATER_e\n",
        "Flux:    11.292763\tTRANS_RXN0_547_R2L       \tWATER_c --> WATER_p\n",
        "Flux:    11.292763\t__SEC_EX_WATER_e         \tWATER_e --> \n",
        "Flux:     9.648128\tATPSYN_RXN_CCO_PM_BAC_NEG...\tPi_c + ADP_c + 4.0 PROTON_p --> WATER_c ...\n",
        "Flux:     6.425195\tTRANS_RXN0_602_L2R       \tCARBON_DIOXIDE_p --> CARBON_DIOXIDE_e\n",
        "Flux:     6.425195\tTRANS_RXN0_545_R2L       \tCARBON_DIOXIDE_c --> CARBON_DIOXIDE_p\n",
        "Flux:     6.425195\t__SEC_EX_CARBON_DIOXIDE_e\tCARBON_DIOXIDE_e --> \n",
        "Flux:     5.825929\tGAPOXNPHOSPHN_RXN_L2R    \tPi_c + NAD_c + GAP_c --> NADH_c + PROTON...\n",
        "Flux:     5.825929\tPHOSGLYPHOS_RXN_R2L      \tDPG_c + ADP_c --> G3P_c + ATP_c\n",
        "Flux:     5.255335\t2PGADEHYDRAT_RXN_L2R     \t2_PG_c --> WATER_c + PHOSPHO_ENOL_PYRUVA...\n"
       ]
      }
     ],
     "prompt_number": 25
    },
    {
     "cell_type": "code",
     "collapsed": false,
     "input": [
      "import os\n",
      "import wholecell\n",
      "import json"
     ],
     "language": "python",
     "metadata": {},
     "outputs": [],
     "prompt_number": 7
    },
    {
     "cell_type": "code",
     "collapsed": false,
     "input": [
      "with open(\"./eco_wc_test_fun.json\",\"rt\") as wc_fp:\n",
      "    wc = json.load(wc_fp)"
     ],
     "language": "python",
     "metadata": {},
     "outputs": [],
     "prompt_number": 27
    },
    {
     "cell_type": "code",
     "collapsed": false,
     "input": [
      "wc.keys()"
     ],
     "language": "python",
     "metadata": {},
     "outputs": [
      {
       "metadata": {},
       "output_type": "pyout",
       "prompt_number": 28,
       "text": [
        "[u'reactions',\n",
        " u'name',\n",
        " u'complexations',\n",
        " u'genes',\n",
        " u'compartments',\n",
        " u'metabolites',\n",
        " u'version',\n",
        " u'biomass_groups',\n",
        " u'description']"
       ]
      }
     ],
     "prompt_number": 28
    },
    {
     "cell_type": "code",
     "collapsed": false,
     "input": [
      "wc['biomass_groups']"
     ],
     "language": "python",
     "metadata": {},
     "outputs": [
      {
       "metadata": {},
       "output_type": "pyout",
       "prompt_number": 29,
       "text": [
        "[{u'group': u'GAM',\n",
        "  u'members': [{u'coeff': 53.95, u'id': u'ATP_c'},\n",
        "   {u'coeff': 53.95, u'id': u'WATER_c'},\n",
        "   {u'coeff': -53.95, u'id': u'ADP_c'},\n",
        "   {u'coeff': -53.95, u'id': u'Pi_c'},\n",
        "   {u'coeff': -53.95, u'id': u'PROTON_c'}]},\n",
        " {u'group': u'PROTEIN',\n",
        "  u'members': [{u'coeff': 1.0299027, u'id': u'L_ALPHA_ALANINE_c'},\n",
        "   {u'coeff': 0.4577345, u'id': u'ARG_c'},\n",
        "   {u'coeff': 0.4863429, u'id': u'L_ASPARTATE_c'},\n",
        "   {u'coeff': 0.48634294, u'id': u'ASN_c'},\n",
        "   {u'coeff': 0.16211432, u'id': u'CYS_c'},\n",
        "   {u'coeff': 0.5530958, u'id': u'GLT_c'},\n",
        "   {u'coeff': 0.5530958, u'id': u'GLN_c'},\n",
        "   {u'coeff': 0.80103534, u'id': u'GLY_c'},\n",
        "   {u'coeff': 0.1621143, u'id': u'HIS_c'},\n",
        "   {u'coeff': 0.44819838, u'id': u'ILE_c'},\n",
        "   {u'coeff': 0.50541514, u'id': u'LEU_c'},\n",
        "   {u'coeff': 0.5530959, u'id': u'LYS_c'},\n",
        "   {u'coeff': 0.23840338, u'id': u'MET_c'},\n",
        "   {u'coeff': 0.32422864, u'id': u'PHE_c'},\n",
        "   {u'coeff': 0.39098155, u'id': u'PRO_c'},\n",
        "   {u'coeff': 0.45773453, u'id': u'SER_c'},\n",
        "   {u'coeff': 0.495879, u'id': u'THR_c'},\n",
        "   {u'coeff': 0.1048975, u'id': u'TRP_c'},\n",
        "   {u'coeff': 0.2670118, u'id': u'TYR_c'},\n",
        "   {u'coeff': 0.68660176, u'id': u'VAL_c'}]},\n",
        " {u'group': u'RNA',\n",
        "  u'members': [{u'coeff': 0.6181023, u'id': u'CTP_c'},\n",
        "   {u'coeff': 0.9951446, u'id': u'GTP_c'},\n",
        "   {u'coeff': 0.6675505, u'id': u'UTP_c'},\n",
        "   {u'coeff': 0.809714, u'id': u'ATP_c'}]},\n",
        " {u'group': u'DNA',\n",
        "  u'members': [{u'coeff': 0.8247184, u'id': u'DCTP_c'},\n",
        "   {u'coeff': 0.8247184, u'id': u'DGTP_c'},\n",
        "   {u'coeff': 0.7989459, u'id': u'TTP_c'},\n",
        "   {u'coeff': 0.7989459, u'id': u'DATP_c'}]},\n",
        " {u'group': u'LIPID-PE',\n",
        "  u'members': [{u'coeff': 0.0051224544, u'id': u'CPD_17087_c'},\n",
        "   {u'coeff': 0.023989318, u'id': u'CPD_18403_c'},\n",
        "   {u'coeff': 0.037987314, u'id': u'CPD_18404_c'},\n",
        "   {u'coeff': 0.22964826, u'id': u'CPD_18367_c'},\n",
        "   {u'coeff': 0.07348947, u'id': u'CPD_12819_c'},\n",
        "   {u'coeff': 0.5071737, u'id': u'CPD_18371_c'},\n",
        "   {u'coeff': 0.14966697, u'id': u'CPD_18368_c'},\n",
        "   {u'coeff': 0.20768765, u'id': u'CPD_18369_c'},\n",
        "   {u'coeff': 0.08140138, u'id': u'CPD_18372_c'},\n",
        "   {u'coeff': 0.0980874, u'id': u'CPD_18370_c'}]},\n",
        " {u'group': u'LIPID-PG',\n",
        "  u'members': [{u'coeff': 0.023235943, u'id': u'CPD_18392_c'},\n",
        "   {u'coeff': 0.051575106, u'id': u'CPD_18393_c'},\n",
        "   {u'coeff': 0.03159654, u'id': u'CPD_18405_c'},\n",
        "   {u'coeff': 0.31987423, u'id': u'CPD_18361_c'},\n",
        "   {u'coeff': 0.35103646, u'id': u'CPD_18373_c'},\n",
        "   {u'coeff': 0.116939776, u'id': u'CPD_18394_c'},\n",
        "   {u'coeff': 0.2689506, u'id': u'CPD_18362_c'},\n",
        "   {u'coeff': 0.095115356, u'id': u'CPD_18406_c'},\n",
        "   {u'coeff': 0.09945852, u'id': u'CPD_18396_c'}]},\n",
        " {u'group': u'LIPID-CL',\n",
        "  u'members': [{u'coeff': 0.7397293, u'id': u'CPD_12824_c'}]},\n",
        " {u'group': u'LIPOPOLYSACCHARIDE',\n",
        "  u'members': [{u'coeff': 0.26275235, u'id': u'CPD0_939_c'}]},\n",
        " {u'group': u'POLYSACCHARIDE',\n",
        "  u'members': [{u'coeff': -2.3574898, u'id': u'ADP_c'},\n",
        "   {u'coeff': 1.7026203, u'id': u'ADP_D_GLUCOSE_c'}]},\n",
        " {u'group': u'PEPTIDOGLYCAN',\n",
        "  u'members': [{u'coeff': 0.52185804, u'id': u'C6_c'}]},\n",
        " {u'group': u'PUTRESCINE',\n",
        "  u'members': [{u'coeff': 11.090409, u'id': u'PUTRESCINE_c'}]},\n",
        " {u'group': u'SPERMIDINE',\n",
        "  u'members': [{u'coeff': 6.7444077, u'id': u'SPERMIDINE_c'}]}]"
       ]
      }
     ],
     "prompt_number": 29
    },
    {
     "cell_type": "code",
     "collapsed": false,
     "input": [
      "wc['biomass_groups'][0]"
     ],
     "language": "python",
     "metadata": {},
     "outputs": [
      {
       "metadata": {},
       "output_type": "pyout",
       "prompt_number": 30,
       "text": [
        "{u'group': u'GAM',\n",
        " u'members': [{u'coeff': 53.95, u'id': u'ATP_c'},\n",
        "  {u'coeff': 53.95, u'id': u'WATER_c'},\n",
        "  {u'coeff': -53.95, u'id': u'ADP_c'},\n",
        "  {u'coeff': -53.95, u'id': u'Pi_c'},\n",
        "  {u'coeff': -53.95, u'id': u'PROTON_c'}]}"
       ]
      }
     ],
     "prompt_number": 30
    },
    {
     "cell_type": "code",
     "collapsed": false,
     "input": [],
     "language": "python",
     "metadata": {},
     "outputs": []
    }
   ],
   "metadata": {}
  }
 ]
}