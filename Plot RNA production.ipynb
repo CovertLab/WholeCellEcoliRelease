{
 "metadata": {
  "name": ""
 },
 "nbformat": 3,
 "nbformat_minor": 0,
 "worksheets": [
  {
   "cells": [
    {
     "cell_type": "code",
     "collapsed": false,
     "input": [
      "# Set up notebook for inline plotting\n",
      "%matplotlib inline\n"
     ],
     "language": "python",
     "metadata": {},
     "outputs": [],
     "prompt_number": 1
    },
    {
     "cell_type": "code",
     "collapsed": false,
     "input": [
      "# Import packages\n",
      "import tables\n",
      "import numpy\n",
      "import os\n",
      "import matplotlib.pyplot as plt\n"
     ],
     "language": "python",
     "metadata": {},
     "outputs": [],
     "prompt_number": 2
    },
    {
     "cell_type": "code",
     "collapsed": false,
     "input": [
      "# Load data (slow)\n",
      "FIXTURE_DIR = os.path.join('out', 'test', 'Test_Transcription')\n",
      "\n",
      "dirs = os.walk(FIXTURE_DIR).next()[1]\n",
      "nSims = len(dirs)\n",
      "simLength = 500\n",
      "\n",
      "assignedIdxs = False\n",
      "\n",
      "rnaIdxs = None\n",
      "\n",
      "startAt = 2 # 0 has no production, and 1 is prior to the model receiving excess NTPs (fix?)\n",
      "stride = 10\n",
      "\n",
      "timePoints = numpy.arange(startAt, simLength+1, stride).size\n",
      "\n",
      "for iSim, simDir in enumerate(dirs):\n",
      "    with tables.openFile(os.path.join(FIXTURE_DIR, simDir, 'MoleculeCounts.hdf')) as h5file:\n",
      "        if not assignedIdxs:\n",
      "            names = h5file.get_node('/names')\n",
      "            indexes = h5file.get_node('/indexes')\n",
      "            \n",
      "            molIDs = names.molIDs.read()\n",
      "            processes = names.processes.read()\n",
      "            compartments = names.compartments.read()\n",
      "            \n",
      "            rnaIdxs = indexes.nascentRnas.read()\n",
      "            processIdx = processes.index('Transcription')\n",
      "            compartmentIdx = compartments.index('c')\n",
      "            \n",
      "            rnaCounts = numpy.zeros((timePoints, len(rnaIdxs), nSims), float)\n",
      "            \n",
      "            assignedIdxs = True\n",
      "        \n",
      "        mc = h5file.root.MoleculeCounts\n",
      "\n",
      "        rnaCounts[..., iSim] = mc.read(startAt, None, stride, 'countsBulk')[:, rnaIdxs, compartmentIdx]\n",
      "\n",
      "assignedParameters = False\n",
      "\n",
      "molMass = None\n",
      "\n",
      "for iSim, simDir in enumerate(dirs):\n",
      "    with tables.openFile(os.path.join(FIXTURE_DIR, simDir, 'Main.hdf')) as h5file:\n",
      "        if not assignedParameters:\n",
      "            molMass = h5file.get_node('/values').molMass.read()[rnaIdxs]\n",
      "\n",
      "            assignedParameters = True\n",
      "    "
     ],
     "language": "python",
     "metadata": {},
     "outputs": [],
     "prompt_number": 24
    },
    {
     "cell_type": "code",
     "collapsed": false,
     "input": [
      "# Plot average NTP usage\n",
      "time = numpy.arange(startAt, simLength+1, stride)/60. # TODO: load sim length\n",
      "\n",
      "rnaMass = numpy.dot(molMass, rnaCounts/6.022e23) # TODO: get from Constants\n",
      "\n",
      "rnaMassAvg = rnaMass.mean(1)/1000\n",
      "rnaMassMax = rnaMass.max(1)/1000\n",
      "rnaMassMin = rnaMass.min(1)/1000\n",
      "\n",
      "plt.fill_between(time, rnaMassMin, rnaMassMax, alpha = 0.5, linewidth = 0)\n",
      "plt.plot(time, rnaMassAvg)\n",
      "\n",
      "plt.title('RNA production')\n",
      "#plt.legend(plots, ntpIDs, loc = 0)\n",
      "plt.xlabel('Time (minutes)')\n",
      "plt.ylabel('Molar mass')\n"
     ],
     "language": "python",
     "metadata": {},
     "outputs": [
      {
       "metadata": {},
       "output_type": "pyout",
       "prompt_number": 32,
       "text": [
        "<matplotlib.text.Text at 0x477cf90>"
       ]
      },
      {
       "metadata": {},
       "output_type": "display_data",
       "png": "[encoded data removed]",
       "text": [
        "<matplotlib.figure.Figure at 0x39dd750>"
       ]
      }
     ],
     "prompt_number": 32
    }
   ],
   "metadata": {}
  }
 ]
}